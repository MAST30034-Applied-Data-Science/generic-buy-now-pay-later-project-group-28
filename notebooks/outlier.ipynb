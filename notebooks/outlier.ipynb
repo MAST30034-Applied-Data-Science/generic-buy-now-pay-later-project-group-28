{
 "cells": [
  {
   "cell_type": "code",
   "execution_count": 2,
   "metadata": {},
   "outputs": [
    {
     "name": "stdout",
     "output_type": "stream",
     "text": [
      "22/09/13 16:36:17 WARN Utils: Your hostname, LAPTOP-F054CH70 resolves to a loopback address: 127.0.1.1; using 172.23.196.108 instead (on interface eth0)\n",
      "22/09/13 16:36:17 WARN Utils: Set SPARK_LOCAL_IP if you need to bind to another address\n"
     ]
    },
    {
     "name": "stderr",
     "output_type": "stream",
     "text": [
      "Setting default log level to \"WARN\".\n",
      "To adjust logging level use sc.setLogLevel(newLevel). For SparkR, use setLogLevel(newLevel).\n"
     ]
    },
    {
     "name": "stdout",
     "output_type": "stream",
     "text": [
      "22/09/13 16:36:19 WARN NativeCodeLoader: Unable to load native-hadoop library for your platform... using builtin-java classes where applicable\n"
     ]
    }
   ],
   "source": [
    "#import spark\n",
    "from pyspark.sql import SparkSession\n",
    "# Create a spark session (which will run spark jobs)\n",
    "spark = (\n",
    "    SparkSession.builder.appName(\"MAST30034 ass2 BNPL group 28\")\n",
    "    .config(\"spark.sql.repl.eagerEval.enabled\", True) \n",
    "    .config(\"spark.sql.parquet.cacheMetadata\", \"true\")\n",
    "    .config(\"spark.sql.session.timeZone\", \"Etc/UTC\")\n",
    "    .getOrCreate()\n",
    ")"
   ]
  },
  {
   "cell_type": "code",
   "execution_count": 2,
   "metadata": {},
   "outputs": [],
   "source": [
    "curated_csv = spark.read.options(header = True).csv('../data/curated/full_data.csv')"
   ]
  },
  {
   "cell_type": "code",
   "execution_count": 3,
   "metadata": {},
   "outputs": [
    {
     "name": "stderr",
     "output_type": "stream",
     "text": [
      "[Stage 1:>                                                        (0 + 20) / 21]\r"
     ]
    },
    {
     "name": "stdout",
     "output_type": "stream",
     "text": [
      "8151372 15\n"
     ]
    },
    {
     "name": "stderr",
     "output_type": "stream",
     "text": [
      "                                                                                \r"
     ]
    }
   ],
   "source": [
    "curated_csv.limit(5)\n",
    "print(curated_csv.count(),len(curated_csv.columns))"
   ]
  },
  {
   "cell_type": "code",
   "execution_count": 4,
   "metadata": {},
   "outputs": [
    {
     "name": "stdout",
     "output_type": "stream",
     "text": [
      "8151372 13\n"
     ]
    },
    {
     "name": "stderr",
     "output_type": "stream",
     "text": [
      "                                                                                \r"
     ]
    }
   ],
   "source": [
    "curated_csv2 = curated_csv.drop(curated_csv.address)\n",
    "curated_csv3 = curated_csv2.drop(curated_csv.gender)\n",
    "#curated_csv4 = curated_csv3.drop(curated_csv.user_name)\n",
    "curated_csv3.limit(5)\n",
    "print(curated_csv3.count(),len(curated_csv3.columns))"
   ]
  },
  {
   "cell_type": "code",
   "execution_count": 5,
   "metadata": {},
   "outputs": [
    {
     "name": "stderr",
     "output_type": "stream",
     "text": [
      "[Stage 7:======================================================>  (20 + 1) / 21]\r"
     ]
    },
    {
     "name": "stdout",
     "output_type": "stream",
     "text": [
      "7817730 13\n"
     ]
    },
    {
     "name": "stderr",
     "output_type": "stream",
     "text": [
      "                                                                                \r"
     ]
    }
   ],
   "source": [
    "# check null value\n",
    "curated_csv3 = curated_csv3.dropna()\n",
    "print(curated_csv3.count(),len(curated_csv3.columns))"
   ]
  },
  {
   "cell_type": "code",
   "execution_count": 6,
   "metadata": {},
   "outputs": [
    {
     "data": {
      "text/html": [
       "<table border='1'>\n",
       "<tr><th>user_id</th><th>merchant_abn</th><th>dollar_value</th><th>order_id</th><th>order_datetime</th><th>consumer_id</th><th>merchant_name</th><th>user_name</th><th>state</th><th>postcode</th><th>field</th><th>revenue_level</th><th>take_rate</th></tr>\n",
       "<tr><td>13153</td><td>72472909171</td><td>112.17</td><td>baa29c79-6969-416...</td><td>2021-08-21</td><td>1018</td><td>Nullam Consulting</td><td>Kelly Frey</td><td>NSW</td><td>2058</td><td>digital goods: bo...</td><td>a</td><td>6.33</td></tr>\n",
       "<tr><td>13153</td><td>23338656015</td><td>324.21</td><td>463dd933-d5b3-441...</td><td>2022-02-03</td><td>1018</td><td>Iaculis LLC</td><td>Kelly Frey</td><td>NSW</td><td>2058</td><td>watch, clock, and...</td><td>b</td><td>3.25</td></tr>\n",
       "<tr><td>13153</td><td>13093581573</td><td>117.23</td><td>9bd2915e-c3b5-47a...</td><td>2021-08-22</td><td>1018</td><td>Dis Parturient Co...</td><td>Kelly Frey</td><td>NSW</td><td>2058</td><td>gift, card, novel...</td><td>e</td><td>0.24</td></tr>\n",
       "<tr><td>13153</td><td>89726005175</td><td>24.57</td><td>cd1007fb-2336-44f...</td><td>2022-02-03</td><td>1018</td><td>Est Nunc Consulting</td><td>Kelly Frey</td><td>NSW</td><td>2058</td><td>tent and awning s...</td><td>a</td><td>6.01</td></tr>\n",
       "<tr><td>13153</td><td>40590483301</td><td>26.08</td><td>a3e457c3-c0bb-467...</td><td>2021-08-15</td><td>1018</td><td>Donec Tempus Corp...</td><td>Kelly Frey</td><td>NSW</td><td>2058</td><td>cable, satellite,...</td><td>c</td><td>3.1</td></tr>\n",
       "</table>\n"
      ],
      "text/plain": [
       "+-------+------------+------------+--------------------+--------------+-----------+--------------------+----------+-----+--------+--------------------+-------------+---------+\n",
       "|user_id|merchant_abn|dollar_value|            order_id|order_datetime|consumer_id|       merchant_name| user_name|state|postcode|               field|revenue_level|take_rate|\n",
       "+-------+------------+------------+--------------------+--------------+-----------+--------------------+----------+-----+--------+--------------------+-------------+---------+\n",
       "|  13153| 72472909171|      112.17|baa29c79-6969-416...|    2021-08-21|       1018|   Nullam Consulting|Kelly Frey|  NSW|    2058|digital goods: bo...|            a|     6.33|\n",
       "|  13153| 23338656015|      324.21|463dd933-d5b3-441...|    2022-02-03|       1018|         Iaculis LLC|Kelly Frey|  NSW|    2058|watch, clock, and...|            b|     3.25|\n",
       "|  13153| 13093581573|      117.23|9bd2915e-c3b5-47a...|    2021-08-22|       1018|Dis Parturient Co...|Kelly Frey|  NSW|    2058|gift, card, novel...|            e|     0.24|\n",
       "|  13153| 89726005175|       24.57|cd1007fb-2336-44f...|    2022-02-03|       1018| Est Nunc Consulting|Kelly Frey|  NSW|    2058|tent and awning s...|            a|     6.01|\n",
       "|  13153| 40590483301|       26.08|a3e457c3-c0bb-467...|    2021-08-15|       1018|Donec Tempus Corp...|Kelly Frey|  NSW|    2058|cable, satellite,...|            c|      3.1|\n",
       "+-------+------------+------------+--------------------+--------------+-----------+--------------------+----------+-----+--------+--------------------+-------------+---------+"
      ]
     },
     "execution_count": 6,
     "metadata": {},
     "output_type": "execute_result"
    }
   ],
   "source": [
    "curated_csv3.limit(5)"
   ]
  },
  {
   "cell_type": "code",
   "execution_count": 7,
   "metadata": {},
   "outputs": [
    {
     "name": "stderr",
     "output_type": "stream",
     "text": [
      "[Stage 12:=====================================================>  (20 + 1) / 21]\r"
     ]
    },
    {
     "name": "stdout",
     "output_type": "stream",
     "text": [
      "7817730 13\n"
     ]
    },
    {
     "name": "stderr",
     "output_type": "stream",
     "text": [
      "                                                                                \r"
     ]
    }
   ],
   "source": [
    "# check wrong data\n",
    "from os import curdir\n",
    "from pyspark.sql import functions as F\n",
    "new_data = curated_csv3.filter(\n",
    "    (F.col('user_id') > 0 )\n",
    "    & (F.col('dollar_value') >= 0)\n",
    "    & (F.col('consumer_id') > 0)\n",
    "    & (F.col('postcode') > 0)\n",
    ")\n",
    "print(new_data.count(),len(new_data.columns))"
   ]
  },
  {
   "cell_type": "code",
   "execution_count": 8,
   "metadata": {},
   "outputs": [
    {
     "data": {
      "text/html": [
       "<table border='1'>\n",
       "<tr><th>user_id</th><th>merchant_abn</th><th>dollar_value</th><th>order_id</th><th>order_datetime</th><th>consumer_id</th><th>merchant_name</th><th>user_name</th><th>state</th><th>postcode</th><th>field</th><th>revenue_level</th><th>take_rate</th></tr>\n",
       "<tr><td>13153</td><td>72472909171</td><td>112.17</td><td>baa29c79-6969-416...</td><td>2021-08-21</td><td>1018</td><td>Nullam Consulting</td><td>Kelly Frey</td><td>NSW</td><td>2058</td><td>digital goods: bo...</td><td>a</td><td>6.33</td></tr>\n",
       "<tr><td>13153</td><td>23338656015</td><td>324.21</td><td>463dd933-d5b3-441...</td><td>2022-02-03</td><td>1018</td><td>Iaculis LLC</td><td>Kelly Frey</td><td>NSW</td><td>2058</td><td>watch, clock, and...</td><td>b</td><td>3.25</td></tr>\n",
       "<tr><td>13153</td><td>13093581573</td><td>117.23</td><td>9bd2915e-c3b5-47a...</td><td>2021-08-22</td><td>1018</td><td>Dis Parturient Co...</td><td>Kelly Frey</td><td>NSW</td><td>2058</td><td>gift, card, novel...</td><td>e</td><td>0.24</td></tr>\n",
       "<tr><td>13153</td><td>89726005175</td><td>24.57</td><td>cd1007fb-2336-44f...</td><td>2022-02-03</td><td>1018</td><td>Est Nunc Consulting</td><td>Kelly Frey</td><td>NSW</td><td>2058</td><td>tent and awning s...</td><td>a</td><td>6.01</td></tr>\n",
       "<tr><td>13153</td><td>40590483301</td><td>26.08</td><td>a3e457c3-c0bb-467...</td><td>2021-08-15</td><td>1018</td><td>Donec Tempus Corp...</td><td>Kelly Frey</td><td>NSW</td><td>2058</td><td>cable, satellite,...</td><td>c</td><td>3.1</td></tr>\n",
       "</table>\n"
      ],
      "text/plain": [
       "+-------+------------+------------+--------------------+--------------+-----------+--------------------+----------+-----+--------+--------------------+-------------+---------+\n",
       "|user_id|merchant_abn|dollar_value|            order_id|order_datetime|consumer_id|       merchant_name| user_name|state|postcode|               field|revenue_level|take_rate|\n",
       "+-------+------------+------------+--------------------+--------------+-----------+--------------------+----------+-----+--------+--------------------+-------------+---------+\n",
       "|  13153| 72472909171|      112.17|baa29c79-6969-416...|    2021-08-21|       1018|   Nullam Consulting|Kelly Frey|  NSW|    2058|digital goods: bo...|            a|     6.33|\n",
       "|  13153| 23338656015|      324.21|463dd933-d5b3-441...|    2022-02-03|       1018|         Iaculis LLC|Kelly Frey|  NSW|    2058|watch, clock, and...|            b|     3.25|\n",
       "|  13153| 13093581573|      117.23|9bd2915e-c3b5-47a...|    2021-08-22|       1018|Dis Parturient Co...|Kelly Frey|  NSW|    2058|gift, card, novel...|            e|     0.24|\n",
       "|  13153| 89726005175|       24.57|cd1007fb-2336-44f...|    2022-02-03|       1018| Est Nunc Consulting|Kelly Frey|  NSW|    2058|tent and awning s...|            a|     6.01|\n",
       "|  13153| 40590483301|       26.08|a3e457c3-c0bb-467...|    2021-08-15|       1018|Donec Tempus Corp...|Kelly Frey|  NSW|    2058|cable, satellite,...|            c|      3.1|\n",
       "+-------+------------+------------+--------------------+--------------+-----------+--------------------+----------+-----+--------+--------------------+-------------+---------+"
      ]
     },
     "execution_count": 8,
     "metadata": {},
     "output_type": "execute_result"
    }
   ],
   "source": [
    "new_data.limit(5)"
   ]
  },
  {
   "cell_type": "code",
   "execution_count": 9,
   "metadata": {},
   "outputs": [
    {
     "name": "stderr",
     "output_type": "stream",
     "text": [
      "[Stage 19:=====================>                                  (8 + 13) / 21]\r"
     ]
    },
    {
     "name": "stdout",
     "output_type": "stream",
     "text": [
      "7817730 13\n"
     ]
    },
    {
     "name": "stderr",
     "output_type": "stream",
     "text": [
      "                                                                                \r"
     ]
    }
   ],
   "source": [
    "# check repetation \n",
    "new_data1 = new_data.dropDuplicates(['order_id'])\n",
    "print(new_data1.count(),len(new_data1.columns))"
   ]
  },
  {
   "cell_type": "code",
   "execution_count": 10,
   "metadata": {},
   "outputs": [
    {
     "name": "stderr",
     "output_type": "stream",
     "text": [
      "[Stage 25:==================================>                     (13 + 8) / 21]\r"
     ]
    },
    {
     "name": "stdout",
     "output_type": "stream",
     "text": [
      "7817730 13\n"
     ]
    },
    {
     "name": "stderr",
     "output_type": "stream",
     "text": [
      "                                                                                \r"
     ]
    }
   ],
   "source": [
    "# check the order datetime\n",
    "from pyspark.sql import functions as F\n",
    "new_df = new_data1.filter(\n",
    "    (F.col('order_datetime') >= '2021-02-28') \n",
    "    & (F.col('order_datetime') <= '2022-08-28')\n",
    ")\n",
    "\n",
    "print(new_df.count(),len(new_df.columns))"
   ]
  },
  {
   "cell_type": "code",
   "execution_count": 11,
   "metadata": {},
   "outputs": [
    {
     "data": {
      "text/plain": [
       "'\\n# check postcode\\nnew_df = new_df.withColumn(\"length_of_str\",F.length(\\'postcode\\'))\\nnew_df.select(\\'length_of_str\\').describe()\\nnew_df = new_df.filter(\\n    (F.col(\\'length_of_str\\') <= 4)\\n    & (F.col(\\'length_of_str\\') >=3)\\n)\\nnew_df = new_df.drop(\\'length_of_str\\')\\nprint(new_df.count(),len(new_df.columns))\\n\\n\\nnew_df.select(\\'postcode\\').describe()\\n\\n\\n# check postcode\\nnew_df = new_df.withColumn(\"length_of_str\",F.length(\\'postcode\\'))\\nnew_df.select(\\'length_of_str\\').describe()\\nnew_df = new_df.filter(\\n    (F.col(\\'length_of_str\\') == 4)\\n    #&(F.col(\\'length_of_str\\') >=3 )\\n)\\nnew_df = new_df.drop(\\'length_of_str\\')\\nprint(new_df.count(),len(new_df.columns))\\n'"
      ]
     },
     "execution_count": 11,
     "metadata": {},
     "output_type": "execute_result"
    }
   ],
   "source": [
    "'''\n",
    "# check postcode\n",
    "new_df = new_df.withColumn(\"length_of_str\",F.length('postcode'))\n",
    "new_df.select('length_of_str').describe()\n",
    "new_df = new_df.filter(\n",
    "    (F.col('length_of_str') <= 4)\n",
    "    & (F.col('length_of_str') >=3)\n",
    ")\n",
    "new_df = new_df.drop('length_of_str')\n",
    "print(new_df.count(),len(new_df.columns))\n",
    "\n",
    "\n",
    "new_df.select('postcode').describe()\n",
    "\n",
    "\n",
    "# check postcode\n",
    "new_df = new_df.withColumn(\"length_of_str\",F.length('postcode'))\n",
    "new_df.select('length_of_str').describe()\n",
    "new_df = new_df.filter(\n",
    "    (F.col('length_of_str') == 4)\n",
    "    #&(F.col('length_of_str') >=3 )\n",
    ")\n",
    "new_df = new_df.drop('length_of_str')\n",
    "print(new_df.count(),len(new_df.columns))\n",
    "'''"
   ]
  },
  {
   "cell_type": "code",
   "execution_count": 4,
   "metadata": {},
   "outputs": [
    {
     "name": "stdout",
     "output_type": "stream",
     "text": [
      "+-----+-----+\n",
      "|state|count|\n",
      "+-----+-----+\n",
      "|   NY|    5|\n",
      "|   CA|    4|\n",
      "+-----+-----+\n",
      "\n"
     ]
    }
   ],
   "source": [
    "df.createOrReplaceTempView(\"EMP\")\n",
    "\n",
    "# PySpark SQL\n",
    "sql_str=\"select state, count(*) as count from EMP \" + \\\n",
    "\"group by state\"\n",
    "spark.sql(sql_str).show()"
   ]
  },
  {
   "cell_type": "code",
   "execution_count": null,
   "metadata": {},
   "outputs": [],
   "source": []
  },
  {
   "cell_type": "code",
   "execution_count": null,
   "metadata": {},
   "outputs": [
    {
     "name": "stderr",
     "output_type": "stream",
     "text": [
      "[Stage 73:============================================>           (16 + 4) / 20]\r"
     ]
    },
    {
     "name": "stdout",
     "output_type": "stream",
     "text": [
      "11873770 12\n"
     ]
    },
    {
     "name": "stderr",
     "output_type": "stream",
     "text": [
      "                                                                                \r"
     ]
    }
   ],
   "source": [
    "# check state\n",
    "cur_df = new_df.filter(\n",
    "    (F.col('state') == 'NT')\n",
    "    | (F.col('state') == 'NSW')\n",
    "    | (F.col('state') == 'QLD')\n",
    "    | (F.col('state') == 'SA')\n",
    "    | (F.col('state') == 'TAS')\n",
    "    | (F.col('state') == 'VIC')\n",
    "    | (F.col('state') == 'WA')\n",
    "    | (F.col('state') == 'ACT')\n",
    ")\n",
    "print(cur_df.count(),len(cur_df.columns))\n"
   ]
  },
  {
   "cell_type": "code",
   "execution_count": null,
   "metadata": {},
   "outputs": [],
   "source": []
  },
  {
   "cell_type": "code",
   "execution_count": null,
   "metadata": {},
   "outputs": [],
   "source": []
  }
 ],
 "metadata": {
  "kernelspec": {
   "display_name": "Python 3.10.4 64-bit",
   "language": "python",
   "name": "python3"
  },
  "language_info": {
   "codemirror_mode": {
    "name": "ipython",
    "version": 3
   },
   "file_extension": ".py",
   "mimetype": "text/x-python",
   "name": "python",
   "nbconvert_exporter": "python",
   "pygments_lexer": "ipython3",
   "version": "3.10.4"
  },
  "orig_nbformat": 4,
  "vscode": {
   "interpreter": {
    "hash": "916dbcbb3f70747c44a77c7bcd40155683ae19c65e1c03b4aa3499c5328201f1"
   }
  }
 },
 "nbformat": 4,
 "nbformat_minor": 2
}
