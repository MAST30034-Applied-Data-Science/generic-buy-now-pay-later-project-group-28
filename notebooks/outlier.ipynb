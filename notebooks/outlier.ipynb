{
 "cells": [
  {
   "cell_type": "code",
   "execution_count": 1,
   "metadata": {},
   "outputs": [
    {
     "name": "stderr",
     "output_type": "stream",
     "text": [
      "22/09/13 20:18:44 WARN Utils: Your hostname, Rudyletsgo resolves to a loopback address: 127.0.1.1; using 172.25.148.241 instead (on interface eth0)\n",
      "22/09/13 20:18:44 WARN Utils: Set SPARK_LOCAL_IP if you need to bind to another address\n",
      "WARNING: An illegal reflective access operation has occurred\n",
      "WARNING: Illegal reflective access by org.apache.spark.unsafe.Platform (file:/home/jiaruiq/miniconda3/envs/ads/lib/python3.8/site-packages/pyspark/jars/spark-unsafe_2.12-3.1.2.jar) to constructor java.nio.DirectByteBuffer(long,int)\n",
      "WARNING: Please consider reporting this to the maintainers of org.apache.spark.unsafe.Platform\n",
      "WARNING: Use --illegal-access=warn to enable warnings of further illegal reflective access operations\n",
      "WARNING: All illegal access operations will be denied in a future release\n",
      "22/09/13 20:18:46 WARN NativeCodeLoader: Unable to load native-hadoop library for your platform... using builtin-java classes where applicable\n",
      "Using Spark's default log4j profile: org/apache/spark/log4j-defaults.properties\n",
      "Setting default log level to \"WARN\".\n",
      "To adjust logging level use sc.setLogLevel(newLevel). For SparkR, use setLogLevel(newLevel).\n"
     ]
    }
   ],
   "source": [
    "#import spark\n",
    "from pyspark.sql import SparkSession\n",
    "# Create a spark session (which will run spark jobs)\n",
    "spark = (\n",
    "    SparkSession.builder.appName(\"MAST30034 ass2 BNPL group 28\")\n",
    "    .config(\"spark.sql.repl.eagerEval.enabled\", True) \n",
    "    .config(\"spark.sql.parquet.cacheMetadata\", \"true\")\n",
    "    .config(\"spark.sql.session.timeZone\", \"Etc/UTC\")\n",
    "    .getOrCreate()\n",
    ")"
   ]
  },
  {
   "cell_type": "code",
   "execution_count": 2,
   "metadata": {},
   "outputs": [
    {
     "name": "stderr",
     "output_type": "stream",
     "text": [
      "                                                                                \r"
     ]
    }
   ],
   "source": [
    "curated_csv = spark.read.options(header = True).csv('../data/curated/full_data.csv')"
   ]
  },
  {
   "cell_type": "code",
   "execution_count": 3,
   "metadata": {},
   "outputs": [
    {
     "name": "stderr",
     "output_type": "stream",
     "text": [
      "[Stage 2:=======================================>                 (20 + 9) / 29]\r"
     ]
    },
    {
     "name": "stdout",
     "output_type": "stream",
     "text": [
      "14195505 15\n"
     ]
    },
    {
     "name": "stderr",
     "output_type": "stream",
     "text": [
      "                                                                                \r"
     ]
    }
   ],
   "source": [
    "curated_csv.limit(5)\n",
    "print(curated_csv.count(),len(curated_csv.columns))"
   ]
  },
  {
   "cell_type": "code",
   "execution_count": 4,
   "metadata": {},
   "outputs": [
    {
     "name": "stderr",
     "output_type": "stream",
     "text": [
      "[Stage 4:=======================================================> (28 + 1) / 29]\r"
     ]
    },
    {
     "name": "stdout",
     "output_type": "stream",
     "text": [
      "+-------+------------+------------+--------+--------------+-----------+-------------+---------+-------+-----+--------+------+------+-------------+---------+\n",
      "|user_id|merchant_abn|dollar_value|order_id|order_datetime|consumer_id|merchant_name|user_name|address|state|postcode|gender| field|revenue_level|take_rate|\n",
      "+-------+------------+------------+--------+--------------+-----------+-------------+---------+-------+-----+--------+------+------+-------------+---------+\n",
      "|      0|           0|           0|       0|             0|          0|       580830|        0|      0|    0|       0|     0|580830|       580830|   580830|\n",
      "+-------+------------+------------+--------+--------------+-----------+-------------+---------+-------+-----+--------+------+------+-------------+---------+\n",
      "\n"
     ]
    },
    {
     "name": "stderr",
     "output_type": "stream",
     "text": [
      "                                                                                \r"
     ]
    }
   ],
   "source": [
    "from pyspark.sql.functions import col,isnan, when, count\n",
    "curated_csv.select([count(when(isnan(c) | col(c).isNull(), c)).alias(c) for c in curated_csv.columns]\n",
    "   ).show()"
   ]
  },
  {
   "cell_type": "code",
   "execution_count": 5,
   "metadata": {},
   "outputs": [
    {
     "name": "stdout",
     "output_type": "stream",
     "text": [
      "14195505 13\n"
     ]
    },
    {
     "name": "stderr",
     "output_type": "stream",
     "text": [
      "                                                                                \r"
     ]
    }
   ],
   "source": [
    "cols = ['address','gender']\n",
    "#curated_csv2 = curated_csv.drop(curated_csv.address)\n",
    "curated_csv3 = curated_csv.drop(*cols)\n",
    "#curated_csv4 = curated_csv3.drop(curated_csv.user_name)\n",
    "curated_csv3.limit(5)\n",
    "print(curated_csv3.count(),len(curated_csv3.columns))"
   ]
  },
  {
   "cell_type": "code",
   "execution_count": 6,
   "metadata": {},
   "outputs": [
    {
     "name": "stderr",
     "output_type": "stream",
     "text": [
      "[Stage 8:=======================================>                 (20 + 9) / 29]\r"
     ]
    },
    {
     "name": "stdout",
     "output_type": "stream",
     "text": [
      "13614675 13\n"
     ]
    },
    {
     "name": "stderr",
     "output_type": "stream",
     "text": [
      "                                                                                \r"
     ]
    }
   ],
   "source": [
    "# check null value\n",
    "curated_csv3 = curated_csv3.dropna()\n",
    "print(curated_csv3.count(),len(curated_csv3.columns))"
   ]
  },
  {
   "cell_type": "markdown",
   "metadata": {},
   "source": [
    "Check there are no duplicate order"
   ]
  },
  {
   "cell_type": "code",
   "execution_count": 7,
   "metadata": {},
   "outputs": [],
   "source": [
    "curated_csv4 = curated_csv3.distinct()"
   ]
  },
  {
   "cell_type": "code",
   "execution_count": null,
   "metadata": {},
   "outputs": [],
   "source": []
  },
  {
   "cell_type": "code",
   "execution_count": 8,
   "metadata": {},
   "outputs": [
    {
     "data": {
      "text/html": [
       "<table border='1'>\n",
       "<tr><th>user_id</th><th>merchant_abn</th><th>dollar_value</th><th>order_id</th><th>order_datetime</th><th>consumer_id</th><th>merchant_name</th><th>user_name</th><th>state</th><th>postcode</th><th>field</th><th>revenue_level</th><th>take_rate</th></tr>\n",
       "<tr><td>19087</td><td>97861055416</td><td>120.24</td><td>5dbcd6ea-38eb-4e6...</td><td>2021-08-20</td><td>5538</td><td>Morbi Neque Inc.</td><td>Alexandra Davis</td><td>QLD</td><td>4417</td><td>computers, comput...</td><td>b</td><td>3.4</td></tr>\n",
       "<tr><td>19087</td><td>80324045558</td><td>2.59</td><td>d6d96882-257f-43e...</td><td>2022-06-26</td><td>5538</td><td>Ipsum Dolor Sit C...</td><td>Alexandra Davis</td><td>QLD</td><td>4417</td><td>gift, card, novel...</td><td>c</td><td>1.47</td></tr>\n",
       "<tr><td>19087</td><td>86578477987</td><td>72.29</td><td>e6afee18-ee2b-447...</td><td>2021-08-20</td><td>5538</td><td>Leo In Consulting</td><td>Alexandra Davis</td><td>QLD</td><td>4417</td><td>watch, clock, and...</td><td>a</td><td>6.43</td></tr>\n",
       "<tr><td>19087</td><td>43186523025</td><td>52.41</td><td>7fbd7162-14a0-4fa...</td><td>2022-06-26</td><td>5538</td><td>Lorem Ipsum Sodal...</td><td>Alexandra Davis</td><td>QLD</td><td>4417</td><td>florists supplies...</td><td>b</td><td>4.47</td></tr>\n",
       "<tr><td>19087</td><td>29936037423</td><td>29.5</td><td>d7e18a71-5e10-4e0...</td><td>2021-08-19</td><td>5538</td><td>Sodales Incorporated</td><td>Alexandra Davis</td><td>QLD</td><td>4417</td><td>hobby, toy and ga...</td><td>c</td><td>1.97</td></tr>\n",
       "</table>\n"
      ],
      "text/plain": [
       "+-------+------------+------------+--------------------+--------------+-----------+--------------------+---------------+-----+--------+--------------------+-------------+---------+\n",
       "|user_id|merchant_abn|dollar_value|            order_id|order_datetime|consumer_id|       merchant_name|      user_name|state|postcode|               field|revenue_level|take_rate|\n",
       "+-------+------------+------------+--------------------+--------------+-----------+--------------------+---------------+-----+--------+--------------------+-------------+---------+\n",
       "|  19087| 97861055416|      120.24|5dbcd6ea-38eb-4e6...|    2021-08-20|       5538|    Morbi Neque Inc.|Alexandra Davis|  QLD|    4417|computers, comput...|            b|      3.4|\n",
       "|  19087| 80324045558|        2.59|d6d96882-257f-43e...|    2022-06-26|       5538|Ipsum Dolor Sit C...|Alexandra Davis|  QLD|    4417|gift, card, novel...|            c|     1.47|\n",
       "|  19087| 86578477987|       72.29|e6afee18-ee2b-447...|    2021-08-20|       5538|   Leo In Consulting|Alexandra Davis|  QLD|    4417|watch, clock, and...|            a|     6.43|\n",
       "|  19087| 43186523025|       52.41|7fbd7162-14a0-4fa...|    2022-06-26|       5538|Lorem Ipsum Sodal...|Alexandra Davis|  QLD|    4417|florists supplies...|            b|     4.47|\n",
       "|  19087| 29936037423|        29.5|d7e18a71-5e10-4e0...|    2021-08-19|       5538|Sodales Incorporated|Alexandra Davis|  QLD|    4417|hobby, toy and ga...|            c|     1.97|\n",
       "+-------+------------+------------+--------------------+--------------+-----------+--------------------+---------------+-----+--------+--------------------+-------------+---------+"
      ]
     },
     "execution_count": 8,
     "metadata": {},
     "output_type": "execute_result"
    }
   ],
   "source": [
    "curated_csv3.limit(5)"
   ]
  },
  {
   "cell_type": "code",
   "execution_count": 9,
   "metadata": {},
   "outputs": [
    {
     "data": {
      "text/html": [
       "<table border='1'>\n",
       "<tr><th>user_id</th><th>merchant_abn</th><th>dollar_value</th><th>order_id</th><th>order_datetime</th><th>consumer_id</th><th>merchant_name</th><th>user_name</th><th>state</th><th>postcode</th><th>field</th><th>revenue_level</th><th>take_rate</th></tr>\n",
       "<tr><td>19087</td><td>97861055416</td><td>120.24</td><td>5dbcd6ea-38eb-4e6...</td><td>2021-08-20</td><td>5538</td><td>Morbi Neque Inc.</td><td>Alexandra Davis</td><td>QLD</td><td>4417</td><td>computers, comput...</td><td>b</td><td>3.4</td></tr>\n",
       "<tr><td>19087</td><td>80324045558</td><td>2.59</td><td>d6d96882-257f-43e...</td><td>2022-06-26</td><td>5538</td><td>Ipsum Dolor Sit C...</td><td>Alexandra Davis</td><td>QLD</td><td>4417</td><td>gift, card, novel...</td><td>c</td><td>1.47</td></tr>\n",
       "<tr><td>19087</td><td>86578477987</td><td>72.29</td><td>e6afee18-ee2b-447...</td><td>2021-08-20</td><td>5538</td><td>Leo In Consulting</td><td>Alexandra Davis</td><td>QLD</td><td>4417</td><td>watch, clock, and...</td><td>a</td><td>6.43</td></tr>\n",
       "<tr><td>19087</td><td>43186523025</td><td>52.41</td><td>7fbd7162-14a0-4fa...</td><td>2022-06-26</td><td>5538</td><td>Lorem Ipsum Sodal...</td><td>Alexandra Davis</td><td>QLD</td><td>4417</td><td>florists supplies...</td><td>b</td><td>4.47</td></tr>\n",
       "<tr><td>19087</td><td>29936037423</td><td>29.5</td><td>d7e18a71-5e10-4e0...</td><td>2021-08-19</td><td>5538</td><td>Sodales Incorporated</td><td>Alexandra Davis</td><td>QLD</td><td>4417</td><td>hobby, toy and ga...</td><td>c</td><td>1.97</td></tr>\n",
       "<tr><td>19087</td><td>89536028092</td><td>48.22</td><td>12f42311-ba43-497...</td><td>2022-06-26</td><td>5538</td><td>Mauris Rhoncus LLC</td><td>Alexandra Davis</td><td>QLD</td><td>4417</td><td>computers, comput...</td><td>a</td><td>6.1</td></tr>\n",
       "<tr><td>19087</td><td>43061683632</td><td>18.12</td><td>19511b77-2d85-402...</td><td>2021-08-19</td><td>5538</td><td>A Facilisis PC</td><td>Alexandra Davis</td><td>QLD</td><td>4417</td><td>watch, clock, and...</td><td>c</td><td>2.73</td></tr>\n",
       "<tr><td>19087</td><td>83323591742</td><td>286.8</td><td>ffc9ff6d-7c45-434...</td><td>2022-07-24</td><td>5538</td><td>Eget Dictum Limited</td><td>Alexandra Davis</td><td>QLD</td><td>4417</td><td>florists supplies...</td><td>b</td><td>4.18</td></tr>\n",
       "<tr><td>19087</td><td>45629217853</td><td>21.11</td><td>1b29ade5-b0cd-47f...</td><td>2021-08-19</td><td>5538</td><td>Lacus Consulting</td><td>Alexandra Davis</td><td>QLD</td><td>4417</td><td>gift, card, novel...</td><td>a</td><td>6.98</td></tr>\n",
       "<tr><td>19087</td><td>81578465750</td><td>20.83</td><td>3ca9faf1-69df-47a...</td><td>2022-06-27</td><td>5538</td><td>Nec Cursus PC</td><td>Alexandra Davis</td><td>QLD</td><td>4417</td><td>cable, satellite,...</td><td>c</td><td>1.43</td></tr>\n",
       "<tr><td>19087</td><td>11422053652</td><td>182.63</td><td>ced52f33-c38e-4b0...</td><td>2021-08-22</td><td>5538</td><td>Aptent Taciti Con...</td><td>Alexandra Davis</td><td>QLD</td><td>4417</td><td>shoe shops</td><td>b</td><td>4.74</td></tr>\n",
       "<tr><td>19087</td><td>30035541512</td><td>212.47</td><td>286779b5-1112-434...</td><td>2022-07-09</td><td>5538</td><td>Gravida Aliquam T...</td><td>Alexandra Davis</td><td>QLD</td><td>4417</td><td>hobby, toy and ga...</td><td>c</td><td>2.05</td></tr>\n",
       "<tr><td>19087</td><td>77590625261</td><td>145.07</td><td>83a11407-bbc0-4e2...</td><td>2021-08-14</td><td>5538</td><td>Sed Diam Foundation</td><td>Alexandra Davis</td><td>QLD</td><td>4417</td><td>computer programm...</td><td>b</td><td>3.24</td></tr>\n",
       "<tr><td>19087</td><td>43186523025</td><td>50.47</td><td>0ecb0f2a-9ff4-491...</td><td>2022-07-09</td><td>5538</td><td>Lorem Ipsum Sodal...</td><td>Alexandra Davis</td><td>QLD</td><td>4417</td><td>florists supplies...</td><td>b</td><td>4.47</td></tr>\n",
       "<tr><td>19087</td><td>18935690984</td><td>743.65</td><td>55efab35-1e43-497...</td><td>2021-08-15</td><td>5538</td><td>Semper Et Consulting</td><td>Alexandra Davis</td><td>QLD</td><td>4417</td><td>lawn and garden s...</td><td>b</td><td>4.97</td></tr>\n",
       "<tr><td>19087</td><td>15625166573</td><td>26.23</td><td>6e3022ab-491c-46b...</td><td>2022-08-25</td><td>5538</td><td>Velit Quisque Ind...</td><td>Alexandra Davis</td><td>QLD</td><td>4417</td><td>digital goods: bo...</td><td>b</td><td>4.32</td></tr>\n",
       "<tr><td>19087</td><td>81219314324</td><td>72.96</td><td>61c96b2a-5e32-468...</td><td>2021-07-15</td><td>5538</td><td>Faucibus Leo Ltd</td><td>Alexandra Davis</td><td>QLD</td><td>4417</td><td>gift, card, novel...</td><td>a</td><td>6.35</td></tr>\n",
       "<tr><td>19087</td><td>81410315303</td><td>6.75</td><td>eb8d1ca2-e736-4d6...</td><td>2022-09-08</td><td>5538</td><td>Sed Dictum PC</td><td>Alexandra Davis</td><td>QLD</td><td>4417</td><td>opticians, optica...</td><td>a</td><td>6.35</td></tr>\n",
       "<tr><td>19087</td><td>23527526869</td><td>126.02</td><td>0d082814-437d-4ff...</td><td>2021-07-15</td><td>5538</td><td>Tellus Phasellus ...</td><td>Alexandra Davis</td><td>QLD</td><td>4417</td><td>cable, satellite,...</td><td>a</td><td>6.72</td></tr>\n",
       "<tr><td>19087</td><td>89726005175</td><td>42.23</td><td>b0edadda-3ddc-497...</td><td>2022-07-21</td><td>5538</td><td>Est Nunc Consulting</td><td>Alexandra Davis</td><td>QLD</td><td>4417</td><td>tent and awning s...</td><td>a</td><td>6.01</td></tr>\n",
       "</table>\n",
       "only showing top 20 rows\n"
      ],
      "text/plain": [
       "+-------+------------+------------+--------------------+--------------+-----------+--------------------+---------------+-----+--------+--------------------+-------------+---------+\n",
       "|user_id|merchant_abn|dollar_value|            order_id|order_datetime|consumer_id|       merchant_name|      user_name|state|postcode|               field|revenue_level|take_rate|\n",
       "+-------+------------+------------+--------------------+--------------+-----------+--------------------+---------------+-----+--------+--------------------+-------------+---------+\n",
       "|  19087| 97861055416|      120.24|5dbcd6ea-38eb-4e6...|    2021-08-20|       5538|    Morbi Neque Inc.|Alexandra Davis|  QLD|    4417|computers, comput...|            b|      3.4|\n",
       "|  19087| 80324045558|        2.59|d6d96882-257f-43e...|    2022-06-26|       5538|Ipsum Dolor Sit C...|Alexandra Davis|  QLD|    4417|gift, card, novel...|            c|     1.47|\n",
       "|  19087| 86578477987|       72.29|e6afee18-ee2b-447...|    2021-08-20|       5538|   Leo In Consulting|Alexandra Davis|  QLD|    4417|watch, clock, and...|            a|     6.43|\n",
       "|  19087| 43186523025|       52.41|7fbd7162-14a0-4fa...|    2022-06-26|       5538|Lorem Ipsum Sodal...|Alexandra Davis|  QLD|    4417|florists supplies...|            b|     4.47|\n",
       "|  19087| 29936037423|        29.5|d7e18a71-5e10-4e0...|    2021-08-19|       5538|Sodales Incorporated|Alexandra Davis|  QLD|    4417|hobby, toy and ga...|            c|     1.97|\n",
       "|  19087| 89536028092|       48.22|12f42311-ba43-497...|    2022-06-26|       5538|  Mauris Rhoncus LLC|Alexandra Davis|  QLD|    4417|computers, comput...|            a|      6.1|\n",
       "|  19087| 43061683632|       18.12|19511b77-2d85-402...|    2021-08-19|       5538|      A Facilisis PC|Alexandra Davis|  QLD|    4417|watch, clock, and...|            c|     2.73|\n",
       "|  19087| 83323591742|       286.8|ffc9ff6d-7c45-434...|    2022-07-24|       5538| Eget Dictum Limited|Alexandra Davis|  QLD|    4417|florists supplies...|            b|     4.18|\n",
       "|  19087| 45629217853|       21.11|1b29ade5-b0cd-47f...|    2021-08-19|       5538|    Lacus Consulting|Alexandra Davis|  QLD|    4417|gift, card, novel...|            a|     6.98|\n",
       "|  19087| 81578465750|       20.83|3ca9faf1-69df-47a...|    2022-06-27|       5538|       Nec Cursus PC|Alexandra Davis|  QLD|    4417|cable, satellite,...|            c|     1.43|\n",
       "|  19087| 11422053652|      182.63|ced52f33-c38e-4b0...|    2021-08-22|       5538|Aptent Taciti Con...|Alexandra Davis|  QLD|    4417|          shoe shops|            b|     4.74|\n",
       "|  19087| 30035541512|      212.47|286779b5-1112-434...|    2022-07-09|       5538|Gravida Aliquam T...|Alexandra Davis|  QLD|    4417|hobby, toy and ga...|            c|     2.05|\n",
       "|  19087| 77590625261|      145.07|83a11407-bbc0-4e2...|    2021-08-14|       5538| Sed Diam Foundation|Alexandra Davis|  QLD|    4417|computer programm...|            b|     3.24|\n",
       "|  19087| 43186523025|       50.47|0ecb0f2a-9ff4-491...|    2022-07-09|       5538|Lorem Ipsum Sodal...|Alexandra Davis|  QLD|    4417|florists supplies...|            b|     4.47|\n",
       "|  19087| 18935690984|      743.65|55efab35-1e43-497...|    2021-08-15|       5538|Semper Et Consulting|Alexandra Davis|  QLD|    4417|lawn and garden s...|            b|     4.97|\n",
       "|  19087| 15625166573|       26.23|6e3022ab-491c-46b...|    2022-08-25|       5538|Velit Quisque Ind...|Alexandra Davis|  QLD|    4417|digital goods: bo...|            b|     4.32|\n",
       "|  19087| 81219314324|       72.96|61c96b2a-5e32-468...|    2021-07-15|       5538|    Faucibus Leo Ltd|Alexandra Davis|  QLD|    4417|gift, card, novel...|            a|     6.35|\n",
       "|  19087| 81410315303|        6.75|eb8d1ca2-e736-4d6...|    2022-09-08|       5538|       Sed Dictum PC|Alexandra Davis|  QLD|    4417|opticians, optica...|            a|     6.35|\n",
       "|  19087| 23527526869|      126.02|0d082814-437d-4ff...|    2021-07-15|       5538|Tellus Phasellus ...|Alexandra Davis|  QLD|    4417|cable, satellite,...|            a|     6.72|\n",
       "|  19087| 89726005175|       42.23|b0edadda-3ddc-497...|    2022-07-21|       5538| Est Nunc Consulting|Alexandra Davis|  QLD|    4417|tent and awning s...|            a|     6.01|\n",
       "+-------+------------+------------+--------------------+--------------+-----------+--------------------+---------------+-----+--------+--------------------+-------------+---------+\n",
       "only showing top 20 rows"
      ]
     },
     "execution_count": 9,
     "metadata": {},
     "output_type": "execute_result"
    }
   ],
   "source": [
    "curated_csv3.where(curated_csv3['consumer_id']==5538)"
   ]
  },
  {
   "cell_type": "code",
   "execution_count": 10,
   "metadata": {},
   "outputs": [
    {
     "name": "stderr",
     "output_type": "stream",
     "text": [
      "[Stage 14:======================================>                 (20 + 9) / 29]\r"
     ]
    },
    {
     "name": "stdout",
     "output_type": "stream",
     "text": [
      "13614675 13\n"
     ]
    },
    {
     "name": "stderr",
     "output_type": "stream",
     "text": [
      "                                                                                \r"
     ]
    }
   ],
   "source": [
    "# check wrong data\n",
    "from os import curdir\n",
    "from pyspark.sql import functions as F\n",
    "new_data = curated_csv3.filter(\n",
    "    (F.col('user_id') > 0 )\n",
    "    & (F.col('dollar_value') >= 0)\n",
    "    & (F.col('consumer_id') > 0)\n",
    "    & (F.col('postcode') > 0)\n",
    ")\n",
    "print(new_data.count(),len(new_data.columns))"
   ]
  },
  {
   "cell_type": "code",
   "execution_count": 11,
   "metadata": {},
   "outputs": [
    {
     "data": {
      "text/html": [
       "<table border='1'>\n",
       "<tr><th>user_id</th><th>merchant_abn</th><th>dollar_value</th><th>order_id</th><th>order_datetime</th><th>consumer_id</th><th>merchant_name</th><th>user_name</th><th>state</th><th>postcode</th><th>field</th><th>revenue_level</th><th>take_rate</th></tr>\n",
       "<tr><td>19087</td><td>97861055416</td><td>120.24</td><td>5dbcd6ea-38eb-4e6...</td><td>2021-08-20</td><td>5538</td><td>Morbi Neque Inc.</td><td>Alexandra Davis</td><td>QLD</td><td>4417</td><td>computers, comput...</td><td>b</td><td>3.4</td></tr>\n",
       "<tr><td>19087</td><td>80324045558</td><td>2.59</td><td>d6d96882-257f-43e...</td><td>2022-06-26</td><td>5538</td><td>Ipsum Dolor Sit C...</td><td>Alexandra Davis</td><td>QLD</td><td>4417</td><td>gift, card, novel...</td><td>c</td><td>1.47</td></tr>\n",
       "<tr><td>19087</td><td>86578477987</td><td>72.29</td><td>e6afee18-ee2b-447...</td><td>2021-08-20</td><td>5538</td><td>Leo In Consulting</td><td>Alexandra Davis</td><td>QLD</td><td>4417</td><td>watch, clock, and...</td><td>a</td><td>6.43</td></tr>\n",
       "<tr><td>19087</td><td>43186523025</td><td>52.41</td><td>7fbd7162-14a0-4fa...</td><td>2022-06-26</td><td>5538</td><td>Lorem Ipsum Sodal...</td><td>Alexandra Davis</td><td>QLD</td><td>4417</td><td>florists supplies...</td><td>b</td><td>4.47</td></tr>\n",
       "<tr><td>19087</td><td>29936037423</td><td>29.5</td><td>d7e18a71-5e10-4e0...</td><td>2021-08-19</td><td>5538</td><td>Sodales Incorporated</td><td>Alexandra Davis</td><td>QLD</td><td>4417</td><td>hobby, toy and ga...</td><td>c</td><td>1.97</td></tr>\n",
       "</table>\n"
      ],
      "text/plain": [
       "+-------+------------+------------+--------------------+--------------+-----------+--------------------+---------------+-----+--------+--------------------+-------------+---------+\n",
       "|user_id|merchant_abn|dollar_value|            order_id|order_datetime|consumer_id|       merchant_name|      user_name|state|postcode|               field|revenue_level|take_rate|\n",
       "+-------+------------+------------+--------------------+--------------+-----------+--------------------+---------------+-----+--------+--------------------+-------------+---------+\n",
       "|  19087| 97861055416|      120.24|5dbcd6ea-38eb-4e6...|    2021-08-20|       5538|    Morbi Neque Inc.|Alexandra Davis|  QLD|    4417|computers, comput...|            b|      3.4|\n",
       "|  19087| 80324045558|        2.59|d6d96882-257f-43e...|    2022-06-26|       5538|Ipsum Dolor Sit C...|Alexandra Davis|  QLD|    4417|gift, card, novel...|            c|     1.47|\n",
       "|  19087| 86578477987|       72.29|e6afee18-ee2b-447...|    2021-08-20|       5538|   Leo In Consulting|Alexandra Davis|  QLD|    4417|watch, clock, and...|            a|     6.43|\n",
       "|  19087| 43186523025|       52.41|7fbd7162-14a0-4fa...|    2022-06-26|       5538|Lorem Ipsum Sodal...|Alexandra Davis|  QLD|    4417|florists supplies...|            b|     4.47|\n",
       "|  19087| 29936037423|        29.5|d7e18a71-5e10-4e0...|    2021-08-19|       5538|Sodales Incorporated|Alexandra Davis|  QLD|    4417|hobby, toy and ga...|            c|     1.97|\n",
       "+-------+------------+------------+--------------------+--------------+-----------+--------------------+---------------+-----+--------+--------------------+-------------+---------+"
      ]
     },
     "execution_count": 11,
     "metadata": {},
     "output_type": "execute_result"
    }
   ],
   "source": [
    "new_data.limit(5)"
   ]
  },
  {
   "cell_type": "markdown",
   "metadata": {},
   "source": [
    "Feature (state) check"
   ]
  },
  {
   "cell_type": "code",
   "execution_count": 12,
   "metadata": {},
   "outputs": [
    {
     "name": "stderr",
     "output_type": "stream",
     "text": [
      "                                                                                \r"
     ]
    },
    {
     "data": {
      "text/html": [
       "<table border='1'>\n",
       "<tr><th>state</th><th>count</th></tr>\n",
       "<tr><td>NT</td><td>193967</td></tr>\n",
       "<tr><td>ACT</td><td>124972</td></tr>\n",
       "<tr><td>SA</td><td>1547006</td></tr>\n",
       "<tr><td>TAS</td><td>504569</td></tr>\n",
       "<tr><td>WA</td><td>2155279</td></tr>\n",
       "<tr><td>QLD</td><td>2014613</td></tr>\n",
       "<tr><td>VIC</td><td>3146464</td></tr>\n",
       "<tr><td>NSW</td><td>3927805</td></tr>\n",
       "</table>\n"
      ],
      "text/plain": [
       "+-----+-------+\n",
       "|state|  count|\n",
       "+-----+-------+\n",
       "|   NT| 193967|\n",
       "|  ACT| 124972|\n",
       "|   SA|1547006|\n",
       "|  TAS| 504569|\n",
       "|   WA|2155279|\n",
       "|  QLD|2014613|\n",
       "|  VIC|3146464|\n",
       "|  NSW|3927805|\n",
       "+-----+-------+"
      ]
     },
     "execution_count": 12,
     "metadata": {},
     "output_type": "execute_result"
    }
   ],
   "source": [
    "# this is the count of state, no need to filter\n",
    "new_data.groupBy(new_data['state']).count()"
   ]
  },
  {
   "cell_type": "markdown",
   "metadata": {},
   "source": [
    "Feature(revenue_level) check"
   ]
  },
  {
   "cell_type": "code",
   "execution_count": 13,
   "metadata": {},
   "outputs": [
    {
     "name": "stderr",
     "output_type": "stream",
     "text": [
      "                                                                                \r"
     ]
    },
    {
     "data": {
      "text/html": [
       "<table border='1'>\n",
       "<tr><th>revenue_level</th><th>count</th></tr>\n",
       "<tr><td>e</td><td>120108</td></tr>\n",
       "<tr><td>d</td><td>136838</td></tr>\n",
       "<tr><td>c</td><td>3324800</td></tr>\n",
       "<tr><td>b</td><td>3921368</td></tr>\n",
       "<tr><td>a</td><td>6111561</td></tr>\n",
       "</table>\n"
      ],
      "text/plain": [
       "+-------------+-------+\n",
       "|revenue_level|  count|\n",
       "+-------------+-------+\n",
       "|            e| 120108|\n",
       "|            d| 136838|\n",
       "|            c|3324800|\n",
       "|            b|3921368|\n",
       "|            a|6111561|\n",
       "+-------------+-------+"
      ]
     },
     "execution_count": 13,
     "metadata": {},
     "output_type": "execute_result"
    }
   ],
   "source": [
    "# count of different revenue level, no need to filter\n",
    "new_data.groupBy(new_data['revenue_level']).count()"
   ]
  },
  {
   "cell_type": "markdown",
   "metadata": {},
   "source": [
    "Feature(take_rate) check"
   ]
  },
  {
   "cell_type": "code",
   "execution_count": 14,
   "metadata": {},
   "outputs": [
    {
     "name": "stderr",
     "output_type": "stream",
     "text": [
      "                                                                                \r"
     ]
    },
    {
     "data": {
      "text/html": [
       "<table border='1'>\n",
       "<tr><th>summary</th><th>take_rate</th></tr>\n",
       "<tr><td>count</td><td>13614675</td></tr>\n",
       "<tr><td>mean</td><td>4.5888869635142635</td></tr>\n",
       "<tr><td>stddev</td><td>1.7384891977570738</td></tr>\n",
       "<tr><td>min</td><td>0.1</td></tr>\n",
       "<tr><td>max</td><td>7.0</td></tr>\n",
       "</table>\n"
      ],
      "text/plain": [
       "+-------+------------------+\n",
       "|summary|         take_rate|\n",
       "+-------+------------------+\n",
       "|  count|          13614675|\n",
       "|   mean|4.5888869635142635|\n",
       "| stddev|1.7384891977570738|\n",
       "|    min|               0.1|\n",
       "|    max|               7.0|\n",
       "+-------+------------------+"
      ]
     },
     "execution_count": 14,
     "metadata": {},
     "output_type": "execute_result"
    }
   ],
   "source": [
    "new_data.select('take_rate').describe()"
   ]
  },
  {
   "cell_type": "code",
   "execution_count": 15,
   "metadata": {},
   "outputs": [],
   "source": [
    "# check dollar\n",
    "import matplotlib.pyplot as plt\n",
    "# check outliers\n",
    "a = new_data.sample(0.5).select('take_rate')"
   ]
  },
  {
   "cell_type": "code",
   "execution_count": 16,
   "metadata": {},
   "outputs": [
    {
     "name": "stderr",
     "output_type": "stream",
     "text": [
      "                                                                                \r"
     ]
    }
   ],
   "source": [
    "a = a.toPandas()\n"
   ]
  },
  {
   "cell_type": "code",
   "execution_count": 17,
   "metadata": {},
   "outputs": [],
   "source": [
    "a['take_rate']=a['take_rate'].astype(float)"
   ]
  },
  {
   "cell_type": "code",
   "execution_count": 18,
   "metadata": {},
   "outputs": [
    {
     "data": {
      "text/plain": [
       "<AxesSubplot:>"
      ]
     },
     "execution_count": 18,
     "metadata": {},
     "output_type": "execute_result"
    },
    {
     "data": {
      "image/png": "[encoded data removed]",
      "text/plain": [
       "<Figure size 432x288 with 1 Axes>"
      ]
     },
     "metadata": {
      "needs_background": "light"
     },
     "output_type": "display_data"
    }
   ],
   "source": [
    "a.plot.box()"
   ]
  },
  {
   "cell_type": "markdown",
   "metadata": {},
   "source": [
    "Feature(date) check, remove the transactions are not in selected time range"
   ]
  },
  {
   "cell_type": "code",
   "execution_count": 19,
   "metadata": {},
   "outputs": [
    {
     "name": "stderr",
     "output_type": "stream",
     "text": [
      "[Stage 61:======================================>                 (20 + 9) / 29]\r"
     ]
    },
    {
     "name": "stdout",
     "output_type": "stream",
     "text": [
      "12047317 13\n"
     ]
    },
    {
     "name": "stderr",
     "output_type": "stream",
     "text": [
      "                                                                                \r"
     ]
    }
   ],
   "source": [
    "# check the order datetime\n",
    "from pyspark.sql import functions as F\n",
    "new_df = new_data.filter(\n",
    "    (F.col('order_datetime') >= '2021-02-28') \n",
    "    & (F.col('order_datetime') <= '2022-08-28')\n",
    ")\n",
    "\n",
    "print(new_df.count(),len(new_df.columns))"
   ]
  },
  {
   "cell_type": "code",
   "execution_count": 20,
   "metadata": {},
   "outputs": [
    {
     "name": "stderr",
     "output_type": "stream",
     "text": [
      "                                                                                \r"
     ]
    },
    {
     "data": {
      "text/html": [
       "<table border='1'>\n",
       "<tr><th>summary</th><th>postcode</th></tr>\n",
       "<tr><td>count</td><td>12047317</td></tr>\n",
       "<tr><td>mean</td><td>4043.344625778503</td></tr>\n",
       "<tr><td>stddev</td><td>1780.6993191675258</td></tr>\n",
       "<tr><td>min</td><td>1001</td></tr>\n",
       "<tr><td>max</td><td>9999</td></tr>\n",
       "</table>\n"
      ],
      "text/plain": [
       "+-------+------------------+\n",
       "|summary|          postcode|\n",
       "+-------+------------------+\n",
       "|  count|          12047317|\n",
       "|   mean| 4043.344625778503|\n",
       "| stddev|1780.6993191675258|\n",
       "|    min|              1001|\n",
       "|    max|              9999|\n",
       "+-------+------------------+"
      ]
     },
     "execution_count": 20,
     "metadata": {},
     "output_type": "execute_result"
    }
   ],
   "source": [
    "new_df.select('postcode').describe()\n",
    "#new_df.limit(5)"
   ]
  },
  {
   "cell_type": "code",
   "execution_count": 21,
   "metadata": {},
   "outputs": [
    {
     "name": "stderr",
     "output_type": "stream",
     "text": [
      "[Stage 67:======================================>                 (20 + 9) / 29]\r"
     ]
    },
    {
     "name": "stdout",
     "output_type": "stream",
     "text": [
      "12047317 13\n"
     ]
    },
    {
     "name": "stderr",
     "output_type": "stream",
     "text": [
      "                                                                                \r"
     ]
    }
   ],
   "source": [
    "# check postcode\n",
    "new_df = new_df.withColumn(\"length_of_str\",F.length('postcode'))\n",
    "new_df.select('length_of_str').describe()\n",
    "new_df = new_df.filter(\n",
    "    (F.col('length_of_str') <= 4)\n",
    "    & (F.col('length_of_str') >=3)\n",
    ")\n",
    "new_df = new_df.drop('length_of_str')\n",
    "print(new_df.count(),len(new_df.columns))"
   ]
  },
  {
   "cell_type": "code",
   "execution_count": 22,
   "metadata": {},
   "outputs": [
    {
     "name": "stderr",
     "output_type": "stream",
     "text": [
      "                                                                                \r"
     ]
    },
    {
     "data": {
      "text/html": [
       "<table border='1'>\n",
       "<tr><th>summary</th><th>postcode</th></tr>\n",
       "<tr><td>count</td><td>12047317</td></tr>\n",
       "<tr><td>mean</td><td>4043.344625778503</td></tr>\n",
       "<tr><td>stddev</td><td>1780.6993191675258</td></tr>\n",
       "<tr><td>min</td><td>1001</td></tr>\n",
       "<tr><td>max</td><td>9999</td></tr>\n",
       "</table>\n"
      ],
      "text/plain": [
       "+-------+------------------+\n",
       "|summary|          postcode|\n",
       "+-------+------------------+\n",
       "|  count|          12047317|\n",
       "|   mean| 4043.344625778503|\n",
       "| stddev|1780.6993191675258|\n",
       "|    min|              1001|\n",
       "|    max|              9999|\n",
       "+-------+------------------+"
      ]
     },
     "execution_count": 22,
     "metadata": {},
     "output_type": "execute_result"
    }
   ],
   "source": [
    "new_df.select('postcode').describe()"
   ]
  },
  {
   "cell_type": "code",
   "execution_count": 23,
   "metadata": {},
   "outputs": [
    {
     "name": "stderr",
     "output_type": "stream",
     "text": [
      "[Stage 73:====================================================>   (27 + 2) / 29]\r"
     ]
    },
    {
     "name": "stdout",
     "output_type": "stream",
     "text": [
      "11873781 13\n"
     ]
    },
    {
     "name": "stderr",
     "output_type": "stream",
     "text": [
      "                                                                                \r"
     ]
    }
   ],
   "source": [
    "# check postcode\n",
    "new_df = new_df.withColumn(\"length_of_str\",F.length('postcode'))\n",
    "new_df.select('length_of_str').describe()\n",
    "new_df = new_df.filter(\n",
    "    (F.col('length_of_str') == 4)\n",
    "    #&(F.col('length_of_str') >=3 )\n",
    ")\n",
    "new_df = new_df.drop('length_of_str')\n",
    "print(new_df.count(),len(new_df.columns))"
   ]
  },
  {
   "cell_type": "code",
   "execution_count": 24,
   "metadata": {},
   "outputs": [
    {
     "name": "stderr",
     "output_type": "stream",
     "text": [
      "                                                                                \r"
     ]
    },
    {
     "data": {
      "text/html": [
       "<table border='1'>\n",
       "<tr><th>summary</th><th>postcode</th></tr>\n",
       "<tr><td>count</td><td>11873781</td></tr>\n",
       "<tr><td>mean</td><td>4090.160012720464</td></tr>\n",
       "<tr><td>stddev</td><td>1750.7133070801758</td></tr>\n",
       "<tr><td>min</td><td>1001</td></tr>\n",
       "<tr><td>max</td><td>9999</td></tr>\n",
       "</table>\n"
      ],
      "text/plain": [
       "+-------+------------------+\n",
       "|summary|          postcode|\n",
       "+-------+------------------+\n",
       "|  count|          11873781|\n",
       "|   mean| 4090.160012720464|\n",
       "| stddev|1750.7133070801758|\n",
       "|    min|              1001|\n",
       "|    max|              9999|\n",
       "+-------+------------------+"
      ]
     },
     "execution_count": 24,
     "metadata": {},
     "output_type": "execute_result"
    }
   ],
   "source": [
    "new_df.select('postcode').describe()"
   ]
  },
  {
   "cell_type": "code",
   "execution_count": 25,
   "metadata": {},
   "outputs": [
    {
     "name": "stderr",
     "output_type": "stream",
     "text": [
      "                                                                                \r"
     ]
    },
    {
     "data": {
      "text/plain": [
       "13614675"
      ]
     },
     "execution_count": 25,
     "metadata": {},
     "output_type": "execute_result"
    }
   ],
   "source": [
    "curated_csv3.count()"
   ]
  },
  {
   "cell_type": "code",
   "execution_count": 26,
   "metadata": {},
   "outputs": [
    {
     "name": "stderr",
     "output_type": "stream",
     "text": [
      "[Stage 79:>                                                       (0 + 20) / 29]\r"
     ]
    }
   ],
   "source": [
    "curated_csv4.count()"
   ]
  }
 ],
 "metadata": {
  "kernelspec": {
   "display_name": "Python 3.10.4 64-bit",
   "language": "python",
   "name": "python3"
  },
  "language_info": {
   "codemirror_mode": {
    "name": "ipython",
    "version": 3
   },
   "file_extension": ".py",
   "mimetype": "text/x-python",
   "name": "python",
   "nbconvert_exporter": "python",
   "pygments_lexer": "ipython3",
   "version": "3.10.4"
  },
  "orig_nbformat": 4,
  "vscode": {
   "interpreter": {
    "hash": "916dbcbb3f70747c44a77c7bcd40155683ae19c65e1c03b4aa3499c5328201f1"
   }
  }
 },
 "nbformat": 4,
 "nbformat_minor": 2
}
