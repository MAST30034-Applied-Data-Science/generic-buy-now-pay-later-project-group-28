{
 "cells": [
  {
   "cell_type": "code",
   "execution_count": 1,
   "metadata": {},
   "outputs": [
    {
     "name": "stdout",
     "output_type": "stream",
     "text": [
      "22/09/13 13:18:12 WARN Utils: Your hostname, DESKTOP-ISE3FUM resolves to a loopback address: 127.0.1.1; using 172.30.155.74 instead (on interface eth0)\n",
      "22/09/13 13:18:12 WARN Utils: Set SPARK_LOCAL_IP if you need to bind to another address\n"
     ]
    },
    {
     "name": "stderr",
     "output_type": "stream",
     "text": [
      "Setting default log level to \"WARN\".\n",
      "To adjust logging level use sc.setLogLevel(newLevel). For SparkR, use setLogLevel(newLevel).\n"
     ]
    },
    {
     "name": "stdout",
     "output_type": "stream",
     "text": [
      "22/09/13 13:18:14 WARN NativeCodeLoader: Unable to load native-hadoop library for your platform... using builtin-java classes where applicable\n"
     ]
    }
   ],
   "source": [
    "#import spark\n",
    "from pyspark.sql import SparkSession\n",
    "# Create a spark session (which will run spark jobs)\n",
    "spark = (\n",
    "    SparkSession.builder.appName(\"MAST30034 ass2 BNPL group 28\")\n",
    "    .config(\"spark.sql.repl.eagerEval.enabled\", True) \n",
    "    .config(\"spark.sql.parquet.cacheMetadata\", \"true\")\n",
    "    .config(\"spark.sql.session.timeZone\", \"Etc/UTC\")\n",
    "    .getOrCreate()\n",
    ")"
   ]
  },
  {
   "cell_type": "code",
   "execution_count": 2,
   "metadata": {},
   "outputs": [],
   "source": [
    "curated_csv = spark.read.options(header = True).csv('../data/curated/full_data.csv')"
   ]
  },
  {
   "cell_type": "code",
   "execution_count": 3,
   "metadata": {},
   "outputs": [
    {
     "name": "stderr",
     "output_type": "stream",
     "text": [
      "[Stage 1:======================================================>  (24 + 1) / 25]\r"
     ]
    },
    {
     "name": "stdout",
     "output_type": "stream",
     "text": [
      "14195505 15\n"
     ]
    },
    {
     "name": "stderr",
     "output_type": "stream",
     "text": [
      "                                                                                \r"
     ]
    }
   ],
   "source": [
    "curated_csv.limit(5)\n",
    "print(curated_csv.count(),len(curated_csv.columns))"
   ]
  },
  {
   "cell_type": "code",
   "execution_count": 4,
   "metadata": {},
   "outputs": [
    {
     "name": "stderr",
     "output_type": "stream",
     "text": [
      "[Stage 4:======================================================>  (24 + 1) / 25]\r"
     ]
    },
    {
     "name": "stdout",
     "output_type": "stream",
     "text": [
      "14195505 12\n"
     ]
    },
    {
     "name": "stderr",
     "output_type": "stream",
     "text": [
      "                                                                                \r"
     ]
    }
   ],
   "source": [
    "curated_csv1 = curated_csv.drop(curated_csv.order_id)\n",
    "curated_csv2 = curated_csv1.drop(curated_csv.address)\n",
    "curated_csv3 = curated_csv2.drop(curated_csv.gender)\n",
    "#curated_csv4 = curated_csv3.drop(curated_csv.user_name)\n",
    "curated_csv3.limit(5)\n",
    "print(curated_csv3.count(),len(curated_csv3.columns))"
   ]
  },
  {
   "cell_type": "code",
   "execution_count": 5,
   "metadata": {},
   "outputs": [
    {
     "name": "stderr",
     "output_type": "stream",
     "text": [
      "[Stage 7:======================================================>  (24 + 1) / 25]\r"
     ]
    },
    {
     "name": "stdout",
     "output_type": "stream",
     "text": [
      "13614675 12\n"
     ]
    },
    {
     "name": "stderr",
     "output_type": "stream",
     "text": [
      "                                                                                \r"
     ]
    }
   ],
   "source": [
    "# check null value\n",
    "curated_csv3 = curated_csv3.dropna()\n",
    "print(curated_csv3.count(),len(curated_csv3.columns))"
   ]
  },
  {
   "cell_type": "code",
   "execution_count": 6,
   "metadata": {},
   "outputs": [
    {
     "data": {
      "text/html": [
       "<table border='1'>\n",
       "<tr><th>user_id</th><th>merchant_abn</th><th>dollar_value</th><th>order_datetime</th><th>consumer_id</th><th>merchant_name</th><th>user_name</th><th>state</th><th>postcode</th><th>field</th><th>revenue_level</th><th>take_rate</th></tr>\n",
       "<tr><td>2979</td><td>87639550697</td><td>76.55</td><td>2021-08-20</td><td>257</td><td>Mauris Consulting</td><td>Jason Newton</td><td>VIC</td><td>3385</td><td>digital goods: bo...</td><td>b</td><td>3.27</td></tr>\n",
       "<tr><td>2979</td><td>80191930269</td><td>412.46</td><td>2021-08-20</td><td>257</td><td>Dolor Quisque Tin...</td><td>Jason Newton</td><td>VIC</td><td>3385</td><td>computer programm...</td><td>b</td><td>3.68</td></tr>\n",
       "<tr><td>2979</td><td>69703285964</td><td>12.15</td><td>2022-05-06</td><td>257</td><td>Suspendisse Incor...</td><td>Jason Newton</td><td>VIC</td><td>3385</td><td>cable, satellite,...</td><td>a</td><td>5.77</td></tr>\n",
       "<tr><td>2979</td><td>92065881715</td><td>681.52</td><td>2021-08-20</td><td>257</td><td>Quam Elementum Corp.</td><td>Jason Newton</td><td>VIC</td><td>3385</td><td>opticians, optica...</td><td>b</td><td>4.2</td></tr>\n",
       "<tr><td>2979</td><td>63290521567</td><td>13.87</td><td>2022-05-06</td><td>257</td><td>Vehicula Pellente...</td><td>Jason Newton</td><td>VIC</td><td>3385</td><td>artist supply and...</td><td>a</td><td>6.48</td></tr>\n",
       "</table>\n"
      ],
      "text/plain": [
       "+-------+------------+------------+--------------+-----------+--------------------+------------+-----+--------+--------------------+-------------+---------+\n",
       "|user_id|merchant_abn|dollar_value|order_datetime|consumer_id|       merchant_name|   user_name|state|postcode|               field|revenue_level|take_rate|\n",
       "+-------+------------+------------+--------------+-----------+--------------------+------------+-----+--------+--------------------+-------------+---------+\n",
       "|   2979| 87639550697|       76.55|    2021-08-20|        257|   Mauris Consulting|Jason Newton|  VIC|    3385|digital goods: bo...|            b|     3.27|\n",
       "|   2979| 80191930269|      412.46|    2021-08-20|        257|Dolor Quisque Tin...|Jason Newton|  VIC|    3385|computer programm...|            b|     3.68|\n",
       "|   2979| 69703285964|       12.15|    2022-05-06|        257|Suspendisse Incor...|Jason Newton|  VIC|    3385|cable, satellite,...|            a|     5.77|\n",
       "|   2979| 92065881715|      681.52|    2021-08-20|        257|Quam Elementum Corp.|Jason Newton|  VIC|    3385|opticians, optica...|            b|      4.2|\n",
       "|   2979| 63290521567|       13.87|    2022-05-06|        257|Vehicula Pellente...|Jason Newton|  VIC|    3385|artist supply and...|            a|     6.48|\n",
       "+-------+------------+------------+--------------+-----------+--------------------+------------+-----+--------+--------------------+-------------+---------+"
      ]
     },
     "execution_count": 6,
     "metadata": {},
     "output_type": "execute_result"
    }
   ],
   "source": [
    "curated_csv3.limit(5)"
   ]
  },
  {
   "cell_type": "code",
   "execution_count": 7,
   "metadata": {},
   "outputs": [
    {
     "name": "stderr",
     "output_type": "stream",
     "text": [
      "[Stage 12:=====================================================>  (24 + 1) / 25]\r"
     ]
    },
    {
     "name": "stdout",
     "output_type": "stream",
     "text": [
      "13614675 12\n"
     ]
    },
    {
     "name": "stderr",
     "output_type": "stream",
     "text": [
      "                                                                                \r"
     ]
    }
   ],
   "source": [
    "# check wrong data\n",
    "from os import curdir\n",
    "from pyspark.sql import functions as F\n",
    "new_data = curated_csv3.filter(\n",
    "    (F.col('user_id') > 0 )\n",
    "    & (F.col('dollar_value') >= 0)\n",
    "    & (F.col('consumer_id') > 0)\n",
    "    & (F.col('postcode') > 0)\n",
    ")\n",
    "print(new_data.count(),len(new_data.columns))"
   ]
  },
  {
   "cell_type": "code",
   "execution_count": 8,
   "metadata": {},
   "outputs": [
    {
     "data": {
      "text/html": [
       "<table border='1'>\n",
       "<tr><th>user_id</th><th>merchant_abn</th><th>dollar_value</th><th>order_datetime</th><th>consumer_id</th><th>merchant_name</th><th>user_name</th><th>state</th><th>postcode</th><th>field</th><th>revenue_level</th><th>take_rate</th></tr>\n",
       "<tr><td>2979</td><td>87639550697</td><td>76.55</td><td>2021-08-20</td><td>257</td><td>Mauris Consulting</td><td>Jason Newton</td><td>VIC</td><td>3385</td><td>digital goods: bo...</td><td>b</td><td>3.27</td></tr>\n",
       "<tr><td>2979</td><td>80191930269</td><td>412.46</td><td>2021-08-20</td><td>257</td><td>Dolor Quisque Tin...</td><td>Jason Newton</td><td>VIC</td><td>3385</td><td>computer programm...</td><td>b</td><td>3.68</td></tr>\n",
       "<tr><td>2979</td><td>69703285964</td><td>12.15</td><td>2022-05-06</td><td>257</td><td>Suspendisse Incor...</td><td>Jason Newton</td><td>VIC</td><td>3385</td><td>cable, satellite,...</td><td>a</td><td>5.77</td></tr>\n",
       "<tr><td>2979</td><td>92065881715</td><td>681.52</td><td>2021-08-20</td><td>257</td><td>Quam Elementum Corp.</td><td>Jason Newton</td><td>VIC</td><td>3385</td><td>opticians, optica...</td><td>b</td><td>4.2</td></tr>\n",
       "<tr><td>2979</td><td>63290521567</td><td>13.87</td><td>2022-05-06</td><td>257</td><td>Vehicula Pellente...</td><td>Jason Newton</td><td>VIC</td><td>3385</td><td>artist supply and...</td><td>a</td><td>6.48</td></tr>\n",
       "</table>\n"
      ],
      "text/plain": [
       "+-------+------------+------------+--------------+-----------+--------------------+------------+-----+--------+--------------------+-------------+---------+\n",
       "|user_id|merchant_abn|dollar_value|order_datetime|consumer_id|       merchant_name|   user_name|state|postcode|               field|revenue_level|take_rate|\n",
       "+-------+------------+------------+--------------+-----------+--------------------+------------+-----+--------+--------------------+-------------+---------+\n",
       "|   2979| 87639550697|       76.55|    2021-08-20|        257|   Mauris Consulting|Jason Newton|  VIC|    3385|digital goods: bo...|            b|     3.27|\n",
       "|   2979| 80191930269|      412.46|    2021-08-20|        257|Dolor Quisque Tin...|Jason Newton|  VIC|    3385|computer programm...|            b|     3.68|\n",
       "|   2979| 69703285964|       12.15|    2022-05-06|        257|Suspendisse Incor...|Jason Newton|  VIC|    3385|cable, satellite,...|            a|     5.77|\n",
       "|   2979| 92065881715|      681.52|    2021-08-20|        257|Quam Elementum Corp.|Jason Newton|  VIC|    3385|opticians, optica...|            b|      4.2|\n",
       "|   2979| 63290521567|       13.87|    2022-05-06|        257|Vehicula Pellente...|Jason Newton|  VIC|    3385|artist supply and...|            a|     6.48|\n",
       "+-------+------------+------------+--------------+-----------+--------------------+------------+-----+--------+--------------------+-------------+---------+"
      ]
     },
     "execution_count": 8,
     "metadata": {},
     "output_type": "execute_result"
    }
   ],
   "source": [
    "new_data.limit(5)"
   ]
  },
  {
   "cell_type": "code",
   "execution_count": 9,
   "metadata": {},
   "outputs": [
    {
     "name": "stderr",
     "output_type": "stream",
     "text": [
      "[Stage 19:==============================================>         (19 + 4) / 23]\r"
     ]
    },
    {
     "name": "stdout",
     "output_type": "stream",
     "text": [
      "13614664 12\n"
     ]
    },
    {
     "name": "stderr",
     "output_type": "stream",
     "text": [
      "                                                                                \r"
     ]
    }
   ],
   "source": [
    "# check repetation \n",
    "new_data1 = new_data.distinct()\n",
    "print(new_data1.count(),len(new_data1.columns))"
   ]
  },
  {
   "cell_type": "code",
   "execution_count": 10,
   "metadata": {},
   "outputs": [
    {
     "name": "stderr",
     "output_type": "stream",
     "text": [
      "[Stage 25:============================================>           (16 + 4) / 20]\r"
     ]
    },
    {
     "name": "stdout",
     "output_type": "stream",
     "text": [
      "12047306 12\n"
     ]
    },
    {
     "name": "stderr",
     "output_type": "stream",
     "text": [
      "                                                                                \r"
     ]
    }
   ],
   "source": [
    "# check the order datetime\n",
    "from pyspark.sql import functions as F\n",
    "new_df = new_data1.filter(\n",
    "    (F.col('order_datetime') >= '2021-02-28') \n",
    "    & (F.col('order_datetime') <= '2022-08-28')\n",
    ")\n",
    "\n",
    "print(new_df.count(),len(new_df.columns))"
   ]
  },
  {
   "cell_type": "code",
   "execution_count": 11,
   "metadata": {},
   "outputs": [
    {
     "name": "stderr",
     "output_type": "stream",
     "text": [
      "                                                                                \r"
     ]
    },
    {
     "data": {
      "text/html": [
       "<table border='1'>\n",
       "<tr><th>summary</th><th>postcode</th></tr>\n",
       "<tr><td>count</td><td>12047306</td></tr>\n",
       "<tr><td>mean</td><td>4043.344197117596</td></tr>\n",
       "<tr><td>stddev</td><td>1780.6994322233006</td></tr>\n",
       "<tr><td>min</td><td>1001</td></tr>\n",
       "<tr><td>max</td><td>9999</td></tr>\n",
       "</table>\n"
      ],
      "text/plain": [
       "+-------+------------------+\n",
       "|summary|          postcode|\n",
       "+-------+------------------+\n",
       "|  count|          12047306|\n",
       "|   mean| 4043.344197117596|\n",
       "| stddev|1780.6994322233006|\n",
       "|    min|              1001|\n",
       "|    max|              9999|\n",
       "+-------+------------------+"
      ]
     },
     "execution_count": 11,
     "metadata": {},
     "output_type": "execute_result"
    }
   ],
   "source": [
    "new_df.select('postcode').describe()\n",
    "#new_df.limit(5)"
   ]
  },
  {
   "cell_type": "code",
   "execution_count": 12,
   "metadata": {},
   "outputs": [
    {
     "name": "stderr",
     "output_type": "stream",
     "text": [
      "[Stage 43:============================================>           (16 + 4) / 20]\r"
     ]
    },
    {
     "name": "stdout",
     "output_type": "stream",
     "text": [
      "12047306 12\n"
     ]
    },
    {
     "name": "stderr",
     "output_type": "stream",
     "text": [
      "                                                                                \r"
     ]
    }
   ],
   "source": [
    "# check postcode\n",
    "new_df = new_df.withColumn(\"length_of_str\",F.length('postcode'))\n",
    "new_df.select('length_of_str').describe()\n",
    "new_df = new_df.filter(\n",
    "    (F.col('length_of_str') <= 4)\n",
    "    & (F.col('length_of_str') >=3)\n",
    ")\n",
    "new_df = new_df.drop('length_of_str')\n",
    "print(new_df.count(),len(new_df.columns))"
   ]
  },
  {
   "cell_type": "code",
   "execution_count": 13,
   "metadata": {},
   "outputs": [
    {
     "name": "stderr",
     "output_type": "stream",
     "text": [
      "                                                                                \r"
     ]
    },
    {
     "data": {
      "text/html": [
       "<table border='1'>\n",
       "<tr><th>summary</th><th>postcode</th></tr>\n",
       "<tr><td>count</td><td>12047306</td></tr>\n",
       "<tr><td>mean</td><td>4043.344197117596</td></tr>\n",
       "<tr><td>stddev</td><td>1780.6994322233006</td></tr>\n",
       "<tr><td>min</td><td>1001</td></tr>\n",
       "<tr><td>max</td><td>9999</td></tr>\n",
       "</table>\n"
      ],
      "text/plain": [
       "+-------+------------------+\n",
       "|summary|          postcode|\n",
       "+-------+------------------+\n",
       "|  count|          12047306|\n",
       "|   mean| 4043.344197117596|\n",
       "| stddev|1780.6994322233006|\n",
       "|    min|              1001|\n",
       "|    max|              9999|\n",
       "+-------+------------------+"
      ]
     },
     "execution_count": 13,
     "metadata": {},
     "output_type": "execute_result"
    }
   ],
   "source": [
    "new_df.select('postcode').describe()"
   ]
  },
  {
   "cell_type": "code",
   "execution_count": 14,
   "metadata": {},
   "outputs": [
    {
     "name": "stderr",
     "output_type": "stream",
     "text": [
      "[Stage 61:=====================================================>  (19 + 1) / 20]\r"
     ]
    },
    {
     "name": "stdout",
     "output_type": "stream",
     "text": [
      "11873770 12\n"
     ]
    },
    {
     "name": "stderr",
     "output_type": "stream",
     "text": [
      "                                                                                \r"
     ]
    }
   ],
   "source": [
    "# check postcode\n",
    "new_df = new_df.withColumn(\"length_of_str\",F.length('postcode'))\n",
    "new_df.select('length_of_str').describe()\n",
    "new_df = new_df.filter(\n",
    "    (F.col('length_of_str') == 4)\n",
    "    #&(F.col('length_of_str') >=3 )\n",
    ")\n",
    "new_df = new_df.drop('length_of_str')\n",
    "print(new_df.count(),len(new_df.columns))"
   ]
  },
  {
   "cell_type": "code",
   "execution_count": 15,
   "metadata": {},
   "outputs": [
    {
     "name": "stderr",
     "output_type": "stream",
     "text": [
      "                                                                                \r"
     ]
    },
    {
     "data": {
      "text/html": [
       "<table border='1'>\n",
       "<tr><th>summary</th><th>postcode</th></tr>\n",
       "<tr><td>count</td><td>11873770</td></tr>\n",
       "<tr><td>mean</td><td>4090.159621164971</td></tr>\n",
       "<tr><td>stddev</td><td>1750.7134067860632</td></tr>\n",
       "<tr><td>min</td><td>1001</td></tr>\n",
       "<tr><td>max</td><td>9999</td></tr>\n",
       "</table>\n"
      ],
      "text/plain": [
       "+-------+------------------+\n",
       "|summary|          postcode|\n",
       "+-------+------------------+\n",
       "|  count|          11873770|\n",
       "|   mean| 4090.159621164971|\n",
       "| stddev|1750.7134067860632|\n",
       "|    min|              1001|\n",
       "|    max|              9999|\n",
       "+-------+------------------+"
      ]
     },
     "execution_count": 15,
     "metadata": {},
     "output_type": "execute_result"
    }
   ],
   "source": [
    "new_df.select('postcode').describe()"
   ]
  },
  {
   "cell_type": "code",
   "execution_count": 16,
   "metadata": {},
   "outputs": [
    {
     "name": "stderr",
     "output_type": "stream",
     "text": [
      "[Stage 73:============================================>           (16 + 4) / 20]\r"
     ]
    },
    {
     "name": "stdout",
     "output_type": "stream",
     "text": [
      "11873770 12\n"
     ]
    },
    {
     "name": "stderr",
     "output_type": "stream",
     "text": [
      "                                                                                \r"
     ]
    }
   ],
   "source": [
    "# check state\n",
    "cur_df = new_df.filter(\n",
    "    (F.col('state') == 'NT')\n",
    "    | (F.col('state') == 'NSW')\n",
    "    | (F.col('state') == 'QLD')\n",
    "    | (F.col('state') == 'SA')\n",
    "    | (F.col('state') == 'TAS')\n",
    "    | (F.col('state') == 'VIC')\n",
    "    | (F.col('state') == 'WA')\n",
    "    | (F.col('state') == 'ACT')\n",
    ")\n",
    "print(cur_df.count(),len(cur_df.columns))\n"
   ]
  },
  {
   "cell_type": "code",
   "execution_count": null,
   "metadata": {},
   "outputs": [],
   "source": []
  },
  {
   "cell_type": "code",
   "execution_count": null,
   "metadata": {},
   "outputs": [],
   "source": []
  }
 ],
 "metadata": {
  "kernelspec": {
   "display_name": "Python 3.8.13 ('ads': conda)",
   "language": "python",
   "name": "python3"
  },
  "language_info": {
   "codemirror_mode": {
    "name": "ipython",
    "version": 3
   },
   "file_extension": ".py",
   "mimetype": "text/x-python",
   "name": "python",
   "nbconvert_exporter": "python",
   "pygments_lexer": "ipython3",
   "version": "3.8.13"
  },
  "orig_nbformat": 4,
  "vscode": {
   "interpreter": {
    "hash": "28b134390af12c053535df51cda6b999b61cce60830e832eccdb1fcebc3647ab"
   }
  }
 },
 "nbformat": 4,
 "nbformat_minor": 2
}
