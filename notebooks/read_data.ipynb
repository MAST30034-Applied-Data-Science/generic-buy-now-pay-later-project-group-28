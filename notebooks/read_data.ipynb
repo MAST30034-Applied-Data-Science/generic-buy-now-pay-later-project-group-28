{
 "cells": [
  {
   "cell_type": "markdown",
   "metadata": {},
   "source": [
    "Import pyspark"
   ]
  },
  {
   "cell_type": "code",
   "execution_count": 82,
   "metadata": {},
   "outputs": [],
   "source": [
    "#import spark\n",
    "from pyspark.sql import SparkSession\n",
    "# Create a spark session (which will run spark jobs)\n",
    "spark = (\n",
    "    SparkSession.builder.appName(\"MAST30034 ass2 BNPL group 28\")\n",
    "    .config(\"spark.sql.repl.eagerEval.enabled\", True) \n",
    "    .config(\"spark.sql.parquet.cacheMetadata\", \"true\")\n",
    "    .config(\"spark.sql.session.timeZone\", \"Etc/UTC\")\n",
    "    .getOrCreate()\n",
    ")"
   ]
  },
  {
   "cell_type": "code",
   "execution_count": 83,
   "metadata": {},
   "outputs": [],
   "source": [
    "# Read the merchants and consumer parquet data\n",
    "merchants = spark.read.parquet('../data/tables/tbl_merchants.parquet')\n",
    "consumers = spark.read.parquet('../data/tables/consumer_user_details.parquet')\n",
    "transactions = spark.read.parquet('../data/tables/transactions_20210228_20210827_snapshot')\n",
    "consumers_csv = spark.read.options(header='True', inferSchema='True', delimiter='|').csv('../data/tables/tbl_consumer.csv')\n"
   ]
  },
  {
   "cell_type": "code",
   "execution_count": 84,
   "metadata": {},
   "outputs": [
    {
     "name": "stdout",
     "output_type": "stream",
     "text": [
      "4026 3\n"
     ]
    }
   ],
   "source": [
    "# The merchants data size\n",
    "print(merchants.count(),len(merchants.columns))"
   ]
  },
  {
   "cell_type": "code",
   "execution_count": 85,
   "metadata": {},
   "outputs": [
    {
     "data": {
      "text/html": [
       "<table border='1'>\n",
       "<tr><th>name</th><th>tags</th><th>merchant_abn</th></tr>\n",
       "<tr><td>Felis Limited</td><td>((furniture, home...</td><td>10023283211</td></tr>\n",
       "<tr><td>Arcu Ac Orci Corp...</td><td>([cable, satellit...</td><td>10142254217</td></tr>\n",
       "<tr><td>Nunc Sed Company</td><td>([jewelry, watch,...</td><td>10165489824</td></tr>\n",
       "<tr><td>Ultricies Digniss...</td><td>([wAtch, clock, a...</td><td>10187291046</td></tr>\n",
       "<tr><td>Enim Condimentum PC</td><td>([music shops - m...</td><td>10192359162</td></tr>\n",
       "</table>\n"
      ],
      "text/plain": [
       "+--------------------+--------------------+------------+\n",
       "|                name|                tags|merchant_abn|\n",
       "+--------------------+--------------------+------------+\n",
       "|       Felis Limited|((furniture, home...| 10023283211|\n",
       "|Arcu Ac Orci Corp...|([cable, satellit...| 10142254217|\n",
       "|    Nunc Sed Company|([jewelry, watch,...| 10165489824|\n",
       "|Ultricies Digniss...|([wAtch, clock, a...| 10187291046|\n",
       "| Enim Condimentum PC|([music shops - m...| 10192359162|\n",
       "+--------------------+--------------------+------------+"
      ]
     },
     "execution_count": 85,
     "metadata": {},
     "output_type": "execute_result"
    }
   ],
   "source": [
    "merchants.limit(5)"
   ]
  },
  {
   "cell_type": "code",
   "execution_count": 86,
   "metadata": {},
   "outputs": [
    {
     "data": {
      "text/plain": [
       "[('name', 'string'), ('tags', 'string'), ('merchant_abn', 'bigint')]"
      ]
     },
     "execution_count": 86,
     "metadata": {},
     "output_type": "execute_result"
    }
   ],
   "source": [
    "# The mechants data column types\n",
    "merchants.dtypes"
   ]
  },
  {
   "cell_type": "code",
   "execution_count": 87,
   "metadata": {},
   "outputs": [
    {
     "data": {
      "text/html": [
       "<table border='1'>\n",
       "<tr><th>user_id</th><th>consumer_id</th></tr>\n",
       "<tr><td>1</td><td>1195503</td></tr>\n",
       "<tr><td>2</td><td>179208</td></tr>\n",
       "<tr><td>3</td><td>1194530</td></tr>\n",
       "<tr><td>4</td><td>154128</td></tr>\n",
       "<tr><td>5</td><td>712975</td></tr>\n",
       "</table>\n"
      ],
      "text/plain": [
       "+-------+-----------+\n",
       "|user_id|consumer_id|\n",
       "+-------+-----------+\n",
       "|      1|    1195503|\n",
       "|      2|     179208|\n",
       "|      3|    1194530|\n",
       "|      4|     154128|\n",
       "|      5|     712975|\n",
       "+-------+-----------+"
      ]
     },
     "execution_count": 87,
     "metadata": {},
     "output_type": "execute_result"
    }
   ],
   "source": [
    "consumers.limit(5)"
   ]
  },
  {
   "cell_type": "code",
   "execution_count": 88,
   "metadata": {},
   "outputs": [
    {
     "data": {
      "text/html": [
       "<table border='1'>\n",
       "<tr><th>state</th><th>postcode</th><th>count</th></tr>\n",
       "<tr><td>VIC</td><td>3279</td><td>175</td></tr>\n",
       "<tr><td>SA</td><td>5261</td><td>154</td></tr>\n",
       "<tr><td>NSW</td><td>2334</td><td>181</td></tr>\n",
       "<tr><td>NSW</td><td>1440</td><td>150</td></tr>\n",
       "<tr><td>NSW</td><td>1430</td><td>149</td></tr>\n",
       "</table>\n"
      ],
      "text/plain": [
       "+-----+--------+-----+\n",
       "|state|postcode|count|\n",
       "+-----+--------+-----+\n",
       "|  VIC|    3279|  175|\n",
       "|   SA|    5261|  154|\n",
       "|  NSW|    2334|  181|\n",
       "|  NSW|    1440|  150|\n",
       "|  NSW|    1430|  149|\n",
       "+-----+--------+-----+"
      ]
     },
     "execution_count": 88,
     "metadata": {},
     "output_type": "execute_result"
    }
   ],
   "source": [
    "consumers_csv.groupBy('state','postcode').count().limit(5)"
   ]
  },
  {
   "cell_type": "code",
   "execution_count": 89,
   "metadata": {},
   "outputs": [
    {
     "data": {
      "text/html": [
       "<table border='1'>\n",
       "<tr><th>name</th><th>address</th><th>state</th><th>postcode</th><th>gender</th><th>consumer_id</th></tr>\n",
       "<tr><td>Yolanda Williams</td><td>413 Haney Gardens...</td><td>WA</td><td>6935</td><td>Female</td><td>1195503</td></tr>\n",
       "<tr><td>Mary Smith</td><td>3764 Amber Oval</td><td>NSW</td><td>2782</td><td>Female</td><td>179208</td></tr>\n",
       "<tr><td>Jill Jones MD</td><td>40693 Henry Greens</td><td>NT</td><td>862</td><td>Female</td><td>1194530</td></tr>\n",
       "<tr><td>Lindsay Jimenez</td><td>00653 Davenport C...</td><td>NSW</td><td>2780</td><td>Female</td><td>154128</td></tr>\n",
       "<tr><td>Rebecca Blanchard</td><td>9271 Michael Mano...</td><td>WA</td><td>6355</td><td>Female</td><td>712975</td></tr>\n",
       "</table>\n"
      ],
      "text/plain": [
       "+-----------------+--------------------+-----+--------+------+-----------+\n",
       "|             name|             address|state|postcode|gender|consumer_id|\n",
       "+-----------------+--------------------+-----+--------+------+-----------+\n",
       "| Yolanda Williams|413 Haney Gardens...|   WA|    6935|Female|    1195503|\n",
       "|       Mary Smith|     3764 Amber Oval|  NSW|    2782|Female|     179208|\n",
       "|    Jill Jones MD|  40693 Henry Greens|   NT|     862|Female|    1194530|\n",
       "|  Lindsay Jimenez|00653 Davenport C...|  NSW|    2780|Female|     154128|\n",
       "|Rebecca Blanchard|9271 Michael Mano...|   WA|    6355|Female|     712975|\n",
       "+-----------------+--------------------+-----+--------+------+-----------+"
      ]
     },
     "execution_count": 89,
     "metadata": {},
     "output_type": "execute_result"
    }
   ],
   "source": [
    "consumers_csv.limit(5)"
   ]
  },
  {
   "cell_type": "code",
   "execution_count": 90,
   "metadata": {},
   "outputs": [
    {
     "data": {
      "text/html": [
       "<table border='1'>\n",
       "<tr><th>user_id</th><th>merchant_abn</th><th>dollar_value</th><th>order_id</th><th>order_datetime</th></tr>\n",
       "<tr><td>18478</td><td>62191208634</td><td>63.255848959735246</td><td>949a63c8-29f7-4ab...</td><td>2021-08-20</td></tr>\n",
       "<tr><td>2</td><td>15549624934</td><td>130.3505283105634</td><td>6a84c3cf-612a-457...</td><td>2021-08-20</td></tr>\n",
       "<tr><td>18479</td><td>64403598239</td><td>120.15860593212783</td><td>b10dcc33-e53f-425...</td><td>2021-08-20</td></tr>\n",
       "<tr><td>3</td><td>60956456424</td><td>136.6785200286976</td><td>0f09c5a5-784e-447...</td><td>2021-08-20</td></tr>\n",
       "<tr><td>18479</td><td>94493496784</td><td>72.96316578355305</td><td>f6c78c1a-4600-4c5...</td><td>2021-08-20</td></tr>\n",
       "</table>\n"
      ],
      "text/plain": [
       "+-------+------------+------------------+--------------------+--------------+\n",
       "|user_id|merchant_abn|      dollar_value|            order_id|order_datetime|\n",
       "+-------+------------+------------------+--------------------+--------------+\n",
       "|  18478| 62191208634|63.255848959735246|949a63c8-29f7-4ab...|    2021-08-20|\n",
       "|      2| 15549624934| 130.3505283105634|6a84c3cf-612a-457...|    2021-08-20|\n",
       "|  18479| 64403598239|120.15860593212783|b10dcc33-e53f-425...|    2021-08-20|\n",
       "|      3| 60956456424| 136.6785200286976|0f09c5a5-784e-447...|    2021-08-20|\n",
       "|  18479| 94493496784| 72.96316578355305|f6c78c1a-4600-4c5...|    2021-08-20|\n",
       "+-------+------------+------------------+--------------------+--------------+"
      ]
     },
     "execution_count": 90,
     "metadata": {},
     "output_type": "execute_result"
    }
   ],
   "source": [
    "transactions.limit(5)"
   ]
  },
  {
   "cell_type": "code",
   "execution_count": 91,
   "metadata": {},
   "outputs": [
    {
     "name": "stdout",
     "output_type": "stream",
     "text": [
      "root\n",
      " |-- user_id: long (nullable = true)\n",
      " |-- merchant_abn: long (nullable = true)\n",
      " |-- dollar_value: double (nullable = true)\n",
      " |-- order_id: string (nullable = true)\n",
      " |-- order_datetime: date (nullable = true)\n",
      "\n"
     ]
    }
   ],
   "source": [
    "transactions.printSchema()"
   ]
  },
  {
   "cell_type": "code",
   "execution_count": 92,
   "metadata": {},
   "outputs": [
    {
     "name": "stdout",
     "output_type": "stream",
     "text": [
      "The transactions size is\n",
      "3643266 5\n",
      "The consumers size is\n",
      "499999 2\n"
     ]
    }
   ],
   "source": [
    "# get data sizes of transactions and consumers\n",
    "print(\"The transactions size is\")\n",
    "print(transactions.count(),len(transactions.columns))\n",
    "\n",
    "print(\"The consumers size is\")\n",
    "print(consumers.count(),len(consumers.columns))"
   ]
  },
  {
   "cell_type": "code",
   "execution_count": 93,
   "metadata": {},
   "outputs": [
    {
     "data": {
      "text/html": [
       "<table border='1'>\n",
       "<tr><th>user_id</th><th>merchant_abn</th><th>dollar_value</th><th>order_id</th><th>order_datetime</th><th>consumer_id</th></tr>\n",
       "<tr><td>18478</td><td>62191208634</td><td>63.255848959735246</td><td>949a63c8-29f7-4ab...</td><td>2021-08-20</td><td>651338</td></tr>\n",
       "<tr><td>2</td><td>15549624934</td><td>130.3505283105634</td><td>6a84c3cf-612a-457...</td><td>2021-08-20</td><td>179208</td></tr>\n",
       "<tr><td>18479</td><td>64403598239</td><td>120.15860593212783</td><td>b10dcc33-e53f-425...</td><td>2021-08-20</td><td>467663</td></tr>\n",
       "<tr><td>3</td><td>60956456424</td><td>136.6785200286976</td><td>0f09c5a5-784e-447...</td><td>2021-08-20</td><td>1194530</td></tr>\n",
       "<tr><td>18479</td><td>94493496784</td><td>72.96316578355305</td><td>f6c78c1a-4600-4c5...</td><td>2021-08-20</td><td>467663</td></tr>\n",
       "</table>\n"
      ],
      "text/plain": [
       "+-------+------------+------------------+--------------------+--------------+-----------+\n",
       "|user_id|merchant_abn|      dollar_value|            order_id|order_datetime|consumer_id|\n",
       "+-------+------------+------------------+--------------------+--------------+-----------+\n",
       "|  18478| 62191208634|63.255848959735246|949a63c8-29f7-4ab...|    2021-08-20|     651338|\n",
       "|      2| 15549624934| 130.3505283105634|6a84c3cf-612a-457...|    2021-08-20|     179208|\n",
       "|  18479| 64403598239|120.15860593212783|b10dcc33-e53f-425...|    2021-08-20|     467663|\n",
       "|      3| 60956456424| 136.6785200286976|0f09c5a5-784e-447...|    2021-08-20|    1194530|\n",
       "|  18479| 94493496784| 72.96316578355305|f6c78c1a-4600-4c5...|    2021-08-20|     467663|\n",
       "+-------+------------+------------------+--------------------+--------------+-----------+"
      ]
     },
     "execution_count": 93,
     "metadata": {},
     "output_type": "execute_result"
    }
   ],
   "source": [
    "## left outer join transaction data with consumers data by user_id.\n",
    "new_transaction = transactions.join(consumers, transactions.user_id == consumers.user_id, \"leftouter\").drop(consumers.user_id)\n",
    "new_transaction.limit(5)\n"
   ]
  },
  {
   "cell_type": "code",
   "execution_count": 94,
   "metadata": {},
   "outputs": [
    {
     "data": {
      "text/html": [
       "<table border='1'>\n",
       "<tr><th>user_id</th><th>merchant_abn</th><th>dollar_value</th><th>order_id</th><th>order_datetime</th><th>consumer_id</th><th>name</th><th>tags</th></tr>\n",
       "<tr><td>18478</td><td>62191208634</td><td>63.255848959735246</td><td>949a63c8-29f7-4ab...</td><td>2021-08-20</td><td>651338</td><td>Cursus Non Egesta...</td><td>[(furniture, home...</td></tr>\n",
       "<tr><td>2</td><td>15549624934</td><td>130.3505283105634</td><td>6a84c3cf-612a-457...</td><td>2021-08-20</td><td>179208</td><td>Commodo Associates</td><td>[(opticians, optI...</td></tr>\n",
       "<tr><td>18479</td><td>64403598239</td><td>120.15860593212783</td><td>b10dcc33-e53f-425...</td><td>2021-08-20</td><td>467663</td><td>Lobortis Ultrices...</td><td>((music shops - m...</td></tr>\n",
       "<tr><td>3</td><td>60956456424</td><td>136.6785200286976</td><td>0f09c5a5-784e-447...</td><td>2021-08-20</td><td>1194530</td><td>Ultricies Digniss...</td><td>([gift, card, Nov...</td></tr>\n",
       "<tr><td>18479</td><td>94493496784</td><td>72.96316578355305</td><td>f6c78c1a-4600-4c5...</td><td>2021-08-20</td><td>467663</td><td>Dictum Phasellus ...</td><td>[(gift, card, nov...</td></tr>\n",
       "</table>\n"
      ],
      "text/plain": [
       "+-------+------------+------------------+--------------------+--------------+-----------+--------------------+--------------------+\n",
       "|user_id|merchant_abn|      dollar_value|            order_id|order_datetime|consumer_id|                name|                tags|\n",
       "+-------+------------+------------------+--------------------+--------------+-----------+--------------------+--------------------+\n",
       "|  18478| 62191208634|63.255848959735246|949a63c8-29f7-4ab...|    2021-08-20|     651338|Cursus Non Egesta...|[(furniture, home...|\n",
       "|      2| 15549624934| 130.3505283105634|6a84c3cf-612a-457...|    2021-08-20|     179208|  Commodo Associates|[(opticians, optI...|\n",
       "|  18479| 64403598239|120.15860593212783|b10dcc33-e53f-425...|    2021-08-20|     467663|Lobortis Ultrices...|((music shops - m...|\n",
       "|      3| 60956456424| 136.6785200286976|0f09c5a5-784e-447...|    2021-08-20|    1194530|Ultricies Digniss...|([gift, card, Nov...|\n",
       "|  18479| 94493496784| 72.96316578355305|f6c78c1a-4600-4c5...|    2021-08-20|     467663|Dictum Phasellus ...|[(gift, card, nov...|\n",
       "+-------+------------+------------------+--------------------+--------------+-----------+--------------------+--------------------+"
      ]
     },
     "execution_count": 94,
     "metadata": {},
     "output_type": "execute_result"
    }
   ],
   "source": [
    "new_transaction = new_transaction.join(merchants, new_transaction.merchant_abn == merchants.merchant_abn, \"leftouter\").drop(merchants.merchant_abn)\n",
    "new_transaction.limit(5)"
   ]
  },
  {
   "cell_type": "code",
   "execution_count": 95,
   "metadata": {},
   "outputs": [
    {
     "data": {
      "text/html": [
       "<table border='1'>\n",
       "<tr><th>user_id</th><th>merchant_abn</th><th>dollar_value</th><th>order_id</th><th>order_datetime</th><th>consumer_id</th><th>name</th><th>tags</th><th>name</th><th>address</th><th>state</th><th>postcode</th><th>gender</th></tr>\n",
       "<tr><td>18480</td><td>77338620996</td><td>516.6146266349506</td><td>69b5003f-d2ad-496...</td><td>2021-08-26</td><td>1398491</td><td>Fames Ac Turpis LLC</td><td>[(computers, comp...</td><td>John Fischer</td><td>4770 Mayer Passag...</td><td>QLD</td><td>4887</td><td>Male</td></tr>\n",
       "<tr><td>18480</td><td>41663117354</td><td>57.271896789115075</td><td>c9740db1-9cbb-4a5...</td><td>2021-06-11</td><td>1398491</td><td>Litora Torquent I...</td><td>((watch, clock, a...</td><td>John Fischer</td><td>4770 Mayer Passag...</td><td>QLD</td><td>4887</td><td>Male</td></tr>\n",
       "<tr><td>18480</td><td>29362189014</td><td>34.872615881373385</td><td>77744155-905d-4e1...</td><td>2021-08-09</td><td>1398491</td><td>Vestibulum Limited</td><td>((digital goods: ...</td><td>John Fischer</td><td>4770 Mayer Passag...</td><td>QLD</td><td>4887</td><td>Male</td></tr>\n",
       "<tr><td>18480</td><td>66571984047</td><td>157.0</td><td>8004db92-a41b-4b3...</td><td>2021-06-22</td><td>1398491</td><td>Volutpat Company</td><td>((cable, satellit...</td><td>John Fischer</td><td>4770 Mayer Passag...</td><td>QLD</td><td>4887</td><td>Male</td></tr>\n",
       "<tr><td>18480</td><td>58377425534</td><td>718.2841062647379</td><td>c6304905-8527-493...</td><td>2021-06-22</td><td>1398491</td><td>At Corp.</td><td>((artist supply a...</td><td>John Fischer</td><td>4770 Mayer Passag...</td><td>QLD</td><td>4887</td><td>Male</td></tr>\n",
       "</table>\n"
      ],
      "text/plain": [
       "+-------+------------+------------------+--------------------+--------------+-----------+--------------------+--------------------+------------+--------------------+-----+--------+------+\n",
       "|user_id|merchant_abn|      dollar_value|            order_id|order_datetime|consumer_id|                name|                tags|        name|             address|state|postcode|gender|\n",
       "+-------+------------+------------------+--------------------+--------------+-----------+--------------------+--------------------+------------+--------------------+-----+--------+------+\n",
       "|  18480| 77338620996| 516.6146266349506|69b5003f-d2ad-496...|    2021-08-26|    1398491| Fames Ac Turpis LLC|[(computers, comp...|John Fischer|4770 Mayer Passag...|  QLD|    4887|  Male|\n",
       "|  18480| 41663117354|57.271896789115075|c9740db1-9cbb-4a5...|    2021-06-11|    1398491|Litora Torquent I...|((watch, clock, a...|John Fischer|4770 Mayer Passag...|  QLD|    4887|  Male|\n",
       "|  18480| 29362189014|34.872615881373385|77744155-905d-4e1...|    2021-08-09|    1398491|  Vestibulum Limited|((digital goods: ...|John Fischer|4770 Mayer Passag...|  QLD|    4887|  Male|\n",
       "|  18480| 66571984047|             157.0|8004db92-a41b-4b3...|    2021-06-22|    1398491|    Volutpat Company|((cable, satellit...|John Fischer|4770 Mayer Passag...|  QLD|    4887|  Male|\n",
       "|  18480| 58377425534| 718.2841062647379|c6304905-8527-493...|    2021-06-22|    1398491|            At Corp.|((artist supply a...|John Fischer|4770 Mayer Passag...|  QLD|    4887|  Male|\n",
       "+-------+------------+------------------+--------------------+--------------+-----------+--------------------+--------------------+------------+--------------------+-----+--------+------+"
      ]
     },
     "execution_count": 95,
     "metadata": {},
     "output_type": "execute_result"
    }
   ],
   "source": [
    "new_transaction = new_transaction.join(consumers_csv, new_transaction.consumer_id == consumers_csv.consumer_id, \"leftouter\").drop(consumers_csv.consumer_id)\n",
    "new_transaction.limit(5)"
   ]
  },
  {
   "cell_type": "code",
   "execution_count": 96,
   "metadata": {},
   "outputs": [
    {
     "name": "stdout",
     "output_type": "stream",
     "text": [
      "root\n",
      " |-- user_id: long (nullable = true)\n",
      " |-- merchant_abn: long (nullable = true)\n",
      " |-- dollar_value: double (nullable = true)\n",
      " |-- order_id: string (nullable = true)\n",
      " |-- order_datetime: date (nullable = true)\n",
      " |-- consumer_id: long (nullable = true)\n",
      " |-- name: string (nullable = true)\n",
      " |-- tags: string (nullable = true)\n",
      " |-- name: string (nullable = true)\n",
      " |-- address: string (nullable = true)\n",
      " |-- state: string (nullable = true)\n",
      " |-- postcode: integer (nullable = true)\n",
      " |-- gender: string (nullable = true)\n",
      "\n"
     ]
    }
   ],
   "source": [
    "new_transaction.printSchema()"
   ]
  },
  {
   "cell_type": "code",
   "execution_count": 109,
   "metadata": {},
   "outputs": [],
   "source": [
    "## try read curated data\n",
    "curated_csv = spark.read.options(header = True).csv('../data/curated/full_data.csv')\n",
    "curated_parquet = spark.read.parquet('../data/curated/full_data.parquet')"
   ]
  },
  {
   "cell_type": "code",
   "execution_count": 110,
   "metadata": {},
   "outputs": [
    {
     "data": {
      "text/html": [
       "<table border='1'>\n",
       "<tr><th>user_id</th><th>merchant_abn</th><th>dollar_value</th><th>order_id</th><th>order_datetime</th><th>consumer_id</th><th>merchant_name</th><th>tags</th><th>user_name</th><th>address</th><th>state</th><th>postcode</th><th>gender</th></tr>\n",
       "<tr><td>5663</td><td>68559320474</td><td>127.87619236848515</td><td>92d204da-b3e0-4fe...</td><td>2021-08-21</td><td>739</td><td>Aliquam Auctor As...</td><td>([antique shops -...</td><td>Cory Hancock</td><td>9246 Valerie Lock</td><td>NT</td><td>880</td><td>Male</td></tr>\n",
       "<tr><td>5663</td><td>76819856970</td><td>26.588897411877806</td><td>c4d1da2b-70e9-453...</td><td>2021-04-15</td><td>739</td><td>Egestas Blandit Ltd</td><td>((tent and awning...</td><td>Cory Hancock</td><td>9246 Valerie Lock</td><td>NT</td><td>880</td><td>Male</td></tr>\n",
       "<tr><td>5663</td><td>66571984047</td><td>157.0</td><td>560e2457-6945-48b...</td><td>2021-08-19</td><td>739</td><td>Volutpat Company</td><td>((cable, satellit...</td><td>Cory Hancock</td><td>9246 Valerie Lock</td><td>NT</td><td>880</td><td>Male</td></tr>\n",
       "<tr><td>5663</td><td>16256895427</td><td>49.18863399914058</td><td>d5679cae-7b2d-4a9...</td><td>2021-04-15</td><td>739</td><td>Tempus Non Founda...</td><td>[(lawn and garden...</td><td>Cory Hancock</td><td>9246 Valerie Lock</td><td>NT</td><td>880</td><td>Male</td></tr>\n",
       "<tr><td>5663</td><td>48534842833</td><td>125.6566406864822</td><td>56577231-956c-403...</td><td>2021-08-22</td><td>739</td><td>Dictum Eu Inc.</td><td>((gift, card, nov...</td><td>Cory Hancock</td><td>9246 Valerie Lock</td><td>NT</td><td>880</td><td>Male</td></tr>\n",
       "</table>\n"
      ],
      "text/plain": [
       "+-------+------------+------------------+--------------------+--------------+-----------+--------------------+--------------------+------------+-----------------+-----+--------+------+\n",
       "|user_id|merchant_abn|      dollar_value|            order_id|order_datetime|consumer_id|       merchant_name|                tags|   user_name|          address|state|postcode|gender|\n",
       "+-------+------------+------------------+--------------------+--------------+-----------+--------------------+--------------------+------------+-----------------+-----+--------+------+\n",
       "|   5663| 68559320474|127.87619236848515|92d204da-b3e0-4fe...|    2021-08-21|        739|Aliquam Auctor As...|([antique shops -...|Cory Hancock|9246 Valerie Lock|   NT|     880|  Male|\n",
       "|   5663| 76819856970|26.588897411877806|c4d1da2b-70e9-453...|    2021-04-15|        739| Egestas Blandit Ltd|((tent and awning...|Cory Hancock|9246 Valerie Lock|   NT|     880|  Male|\n",
       "|   5663| 66571984047|             157.0|560e2457-6945-48b...|    2021-08-19|        739|    Volutpat Company|((cable, satellit...|Cory Hancock|9246 Valerie Lock|   NT|     880|  Male|\n",
       "|   5663| 16256895427| 49.18863399914058|d5679cae-7b2d-4a9...|    2021-04-15|        739|Tempus Non Founda...|[(lawn and garden...|Cory Hancock|9246 Valerie Lock|   NT|     880|  Male|\n",
       "|   5663| 48534842833| 125.6566406864822|56577231-956c-403...|    2021-08-22|        739|      Dictum Eu Inc.|((gift, card, nov...|Cory Hancock|9246 Valerie Lock|   NT|     880|  Male|\n",
       "+-------+------------+------------------+--------------------+--------------+-----------+--------------------+--------------------+------------+-----------------+-----+--------+------+"
      ]
     },
     "execution_count": 110,
     "metadata": {},
     "output_type": "execute_result"
    }
   ],
   "source": [
    "curated_csv.limit(5)"
   ]
  },
  {
   "cell_type": "code",
   "execution_count": 111,
   "metadata": {},
   "outputs": [
    {
     "data": {
      "text/html": [
       "<table border='1'>\n",
       "<tr><th>user_id</th><th>merchant_abn</th><th>dollar_value</th><th>order_id</th><th>order_datetime</th><th>consumer_id</th><th>merchant_name</th><th>tags</th><th>user_name</th><th>address</th><th>state</th><th>postcode</th><th>gender</th></tr>\n",
       "<tr><td>5663</td><td>68559320474</td><td>127.87619236848515</td><td>92d204da-b3e0-4fe...</td><td>2021-08-21</td><td>739</td><td>Aliquam Auctor As...</td><td>([antique shops -...</td><td>Cory Hancock</td><td>9246 Valerie Lock</td><td>NT</td><td>880</td><td>Male</td></tr>\n",
       "<tr><td>5663</td><td>66571984047</td><td>157.0</td><td>560e2457-6945-48b...</td><td>2021-08-19</td><td>739</td><td>Volutpat Company</td><td>((cable, satellit...</td><td>Cory Hancock</td><td>9246 Valerie Lock</td><td>NT</td><td>880</td><td>Male</td></tr>\n",
       "<tr><td>5663</td><td>48534842833</td><td>125.6566406864822</td><td>56577231-956c-403...</td><td>2021-08-22</td><td>739</td><td>Dictum Eu Inc.</td><td>((gift, card, nov...</td><td>Cory Hancock</td><td>9246 Valerie Lock</td><td>NT</td><td>880</td><td>Male</td></tr>\n",
       "<tr><td>5663</td><td>72434058183</td><td>70.76516555623456</td><td>e238aac2-4d9a-499...</td><td>2021-08-14</td><td>739</td><td>Ipsum Primis Corp...</td><td>[[bOoks, periodic...</td><td>Cory Hancock</td><td>9246 Valerie Lock</td><td>NT</td><td>880</td><td>Male</td></tr>\n",
       "<tr><td>5663</td><td>37304535258</td><td>584.1910006855837</td><td>d3325232-457e-410...</td><td>2021-08-15</td><td>739</td><td>Tempus Non Institute</td><td>((shoe shops), (b...</td><td>Cory Hancock</td><td>9246 Valerie Lock</td><td>NT</td><td>880</td><td>Male</td></tr>\n",
       "</table>\n"
      ],
      "text/plain": [
       "+-------+------------+------------------+--------------------+--------------+-----------+--------------------+--------------------+------------+-----------------+-----+--------+------+\n",
       "|user_id|merchant_abn|      dollar_value|            order_id|order_datetime|consumer_id|       merchant_name|                tags|   user_name|          address|state|postcode|gender|\n",
       "+-------+------------+------------------+--------------------+--------------+-----------+--------------------+--------------------+------------+-----------------+-----+--------+------+\n",
       "|   5663| 68559320474|127.87619236848515|92d204da-b3e0-4fe...|    2021-08-21|        739|Aliquam Auctor As...|([antique shops -...|Cory Hancock|9246 Valerie Lock|   NT|     880|  Male|\n",
       "|   5663| 66571984047|             157.0|560e2457-6945-48b...|    2021-08-19|        739|    Volutpat Company|((cable, satellit...|Cory Hancock|9246 Valerie Lock|   NT|     880|  Male|\n",
       "|   5663| 48534842833| 125.6566406864822|56577231-956c-403...|    2021-08-22|        739|      Dictum Eu Inc.|((gift, card, nov...|Cory Hancock|9246 Valerie Lock|   NT|     880|  Male|\n",
       "|   5663| 72434058183| 70.76516555623456|e238aac2-4d9a-499...|    2021-08-14|        739|Ipsum Primis Corp...|[[bOoks, periodic...|Cory Hancock|9246 Valerie Lock|   NT|     880|  Male|\n",
       "|   5663| 37304535258| 584.1910006855837|d3325232-457e-410...|    2021-08-15|        739|Tempus Non Institute|((shoe shops), (b...|Cory Hancock|9246 Valerie Lock|   NT|     880|  Male|\n",
       "+-------+------------+------------------+--------------------+--------------+-----------+--------------------+--------------------+------------+-----------------+-----+--------+------+"
      ]
     },
     "execution_count": 111,
     "metadata": {},
     "output_type": "execute_result"
    }
   ],
   "source": [
    "curated_parquet.limit(5)"
   ]
  },
  {
   "cell_type": "code",
   "execution_count": 112,
   "metadata": {},
   "outputs": [
    {
     "data": {
      "text/plain": [
       "True"
      ]
     },
     "execution_count": 112,
     "metadata": {},
     "output_type": "execute_result"
    }
   ],
   "source": [
    "curated_csv.count() == curated_parquet.count()"
   ]
  },
  {
   "cell_type": "code",
   "execution_count": 113,
   "metadata": {},
   "outputs": [
    {
     "data": {
      "text/plain": [
       "3643266"
      ]
     },
     "execution_count": 113,
     "metadata": {},
     "output_type": "execute_result"
    }
   ],
   "source": [
    "curated_csv.count()"
   ]
  }
 ],
 "metadata": {
  "kernelspec": {
   "display_name": "Python 3.10.4 64-bit",
   "language": "python",
   "name": "python3"
  },
  "language_info": {
   "codemirror_mode": {
    "name": "ipython",
    "version": 3
   },
   "file_extension": ".py",
   "mimetype": "text/x-python",
   "name": "python",
   "nbconvert_exporter": "python",
   "pygments_lexer": "ipython3",
   "version": "3.10.4"
  },
  "orig_nbformat": 4,
  "vscode": {
   "interpreter": {
    "hash": "916dbcbb3f70747c44a77c7bcd40155683ae19c65e1c03b4aa3499c5328201f1"
   }
  }
 },
 "nbformat": 4,
 "nbformat_minor": 2
}
