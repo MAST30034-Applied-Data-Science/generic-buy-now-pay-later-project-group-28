{
 "cells": [
  {
   "cell_type": "markdown",
   "metadata": {},
   "source": [
    "### Pyspark initialization"
   ]
  },
  {
   "cell_type": "code",
   "execution_count": 2,
   "metadata": {},
   "outputs": [
    {
     "name": "stderr",
     "output_type": "stream",
     "text": [
      "22/09/07 11:30:14 WARN Utils: Your hostname, Rudyletsgo resolves to a loopback address: 127.0.1.1; using 172.17.87.180 instead (on interface eth0)\n",
      "22/09/07 11:30:14 WARN Utils: Set SPARK_LOCAL_IP if you need to bind to another address\n",
      "WARNING: An illegal reflective access operation has occurred\n",
      "WARNING: Illegal reflective access by org.apache.spark.unsafe.Platform (file:/home/jiaruiq/miniconda3/envs/ads/lib/python3.8/site-packages/pyspark/jars/spark-unsafe_2.12-3.1.2.jar) to constructor java.nio.DirectByteBuffer(long,int)\n",
      "WARNING: Please consider reporting this to the maintainers of org.apache.spark.unsafe.Platform\n",
      "WARNING: Use --illegal-access=warn to enable warnings of further illegal reflective access operations\n",
      "WARNING: All illegal access operations will be denied in a future release\n",
      "22/09/07 11:30:15 WARN NativeCodeLoader: Unable to load native-hadoop library for your platform... using builtin-java classes where applicable\n",
      "Using Spark's default log4j profile: org/apache/spark/log4j-defaults.properties\n",
      "Setting default log level to \"WARN\".\n",
      "To adjust logging level use sc.setLogLevel(newLevel). For SparkR, use setLogLevel(newLevel).\n",
      "22/09/07 11:30:17 WARN Utils: Service 'SparkUI' could not bind on port 4040. Attempting port 4041.\n"
     ]
    }
   ],
   "source": [
    "#import spark\n",
    "from pyspark.sql import SparkSession\n",
    "# Create a spark session (which will run spark jobs)\n",
    "spark = (\n",
    "    SparkSession.builder.appName(\"MAST30034 ass2 BNPL group 28\")\n",
    "    .config(\"spark.sql.repl.eagerEval.enabled\", True) \n",
    "    .config(\"spark.sql.parquet.cacheMetadata\", \"true\")\n",
    "    .config(\"spark.sql.session.timeZone\", \"Etc/UTC\")\n",
    "    .getOrCreate()\n",
    ")"
   ]
  },
  {
   "cell_type": "markdown",
   "metadata": {},
   "source": [
    "### Read data"
   ]
  },
  {
   "cell_type": "code",
   "execution_count": 3,
   "metadata": {},
   "outputs": [],
   "source": [
    "# Read the merchants and consumer parquet data\n",
    "merchants = spark.read.parquet('../data/tables/tbl_merchants.parquet')\n",
    "consumers = spark.read.parquet('../data/tables/consumer_user_details.parquet')\n",
    "transactions = spark.read.parquet('../data/tables/transactions_20210228_20210827_snapshot')\n",
    "consumers_csv = spark.read.options(header='True', inferSchema='True', delimiter='|').csv('../data/tables/tbl_consumer.csv')\n"
   ]
  },
  {
   "cell_type": "markdown",
   "metadata": {},
   "source": [
    "### General understanding of each dataset"
   ]
  },
  {
   "cell_type": "code",
   "execution_count": 4,
   "metadata": {},
   "outputs": [
    {
     "name": "stdout",
     "output_type": "stream",
     "text": [
      "4026 3\n"
     ]
    }
   ],
   "source": [
    "# The merchants data size\n",
    "print(merchants.count(),len(merchants.columns))"
   ]
  },
  {
   "cell_type": "code",
   "execution_count": 5,
   "metadata": {},
   "outputs": [
    {
     "data": {
      "text/html": [
       "<table border='1'>\n",
       "<tr><th>name</th><th>tags</th><th>merchant_abn</th></tr>\n",
       "<tr><td>Felis Limited</td><td>((furniture, home...</td><td>10023283211</td></tr>\n",
       "<tr><td>Arcu Ac Orci Corp...</td><td>([cable, satellit...</td><td>10142254217</td></tr>\n",
       "<tr><td>Nunc Sed Company</td><td>([jewelry, watch,...</td><td>10165489824</td></tr>\n",
       "<tr><td>Ultricies Digniss...</td><td>([wAtch, clock, a...</td><td>10187291046</td></tr>\n",
       "<tr><td>Enim Condimentum PC</td><td>([music shops - m...</td><td>10192359162</td></tr>\n",
       "</table>\n"
      ],
      "text/plain": [
       "+--------------------+--------------------+------------+\n",
       "|                name|                tags|merchant_abn|\n",
       "+--------------------+--------------------+------------+\n",
       "|       Felis Limited|((furniture, home...| 10023283211|\n",
       "|Arcu Ac Orci Corp...|([cable, satellit...| 10142254217|\n",
       "|    Nunc Sed Company|([jewelry, watch,...| 10165489824|\n",
       "|Ultricies Digniss...|([wAtch, clock, a...| 10187291046|\n",
       "| Enim Condimentum PC|([music shops - m...| 10192359162|\n",
       "+--------------------+--------------------+------------+"
      ]
     },
     "execution_count": 5,
     "metadata": {},
     "output_type": "execute_result"
    }
   ],
   "source": [
    "merchants.limit(5)"
   ]
  },
  {
   "cell_type": "code",
   "execution_count": 6,
   "metadata": {},
   "outputs": [
    {
     "data": {
      "text/plain": [
       "[('name', 'string'), ('tags', 'string'), ('merchant_abn', 'bigint')]"
      ]
     },
     "execution_count": 6,
     "metadata": {},
     "output_type": "execute_result"
    }
   ],
   "source": [
    "# The mechants data column types\n",
    "merchants.dtypes"
   ]
  },
  {
   "cell_type": "code",
   "execution_count": 7,
   "metadata": {},
   "outputs": [
    {
     "data": {
      "text/html": [
       "<table border='1'>\n",
       "<tr><th>user_id</th><th>consumer_id</th></tr>\n",
       "<tr><td>1</td><td>1195503</td></tr>\n",
       "<tr><td>2</td><td>179208</td></tr>\n",
       "<tr><td>3</td><td>1194530</td></tr>\n",
       "<tr><td>4</td><td>154128</td></tr>\n",
       "<tr><td>5</td><td>712975</td></tr>\n",
       "</table>\n"
      ],
      "text/plain": [
       "+-------+-----------+\n",
       "|user_id|consumer_id|\n",
       "+-------+-----------+\n",
       "|      1|    1195503|\n",
       "|      2|     179208|\n",
       "|      3|    1194530|\n",
       "|      4|     154128|\n",
       "|      5|     712975|\n",
       "+-------+-----------+"
      ]
     },
     "execution_count": 7,
     "metadata": {},
     "output_type": "execute_result"
    }
   ],
   "source": [
    "consumers.limit(5)"
   ]
  },
  {
   "cell_type": "code",
   "execution_count": 8,
   "metadata": {},
   "outputs": [
    {
     "name": "stderr",
     "output_type": "stream",
     "text": [
      "                                                                                \r"
     ]
    },
    {
     "data": {
      "text/html": [
       "<table border='1'>\n",
       "<tr><th>state</th><th>postcode</th><th>count</th></tr>\n",
       "<tr><td>VIC</td><td>3279</td><td>175</td></tr>\n",
       "<tr><td>SA</td><td>5261</td><td>154</td></tr>\n",
       "<tr><td>NSW</td><td>2334</td><td>181</td></tr>\n",
       "<tr><td>NSW</td><td>1440</td><td>150</td></tr>\n",
       "<tr><td>NSW</td><td>1430</td><td>149</td></tr>\n",
       "</table>\n"
      ],
      "text/plain": [
       "+-----+--------+-----+\n",
       "|state|postcode|count|\n",
       "+-----+--------+-----+\n",
       "|  VIC|    3279|  175|\n",
       "|   SA|    5261|  154|\n",
       "|  NSW|    2334|  181|\n",
       "|  NSW|    1440|  150|\n",
       "|  NSW|    1430|  149|\n",
       "+-----+--------+-----+"
      ]
     },
     "execution_count": 8,
     "metadata": {},
     "output_type": "execute_result"
    }
   ],
   "source": [
    "consumers_csv.groupBy('state','postcode').count().limit(5)"
   ]
  },
  {
   "cell_type": "code",
   "execution_count": 9,
   "metadata": {},
   "outputs": [
    {
     "data": {
      "text/html": [
       "<table border='1'>\n",
       "<tr><th>name</th><th>address</th><th>state</th><th>postcode</th><th>gender</th><th>consumer_id</th></tr>\n",
       "<tr><td>Yolanda Williams</td><td>413 Haney Gardens...</td><td>WA</td><td>6935</td><td>Female</td><td>1195503</td></tr>\n",
       "<tr><td>Mary Smith</td><td>3764 Amber Oval</td><td>NSW</td><td>2782</td><td>Female</td><td>179208</td></tr>\n",
       "<tr><td>Jill Jones MD</td><td>40693 Henry Greens</td><td>NT</td><td>862</td><td>Female</td><td>1194530</td></tr>\n",
       "<tr><td>Lindsay Jimenez</td><td>00653 Davenport C...</td><td>NSW</td><td>2780</td><td>Female</td><td>154128</td></tr>\n",
       "<tr><td>Rebecca Blanchard</td><td>9271 Michael Mano...</td><td>WA</td><td>6355</td><td>Female</td><td>712975</td></tr>\n",
       "</table>\n"
      ],
      "text/plain": [
       "+-----------------+--------------------+-----+--------+------+-----------+\n",
       "|             name|             address|state|postcode|gender|consumer_id|\n",
       "+-----------------+--------------------+-----+--------+------+-----------+\n",
       "| Yolanda Williams|413 Haney Gardens...|   WA|    6935|Female|    1195503|\n",
       "|       Mary Smith|     3764 Amber Oval|  NSW|    2782|Female|     179208|\n",
       "|    Jill Jones MD|  40693 Henry Greens|   NT|     862|Female|    1194530|\n",
       "|  Lindsay Jimenez|00653 Davenport C...|  NSW|    2780|Female|     154128|\n",
       "|Rebecca Blanchard|9271 Michael Mano...|   WA|    6355|Female|     712975|\n",
       "+-----------------+--------------------+-----+--------+------+-----------+"
      ]
     },
     "execution_count": 9,
     "metadata": {},
     "output_type": "execute_result"
    }
   ],
   "source": [
    "consumers_csv.limit(5)"
   ]
  },
  {
   "cell_type": "code",
   "execution_count": 10,
   "metadata": {},
   "outputs": [
    {
     "data": {
      "text/html": [
       "<table border='1'>\n",
       "<tr><th>user_id</th><th>merchant_abn</th><th>dollar_value</th><th>order_id</th><th>order_datetime</th></tr>\n",
       "<tr><td>18478</td><td>62191208634</td><td>63.255848959735246</td><td>949a63c8-29f7-4ab...</td><td>2021-08-20</td></tr>\n",
       "<tr><td>2</td><td>15549624934</td><td>130.3505283105634</td><td>6a84c3cf-612a-457...</td><td>2021-08-20</td></tr>\n",
       "<tr><td>18479</td><td>64403598239</td><td>120.15860593212783</td><td>b10dcc33-e53f-425...</td><td>2021-08-20</td></tr>\n",
       "<tr><td>3</td><td>60956456424</td><td>136.6785200286976</td><td>0f09c5a5-784e-447...</td><td>2021-08-20</td></tr>\n",
       "<tr><td>18479</td><td>94493496784</td><td>72.96316578355305</td><td>f6c78c1a-4600-4c5...</td><td>2021-08-20</td></tr>\n",
       "</table>\n"
      ],
      "text/plain": [
       "+-------+------------+------------------+--------------------+--------------+\n",
       "|user_id|merchant_abn|      dollar_value|            order_id|order_datetime|\n",
       "+-------+------------+------------------+--------------------+--------------+\n",
       "|  18478| 62191208634|63.255848959735246|949a63c8-29f7-4ab...|    2021-08-20|\n",
       "|      2| 15549624934| 130.3505283105634|6a84c3cf-612a-457...|    2021-08-20|\n",
       "|  18479| 64403598239|120.15860593212783|b10dcc33-e53f-425...|    2021-08-20|\n",
       "|      3| 60956456424| 136.6785200286976|0f09c5a5-784e-447...|    2021-08-20|\n",
       "|  18479| 94493496784| 72.96316578355305|f6c78c1a-4600-4c5...|    2021-08-20|\n",
       "+-------+------------+------------------+--------------------+--------------+"
      ]
     },
     "execution_count": 10,
     "metadata": {},
     "output_type": "execute_result"
    }
   ],
   "source": [
    "transactions.limit(5)"
   ]
  },
  {
   "cell_type": "code",
   "execution_count": 11,
   "metadata": {},
   "outputs": [
    {
     "name": "stdout",
     "output_type": "stream",
     "text": [
      "root\n",
      " |-- user_id: long (nullable = true)\n",
      " |-- merchant_abn: long (nullable = true)\n",
      " |-- dollar_value: double (nullable = true)\n",
      " |-- order_id: string (nullable = true)\n",
      " |-- order_datetime: date (nullable = true)\n",
      "\n"
     ]
    }
   ],
   "source": [
    "transactions.printSchema()"
   ]
  },
  {
   "cell_type": "code",
   "execution_count": 12,
   "metadata": {},
   "outputs": [
    {
     "name": "stdout",
     "output_type": "stream",
     "text": [
      "The transactions size is\n",
      "3643266 5\n",
      "The consumers size is\n",
      "499999 2\n"
     ]
    }
   ],
   "source": [
    "# get data sizes of transactions and consumers\n",
    "print(\"The transactions size is\")\n",
    "print(transactions.count(),len(transactions.columns))\n",
    "\n",
    "print(\"The consumers size is\")\n",
    "print(consumers.count(),len(consumers.columns))"
   ]
  },
  {
   "cell_type": "markdown",
   "metadata": {},
   "source": [
    "### Join all datasets together"
   ]
  },
  {
   "cell_type": "code",
   "execution_count": 13,
   "metadata": {},
   "outputs": [
    {
     "data": {
      "text/html": [
       "<table border='1'>\n",
       "<tr><th>user_id</th><th>merchant_abn</th><th>dollar_value</th><th>order_id</th><th>order_datetime</th><th>consumer_id</th></tr>\n",
       "<tr><td>18478</td><td>62191208634</td><td>63.255848959735246</td><td>949a63c8-29f7-4ab...</td><td>2021-08-20</td><td>651338</td></tr>\n",
       "<tr><td>2</td><td>15549624934</td><td>130.3505283105634</td><td>6a84c3cf-612a-457...</td><td>2021-08-20</td><td>179208</td></tr>\n",
       "<tr><td>18479</td><td>64403598239</td><td>120.15860593212783</td><td>b10dcc33-e53f-425...</td><td>2021-08-20</td><td>467663</td></tr>\n",
       "<tr><td>3</td><td>60956456424</td><td>136.6785200286976</td><td>0f09c5a5-784e-447...</td><td>2021-08-20</td><td>1194530</td></tr>\n",
       "<tr><td>18479</td><td>94493496784</td><td>72.96316578355305</td><td>f6c78c1a-4600-4c5...</td><td>2021-08-20</td><td>467663</td></tr>\n",
       "</table>\n"
      ],
      "text/plain": [
       "+-------+------------+------------------+--------------------+--------------+-----------+\n",
       "|user_id|merchant_abn|      dollar_value|            order_id|order_datetime|consumer_id|\n",
       "+-------+------------+------------------+--------------------+--------------+-----------+\n",
       "|  18478| 62191208634|63.255848959735246|949a63c8-29f7-4ab...|    2021-08-20|     651338|\n",
       "|      2| 15549624934| 130.3505283105634|6a84c3cf-612a-457...|    2021-08-20|     179208|\n",
       "|  18479| 64403598239|120.15860593212783|b10dcc33-e53f-425...|    2021-08-20|     467663|\n",
       "|      3| 60956456424| 136.6785200286976|0f09c5a5-784e-447...|    2021-08-20|    1194530|\n",
       "|  18479| 94493496784| 72.96316578355305|f6c78c1a-4600-4c5...|    2021-08-20|     467663|\n",
       "+-------+------------+------------------+--------------------+--------------+-----------+"
      ]
     },
     "execution_count": 13,
     "metadata": {},
     "output_type": "execute_result"
    }
   ],
   "source": [
    "## left outer join transaction data with consumers data by user_id.\n",
    "new_transaction = transactions.join(consumers, transactions.user_id == consumers.user_id, \"leftouter\").drop(consumers.user_id)\n",
    "new_transaction.limit(5)\n"
   ]
  },
  {
   "cell_type": "code",
   "execution_count": 14,
   "metadata": {},
   "outputs": [
    {
     "data": {
      "text/html": [
       "<table border='1'>\n",
       "<tr><th>user_id</th><th>merchant_abn</th><th>dollar_value</th><th>order_id</th><th>order_datetime</th><th>consumer_id</th><th>name</th><th>tags</th></tr>\n",
       "<tr><td>18478</td><td>62191208634</td><td>63.255848959735246</td><td>949a63c8-29f7-4ab...</td><td>2021-08-20</td><td>651338</td><td>Cursus Non Egesta...</td><td>[(furniture, home...</td></tr>\n",
       "<tr><td>2</td><td>15549624934</td><td>130.3505283105634</td><td>6a84c3cf-612a-457...</td><td>2021-08-20</td><td>179208</td><td>Commodo Associates</td><td>[(opticians, optI...</td></tr>\n",
       "<tr><td>18479</td><td>64403598239</td><td>120.15860593212783</td><td>b10dcc33-e53f-425...</td><td>2021-08-20</td><td>467663</td><td>Lobortis Ultrices...</td><td>((music shops - m...</td></tr>\n",
       "<tr><td>3</td><td>60956456424</td><td>136.6785200286976</td><td>0f09c5a5-784e-447...</td><td>2021-08-20</td><td>1194530</td><td>Ultricies Digniss...</td><td>([gift, card, Nov...</td></tr>\n",
       "<tr><td>18479</td><td>94493496784</td><td>72.96316578355305</td><td>f6c78c1a-4600-4c5...</td><td>2021-08-20</td><td>467663</td><td>Dictum Phasellus ...</td><td>[(gift, card, nov...</td></tr>\n",
       "</table>\n"
      ],
      "text/plain": [
       "+-------+------------+------------------+--------------------+--------------+-----------+--------------------+--------------------+\n",
       "|user_id|merchant_abn|      dollar_value|            order_id|order_datetime|consumer_id|                name|                tags|\n",
       "+-------+------------+------------------+--------------------+--------------+-----------+--------------------+--------------------+\n",
       "|  18478| 62191208634|63.255848959735246|949a63c8-29f7-4ab...|    2021-08-20|     651338|Cursus Non Egesta...|[(furniture, home...|\n",
       "|      2| 15549624934| 130.3505283105634|6a84c3cf-612a-457...|    2021-08-20|     179208|  Commodo Associates|[(opticians, optI...|\n",
       "|  18479| 64403598239|120.15860593212783|b10dcc33-e53f-425...|    2021-08-20|     467663|Lobortis Ultrices...|((music shops - m...|\n",
       "|      3| 60956456424| 136.6785200286976|0f09c5a5-784e-447...|    2021-08-20|    1194530|Ultricies Digniss...|([gift, card, Nov...|\n",
       "|  18479| 94493496784| 72.96316578355305|f6c78c1a-4600-4c5...|    2021-08-20|     467663|Dictum Phasellus ...|[(gift, card, nov...|\n",
       "+-------+------------+------------------+--------------------+--------------+-----------+--------------------+--------------------+"
      ]
     },
     "execution_count": 14,
     "metadata": {},
     "output_type": "execute_result"
    }
   ],
   "source": [
    "new_transaction = new_transaction.join(merchants, new_transaction.merchant_abn == merchants.merchant_abn, \"leftouter\").drop(merchants.merchant_abn)\n",
    "new_transaction.limit(5)"
   ]
  },
  {
   "cell_type": "code",
   "execution_count": 15,
   "metadata": {},
   "outputs": [
    {
     "name": "stderr",
     "output_type": "stream",
     "text": [
      "                                                                                \r"
     ]
    },
    {
     "data": {
      "text/html": [
       "<table border='1'>\n",
       "<tr><th>user_id</th><th>merchant_abn</th><th>dollar_value</th><th>order_id</th><th>order_datetime</th><th>consumer_id</th><th>name</th><th>tags</th><th>name</th><th>address</th><th>state</th><th>postcode</th><th>gender</th></tr>\n",
       "<tr><td>5630</td><td>60956456424</td><td>145.26081329000152</td><td>1e14adeb-8e13-44f...</td><td>2021-08-21</td><td>28242</td><td>Ultricies Digniss...</td><td>([gift, card, Nov...</td><td>Philip Crawford</td><td>7487 Serrano Gard...</td><td>NT</td><td>841</td><td>Undisclosed</td></tr>\n",
       "<tr><td>5630</td><td>48534649627</td><td>120.25889985200416</td><td>08476339-f383-4ab...</td><td>2021-08-15</td><td>28242</td><td>Dignissim Maecena...</td><td>[[opticians, oPti...</td><td>Philip Crawford</td><td>7487 Serrano Gard...</td><td>NT</td><td>841</td><td>Undisclosed</td></tr>\n",
       "<tr><td>5630</td><td>60956456424</td><td>135.5412540082104</td><td>aacfd47a-438b-47f...</td><td>2021-08-15</td><td>28242</td><td>Ultricies Digniss...</td><td>([gift, card, Nov...</td><td>Philip Crawford</td><td>7487 Serrano Gard...</td><td>NT</td><td>841</td><td>Undisclosed</td></tr>\n",
       "<tr><td>5630</td><td>89932674734</td><td>95.37693966478514</td><td>6d5790c9-0eef-453...</td><td>2021-08-16</td><td>28242</td><td>Nulla Vulputate C...</td><td>((aRtist supply a...</td><td>Philip Crawford</td><td>7487 Serrano Gard...</td><td>NT</td><td>841</td><td>Undisclosed</td></tr>\n",
       "<tr><td>5630</td><td>14089706307</td><td>440.12097711482835</td><td>43d1361a-1101-41a...</td><td>2021-08-16</td><td>28242</td><td>Donec Institute</td><td>[(computer progra...</td><td>Philip Crawford</td><td>7487 Serrano Gard...</td><td>NT</td><td>841</td><td>Undisclosed</td></tr>\n",
       "</table>\n"
      ],
      "text/plain": [
       "+-------+------------+------------------+--------------------+--------------+-----------+--------------------+--------------------+---------------+--------------------+-----+--------+-----------+\n",
       "|user_id|merchant_abn|      dollar_value|            order_id|order_datetime|consumer_id|                name|                tags|           name|             address|state|postcode|     gender|\n",
       "+-------+------------+------------------+--------------------+--------------+-----------+--------------------+--------------------+---------------+--------------------+-----+--------+-----------+\n",
       "|   5630| 60956456424|145.26081329000152|1e14adeb-8e13-44f...|    2021-08-21|      28242|Ultricies Digniss...|([gift, card, Nov...|Philip Crawford|7487 Serrano Gard...|   NT|     841|Undisclosed|\n",
       "|   5630| 48534649627|120.25889985200416|08476339-f383-4ab...|    2021-08-15|      28242|Dignissim Maecena...|[[opticians, oPti...|Philip Crawford|7487 Serrano Gard...|   NT|     841|Undisclosed|\n",
       "|   5630| 60956456424| 135.5412540082104|aacfd47a-438b-47f...|    2021-08-15|      28242|Ultricies Digniss...|([gift, card, Nov...|Philip Crawford|7487 Serrano Gard...|   NT|     841|Undisclosed|\n",
       "|   5630| 89932674734| 95.37693966478514|6d5790c9-0eef-453...|    2021-08-16|      28242|Nulla Vulputate C...|((aRtist supply a...|Philip Crawford|7487 Serrano Gard...|   NT|     841|Undisclosed|\n",
       "|   5630| 14089706307|440.12097711482835|43d1361a-1101-41a...|    2021-08-16|      28242|     Donec Institute|[(computer progra...|Philip Crawford|7487 Serrano Gard...|   NT|     841|Undisclosed|\n",
       "+-------+------------+------------------+--------------------+--------------+-----------+--------------------+--------------------+---------------+--------------------+-----+--------+-----------+"
      ]
     },
     "execution_count": 15,
     "metadata": {},
     "output_type": "execute_result"
    }
   ],
   "source": [
    "new_transaction = new_transaction.join(consumers_csv, new_transaction.consumer_id == consumers_csv.consumer_id, \"leftouter\").drop(consumers_csv.consumer_id)\n",
    "new_transaction.limit(5)"
   ]
  },
  {
   "cell_type": "code",
   "execution_count": 16,
   "metadata": {},
   "outputs": [
    {
     "name": "stdout",
     "output_type": "stream",
     "text": [
      "root\n",
      " |-- user_id: long (nullable = true)\n",
      " |-- merchant_abn: long (nullable = true)\n",
      " |-- dollar_value: double (nullable = true)\n",
      " |-- order_id: string (nullable = true)\n",
      " |-- order_datetime: date (nullable = true)\n",
      " |-- consumer_id: long (nullable = true)\n",
      " |-- name: string (nullable = true)\n",
      " |-- tags: string (nullable = true)\n",
      " |-- name: string (nullable = true)\n",
      " |-- address: string (nullable = true)\n",
      " |-- state: string (nullable = true)\n",
      " |-- postcode: integer (nullable = true)\n",
      " |-- gender: string (nullable = true)\n",
      "\n"
     ]
    }
   ],
   "source": [
    "new_transaction.printSchema()"
   ]
  },
  {
   "cell_type": "markdown",
   "metadata": {},
   "source": [
    "### Curated data exploration"
   ]
  },
  {
   "cell_type": "code",
   "execution_count": 17,
   "metadata": {},
   "outputs": [],
   "source": [
    "## try read curated data\n",
    "curated_csv = spark.read.options(header = True).csv('../data/curated/full_data.csv')\n",
    "curated_parquet = spark.read.parquet('../data/curated/full_data.parquet')"
   ]
  },
  {
   "cell_type": "code",
   "execution_count": 18,
   "metadata": {},
   "outputs": [
    {
     "data": {
      "text/html": [
       "<table border='1'>\n",
       "<tr><th>user_id</th><th>merchant_abn</th><th>dollar_value</th><th>order_id</th><th>order_datetime</th><th>consumer_id</th><th>merchant_name</th><th>tags</th><th>user_name</th><th>address</th><th>state</th><th>postcode</th><th>gender</th></tr>\n",
       "<tr><td>19087</td><td>97861055416</td><td>120.23855660098252</td><td>5dbcd6ea-38eb-4e6...</td><td>2021-08-20</td><td>5538</td><td>Morbi Neque Inc.</td><td>[[coMputers, comp...</td><td>Alexandra Davis</td><td>90889 Williams Lo...</td><td>QLD</td><td>4417</td><td>Female</td></tr>\n",
       "<tr><td>19087</td><td>86578477987</td><td>72.28588946469911</td><td>e6afee18-ee2b-447...</td><td>2021-08-20</td><td>5538</td><td>Leo In Consulting</td><td>[[watch, clock, a...</td><td>Alexandra Davis</td><td>90889 Williams Lo...</td><td>QLD</td><td>4417</td><td>Female</td></tr>\n",
       "<tr><td>19087</td><td>29936037423</td><td>29.50053489475463</td><td>d7e18a71-5e10-4e0...</td><td>2021-08-19</td><td>5538</td><td>Sodales Incorporated</td><td>((hobby, toy and ...</td><td>Alexandra Davis</td><td>90889 Williams Lo...</td><td>QLD</td><td>4417</td><td>Female</td></tr>\n",
       "<tr><td>19087</td><td>43061683632</td><td>18.123279553123165</td><td>19511b77-2d85-402...</td><td>2021-08-19</td><td>5538</td><td>A Facilisis PC</td><td>([watch, clock, a...</td><td>Alexandra Davis</td><td>90889 Williams Lo...</td><td>QLD</td><td>4417</td><td>Female</td></tr>\n",
       "<tr><td>19087</td><td>45629217853</td><td>21.107949409694672</td><td>1b29ade5-b0cd-47f...</td><td>2021-08-19</td><td>5538</td><td>Lacus Consulting</td><td>[[gift, Card, nov...</td><td>Alexandra Davis</td><td>90889 Williams Lo...</td><td>QLD</td><td>4417</td><td>Female</td></tr>\n",
       "</table>\n"
      ],
      "text/plain": [
       "+-------+------------+------------------+--------------------+--------------+-----------+--------------------+--------------------+---------------+--------------------+-----+--------+------+\n",
       "|user_id|merchant_abn|      dollar_value|            order_id|order_datetime|consumer_id|       merchant_name|                tags|      user_name|             address|state|postcode|gender|\n",
       "+-------+------------+------------------+--------------------+--------------+-----------+--------------------+--------------------+---------------+--------------------+-----+--------+------+\n",
       "|  19087| 97861055416|120.23855660098252|5dbcd6ea-38eb-4e6...|    2021-08-20|       5538|    Morbi Neque Inc.|[[coMputers, comp...|Alexandra Davis|90889 Williams Lo...|  QLD|    4417|Female|\n",
       "|  19087| 86578477987| 72.28588946469911|e6afee18-ee2b-447...|    2021-08-20|       5538|   Leo In Consulting|[[watch, clock, a...|Alexandra Davis|90889 Williams Lo...|  QLD|    4417|Female|\n",
       "|  19087| 29936037423| 29.50053489475463|d7e18a71-5e10-4e0...|    2021-08-19|       5538|Sodales Incorporated|((hobby, toy and ...|Alexandra Davis|90889 Williams Lo...|  QLD|    4417|Female|\n",
       "|  19087| 43061683632|18.123279553123165|19511b77-2d85-402...|    2021-08-19|       5538|      A Facilisis PC|([watch, clock, a...|Alexandra Davis|90889 Williams Lo...|  QLD|    4417|Female|\n",
       "|  19087| 45629217853|21.107949409694672|1b29ade5-b0cd-47f...|    2021-08-19|       5538|    Lacus Consulting|[[gift, Card, nov...|Alexandra Davis|90889 Williams Lo...|  QLD|    4417|Female|\n",
       "+-------+------------+------------------+--------------------+--------------+-----------+--------------------+--------------------+---------------+--------------------+-----+--------+------+"
      ]
     },
     "execution_count": 18,
     "metadata": {},
     "output_type": "execute_result"
    }
   ],
   "source": [
    "curated_csv.limit(5)"
   ]
  },
  {
   "cell_type": "code",
   "execution_count": 19,
   "metadata": {},
   "outputs": [
    {
     "data": {
      "text/html": [
       "<table border='1'>\n",
       "<tr><th>user_id</th><th>merchant_abn</th><th>dollar_value</th><th>order_id</th><th>order_datetime</th><th>consumer_id</th><th>merchant_name</th><th>tags</th><th>user_name</th><th>address</th><th>state</th><th>postcode</th><th>gender</th></tr>\n",
       "<tr><td>19087</td><td>97861055416</td><td>120.23855660098252</td><td>5dbcd6ea-38eb-4e6...</td><td>2021-08-20</td><td>5538</td><td>Morbi Neque Inc.</td><td>[[coMputers, comp...</td><td>Alexandra Davis</td><td>90889 Williams Lo...</td><td>QLD</td><td>4417</td><td>Female</td></tr>\n",
       "<tr><td>19087</td><td>86578477987</td><td>72.28588946469911</td><td>e6afee18-ee2b-447...</td><td>2021-08-20</td><td>5538</td><td>Leo In Consulting</td><td>[[watch, clock, a...</td><td>Alexandra Davis</td><td>90889 Williams Lo...</td><td>QLD</td><td>4417</td><td>Female</td></tr>\n",
       "<tr><td>19087</td><td>29936037423</td><td>29.50053489475463</td><td>d7e18a71-5e10-4e0...</td><td>2021-08-19</td><td>5538</td><td>Sodales Incorporated</td><td>((hobby, toy and ...</td><td>Alexandra Davis</td><td>90889 Williams Lo...</td><td>QLD</td><td>4417</td><td>Female</td></tr>\n",
       "<tr><td>19087</td><td>43061683632</td><td>18.123279553123165</td><td>19511b77-2d85-402...</td><td>2021-08-19</td><td>5538</td><td>A Facilisis PC</td><td>([watch, clock, a...</td><td>Alexandra Davis</td><td>90889 Williams Lo...</td><td>QLD</td><td>4417</td><td>Female</td></tr>\n",
       "<tr><td>19087</td><td>45629217853</td><td>21.107949409694672</td><td>1b29ade5-b0cd-47f...</td><td>2021-08-19</td><td>5538</td><td>Lacus Consulting</td><td>[[gift, Card, nov...</td><td>Alexandra Davis</td><td>90889 Williams Lo...</td><td>QLD</td><td>4417</td><td>Female</td></tr>\n",
       "</table>\n"
      ],
      "text/plain": [
       "+-------+------------+------------------+--------------------+--------------+-----------+--------------------+--------------------+---------------+--------------------+-----+--------+------+\n",
       "|user_id|merchant_abn|      dollar_value|            order_id|order_datetime|consumer_id|       merchant_name|                tags|      user_name|             address|state|postcode|gender|\n",
       "+-------+------------+------------------+--------------------+--------------+-----------+--------------------+--------------------+---------------+--------------------+-----+--------+------+\n",
       "|  19087| 97861055416|120.23855660098252|5dbcd6ea-38eb-4e6...|    2021-08-20|       5538|    Morbi Neque Inc.|[[coMputers, comp...|Alexandra Davis|90889 Williams Lo...|  QLD|    4417|Female|\n",
       "|  19087| 86578477987| 72.28588946469911|e6afee18-ee2b-447...|    2021-08-20|       5538|   Leo In Consulting|[[watch, clock, a...|Alexandra Davis|90889 Williams Lo...|  QLD|    4417|Female|\n",
       "|  19087| 29936037423| 29.50053489475463|d7e18a71-5e10-4e0...|    2021-08-19|       5538|Sodales Incorporated|((hobby, toy and ...|Alexandra Davis|90889 Williams Lo...|  QLD|    4417|Female|\n",
       "|  19087| 43061683632|18.123279553123165|19511b77-2d85-402...|    2021-08-19|       5538|      A Facilisis PC|([watch, clock, a...|Alexandra Davis|90889 Williams Lo...|  QLD|    4417|Female|\n",
       "|  19087| 45629217853|21.107949409694672|1b29ade5-b0cd-47f...|    2021-08-19|       5538|    Lacus Consulting|[[gift, Card, nov...|Alexandra Davis|90889 Williams Lo...|  QLD|    4417|Female|\n",
       "+-------+------------+------------------+--------------------+--------------+-----------+--------------------+--------------------+---------------+--------------------+-----+--------+------+"
      ]
     },
     "execution_count": 19,
     "metadata": {},
     "output_type": "execute_result"
    }
   ],
   "source": [
    "curated_parquet.limit(5)"
   ]
  },
  {
   "cell_type": "code",
   "execution_count": 20,
   "metadata": {},
   "outputs": [
    {
     "name": "stderr",
     "output_type": "stream",
     "text": [
      "                                                                                \r"
     ]
    },
    {
     "data": {
      "text/plain": [
       "True"
      ]
     },
     "execution_count": 20,
     "metadata": {},
     "output_type": "execute_result"
    }
   ],
   "source": [
    "curated_csv.count() == curated_parquet.count()"
   ]
  },
  {
   "cell_type": "code",
   "execution_count": 21,
   "metadata": {},
   "outputs": [
    {
     "name": "stdout",
     "output_type": "stream",
     "text": [
      "3643266 13\n"
     ]
    }
   ],
   "source": [
    "print(curated_csv.count(),len(curated_csv.columns))"
   ]
  },
  {
   "cell_type": "code",
   "execution_count": 35,
   "metadata": {},
   "outputs": [
    {
     "data": {
      "text/plain": [
       "[('user_id', 'bigint'),\n",
       " ('merchant_abn', 'bigint'),\n",
       " ('dollar_value', 'double'),\n",
       " ('order_id', 'string'),\n",
       " ('order_datetime', 'date'),\n",
       " ('consumer_id', 'bigint'),\n",
       " ('merchant_name', 'string'),\n",
       " ('tags', 'string'),\n",
       " ('user_name', 'string'),\n",
       " ('address', 'string'),\n",
       " ('state', 'string'),\n",
       " ('postcode', 'int'),\n",
       " ('gender', 'string')]"
      ]
     },
     "execution_count": 35,
     "metadata": {},
     "output_type": "execute_result"
    }
   ],
   "source": [
    "curated_parquet.dtypes"
   ]
  },
  {
   "cell_type": "markdown",
   "metadata": {},
   "source": [
    "### Null data filtering"
   ]
  },
  {
   "cell_type": "code",
   "execution_count": 37,
   "metadata": {},
   "outputs": [
    {
     "name": "stderr",
     "output_type": "stream",
     "text": [
      "[Stage 98:===============================================>        (17 + 3) / 20]\r"
     ]
    },
    {
     "name": "stdout",
     "output_type": "stream",
     "text": [
      "+-------+------------+------------+--------+--------------+-----------+-------------+------+---------+-------+-----+--------+------+\n",
      "|user_id|merchant_abn|dollar_value|order_id|order_datetime|consumer_id|merchant_name|  tags|user_name|address|state|postcode|gender|\n",
      "+-------+------------+------------+--------+--------------+-----------+-------------+------+---------+-------+-----+--------+------+\n",
      "|      0|           0|           0|       0|             0|          0|       149228|149228|        0|      0|    0|       0|     0|\n",
      "+-------+------------+------------+--------+--------------+-----------+-------------+------+---------+-------+-----+--------+------+\n",
      "\n"
     ]
    },
    {
     "name": "stderr",
     "output_type": "stream",
     "text": [
      "                                                                                \r"
     ]
    }
   ],
   "source": [
    "from pyspark.sql.functions import col,isnan, when, count\n",
    "curated_csv.select([count(when(isnan(c) | col(c).isNull(), c)).alias(c) for c in curated_csv.columns]\n",
    "   ).show()"
   ]
  },
  {
   "cell_type": "code",
   "execution_count": null,
   "metadata": {},
   "outputs": [],
   "source": [
    "from pyspark.sql.functions import col\n",
    "print(curated_parquet.filter(col(\"name\").isNotNull()).count())"
   ]
  },
  {
   "cell_type": "code",
   "execution_count": 39,
   "metadata": {},
   "outputs": [
    {
     "data": {
      "text/html": [
       "<table border='1'>\n",
       "<tr><th>name</th><th>tags</th><th>merchant_abn</th></tr>\n",
       "<tr><td>Felis Limited</td><td>((furniture, home...</td><td>10023283211</td></tr>\n",
       "<tr><td>Arcu Ac Orci Corp...</td><td>([cable, satellit...</td><td>10142254217</td></tr>\n",
       "<tr><td>Nunc Sed Company</td><td>([jewelry, watch,...</td><td>10165489824</td></tr>\n",
       "<tr><td>Ultricies Digniss...</td><td>([wAtch, clock, a...</td><td>10187291046</td></tr>\n",
       "<tr><td>Enim Condimentum PC</td><td>([music shops - m...</td><td>10192359162</td></tr>\n",
       "<tr><td>Fusce Company</td><td>[(gift, card, nov...</td><td>10206519221</td></tr>\n",
       "<tr><td>Aliquam Enim Inco...</td><td>[(computers, comP...</td><td>10255988167</td></tr>\n",
       "<tr><td>Ipsum Primis Ltd</td><td>[[watch, clock, a...</td><td>10264435225</td></tr>\n",
       "<tr><td>Pede Ultrices Ind...</td><td>([computer progra...</td><td>10279061213</td></tr>\n",
       "<tr><td>Nunc Inc.</td><td>[(furniture, home...</td><td>10323485998</td></tr>\n",
       "<tr><td>Facilisis Facilis...</td><td>([computers, comp...</td><td>10342410215</td></tr>\n",
       "<tr><td>Odio Institute</td><td>((equipment, tool...</td><td>10346855916</td></tr>\n",
       "<tr><td>Rutrum Justo Ltd</td><td>([music shops - m...</td><td>10364012396</td></tr>\n",
       "<tr><td>Tellus Foundation</td><td>[[artist supply a...</td><td>10385011947</td></tr>\n",
       "<tr><td>Sed Et Company</td><td>([florists suppli...</td><td>10385163239</td></tr>\n",
       "<tr><td>Id Ltd</td><td>([computers, comp...</td><td>10385250025</td></tr>\n",
       "<tr><td>Consequat Foundation</td><td>[[antique shops -...</td><td>10404542215</td></tr>\n",
       "<tr><td>Sit Amet Nulla Corp.</td><td>[[motor vehicle s...</td><td>10430380319</td></tr>\n",
       "<tr><td>Massa Vestibulum ...</td><td>[(moTor vehicle s...</td><td>10441711491</td></tr>\n",
       "<tr><td>Ut Consulting</td><td>([gift, card, nov...</td><td>10462560289</td></tr>\n",
       "</table>\n",
       "only showing top 20 rows\n"
      ],
      "text/plain": [
       "+--------------------+--------------------+------------+\n",
       "|                name|                tags|merchant_abn|\n",
       "+--------------------+--------------------+------------+\n",
       "|       Felis Limited|((furniture, home...| 10023283211|\n",
       "|Arcu Ac Orci Corp...|([cable, satellit...| 10142254217|\n",
       "|    Nunc Sed Company|([jewelry, watch,...| 10165489824|\n",
       "|Ultricies Digniss...|([wAtch, clock, a...| 10187291046|\n",
       "| Enim Condimentum PC|([music shops - m...| 10192359162|\n",
       "|       Fusce Company|[(gift, card, nov...| 10206519221|\n",
       "|Aliquam Enim Inco...|[(computers, comP...| 10255988167|\n",
       "|    Ipsum Primis Ltd|[[watch, clock, a...| 10264435225|\n",
       "|Pede Ultrices Ind...|([computer progra...| 10279061213|\n",
       "|           Nunc Inc.|[(furniture, home...| 10323485998|\n",
       "|Facilisis Facilis...|([computers, comp...| 10342410215|\n",
       "|      Odio Institute|((equipment, tool...| 10346855916|\n",
       "|    Rutrum Justo Ltd|([music shops - m...| 10364012396|\n",
       "|   Tellus Foundation|[[artist supply a...| 10385011947|\n",
       "|      Sed Et Company|([florists suppli...| 10385163239|\n",
       "|              Id Ltd|([computers, comp...| 10385250025|\n",
       "|Consequat Foundation|[[antique shops -...| 10404542215|\n",
       "|Sit Amet Nulla Corp.|[[motor vehicle s...| 10430380319|\n",
       "|Massa Vestibulum ...|[(moTor vehicle s...| 10441711491|\n",
       "|       Ut Consulting|([gift, card, nov...| 10462560289|\n",
       "+--------------------+--------------------+------------+\n",
       "only showing top 20 rows"
      ]
     },
     "execution_count": 39,
     "metadata": {},
     "output_type": "execute_result"
    },
    {
     "name": "stderr",
     "output_type": "stream",
     "text": [
      "22/09/07 12:05:46 WARN HeartbeatReceiver: Removing executor driver with no recent heartbeats: 200508 ms exceeds timeout 120000 ms\n",
      "22/09/07 12:05:46 WARN SparkContext: Killing executors is not supported by current scheduler.\n"
     ]
    }
   ],
   "source": [
    "merchants"
   ]
  }
 ],
 "metadata": {
  "kernelspec": {
   "display_name": "Python 3.8.13 ('ads': conda)",
   "language": "python",
   "name": "python3"
  },
  "language_info": {
   "codemirror_mode": {
    "name": "ipython",
    "version": 3
   },
   "file_extension": ".py",
   "mimetype": "text/x-python",
   "name": "python",
   "nbconvert_exporter": "python",
   "pygments_lexer": "ipython3",
   "version": "3.8.13"
  },
  "orig_nbformat": 4,
  "vscode": {
   "interpreter": {
    "hash": "98e70c8d1f3f18768e6f722f34b6988f38650010bfa340b5af1dc1b146803648"
   }
  }
 },
 "nbformat": 4,
 "nbformat_minor": 2
}
