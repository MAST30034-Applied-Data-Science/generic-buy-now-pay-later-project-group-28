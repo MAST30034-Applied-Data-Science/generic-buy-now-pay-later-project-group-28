{
 "cells": [
  {
   "cell_type": "code",
   "execution_count": 18,
   "metadata": {},
   "outputs": [],
   "source": [
    "from pyspark.sql.types import *\n",
    "from pyspark.sql.functions import *\n",
    "from pyspark.sql.window import Window\n",
    "\n",
    "#import spark\n",
    "from pyspark.sql import SparkSession\n",
    "# Create a spark session (which will run spark jobs)\n",
    "spark = (\n",
    "    SparkSession.builder.appName(\"MAST30034 ass2 BNPL group 28\")\n",
    "    .config(\"spark.sql.repl.eagerEval.enabled\", True) \n",
    "    .config(\"spark.sql.parquet.cacheMetadata\", \"true\")\n",
    "    .config(\"spark.sql.session.timeZone\", \"Etc/UTC\")\n",
    "    .getOrCreate()\n",
    ")"
   ]
  },
  {
   "cell_type": "code",
   "execution_count": 6,
   "metadata": {},
   "outputs": [],
   "source": [
    "curated_csv = spark.read.options(header = True).csv('../data/curated/full_data.csv')\n",
    "\n",
    "curated_csv = curated_csv.withColumn('dollar_value', curated_csv.dollar_value.cast(FloatType())) \\\n",
    "    .withColumn('avg_personal_income_weekly', curated_csv.avg_personal_income_weekly.cast(FloatType())) \\\n",
    "        .withColumn('take_rate', curated_csv.take_rate.cast(FloatType())) \\\n",
    "            .withColumn('total_population', curated_csv.total_population.cast(IntegerType())) \\\n",
    "                .withColumn('is_fraud', when(curated_csv.is_fraud == 'False', 0).otherwise(1))"
   ]
  },
  {
   "cell_type": "code",
   "execution_count": 7,
   "metadata": {},
   "outputs": [
    {
     "data": {
      "text/html": [
       "<table border='1'>\n",
       "<tr><th>user_id</th><th>merchant_abn</th><th>dollar_value</th><th>order_id</th><th>order_datetime</th><th>merchant_name</th><th>postcode</th><th>field</th><th>revenue_level</th><th>take_rate</th><th>total_population</th><th>avg_personal_income_weekly</th><th>is_fraud</th></tr>\n",
       "<tr><td>1730</td><td>60956456424</td><td>142.52</td><td>4ab37080-8690-428...</td><td>2021-08-20</td><td>Ultricies Digniss...</td><td>1135</td><td>gift, card, novel...</td><td>b</td><td>4.69</td><td>9656</td><td>798.0</td><td>0</td></tr>\n",
       "<tr><td>17274</td><td>24852446429</td><td>22.63</td><td>19000be3-b4a2-4cc...</td><td>2021-09-14</td><td>Erat Vitae LLP</td><td>1135</td><td>florists supplies...</td><td>c</td><td>2.94</td><td>9656</td><td>798.0</td><td>0</td></tr>\n",
       "<tr><td>1730</td><td>43127814599</td><td>902.82</td><td>28698120-ee5a-42d...</td><td>2021-08-20</td><td>Nam Ligula Elit F...</td><td>1135</td><td>lawn and garden s...</td><td>b</td><td>3.58</td><td>9656</td><td>798.0</td><td>0</td></tr>\n",
       "<tr><td>17454</td><td>21439773999</td><td>68.94</td><td>c9afee3b-1675-45e...</td><td>2021-09-14</td><td>Mauris Non Institute</td><td>1135</td><td>cable, satellite,...</td><td>a</td><td>6.1</td><td>9656</td><td>798.0</td><td>0</td></tr>\n",
       "<tr><td>6737</td><td>51279178333</td><td>19.73</td><td>c8fb7b8a-1224-47e...</td><td>2021-08-20</td><td>Neque LLC</td><td>1135</td><td>music shops - mus...</td><td>c</td><td>1.83</td><td>9656</td><td>798.0</td><td>0</td></tr>\n",
       "</table>\n"
      ],
      "text/plain": [
       "+-------+------------+------------+--------------------+--------------+--------------------+--------+--------------------+-------------+---------+----------------+--------------------------+--------+\n",
       "|user_id|merchant_abn|dollar_value|            order_id|order_datetime|       merchant_name|postcode|               field|revenue_level|take_rate|total_population|avg_personal_income_weekly|is_fraud|\n",
       "+-------+------------+------------+--------------------+--------------+--------------------+--------+--------------------+-------------+---------+----------------+--------------------------+--------+\n",
       "|   1730| 60956456424|      142.52|4ab37080-8690-428...|    2021-08-20|Ultricies Digniss...|    1135|gift, card, novel...|            b|     4.69|            9656|                     798.0|       0|\n",
       "|  17274| 24852446429|       22.63|19000be3-b4a2-4cc...|    2021-09-14|      Erat Vitae LLP|    1135|florists supplies...|            c|     2.94|            9656|                     798.0|       0|\n",
       "|   1730| 43127814599|      902.82|28698120-ee5a-42d...|    2021-08-20|Nam Ligula Elit F...|    1135|lawn and garden s...|            b|     3.58|            9656|                     798.0|       0|\n",
       "|  17454| 21439773999|       68.94|c9afee3b-1675-45e...|    2021-09-14|Mauris Non Institute|    1135|cable, satellite,...|            a|      6.1|            9656|                     798.0|       0|\n",
       "|   6737| 51279178333|       19.73|c8fb7b8a-1224-47e...|    2021-08-20|           Neque LLC|    1135|music shops - mus...|            c|     1.83|            9656|                     798.0|       0|\n",
       "+-------+------------+------------+--------------------+--------------+--------------------+--------+--------------------+-------------+---------+----------------+--------------------------+--------+"
      ]
     },
     "execution_count": 7,
     "metadata": {},
     "output_type": "execute_result"
    }
   ],
   "source": [
    "curated_csv.limit(5)"
   ]
  },
  {
   "cell_type": "code",
   "execution_count": 8,
   "metadata": {},
   "outputs": [
    {
     "name": "stdout",
     "output_type": "stream",
     "text": [
      "root\n",
      " |-- user_id: string (nullable = true)\n",
      " |-- merchant_abn: string (nullable = true)\n",
      " |-- dollar_value: float (nullable = true)\n",
      " |-- order_id: string (nullable = true)\n",
      " |-- order_datetime: string (nullable = true)\n",
      " |-- merchant_name: string (nullable = true)\n",
      " |-- postcode: string (nullable = true)\n",
      " |-- field: string (nullable = true)\n",
      " |-- revenue_level: string (nullable = true)\n",
      " |-- take_rate: float (nullable = true)\n",
      " |-- total_population: integer (nullable = true)\n",
      " |-- avg_personal_income_weekly: float (nullable = true)\n",
      " |-- is_fraud: integer (nullable = false)\n",
      "\n"
     ]
    }
   ],
   "source": [
    "curated_csv.printSchema()"
   ]
  },
  {
   "cell_type": "code",
   "execution_count": 9,
   "metadata": {},
   "outputs": [
    {
     "name": "stderr",
     "output_type": "stream",
     "text": [
      "                                                                                \r"
     ]
    },
    {
     "name": "stdout",
     "output_type": "stream",
     "text": [
      "Number of distinct merchants: 4026\n"
     ]
    },
    {
     "name": "stderr",
     "output_type": "stream",
     "text": [
      "[Stage 15:=====================================================>  (21 + 1) / 22]\r"
     ]
    },
    {
     "name": "stdout",
     "output_type": "stream",
     "text": [
      "+------------+-----------------+\n",
      "|merchant_abn|transaction_count|\n",
      "+------------+-----------------+\n",
      "| 60978195146|            24012|\n",
      "| 31245723081|              375|\n",
      "| 67165527084|             1124|\n",
      "| 36866208934|              918|\n",
      "| 21552853184|              229|\n",
      "+------------+-----------------+\n",
      "only showing top 5 rows\n",
      "\n"
     ]
    },
    {
     "name": "stderr",
     "output_type": "stream",
     "text": [
      "                                                                                \r"
     ]
    }
   ],
   "source": [
    "## Count the number of transactions made by each merchant.\n",
    "merchant_transction_count = curated_csv.groupBy('merchant_abn').count()\n",
    "merchant_transction_count = merchant_transction_count.withColumnRenamed('count', 'transaction_count')\n",
    "\n",
    "print(\"Number of distinct merchants:\", merchant_transction_count.count())\n",
    "merchant_transction_count.show(5)"
   ]
  },
  {
   "cell_type": "code",
   "execution_count": 10,
   "metadata": {},
   "outputs": [
    {
     "name": "stderr",
     "output_type": "stream",
     "text": [
      "[Stage 17:=====================================================>  (21 + 1) / 22]\r"
     ]
    },
    {
     "name": "stdout",
     "output_type": "stream",
     "text": [
      "+------------+--------------------+---------+-------------+-------------+\n",
      "|merchant_abn|               field|take_rate|revenue_level|total_revenue|\n",
      "+------------+--------------------+---------+-------------+-------------+\n",
      "| 62773208456|watch, clock, and...|     2.62|            c|    829321.63|\n",
      "| 14430838529|cable, satellite,...|     2.03|            c|   1118149.05|\n",
      "| 26445720989|opticians, optica...|     4.28|            b|    694446.65|\n",
      "| 77990903737|bicycle shops - s...|     3.88|            b|    975183.17|\n",
      "| 44313899037|furniture, home f...|     4.49|            b|    611146.99|\n",
      "+------------+--------------------+---------+-------------+-------------+\n",
      "only showing top 5 rows\n",
      "\n"
     ]
    },
    {
     "name": "stderr",
     "output_type": "stream",
     "text": [
      "                                                                                \r"
     ]
    }
   ],
   "source": [
    "## Total revenue of a merchant in a given time\n",
    "merchant_revenue = curated_csv.groupBy('merchant_abn', 'field', 'take_rate', 'revenue_level').sum('dollar_value').withColumnRenamed('sum(dollar_value)', \"total_revenue\")\n",
    "merchant_revenue = merchant_revenue.withColumn(\"total_revenue\", round(merchant_revenue[\"total_revenue\"], 2))\n",
    "\n",
    "merchant_revenue.show(5)"
   ]
  },
  {
   "cell_type": "code",
   "execution_count": 11,
   "metadata": {},
   "outputs": [
    {
     "name": "stderr",
     "output_type": "stream",
     "text": [
      "[Stage 19:=====================================================>  (21 + 1) / 22]\r"
     ]
    },
    {
     "name": "stdout",
     "output_type": "stream",
     "text": [
      "+------------+-----------+\n",
      "|merchant_abn|fraud_count|\n",
      "+------------+-----------+\n",
      "| 60978195146|          6|\n",
      "| 31245723081|          0|\n",
      "| 67165527084|          0|\n",
      "| 36866208934|          0|\n",
      "| 21552853184|          0|\n",
      "+------------+-----------+\n",
      "only showing top 5 rows\n",
      "\n"
     ]
    },
    {
     "name": "stderr",
     "output_type": "stream",
     "text": [
      "                                                                                \r"
     ]
    }
   ],
   "source": [
    "## Count the number of Fraud transaction of each merchant\n",
    "merchant_fraud_count = curated_csv.groupBy('merchant_abn').sum('is_fraud').withColumnRenamed('sum(is_fraud)', 'fraud_count')\n",
    "\n",
    "merchant_fraud_count.show(5)\n"
   ]
  },
  {
   "cell_type": "code",
   "execution_count": 12,
   "metadata": {},
   "outputs": [],
   "source": [
    "## Calculate mean income of all consumers of each merchant.\n",
    "merchant_consumer_income = curated_csv.groupBy('merchant_abn', 'postcode','avg_personal_income_weekly').count()\n",
    "\n",
    "merchant_consumer_income = merchant_consumer_income.groupBy('merchant_abn') \\\n",
    "    .agg(sum(col('avg_personal_income_weekly')*col('count'))/sum('count')) \\\n",
    "        .withColumnRenamed('(sum((avg_personal_income_weekly * count)) / sum(count))', 'mean_consumer_income')\n",
    "\n",
    "#merchant_consumer_income.show(5)"
   ]
  },
  {
   "cell_type": "code",
   "execution_count": 13,
   "metadata": {},
   "outputs": [],
   "source": [
    "merchant_info = merchant_transction_count.join(merchant_revenue, ['merchant_abn']) \\\n",
    "    .join(merchant_consumer_income, ['merchant_abn']) \\\n",
    "        .join(merchant_fraud_count, ['merchant_abn'])"
   ]
  },
  {
   "cell_type": "code",
   "execution_count": 14,
   "metadata": {},
   "outputs": [
    {
     "name": "stderr",
     "output_type": "stream",
     "text": [
      "22/10/01 20:50:50 WARN RowBasedKeyValueBatch: Calling spill() on RowBasedKeyValueBatch. Will not spill but return 0.\n",
      "22/10/01 20:50:50 WARN RowBasedKeyValueBatch: Calling spill() on RowBasedKeyValueBatch. Will not spill but return 0.\n",
      "22/10/01 20:50:50 WARN RowBasedKeyValueBatch: Calling spill() on RowBasedKeyValueBatch. Will not spill but return 0.\n",
      "22/10/01 20:50:50 WARN RowBasedKeyValueBatch: Calling spill() on RowBasedKeyValueBatch. Will not spill but return 0.\n",
      "22/10/01 20:50:50 WARN RowBasedKeyValueBatch: Calling spill() on RowBasedKeyValueBatch. Will not spill but return 0.\n",
      "22/10/01 20:50:50 WARN RowBasedKeyValueBatch: Calling spill() on RowBasedKeyValueBatch. Will not spill but return 0.\n",
      "22/10/01 20:50:50 WARN RowBasedKeyValueBatch: Calling spill() on RowBasedKeyValueBatch. Will not spill but return 0.\n",
      "22/10/01 20:50:50 WARN RowBasedKeyValueBatch: Calling spill() on RowBasedKeyValueBatch. Will not spill but return 0.\n",
      "22/10/01 20:50:50 WARN RowBasedKeyValueBatch: Calling spill() on RowBasedKeyValueBatch. Will not spill but return 0.\n",
      "22/10/01 20:50:50 WARN RowBasedKeyValueBatch: Calling spill() on RowBasedKeyValueBatch. Will not spill but return 0.\n",
      "22/10/01 20:50:51 WARN RowBasedKeyValueBatch: Calling spill() on RowBasedKeyValueBatch. Will not spill but return 0.\n",
      "22/10/01 20:50:51 WARN RowBasedKeyValueBatch: Calling spill() on RowBasedKeyValueBatch. Will not spill but return 0.\n",
      "[Stage 25:============================================>        (167 + 20) / 200]\r"
     ]
    },
    {
     "name": "stdout",
     "output_type": "stream",
     "text": [
      "+------------+-----------------+--------------------+---------+-------------+-------------+--------------------+-----------+\n",
      "|merchant_abn|transaction_count|               field|take_rate|revenue_level|total_revenue|mean_consumer_income|fraud_count|\n",
      "+------------+-----------------+--------------------+---------+-------------+-------------+--------------------+-----------+\n",
      "| 11633090957|              287|lawn and garden s...|      4.0|            b|     42067.29|   794.5365864291839|          1|\n",
      "| 21552853184|              229|computer programm...|     3.64|            b|     42540.13|   771.5008728826931|          0|\n",
      "| 31245723081|              375|          shoe shops|     6.28|            a|     56052.68|     799.88319921875|          0|\n",
      "| 33026294208|              159|lawn and garden s...|     3.39|            b|      40337.7|   771.8371071485603|          0|\n",
      "| 33651513345|             2220|florists supplies...|      6.0|            a|    827241.74|   800.5700445226721|          0|\n",
      "+------------+-----------------+--------------------+---------+-------------+-------------+--------------------+-----------+\n",
      "only showing top 5 rows\n",
      "\n"
     ]
    },
    {
     "name": "stderr",
     "output_type": "stream",
     "text": [
      "                                                                                \r"
     ]
    }
   ],
   "source": [
    "merchant_info.show(5)"
   ]
  },
  {
   "cell_type": "code",
   "execution_count": 15,
   "metadata": {},
   "outputs": [
    {
     "name": "stderr",
     "output_type": "stream",
     "text": [
      "                                                                                \r"
     ]
    },
    {
     "data": {
      "text/html": [
       "<table border='1'>\n",
       "<tr><th>field</th><th>count</th></tr>\n",
       "<tr><td>digital goods: bo...</td><td>190</td></tr>\n",
       "<tr><td>artist supply and...</td><td>187</td></tr>\n",
       "<tr><td>computer programm...</td><td>182</td></tr>\n",
       "<tr><td>shoe shops</td><td>182</td></tr>\n",
       "<tr><td>gift, card, novel...</td><td>178</td></tr>\n",
       "<tr><td>florists supplies...</td><td>171</td></tr>\n",
       "<tr><td>tent and awning s...</td><td>171</td></tr>\n",
       "<tr><td>computers, comput...</td><td>169</td></tr>\n",
       "<tr><td>furniture, home f...</td><td>166</td></tr>\n",
       "<tr><td>health and beauty...</td><td>163</td></tr>\n",
       "<tr><td>cable, satellite,...</td><td>163</td></tr>\n",
       "<tr><td>bicycle shops - s...</td><td>163</td></tr>\n",
       "<tr><td>watch, clock, and...</td><td>159</td></tr>\n",
       "<tr><td>books, periodical...</td><td>151</td></tr>\n",
       "<tr><td>music shops - mus...</td><td>149</td></tr>\n",
       "<tr><td>stationery, offic...</td><td>148</td></tr>\n",
       "<tr><td>motor vehicle sup...</td><td>146</td></tr>\n",
       "<tr><td>opticians, optica...</td><td>145</td></tr>\n",
       "<tr><td>lawn and garden s...</td><td>144</td></tr>\n",
       "<tr><td>hobby, toy and ga...</td><td>134</td></tr>\n",
       "</table>\n",
       "only showing top 20 rows\n"
      ],
      "text/plain": [
       "+--------------------+-----+\n",
       "|               field|count|\n",
       "+--------------------+-----+\n",
       "|digital goods: bo...|  190|\n",
       "|artist supply and...|  187|\n",
       "|          shoe shops|  182|\n",
       "|computer programm...|  182|\n",
       "|gift, card, novel...|  178|\n",
       "|florists supplies...|  171|\n",
       "|tent and awning s...|  171|\n",
       "|computers, comput...|  169|\n",
       "|furniture, home f...|  166|\n",
       "|health and beauty...|  163|\n",
       "|cable, satellite,...|  163|\n",
       "|bicycle shops - s...|  163|\n",
       "|watch, clock, and...|  159|\n",
       "|books, periodical...|  151|\n",
       "|music shops - mus...|  149|\n",
       "|stationery, offic...|  148|\n",
       "|motor vehicle sup...|  146|\n",
       "|opticians, optica...|  145|\n",
       "|lawn and garden s...|  144|\n",
       "|hobby, toy and ga...|  134|\n",
       "+--------------------+-----+\n",
       "only showing top 20 rows"
      ]
     },
     "execution_count": 15,
     "metadata": {},
     "output_type": "execute_result"
    }
   ],
   "source": [
    "## count number of merchant in each field\n",
    "merchant_info.select('field').groupBy('field').count().sort(col('count').desc())"
   ]
  },
  {
   "cell_type": "code",
   "execution_count": null,
   "metadata": {},
   "outputs": [],
   "source": []
  },
  {
   "cell_type": "markdown",
   "metadata": {},
   "source": [
    "Select the most popular postcode in each merchants customers"
   ]
  },
  {
   "cell_type": "code",
   "execution_count": 44,
   "metadata": {},
   "outputs": [],
   "source": [
    "merchant_main_customers = curated_csv.groupBy('merchant_abn','postcode','total_population').count()\n",
    "merchant_main_customers = merchant_main_customers.withColumnRenamed('count', 'postcode_count')"
   ]
  },
  {
   "cell_type": "code",
   "execution_count": 45,
   "metadata": {},
   "outputs": [],
   "source": [
    "windowDept = Window.partitionBy(\"merchant_abn\").orderBy(col(\"postcode_count\").desc())\n",
    "# Rank the popular customer from area for each merchant\n",
    "merchant_main_customers = merchant_main_customers.withColumn(\"row\",row_number().over(windowDept))\n",
    "# Filter the top 5 popular area\n",
    "merchant_main_customers = merchant_main_customers.filter(col(\"row\") <= 5)"
   ]
  },
  {
   "cell_type": "code",
   "execution_count": 46,
   "metadata": {},
   "outputs": [],
   "source": [
    "merchant_main_customers = merchant_main_customers.groupBy('merchant_abn').sum('total_population') \\\n",
    "    .withColumnRenamed('sum(total_population)', 'main_business_area_popu')"
   ]
  },
  {
   "cell_type": "code",
   "execution_count": 47,
   "metadata": {},
   "outputs": [
    {
     "name": "stderr",
     "output_type": "stream",
     "text": [
      "22/10/01 22:54:09 WARN RowBasedKeyValueBatch: Calling spill() on RowBasedKeyValueBatch. Will not spill but return 0.\n",
      "22/10/01 22:54:09 WARN RowBasedKeyValueBatch: Calling spill() on RowBasedKeyValueBatch. Will not spill but return 0.\n",
      "22/10/01 22:54:09 WARN RowBasedKeyValueBatch: Calling spill() on RowBasedKeyValueBatch. Will not spill but return 0.\n",
      "22/10/01 22:54:09 WARN RowBasedKeyValueBatch: Calling spill() on RowBasedKeyValueBatch. Will not spill but return 0.\n",
      "22/10/01 22:54:09 WARN RowBasedKeyValueBatch: Calling spill() on RowBasedKeyValueBatch. Will not spill but return 0.\n",
      "22/10/01 22:54:09 WARN RowBasedKeyValueBatch: Calling spill() on RowBasedKeyValueBatch. Will not spill but return 0.\n",
      "22/10/01 22:54:09 WARN RowBasedKeyValueBatch: Calling spill() on RowBasedKeyValueBatch. Will not spill but return 0.\n",
      "22/10/01 22:54:09 WARN RowBasedKeyValueBatch: Calling spill() on RowBasedKeyValueBatch. Will not spill but return 0.\n",
      "22/10/01 22:54:09 WARN RowBasedKeyValueBatch: Calling spill() on RowBasedKeyValueBatch. Will not spill but return 0.\n",
      "22/10/01 22:54:09 WARN RowBasedKeyValueBatch: Calling spill() on RowBasedKeyValueBatch. Will not spill but return 0.\n",
      "22/10/01 22:54:09 WARN RowBasedKeyValueBatch: Calling spill() on RowBasedKeyValueBatch. Will not spill but return 0.\n",
      "22/10/01 22:54:09 WARN RowBasedKeyValueBatch: Calling spill() on RowBasedKeyValueBatch. Will not spill but return 0.\n",
      "22/10/01 22:54:09 WARN RowBasedKeyValueBatch: Calling spill() on RowBasedKeyValueBatch. Will not spill but return 0.\n",
      "22/10/01 22:54:09 WARN RowBasedKeyValueBatch: Calling spill() on RowBasedKeyValueBatch. Will not spill but return 0.\n",
      "22/10/01 22:54:09 WARN RowBasedKeyValueBatch: Calling spill() on RowBasedKeyValueBatch. Will not spill but return 0.\n",
      "22/10/01 22:54:09 WARN RowBasedKeyValueBatch: Calling spill() on RowBasedKeyValueBatch. Will not spill but return 0.\n",
      "22/10/01 22:54:09 WARN RowBasedKeyValueBatch: Calling spill() on RowBasedKeyValueBatch. Will not spill but return 0.\n",
      "22/10/01 22:54:09 WARN RowBasedKeyValueBatch: Calling spill() on RowBasedKeyValueBatch. Will not spill but return 0.\n",
      "22/10/01 22:54:09 WARN RowBasedKeyValueBatch: Calling spill() on RowBasedKeyValueBatch. Will not spill but return 0.\n",
      "22/10/01 22:54:13 WARN RowBasedKeyValueBatch: Calling spill() on RowBasedKeyValueBatch. Will not spill but return 0.\n",
      "22/10/01 22:54:13 WARN RowBasedKeyValueBatch: Calling spill() on RowBasedKeyValueBatch. Will not spill but return 0.\n",
      "22/10/01 22:54:13 WARN RowBasedKeyValueBatch: Calling spill() on RowBasedKeyValueBatch. Will not spill but return 0.\n",
      "22/10/01 22:54:13 WARN RowBasedKeyValueBatch: Calling spill() on RowBasedKeyValueBatch. Will not spill but return 0.\n",
      "22/10/01 22:54:14 WARN RowBasedKeyValueBatch: Calling spill() on RowBasedKeyValueBatch. Will not spill but return 0.\n",
      "22/10/01 22:54:14 WARN RowBasedKeyValueBatch: Calling spill() on RowBasedKeyValueBatch. Will not spill but return 0.\n",
      "22/10/01 22:54:14 WARN RowBasedKeyValueBatch: Calling spill() on RowBasedKeyValueBatch. Will not spill but return 0.\n",
      "22/10/01 22:54:14 WARN RowBasedKeyValueBatch: Calling spill() on RowBasedKeyValueBatch. Will not spill but return 0.\n",
      "22/10/01 22:54:14 WARN RowBasedKeyValueBatch: Calling spill() on RowBasedKeyValueBatch. Will not spill but return 0.\n",
      "22/10/01 22:54:14 WARN RowBasedKeyValueBatch: Calling spill() on RowBasedKeyValueBatch. Will not spill but return 0.\n",
      "22/10/01 22:54:14 WARN RowBasedKeyValueBatch: Calling spill() on RowBasedKeyValueBatch. Will not spill but return 0.\n",
      "22/10/01 22:54:14 WARN RowBasedKeyValueBatch: Calling spill() on RowBasedKeyValueBatch. Will not spill but return 0.\n",
      "22/10/01 22:54:14 WARN RowBasedKeyValueBatch: Calling spill() on RowBasedKeyValueBatch. Will not spill but return 0.\n",
      "22/10/01 22:54:14 WARN RowBasedKeyValueBatch: Calling spill() on RowBasedKeyValueBatch. Will not spill but return 0.\n",
      "22/10/01 22:54:14 WARN RowBasedKeyValueBatch: Calling spill() on RowBasedKeyValueBatch. Will not spill but return 0.\n",
      "22/10/01 22:54:14 WARN RowBasedKeyValueBatch: Calling spill() on RowBasedKeyValueBatch. Will not spill but return 0.\n",
      "22/10/01 22:54:14 WARN RowBasedKeyValueBatch: Calling spill() on RowBasedKeyValueBatch. Will not spill but return 0.\n",
      "22/10/01 22:54:14 WARN RowBasedKeyValueBatch: Calling spill() on RowBasedKeyValueBatch. Will not spill but return 0.\n",
      "22/10/01 22:54:14 WARN RowBasedKeyValueBatch: Calling spill() on RowBasedKeyValueBatch. Will not spill but return 0.\n",
      "                                                                                \r"
     ]
    },
    {
     "data": {
      "text/html": [
       "<table border='1'>\n",
       "<tr><th>merchant_abn</th><th>main_business_area_popu</th></tr>\n",
       "<tr><td>11633090957</td><td>39259</td></tr>\n",
       "<tr><td>21552853184</td><td>156626</td></tr>\n",
       "<tr><td>31245723081</td><td>65159</td></tr>\n",
       "<tr><td>33026294208</td><td>164626</td></tr>\n",
       "<tr><td>33651513345</td><td>86495</td></tr>\n",
       "<tr><td>36866208934</td><td>251283</td></tr>\n",
       "<tr><td>37629693091</td><td>49618</td></tr>\n",
       "<tr><td>38918664617</td><td>50979</td></tr>\n",
       "<tr><td>53074973777</td><td>218418</td></tr>\n",
       "<tr><td>60963420870</td><td>166483</td></tr>\n",
       "<tr><td>60978195146</td><td>183440</td></tr>\n",
       "<tr><td>67165527084</td><td>83608</td></tr>\n",
       "<tr><td>67264251405</td><td>31748</td></tr>\n",
       "<tr><td>70713877189</td><td>263148</td></tr>\n",
       "<tr><td>73792600690</td><td>375096</td></tr>\n",
       "<tr><td>76618399784</td><td>119321</td></tr>\n",
       "<tr><td>86137100428</td><td>32469</td></tr>\n",
       "<tr><td>87092867947</td><td>104467</td></tr>\n",
       "<tr><td>87284273126</td><td>60283</td></tr>\n",
       "<tr><td>90976587185</td><td>151200</td></tr>\n",
       "</table>\n",
       "only showing top 20 rows\n"
      ],
      "text/plain": [
       "+------------+-----------------------+\n",
       "|merchant_abn|main_business_area_popu|\n",
       "+------------+-----------------------+\n",
       "| 11633090957|                  39259|\n",
       "| 21552853184|                 156626|\n",
       "| 31245723081|                  65159|\n",
       "| 33026294208|                 164626|\n",
       "| 33651513345|                  86495|\n",
       "| 36866208934|                 251283|\n",
       "| 37629693091|                  49618|\n",
       "| 38918664617|                  50979|\n",
       "| 53074973777|                 218418|\n",
       "| 60963420870|                 166483|\n",
       "| 60978195146|                 183440|\n",
       "| 67165527084|                  83608|\n",
       "| 67264251405|                  31748|\n",
       "| 70713877189|                 263148|\n",
       "| 73792600690|                 375096|\n",
       "| 76618399784|                 119321|\n",
       "| 86137100428|                  32469|\n",
       "| 87092867947|                 104467|\n",
       "| 87284273126|                  60283|\n",
       "| 90976587185|                 151200|\n",
       "+------------+-----------------------+\n",
       "only showing top 20 rows"
      ]
     },
     "execution_count": 47,
     "metadata": {},
     "output_type": "execute_result"
    }
   ],
   "source": [
    "merchant_main_customers "
   ]
  },
  {
   "cell_type": "code",
   "execution_count": 48,
   "metadata": {},
   "outputs": [],
   "source": [
    "merchant_info = merchant_info.join(merchant_main_customers, ['merchant_abn'])"
   ]
  },
  {
   "cell_type": "code",
   "execution_count": 49,
   "metadata": {},
   "outputs": [
    {
     "name": "stderr",
     "output_type": "stream",
     "text": [
      "22/10/01 22:55:34 WARN RowBasedKeyValueBatch: Calling spill() on RowBasedKeyValueBatch. Will not spill but return 0.\n",
      "22/10/01 22:55:34 WARN RowBasedKeyValueBatch: Calling spill() on RowBasedKeyValueBatch. Will not spill but return 0.\n",
      "22/10/01 22:55:34 WARN RowBasedKeyValueBatch: Calling spill() on RowBasedKeyValueBatch. Will not spill but return 0.\n",
      "22/10/01 22:55:34 WARN RowBasedKeyValueBatch: Calling spill() on RowBasedKeyValueBatch. Will not spill but return 0.\n",
      "22/10/01 22:55:34 WARN RowBasedKeyValueBatch: Calling spill() on RowBasedKeyValueBatch. Will not spill but return 0.\n",
      "22/10/01 22:55:34 WARN RowBasedKeyValueBatch: Calling spill() on RowBasedKeyValueBatch. Will not spill but return 0.\n",
      "22/10/01 22:55:34 WARN RowBasedKeyValueBatch: Calling spill() on RowBasedKeyValueBatch. Will not spill but return 0.\n",
      "22/10/01 22:55:34 WARN RowBasedKeyValueBatch: Calling spill() on RowBasedKeyValueBatch. Will not spill but return 0.\n",
      "22/10/01 22:55:34 WARN RowBasedKeyValueBatch: Calling spill() on RowBasedKeyValueBatch. Will not spill but return 0.\n",
      "22/10/01 22:55:34 WARN RowBasedKeyValueBatch: Calling spill() on RowBasedKeyValueBatch. Will not spill but return 0.\n",
      "22/10/01 22:55:34 WARN RowBasedKeyValueBatch: Calling spill() on RowBasedKeyValueBatch. Will not spill but return 0.\n",
      "22/10/01 22:55:35 WARN RowBasedKeyValueBatch: Calling spill() on RowBasedKeyValueBatch. Will not spill but return 0.\n",
      "22/10/01 22:55:35 WARN RowBasedKeyValueBatch: Calling spill() on RowBasedKeyValueBatch. Will not spill but return 0.\n",
      "22/10/01 22:55:35 WARN RowBasedKeyValueBatch: Calling spill() on RowBasedKeyValueBatch. Will not spill but return 0.\n",
      "22/10/01 22:55:35 WARN RowBasedKeyValueBatch: Calling spill() on RowBasedKeyValueBatch. Will not spill but return 0.\n",
      "22/10/01 22:55:35 WARN RowBasedKeyValueBatch: Calling spill() on RowBasedKeyValueBatch. Will not spill but return 0.\n",
      "22/10/01 22:55:35 WARN RowBasedKeyValueBatch: Calling spill() on RowBasedKeyValueBatch. Will not spill but return 0.\n",
      "22/10/01 22:55:35 WARN RowBasedKeyValueBatch: Calling spill() on RowBasedKeyValueBatch. Will not spill but return 0.\n",
      "22/10/01 22:55:36 WARN RowBasedKeyValueBatch: Calling spill() on RowBasedKeyValueBatch. Will not spill but return 0.\n",
      "22/10/01 22:55:40 WARN RowBasedKeyValueBatch: Calling spill() on RowBasedKeyValueBatch. Will not spill but return 0.\n",
      "22/10/01 22:55:42 WARN RowBasedKeyValueBatch: Calling spill() on RowBasedKeyValueBatch. Will not spill but return 0.\n",
      "22/10/01 22:55:42 WARN RowBasedKeyValueBatch: Calling spill() on RowBasedKeyValueBatch. Will not spill but return 0.\n",
      "22/10/01 22:55:42 WARN RowBasedKeyValueBatch: Calling spill() on RowBasedKeyValueBatch. Will not spill but return 0.\n",
      "22/10/01 22:55:42 WARN RowBasedKeyValueBatch: Calling spill() on RowBasedKeyValueBatch. Will not spill but return 0.\n",
      "22/10/01 22:55:42 WARN RowBasedKeyValueBatch: Calling spill() on RowBasedKeyValueBatch. Will not spill but return 0.\n",
      "22/10/01 22:55:42 WARN RowBasedKeyValueBatch: Calling spill() on RowBasedKeyValueBatch. Will not spill but return 0.\n",
      "22/10/01 22:55:47 WARN RowBasedKeyValueBatch: Calling spill() on RowBasedKeyValueBatch. Will not spill but return 0.\n",
      "22/10/01 22:55:47 WARN RowBasedKeyValueBatch: Calling spill() on RowBasedKeyValueBatch. Will not spill but return 0.\n",
      "22/10/01 22:55:47 WARN RowBasedKeyValueBatch: Calling spill() on RowBasedKeyValueBatch. Will not spill but return 0.\n",
      "22/10/01 22:55:47 WARN RowBasedKeyValueBatch: Calling spill() on RowBasedKeyValueBatch. Will not spill but return 0.\n",
      "22/10/01 22:55:47 WARN RowBasedKeyValueBatch: Calling spill() on RowBasedKeyValueBatch. Will not spill but return 0.\n",
      "22/10/01 22:55:47 WARN RowBasedKeyValueBatch: Calling spill() on RowBasedKeyValueBatch. Will not spill but return 0.\n",
      "22/10/01 22:55:47 WARN RowBasedKeyValueBatch: Calling spill() on RowBasedKeyValueBatch. Will not spill but return 0.\n",
      "22/10/01 22:55:48 WARN RowBasedKeyValueBatch: Calling spill() on RowBasedKeyValueBatch. Will not spill but return 0.\n",
      "22/10/01 22:55:48 WARN RowBasedKeyValueBatch: Calling spill() on RowBasedKeyValueBatch. Will not spill but return 0.\n",
      "22/10/01 22:55:48 WARN RowBasedKeyValueBatch: Calling spill() on RowBasedKeyValueBatch. Will not spill but return 0.\n",
      "22/10/01 22:55:48 WARN RowBasedKeyValueBatch: Calling spill() on RowBasedKeyValueBatch. Will not spill but return 0.\n",
      "22/10/01 22:55:48 WARN RowBasedKeyValueBatch: Calling spill() on RowBasedKeyValueBatch. Will not spill but return 0.\n",
      "22/10/01 22:55:48 WARN RowBasedKeyValueBatch: Calling spill() on RowBasedKeyValueBatch. Will not spill but return 0.\n",
      "22/10/01 22:55:48 WARN RowBasedKeyValueBatch: Calling spill() on RowBasedKeyValueBatch. Will not spill but return 0.\n",
      "22/10/01 22:55:48 WARN RowBasedKeyValueBatch: Calling spill() on RowBasedKeyValueBatch. Will not spill but return 0.\n",
      "22/10/01 22:55:48 WARN RowBasedKeyValueBatch: Calling spill() on RowBasedKeyValueBatch. Will not spill but return 0.\n",
      "22/10/01 22:55:48 WARN RowBasedKeyValueBatch: Calling spill() on RowBasedKeyValueBatch. Will not spill but return 0.\n",
      "22/10/01 22:55:48 WARN RowBasedKeyValueBatch: Calling spill() on RowBasedKeyValueBatch. Will not spill but return 0.\n",
      "22/10/01 22:55:49 WARN RowBasedKeyValueBatch: Calling spill() on RowBasedKeyValueBatch. Will not spill but return 0.\n",
      "22/10/01 22:55:55 WARN RowBasedKeyValueBatch: Calling spill() on RowBasedKeyValueBatch. Will not spill but return 0.\n",
      "22/10/01 22:55:55 WARN RowBasedKeyValueBatch: Calling spill() on RowBasedKeyValueBatch. Will not spill but return 0.\n",
      "22/10/01 22:55:55 WARN RowBasedKeyValueBatch: Calling spill() on RowBasedKeyValueBatch. Will not spill but return 0.\n",
      "22/10/01 22:55:55 WARN RowBasedKeyValueBatch: Calling spill() on RowBasedKeyValueBatch. Will not spill but return 0.\n",
      "22/10/01 22:55:55 WARN RowBasedKeyValueBatch: Calling spill() on RowBasedKeyValueBatch. Will not spill but return 0.\n",
      "22/10/01 22:55:55 WARN RowBasedKeyValueBatch: Calling spill() on RowBasedKeyValueBatch. Will not spill but return 0.\n",
      "22/10/01 22:55:55 WARN RowBasedKeyValueBatch: Calling spill() on RowBasedKeyValueBatch. Will not spill but return 0.\n",
      "22/10/01 22:55:55 WARN RowBasedKeyValueBatch: Calling spill() on RowBasedKeyValueBatch. Will not spill but return 0.\n",
      "22/10/01 22:55:55 WARN RowBasedKeyValueBatch: Calling spill() on RowBasedKeyValueBatch. Will not spill but return 0.\n",
      "22/10/01 22:55:55 WARN RowBasedKeyValueBatch: Calling spill() on RowBasedKeyValueBatch. Will not spill but return 0.\n",
      "22/10/01 22:55:55 WARN RowBasedKeyValueBatch: Calling spill() on RowBasedKeyValueBatch. Will not spill but return 0.\n",
      "22/10/01 22:55:56 WARN RowBasedKeyValueBatch: Calling spill() on RowBasedKeyValueBatch. Will not spill but return 0.\n",
      "22/10/01 22:55:56 WARN RowBasedKeyValueBatch: Calling spill() on RowBasedKeyValueBatch. Will not spill but return 0.\n",
      "22/10/01 22:55:56 WARN RowBasedKeyValueBatch: Calling spill() on RowBasedKeyValueBatch. Will not spill but return 0.\n",
      "                                                                                \r"
     ]
    },
    {
     "data": {
      "text/html": [
       "<table border='1'>\n",
       "<tr><th>merchant_abn</th><th>transaction_count</th><th>field</th><th>take_rate</th><th>revenue_level</th><th>total_revenue</th><th>mean_consumer_income</th><th>fraud_count</th><th>main_business_area_popu</th></tr>\n",
       "<tr><td>11633090957</td><td>287</td><td>lawn and garden s...</td><td>4.0</td><td>b</td><td>42067.29</td><td>794.5365864291839</td><td>1</td><td>39259</td></tr>\n",
       "<tr><td>21552853184</td><td>229</td><td>computer programm...</td><td>3.64</td><td>b</td><td>42540.13</td><td>771.5008728826931</td><td>0</td><td>156626</td></tr>\n",
       "<tr><td>31245723081</td><td>375</td><td>shoe shops</td><td>6.28</td><td>a</td><td>56052.68</td><td>799.88319921875</td><td>0</td><td>65159</td></tr>\n",
       "<tr><td>33026294208</td><td>159</td><td>lawn and garden s...</td><td>3.39</td><td>b</td><td>40337.7</td><td>771.8371071485603</td><td>0</td><td>164626</td></tr>\n",
       "<tr><td>33651513345</td><td>2220</td><td>florists supplies...</td><td>6.0</td><td>a</td><td>827241.74</td><td>800.5700445226721</td><td>0</td><td>86495</td></tr>\n",
       "<tr><td>36866208934</td><td>918</td><td>computer programm...</td><td>3.43</td><td>b</td><td>177024.9</td><td>790.7605664288557</td><td>0</td><td>251283</td></tr>\n",
       "<tr><td>37629693091</td><td>403</td><td>cable,  satellite...</td><td>3.02</td><td>c</td><td>37731.39</td><td>784.379155994349</td><td>0</td><td>49618</td></tr>\n",
       "<tr><td>38918664617</td><td>13</td><td>jewelry, watch, c...</td><td>3.59</td><td>b</td><td>264025.01</td><td>809.4230769230769</td><td>7</td><td>50979</td></tr>\n",
       "<tr><td>53074973777</td><td>210</td><td>watch, clock, and...</td><td>5.71</td><td>a</td><td>31071.99</td><td>784.0638093494233</td><td>0</td><td>218418</td></tr>\n",
       "<tr><td>60963420870</td><td>71</td><td>stationery, offic...</td><td>4.17</td><td>b</td><td>34229.5</td><td>813.6380279970841</td><td>0</td><td>166483</td></tr>\n",
       "<tr><td>60978195146</td><td>24012</td><td>shoe shops</td><td>1.44</td><td>c</td><td>1198451.79</td><td>822.5304469499869</td><td>6</td><td>183440</td></tr>\n",
       "<tr><td>67165527084</td><td>1124</td><td>lawn and garden s...</td><td>3.35</td><td>b</td><td>1838252.03</td><td>819.5772237268632</td><td>0</td><td>83608</td></tr>\n",
       "<tr><td>67264251405</td><td>2</td><td>art dealers and g...</td><td>6.4</td><td>a</td><td>103753.28</td><td>749.7000122070312</td><td>2</td><td>31748</td></tr>\n",
       "<tr><td>70713877189</td><td>209</td><td>equipment, tool, ...</td><td>1.54</td><td>c</td><td>761996.27</td><td>770.713395844236</td><td>1</td><td>263148</td></tr>\n",
       "<tr><td>73792600690</td><td>177</td><td>art dealers and g...</td><td>2.69</td><td>c</td><td>668020.99</td><td>784.1903945146981</td><td>2</td><td>375096</td></tr>\n",
       "<tr><td>76618399784</td><td>15</td><td>equipment, tool, ...</td><td>4.4</td><td>b</td><td>51248.8</td><td>727.4266682942708</td><td>0</td><td>119321</td></tr>\n",
       "<tr><td>86137100428</td><td>26</td><td>shoe shops</td><td>6.3</td><td>a</td><td>11130.41</td><td>838.5884669377253</td><td>0</td><td>32469</td></tr>\n",
       "<tr><td>87092867947</td><td>117</td><td>computers, comput...</td><td>2.71</td><td>c</td><td>36378.03</td><td>775.935040596204</td><td>0</td><td>104467</td></tr>\n",
       "<tr><td>87284273126</td><td>35</td><td>stationery, offic...</td><td>4.61</td><td>b</td><td>15773.47</td><td>798.2828560965402</td><td>0</td><td>60283</td></tr>\n",
       "<tr><td>90976587185</td><td>37</td><td>art dealers and g...</td><td>6.3</td><td>a</td><td>116842.98</td><td>793.7810800913218</td><td>0</td><td>151200</td></tr>\n",
       "</table>\n",
       "only showing top 20 rows\n"
      ],
      "text/plain": [
       "+------------+-----------------+--------------------+---------+-------------+-------------+--------------------+-----------+-----------------------+\n",
       "|merchant_abn|transaction_count|               field|take_rate|revenue_level|total_revenue|mean_consumer_income|fraud_count|main_business_area_popu|\n",
       "+------------+-----------------+--------------------+---------+-------------+-------------+--------------------+-----------+-----------------------+\n",
       "| 11633090957|              287|lawn and garden s...|      4.0|            b|     42067.29|   794.5365864291839|          1|                  39259|\n",
       "| 21552853184|              229|computer programm...|     3.64|            b|     42540.13|   771.5008728826931|          0|                 156626|\n",
       "| 31245723081|              375|          shoe shops|     6.28|            a|     56052.68|     799.88319921875|          0|                  65159|\n",
       "| 33026294208|              159|lawn and garden s...|     3.39|            b|      40337.7|   771.8371071485603|          0|                 164626|\n",
       "| 33651513345|             2220|florists supplies...|      6.0|            a|    827241.74|   800.5700445226721|          0|                  86495|\n",
       "| 36866208934|              918|computer programm...|     3.43|            b|     177024.9|   790.7605664288557|          0|                 251283|\n",
       "| 37629693091|              403|cable,  satellite...|     3.02|            c|     37731.39|    784.379155994349|          0|                  49618|\n",
       "| 38918664617|               13|jewelry, watch, c...|     3.59|            b|    264025.01|   809.4230769230769|          7|                  50979|\n",
       "| 53074973777|              210|watch, clock, and...|     5.71|            a|     31071.99|   784.0638093494233|          0|                 218418|\n",
       "| 60963420870|               71|stationery, offic...|     4.17|            b|      34229.5|   813.6380279970841|          0|                 166483|\n",
       "| 60978195146|            24012|          shoe shops|     1.44|            c|   1198451.79|   822.5304469499869|          6|                 183440|\n",
       "| 67165527084|             1124|lawn and garden s...|     3.35|            b|   1838252.03|   819.5772237268632|          0|                  83608|\n",
       "| 67264251405|                2|art dealers and g...|      6.4|            a|    103753.28|   749.7000122070312|          2|                  31748|\n",
       "| 70713877189|              209|equipment, tool, ...|     1.54|            c|    761996.27|    770.713395844236|          1|                 263148|\n",
       "| 73792600690|              177|art dealers and g...|     2.69|            c|    668020.99|   784.1903945146981|          2|                 375096|\n",
       "| 76618399784|               15|equipment, tool, ...|      4.4|            b|      51248.8|   727.4266682942708|          0|                 119321|\n",
       "| 86137100428|               26|          shoe shops|      6.3|            a|     11130.41|   838.5884669377253|          0|                  32469|\n",
       "| 87092867947|              117|computers, comput...|     2.71|            c|     36378.03|    775.935040596204|          0|                 104467|\n",
       "| 87284273126|               35|stationery, offic...|     4.61|            b|     15773.47|   798.2828560965402|          0|                  60283|\n",
       "| 90976587185|               37|art dealers and g...|      6.3|            a|    116842.98|   793.7810800913218|          0|                 151200|\n",
       "+------------+-----------------+--------------------+---------+-------------+-------------+--------------------+-----------+-----------------------+\n",
       "only showing top 20 rows"
      ]
     },
     "execution_count": 49,
     "metadata": {},
     "output_type": "execute_result"
    }
   ],
   "source": [
    "merchant_info"
   ]
  }
 ],
 "metadata": {
  "kernelspec": {
   "display_name": "Python 3.8.13 ('ads')",
   "language": "python",
   "name": "python3"
  },
  "language_info": {
   "codemirror_mode": {
    "name": "ipython",
    "version": 3
   },
   "file_extension": ".py",
   "mimetype": "text/x-python",
   "name": "python",
   "nbconvert_exporter": "python",
   "pygments_lexer": "ipython3",
   "version": "3.8.13"
  },
  "orig_nbformat": 4,
  "vscode": {
   "interpreter": {
    "hash": "bca15d2f4a2d5e67a541c5bc2e9bd5f13d2a08a92565a0d404f7484b46a3a1a0"
   }
  }
 },
 "nbformat": 4,
 "nbformat_minor": 2
}
