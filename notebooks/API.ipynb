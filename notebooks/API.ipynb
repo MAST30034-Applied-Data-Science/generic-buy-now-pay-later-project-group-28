{
 "cells": [
  {
   "cell_type": "code",
   "execution_count": 273,
   "metadata": {},
   "outputs": [],
   "source": [
    "#import spark\n",
    "from pyspark.sql import SparkSession\n",
    "# Create a spark session (which will run spark jobs)\n",
    "spark = (\n",
    "    SparkSession.builder.appName(\"MAST30034 ass2 BNPL group 28\")\n",
    "    .config(\"spark.sql.repl.eagerEval.enabled\", True) \n",
    "    .config(\"spark.sql.parquet.cacheMetadata\", \"true\")\n",
    "    .config(\"spark.sql.session.timeZone\", \"Etc/UTC\")\n",
    "    .getOrCreate()\n",
    ")"
   ]
  },
  {
   "cell_type": "code",
   "execution_count": 274,
   "metadata": {},
   "outputs": [],
   "source": [
    "import pandas as pd\n",
    "import numpy as np"
   ]
  },
  {
   "cell_type": "code",
   "execution_count": 276,
   "metadata": {},
   "outputs": [],
   "source": [
    "sa_pos_2016 = spark.read.csv('../data/tables/CG_POA_2016_SA2_2016.csv')\n",
    "sa_pos_2016.limit(5)\n",
    "from pyspark.sql import functions as F\n",
    "sa_pos_2016 = sa_pos_2016.filter(\n",
    "    (F.col('_c1') != 'null' )\n",
    "    & (F.col('_c5') != 'null')\n",
    ")\n",
    "cols = ['_c6','_c7','_c8','_c9','_c10','_c11','_c12']\n",
    "sa_pos_2016 = sa_pos_2016.drop(*cols)\n",
    "sa_pos_2016.write.mode('overwrite').csv('../data/tables/sa_pos_2016.csv')"
   ]
  },
  {
   "cell_type": "code",
   "execution_count": 277,
   "metadata": {},
   "outputs": [
    {
     "name": "stdout",
     "output_type": "stream",
     "text": [
      "5329\n"
     ]
    },
    {
     "data": {
      "text/html": [
       "<table border='1'>\n",
       "<tr><th>POA_CODE_2016</th><th>POA_NAME_2016</th><th>SA2_MAINCODE_2016</th><th>SA2_NAME_2016</th><th>RATIO</th><th>PERCENTAGE</th></tr>\n",
       "<tr><td>0800</td><td>0800</td><td>701011002</td><td>Darwin City</td><td>1</td><td>100</td></tr>\n",
       "<tr><td>0810</td><td>0810</td><td>701021010</td><td>Alawa</td><td>0.0638734</td><td>6.3873353</td></tr>\n",
       "<tr><td>0810</td><td>0810</td><td>701021013</td><td>Brinkin - Nakara</td><td>0.09882</td><td>9.8820035</td></tr>\n",
       "<tr><td>0810</td><td>0810</td><td>701021016</td><td>Coconut Grove</td><td>0.0916862</td><td>9.1686209</td></tr>\n",
       "<tr><td>0810</td><td>0810</td><td>701021018</td><td>Jingili</td><td>0.0531876</td><td>5.3187634</td></tr>\n",
       "<tr><td>0810</td><td>0810</td><td>701021021</td><td>Lyons (NT)</td><td>0.1442418</td><td>14.4241818</td></tr>\n",
       "<tr><td>0810</td><td>0810</td><td>701021023</td><td>Millner</td><td>0.0758533</td><td>7.5853347</td></tr>\n",
       "<tr><td>0810</td><td>0810</td><td>701021024</td><td>Moil</td><td>0.0600506</td><td>6.0050561</td></tr>\n",
       "<tr><td>0810</td><td>0810</td><td>701021025</td><td>Nightcliff</td><td>0.1155861</td><td>11.5586064</td></tr>\n",
       "<tr><td>0810</td><td>0810</td><td>701021026</td><td>Rapid Creek</td><td>0.0980375</td><td>9.8037459</td></tr>\n",
       "<tr><td>0810</td><td>0810</td><td>701021027</td><td>Tiwi</td><td>0.0774788</td><td>7.7478793</td></tr>\n",
       "<tr><td>0810</td><td>0810</td><td>701021028</td><td>Wagaman</td><td>0.0647463</td><td>6.4746257</td></tr>\n",
       "<tr><td>0810</td><td>0810</td><td>701021029</td><td>Wanguri</td><td>0.0564385</td><td>5.6438469</td></tr>\n",
       "<tr><td>0812</td><td>0812</td><td>701021011</td><td>Anula</td><td>0.1247743</td><td>12.477435</td></tr>\n",
       "<tr><td>0812</td><td>0812</td><td>701021019</td><td>Karama</td><td>0.2611235</td><td>26.1123499</td></tr>\n",
       "<tr><td>0812</td><td>0812</td><td>701021020</td><td>Leanyer</td><td>0.2440799</td><td>24.4079906</td></tr>\n",
       "<tr><td>0812</td><td>0812</td><td>701021022</td><td>Malak - Marrara</td><td>0.2416905</td><td>24.1690533</td></tr>\n",
       "<tr><td>0812</td><td>0812</td><td>701021030</td><td>Wulagi</td><td>0.1283317</td><td>12.833171</td></tr>\n",
       "<tr><td>0815</td><td>0815</td><td>701021013</td><td>Brinkin - Nakara</td><td>1</td><td>100</td></tr>\n",
       "<tr><td>0820</td><td>0820</td><td>701011001</td><td>Darwin Airport</td><td>0.0009253</td><td>0.0925307</td></tr>\n",
       "</table>\n",
       "only showing top 20 rows\n"
      ],
      "text/plain": [
       "+-------------+-------------+-----------------+----------------+---------+----------+\n",
       "|POA_CODE_2016|POA_NAME_2016|SA2_MAINCODE_2016|   SA2_NAME_2016|    RATIO|PERCENTAGE|\n",
       "+-------------+-------------+-----------------+----------------+---------+----------+\n",
       "|         0800|         0800|        701011002|     Darwin City|        1|       100|\n",
       "|         0810|         0810|        701021010|           Alawa|0.0638734| 6.3873353|\n",
       "|         0810|         0810|        701021013|Brinkin - Nakara|  0.09882| 9.8820035|\n",
       "|         0810|         0810|        701021016|   Coconut Grove|0.0916862| 9.1686209|\n",
       "|         0810|         0810|        701021018|         Jingili|0.0531876| 5.3187634|\n",
       "|         0810|         0810|        701021021|      Lyons (NT)|0.1442418|14.4241818|\n",
       "|         0810|         0810|        701021023|         Millner|0.0758533| 7.5853347|\n",
       "|         0810|         0810|        701021024|            Moil|0.0600506| 6.0050561|\n",
       "|         0810|         0810|        701021025|      Nightcliff|0.1155861|11.5586064|\n",
       "|         0810|         0810|        701021026|     Rapid Creek|0.0980375| 9.8037459|\n",
       "|         0810|         0810|        701021027|            Tiwi|0.0774788| 7.7478793|\n",
       "|         0810|         0810|        701021028|         Wagaman|0.0647463| 6.4746257|\n",
       "|         0810|         0810|        701021029|         Wanguri|0.0564385| 5.6438469|\n",
       "|         0812|         0812|        701021011|           Anula|0.1247743| 12.477435|\n",
       "|         0812|         0812|        701021019|          Karama|0.2611235|26.1123499|\n",
       "|         0812|         0812|        701021020|         Leanyer|0.2440799|24.4079906|\n",
       "|         0812|         0812|        701021022| Malak - Marrara|0.2416905|24.1690533|\n",
       "|         0812|         0812|        701021030|          Wulagi|0.1283317| 12.833171|\n",
       "|         0815|         0815|        701021013|Brinkin - Nakara|        1|       100|\n",
       "|         0820|         0820|        701011001|  Darwin Airport|0.0009253| 0.0925307|\n",
       "+-------------+-------------+-----------------+----------------+---------+----------+\n",
       "only showing top 20 rows"
      ]
     },
     "execution_count": 277,
     "metadata": {},
     "output_type": "execute_result"
    }
   ],
   "source": [
    "sa_pos_2016 = spark.read.csv('../data/tables/sa_pos_2016.csv',header=True)\n",
    "print(sa_pos_2016.count())\n",
    "sa_pos_2016"
   ]
  },
  {
   "cell_type": "code",
   "execution_count": 246,
   "metadata": {},
   "outputs": [],
   "source": [
    "#sa_pos_2016 = sa_pos_2016.select('postcode','SA2_MAINCODE_2016')\n",
    "#sa_pos_2016.limit(5)"
   ]
  },
  {
   "cell_type": "code",
   "execution_count": 247,
   "metadata": {},
   "outputs": [],
   "source": [
    "#sa_pos_2016.write.mode('overwrite').csv('../data/tables/sa_pos_2016.csv')"
   ]
  },
  {
   "cell_type": "code",
   "execution_count": 248,
   "metadata": {},
   "outputs": [],
   "source": [
    "#sa_pos_2016 = spark.read.csv('../data/tables/sa_pos_2016.csv',header=True)\n",
    "#sa_pos_2016 = sa_pos_2016.select('POA_CODE_2016','SA2_MAINCODE_2016')\n",
    "#sa_pos_2016.limit(5)"
   ]
  },
  {
   "cell_type": "code",
   "execution_count": 249,
   "metadata": {},
   "outputs": [],
   "source": [
    "# sa_pos_2016 = sa_pos_2016.select('POA_CODE_2016').distinct()\n",
    "# print(sa_pos_2016.count(),len(sa_pos_2016.columns))"
   ]
  },
  {
   "cell_type": "code",
   "execution_count": 296,
   "metadata": {},
   "outputs": [
    {
     "name": "stdout",
     "output_type": "stream",
     "text": [
      "2887\n"
     ]
    }
   ],
   "source": [
    "poa_2016_2021 = spark.read.csv('../data/tables/poa_2016_2021.csv',header=True)\n",
    "sa2_2016_2021 = spark.read.csv('../data/tables/sa2_2016_2021.csv',header=True)\n",
    "#poa_2016_2021 = poa_2016_2021.select('POA_CODE_2016','POA_CODE_2021','BMOS_NULL_FLAG')\n",
    "#sa2_2016_2021 = sa2_2016_2021.select('SA2_MAINCODE_2016','SA2_CODE_2021')\n",
    "poa_2016_2021.limit(3)\n",
    "print(poa_2016_2021.count())\n"
   ]
  },
  {
   "cell_type": "code",
   "execution_count": 298,
   "metadata": {},
   "outputs": [
    {
     "data": {
      "text/html": [
       "<table border='1'>\n",
       "<tr><th>SA2_MAINCODE_2016</th><th>SA2_NAME_2016</th><th>SA2_CODE_2021</th><th>SA2_NAME_2021</th><th>RATIO_FROM_TO</th><th>INDIV_TO_REGION_QLTY_INDICATOR</th><th>OVERALL_QUALITY_INDICATOR</th><th>BMOS_NULL_FLAG</th></tr>\n",
       "<tr><td>101021007</td><td>Braidwood</td><td>101021007</td><td>Braidwood</td><td>1</td><td>Good</td><td>Good</td><td>0</td></tr>\n",
       "<tr><td>101021008</td><td>Karabar</td><td>101021008</td><td>Karabar</td><td>1</td><td>Good</td><td>Good</td><td>0</td></tr>\n",
       "<tr><td>101021009</td><td>Queanbeyan</td><td>101021009</td><td>Queanbeyan</td><td>1</td><td>Good</td><td>Good</td><td>0</td></tr>\n",
       "<tr><td>101021010</td><td>Queanbeyan - East</td><td>101021010</td><td>Queanbeyan - East</td><td>1</td><td>Good</td><td>Good</td><td>0</td></tr>\n",
       "<tr><td>101021011</td><td>Queanbeyan Region</td><td>101021610</td><td>Googong</td><td>0.0967097</td><td>Poor</td><td>Good</td><td>0</td></tr>\n",
       "<tr><td>101021011</td><td>Queanbeyan Region</td><td>101021611</td><td>Queanbeyan Surrounds</td><td>0.9032903</td><td>Good</td><td>Good</td><td>0</td></tr>\n",
       "<tr><td>101021012</td><td>Queanbeyan West -...</td><td>101021012</td><td>Queanbeyan West -...</td><td>1</td><td>Good</td><td>Good</td><td>0</td></tr>\n",
       "<tr><td>101031013</td><td>Bombala</td><td>101031013</td><td>Bombala</td><td>1</td><td>Good</td><td>Good</td><td>0</td></tr>\n",
       "<tr><td>101031014</td><td>Cooma</td><td>101031014</td><td>Cooma</td><td>1</td><td>Good</td><td>Good</td><td>0</td></tr>\n",
       "<tr><td>101031015</td><td>Cooma Region</td><td>101031015</td><td>Cooma Surrounds</td><td>1</td><td>Good</td><td>Good</td><td>0</td></tr>\n",
       "<tr><td>101031016</td><td>Jindabyne - Berri...</td><td>101031016</td><td>Jindabyne - Berri...</td><td>1</td><td>Good</td><td>Good</td><td>0</td></tr>\n",
       "<tr><td>101041017</td><td>Batemans Bay</td><td>101041017</td><td>Batemans Bay</td><td>1</td><td>Good</td><td>Good</td><td>0</td></tr>\n",
       "<tr><td>101041018</td><td>Batemans Bay - South</td><td>101041018</td><td>Batemans Bay - South</td><td>1</td><td>Good</td><td>Good</td><td>0</td></tr>\n",
       "<tr><td>101041019</td><td>Bega - Tathra</td><td>101041019</td><td>Bega - Tathra</td><td>1</td><td>Good</td><td>Good</td><td>0</td></tr>\n",
       "<tr><td>101041020</td><td>Bega-Eden Hinterland</td><td>101041020</td><td>Bega-Eden Hinterland</td><td>1</td><td>Good</td><td>Good</td><td>0</td></tr>\n",
       "<tr><td>101041021</td><td>Broulee - Tomakin</td><td>101041021</td><td>Broulee - Tomakin</td><td>1</td><td>Good</td><td>Good</td><td>0</td></tr>\n",
       "<tr><td>101041022</td><td>Deua - Wadbilliga</td><td>101041022</td><td>Deua - Wadbilliga</td><td>1</td><td>Good</td><td>Good</td><td>0</td></tr>\n",
       "<tr><td>101041023</td><td>Eden</td><td>101041023</td><td>Eden</td><td>1</td><td>Good</td><td>Good</td><td>0</td></tr>\n",
       "<tr><td>101041024</td><td>Eurobodalla Hinte...</td><td>101041024</td><td>Eurobodalla Hinte...</td><td>1</td><td>Good</td><td>Good</td><td>0</td></tr>\n",
       "<tr><td>101041025</td><td>Merimbula - Tura ...</td><td>101041025</td><td>Merimbula - Tura ...</td><td>1</td><td>Good</td><td>Good</td><td>0</td></tr>\n",
       "</table>\n",
       "only showing top 20 rows\n"
      ],
      "text/plain": [
       "+-----------------+--------------------+-------------+--------------------+-------------+------------------------------+-------------------------+--------------+\n",
       "|SA2_MAINCODE_2016|       SA2_NAME_2016|SA2_CODE_2021|       SA2_NAME_2021|RATIO_FROM_TO|INDIV_TO_REGION_QLTY_INDICATOR|OVERALL_QUALITY_INDICATOR|BMOS_NULL_FLAG|\n",
       "+-----------------+--------------------+-------------+--------------------+-------------+------------------------------+-------------------------+--------------+\n",
       "|        101021007|           Braidwood|    101021007|           Braidwood|            1|                          Good|                     Good|             0|\n",
       "|        101021008|             Karabar|    101021008|             Karabar|            1|                          Good|                     Good|             0|\n",
       "|        101021009|          Queanbeyan|    101021009|          Queanbeyan|            1|                          Good|                     Good|             0|\n",
       "|        101021010|   Queanbeyan - East|    101021010|   Queanbeyan - East|            1|                          Good|                     Good|             0|\n",
       "|        101021011|   Queanbeyan Region|    101021610|             Googong|    0.0967097|                          Poor|                     Good|             0|\n",
       "|        101021011|   Queanbeyan Region|    101021611|Queanbeyan Surrounds|    0.9032903|                          Good|                     Good|             0|\n",
       "|        101021012|Queanbeyan West -...|    101021012|Queanbeyan West -...|            1|                          Good|                     Good|             0|\n",
       "|        101031013|             Bombala|    101031013|             Bombala|            1|                          Good|                     Good|             0|\n",
       "|        101031014|               Cooma|    101031014|               Cooma|            1|                          Good|                     Good|             0|\n",
       "|        101031015|        Cooma Region|    101031015|     Cooma Surrounds|            1|                          Good|                     Good|             0|\n",
       "|        101031016|Jindabyne - Berri...|    101031016|Jindabyne - Berri...|            1|                          Good|                     Good|             0|\n",
       "|        101041017|        Batemans Bay|    101041017|        Batemans Bay|            1|                          Good|                     Good|             0|\n",
       "|        101041018|Batemans Bay - South|    101041018|Batemans Bay - South|            1|                          Good|                     Good|             0|\n",
       "|        101041019|       Bega - Tathra|    101041019|       Bega - Tathra|            1|                          Good|                     Good|             0|\n",
       "|        101041020|Bega-Eden Hinterland|    101041020|Bega-Eden Hinterland|            1|                          Good|                     Good|             0|\n",
       "|        101041021|   Broulee - Tomakin|    101041021|   Broulee - Tomakin|            1|                          Good|                     Good|             0|\n",
       "|        101041022|   Deua - Wadbilliga|    101041022|   Deua - Wadbilliga|            1|                          Good|                     Good|             0|\n",
       "|        101041023|                Eden|    101041023|                Eden|            1|                          Good|                     Good|             0|\n",
       "|        101041024|Eurobodalla Hinte...|    101041024|Eurobodalla Hinte...|            1|                          Good|                     Good|             0|\n",
       "|        101041025|Merimbula - Tura ...|    101041025|Merimbula - Tura ...|            1|                          Good|                     Good|             0|\n",
       "+-----------------+--------------------+-------------+--------------------+-------------+------------------------------+-------------------------+--------------+\n",
       "only showing top 20 rows"
      ]
     },
     "execution_count": 298,
     "metadata": {},
     "output_type": "execute_result"
    }
   ],
   "source": [
    "sa2_2016_2021"
   ]
  },
  {
   "cell_type": "code",
   "execution_count": 297,
   "metadata": {},
   "outputs": [
    {
     "data": {
      "text/html": [
       "<table border='1'>\n",
       "<tr><th>POA_CODE_2016</th><th>POA_NAME_2016</th><th>POA_CODE_2021</th><th>POA_NAME_2021</th><th>RATIO_FROM_TO</th><th>INDIV_TO_REGION_QLTY_INDICATOR</th><th>OVERALL_QUALITY_INDICATOR</th><th>BMOS_NULL_FLAG</th></tr>\n",
       "<tr><td>0800</td><td>0800</td><td>0800</td><td>0800</td><td>1</td><td>Good</td><td>Good</td><td>0</td></tr>\n",
       "<tr><td>0810</td><td>0810</td><td>0810</td><td>0810</td><td>1</td><td>Good</td><td>Good</td><td>0</td></tr>\n",
       "<tr><td>0812</td><td>0812</td><td>0812</td><td>0812</td><td>1</td><td>Good</td><td>Good</td><td>0</td></tr>\n",
       "<tr><td>0815</td><td>0815</td><td>0810</td><td>0810</td><td>1</td><td>Good</td><td>Good</td><td>0</td></tr>\n",
       "<tr><td>0820</td><td>0820</td><td>0820</td><td>0820</td><td>1</td><td>Good</td><td>Good</td><td>0</td></tr>\n",
       "<tr><td>0822</td><td>0822</td><td>0837</td><td>0837</td><td>0.00291</td><td>Acceptable</td><td>Good</td><td>1</td></tr>\n",
       "<tr><td>0822</td><td>0822</td><td>0822</td><td>0822</td><td>0.99709</td><td>Good</td><td>Good</td><td>0</td></tr>\n",
       "<tr><td>0828</td><td>0828</td><td>0828</td><td>0828</td><td>1</td><td>Good</td><td>Good</td><td>0</td></tr>\n",
       "<tr><td>0829</td><td>0829</td><td>0829</td><td>0829</td><td>1</td><td>Good</td><td>Good</td><td>0</td></tr>\n",
       "<tr><td>0830</td><td>0830</td><td>0830</td><td>0830</td><td>1</td><td>Good</td><td>Good</td><td>0</td></tr>\n",
       "<tr><td>0832</td><td>0832</td><td>0832</td><td>0832</td><td>1</td><td>Good</td><td>Good</td><td>0</td></tr>\n",
       "<tr><td>0834</td><td>0834</td><td>0834</td><td>0834</td><td>1</td><td>Good</td><td>Good</td><td>0</td></tr>\n",
       "<tr><td>0835</td><td>0835</td><td>0835</td><td>0835</td><td>1</td><td>Good</td><td>Good</td><td>0</td></tr>\n",
       "<tr><td>0836</td><td>0836</td><td>0836</td><td>0836</td><td>1</td><td>Good</td><td>Good</td><td>0</td></tr>\n",
       "<tr><td>0837</td><td>0837</td><td>0837</td><td>0837</td><td>1</td><td>Acceptable</td><td>Good</td><td>0</td></tr>\n",
       "<tr><td>0838</td><td>0838</td><td>0838</td><td>0838</td><td>1</td><td>Good</td><td>Good</td><td>0</td></tr>\n",
       "<tr><td>0839</td><td>0839</td><td>0839</td><td>0839</td><td>1</td><td>Good</td><td>Good</td><td>0</td></tr>\n",
       "<tr><td>0840</td><td>0840</td><td>0840</td><td>0840</td><td>1</td><td>Good</td><td>Good</td><td>0</td></tr>\n",
       "<tr><td>0841</td><td>0841</td><td>0841</td><td>0841</td><td>1</td><td>Good</td><td>Good</td><td>0</td></tr>\n",
       "<tr><td>0845</td><td>0845</td><td>0845</td><td>0845</td><td>1</td><td>Good</td><td>Good</td><td>0</td></tr>\n",
       "</table>\n",
       "only showing top 20 rows\n"
      ],
      "text/plain": [
       "+-------------+-------------+-------------+-------------+-------------+------------------------------+-------------------------+--------------+\n",
       "|POA_CODE_2016|POA_NAME_2016|POA_CODE_2021|POA_NAME_2021|RATIO_FROM_TO|INDIV_TO_REGION_QLTY_INDICATOR|OVERALL_QUALITY_INDICATOR|BMOS_NULL_FLAG|\n",
       "+-------------+-------------+-------------+-------------+-------------+------------------------------+-------------------------+--------------+\n",
       "|         0800|         0800|         0800|         0800|            1|                          Good|                     Good|             0|\n",
       "|         0810|         0810|         0810|         0810|            1|                          Good|                     Good|             0|\n",
       "|         0812|         0812|         0812|         0812|            1|                          Good|                     Good|             0|\n",
       "|         0815|         0815|         0810|         0810|            1|                          Good|                     Good|             0|\n",
       "|         0820|         0820|         0820|         0820|            1|                          Good|                     Good|             0|\n",
       "|         0822|         0822|         0837|         0837|      0.00291|                    Acceptable|                     Good|             1|\n",
       "|         0822|         0822|         0822|         0822|      0.99709|                          Good|                     Good|             0|\n",
       "|         0828|         0828|         0828|         0828|            1|                          Good|                     Good|             0|\n",
       "|         0829|         0829|         0829|         0829|            1|                          Good|                     Good|             0|\n",
       "|         0830|         0830|         0830|         0830|            1|                          Good|                     Good|             0|\n",
       "|         0832|         0832|         0832|         0832|            1|                          Good|                     Good|             0|\n",
       "|         0834|         0834|         0834|         0834|            1|                          Good|                     Good|             0|\n",
       "|         0835|         0835|         0835|         0835|            1|                          Good|                     Good|             0|\n",
       "|         0836|         0836|         0836|         0836|            1|                          Good|                     Good|             0|\n",
       "|         0837|         0837|         0837|         0837|            1|                    Acceptable|                     Good|             0|\n",
       "|         0838|         0838|         0838|         0838|            1|                          Good|                     Good|             0|\n",
       "|         0839|         0839|         0839|         0839|            1|                          Good|                     Good|             0|\n",
       "|         0840|         0840|         0840|         0840|            1|                          Good|                     Good|             0|\n",
       "|         0841|         0841|         0841|         0841|            1|                          Good|                     Good|             0|\n",
       "|         0845|         0845|         0845|         0845|            1|                          Good|                     Good|             0|\n",
       "+-------------+-------------+-------------+-------------+-------------+------------------------------+-------------------------+--------------+\n",
       "only showing top 20 rows"
      ]
     },
     "execution_count": 297,
     "metadata": {},
     "output_type": "execute_result"
    }
   ],
   "source": [
    "poa_2016_2021"
   ]
  },
  {
   "cell_type": "code",
   "execution_count": 291,
   "metadata": {},
   "outputs": [
    {
     "data": {
      "text/html": [
       "<table border='1'>\n",
       "<tr><th>POA_CODE_2016</th><th>POA_NAME_2016</th><th>SA2_MAINCODE_2016</th><th>SA2_NAME_2016</th><th>RATIO</th><th>PERCENTAGE</th><th>POA_CODE_2021</th></tr>\n",
       "<tr><td>0800</td><td>0800</td><td>701011002</td><td>Darwin City</td><td>1</td><td>100</td><td>0800</td></tr>\n",
       "<tr><td>0810</td><td>0810</td><td>701021010</td><td>Alawa</td><td>0.0638734</td><td>6.3873353</td><td>0810</td></tr>\n",
       "<tr><td>0810</td><td>0810</td><td>701021013</td><td>Brinkin - Nakara</td><td>0.09882</td><td>9.8820035</td><td>0810</td></tr>\n",
       "<tr><td>0810</td><td>0810</td><td>701021016</td><td>Coconut Grove</td><td>0.0916862</td><td>9.1686209</td><td>0810</td></tr>\n",
       "<tr><td>0810</td><td>0810</td><td>701021018</td><td>Jingili</td><td>0.0531876</td><td>5.3187634</td><td>0810</td></tr>\n",
       "</table>\n"
      ],
      "text/plain": [
       "+-------------+-------------+-----------------+----------------+---------+----------+-------------+\n",
       "|POA_CODE_2016|POA_NAME_2016|SA2_MAINCODE_2016|   SA2_NAME_2016|    RATIO|PERCENTAGE|POA_CODE_2021|\n",
       "+-------------+-------------+-----------------+----------------+---------+----------+-------------+\n",
       "|         0800|         0800|        701011002|     Darwin City|        1|       100|         0800|\n",
       "|         0810|         0810|        701021010|           Alawa|0.0638734| 6.3873353|         0810|\n",
       "|         0810|         0810|        701021013|Brinkin - Nakara|  0.09882| 9.8820035|         0810|\n",
       "|         0810|         0810|        701021016|   Coconut Grove|0.0916862| 9.1686209|         0810|\n",
       "|         0810|         0810|        701021018|         Jingili|0.0531876| 5.3187634|         0810|\n",
       "+-------------+-------------+-----------------+----------------+---------+----------+-------------+"
      ]
     },
     "execution_count": 291,
     "metadata": {},
     "output_type": "execute_result"
    }
   ],
   "source": [
    "# merge them by postcode\n",
    "table = sa_pos_2016.join(poa_2016_2021,sa_pos_2016.POA_CODE_2016 == poa_2016_2021.POA_CODE_2016,'inner').drop(poa_2016_2021.POA_CODE_2016)\n",
    "table.limit(5)"
   ]
  },
  {
   "cell_type": "code",
   "execution_count": 292,
   "metadata": {},
   "outputs": [
    {
     "data": {
      "text/html": [
       "<table border='1'>\n",
       "<tr><th>POA_CODE_2016</th><th>POA_NAME_2016</th><th>SA2_MAINCODE_2016</th><th>SA2_NAME_2016</th><th>RATIO</th><th>PERCENTAGE</th><th>POA_CODE_2021</th><th>SA2_CODE_2021</th></tr>\n",
       "<tr><td>0800</td><td>0800</td><td>701011002</td><td>Darwin City</td><td>1</td><td>100</td><td>0800</td><td>701011002</td></tr>\n",
       "<tr><td>0810</td><td>0810</td><td>701021010</td><td>Alawa</td><td>0.0638734</td><td>6.3873353</td><td>0810</td><td>701021010</td></tr>\n",
       "<tr><td>0810</td><td>0810</td><td>701021013</td><td>Brinkin - Nakara</td><td>0.09882</td><td>9.8820035</td><td>0810</td><td>701021013</td></tr>\n",
       "<tr><td>0810</td><td>0810</td><td>701021016</td><td>Coconut Grove</td><td>0.0916862</td><td>9.1686209</td><td>0810</td><td>701021016</td></tr>\n",
       "<tr><td>0810</td><td>0810</td><td>701021018</td><td>Jingili</td><td>0.0531876</td><td>5.3187634</td><td>0810</td><td>701021018</td></tr>\n",
       "</table>\n"
      ],
      "text/plain": [
       "+-------------+-------------+-----------------+----------------+---------+----------+-------------+-------------+\n",
       "|POA_CODE_2016|POA_NAME_2016|SA2_MAINCODE_2016|   SA2_NAME_2016|    RATIO|PERCENTAGE|POA_CODE_2021|SA2_CODE_2021|\n",
       "+-------------+-------------+-----------------+----------------+---------+----------+-------------+-------------+\n",
       "|         0800|         0800|        701011002|     Darwin City|        1|       100|         0800|    701011002|\n",
       "|         0810|         0810|        701021010|           Alawa|0.0638734| 6.3873353|         0810|    701021010|\n",
       "|         0810|         0810|        701021013|Brinkin - Nakara|  0.09882| 9.8820035|         0810|    701021013|\n",
       "|         0810|         0810|        701021016|   Coconut Grove|0.0916862| 9.1686209|         0810|    701021016|\n",
       "|         0810|         0810|        701021018|         Jingili|0.0531876| 5.3187634|         0810|    701021018|\n",
       "+-------------+-------------+-----------------+----------------+---------+----------+-------------+-------------+"
      ]
     },
     "execution_count": 292,
     "metadata": {},
     "output_type": "execute_result"
    }
   ],
   "source": [
    "#  merge them by sa2 code\n",
    "table = table.join(sa2_2016_2021,table.SA2_MAINCODE_2016 == sa2_2016_2021.SA2_MAINCODE_2016,'inner').drop(sa2_2016_2021.SA2_MAINCODE_2016)\n",
    "table.limit(5)"
   ]
  },
  {
   "cell_type": "code",
   "execution_count": 293,
   "metadata": {},
   "outputs": [
    {
     "name": "stdout",
     "output_type": "stream",
     "text": [
      "2641 1\n"
     ]
    }
   ],
   "source": [
    "table = table.drop('POA_CODE_2016','SA2_MAINCODE_2016')\n",
    "table = table.select('POA_CODE_2021').distinct()\n",
    "print(table.count(),len(table.columns))"
   ]
  },
  {
   "cell_type": "code",
   "execution_count": 254,
   "metadata": {},
   "outputs": [],
   "source": [
    "table.write.mode('overwrite').option(\"header\",True).csv('../data/tables/sa_pos_2021.csv')"
   ]
  }
 ],
 "metadata": {
  "kernelspec": {
   "display_name": "Python 3.8.13 ('ads')",
   "language": "python",
   "name": "python3"
  },
  "language_info": {
   "codemirror_mode": {
    "name": "ipython",
    "version": 3
   },
   "file_extension": ".py",
   "mimetype": "text/x-python",
   "name": "python",
   "nbconvert_exporter": "python",
   "pygments_lexer": "ipython3",
   "version": "3.8.13"
  },
  "orig_nbformat": 4,
  "vscode": {
   "interpreter": {
    "hash": "28b134390af12c053535df51cda6b999b61cce60830e832eccdb1fcebc3647ab"
   }
  }
 },
 "nbformat": 4,
 "nbformat_minor": 2
}
