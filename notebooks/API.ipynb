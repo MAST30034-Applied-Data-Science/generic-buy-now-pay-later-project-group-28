{
 "cells": [
  {
   "cell_type": "code",
   "execution_count": 32,
   "metadata": {},
   "outputs": [],
   "source": [
    "#import spark\n",
    "from pyspark.sql import SparkSession\n",
    "# Create a spark session (which will run spark jobs)\n",
    "spark = (\n",
    "    SparkSession.builder.appName(\"MAST30034 ass2 BNPL group 28\")\n",
    "    .config(\"spark.sql.repl.eagerEval.enabled\", True) \n",
    "    .config(\"spark.sql.parquet.cacheMetadata\", \"true\")\n",
    "    .config(\"spark.sql.session.timeZone\", \"Etc/UTC\")\n",
    "    .getOrCreate()\n",
    ")"
   ]
  },
  {
   "cell_type": "code",
   "execution_count": 33,
   "metadata": {},
   "outputs": [],
   "source": [
    "import pandas as pd\n",
    "import numpy as np"
   ]
  },
  {
   "cell_type": "code",
   "execution_count": 34,
   "metadata": {},
   "outputs": [],
   "source": [
    "sa_pos_2016 = spark.read.csv('../data/tables/CG_POA_2016_SA2_2016.csv')\n",
    "sa_pos_2016.limit(5)\n",
    "from pyspark.sql import functions as F\n",
    "sa_pos_2016 = sa_pos_2016.filter(\n",
    "    (F.col('_c1') != 'null' )\n",
    "    & (F.col('_c5') != 'null')\n",
    ")\n",
    "cols = ['_c6','_c7','_c8','_c9','_c10','_c11','_c12']\n",
    "sa_pos_2016 = sa_pos_2016.drop(*cols)\n",
    "sa_pos_2016.write.mode('overwrite').csv('../data/tables/sa_pos_2016.csv')"
   ]
  },
  {
   "cell_type": "code",
   "execution_count": 35,
   "metadata": {},
   "outputs": [],
   "source": [
    "sa_pos_2016 = spark.read.csv('../data/tables/sa_pos_2016.csv',header=True)\n",
    "sa_pos_2016 = sa_pos_2016.select('POA_CODE_2016','SA2_MAINCODE_2016')"
   ]
  },
  {
   "cell_type": "code",
   "execution_count": 36,
   "metadata": {},
   "outputs": [],
   "source": [
    "#sa_pos_2016 = sa_pos_2016.select('postcode','SA2_MAINCODE_2016')\n",
    "#sa_pos_2016.limit(5)"
   ]
  },
  {
   "cell_type": "code",
   "execution_count": 37,
   "metadata": {},
   "outputs": [],
   "source": [
    "#sa_pos_2016.write.mode('overwrite').csv('../data/tables/sa_pos_2016.csv')"
   ]
  },
  {
   "cell_type": "code",
   "execution_count": 38,
   "metadata": {},
   "outputs": [],
   "source": [
    "#sa_pos_2016 = spark.read.csv('../data/tables/sa_pos_2016.csv',header=True)\n",
    "#sa_pos_2016 = sa_pos_2016.select('POA_CODE_2016','SA2_MAINCODE_2016')\n",
    "#sa_pos_2016.limit(5)"
   ]
  },
  {
   "cell_type": "code",
   "execution_count": 39,
   "metadata": {},
   "outputs": [],
   "source": [
    "# sa_pos_2016 = sa_pos_2016.select('POA_CODE_2016').distinct()\n",
    "# print(sa_pos_2016.count(),len(sa_pos_2016.columns))"
   ]
  },
  {
   "cell_type": "code",
   "execution_count": 40,
   "metadata": {},
   "outputs": [
    {
     "name": "stdout",
     "output_type": "stream",
     "text": [
      "2887\n"
     ]
    }
   ],
   "source": [
    "poa_2016_2021 = spark.read.csv('../data/tables/poa_2016_2021.csv',header=True)\n",
    "sa2_2016_2021 = spark.read.csv('../data/tables/sa2_2016_2021.csv',header=True)\n",
    "poa_2016_2021 = poa_2016_2021.select('POA_CODE_2016','POA_CODE_2021')\n",
    "sa2_2016_2021 = sa2_2016_2021.select('SA2_MAINCODE_2016','SA2_CODE_2021')\n",
    "poa_2016_2021.limit(3)\n",
    "print(poa_2016_2021.count())\n"
   ]
  },
  {
   "cell_type": "code",
   "execution_count": 41,
   "metadata": {},
   "outputs": [
    {
     "data": {
      "text/html": [
       "<table border='1'>\n",
       "<tr><th>SA2_MAINCODE_2016</th><th>SA2_CODE_2021</th></tr>\n",
       "<tr><td>101021007</td><td>101021007</td></tr>\n",
       "<tr><td>101021008</td><td>101021008</td></tr>\n",
       "<tr><td>101021009</td><td>101021009</td></tr>\n",
       "<tr><td>101021010</td><td>101021010</td></tr>\n",
       "<tr><td>101021011</td><td>101021610</td></tr>\n",
       "<tr><td>101021011</td><td>101021611</td></tr>\n",
       "<tr><td>101021012</td><td>101021012</td></tr>\n",
       "<tr><td>101031013</td><td>101031013</td></tr>\n",
       "<tr><td>101031014</td><td>101031014</td></tr>\n",
       "<tr><td>101031015</td><td>101031015</td></tr>\n",
       "<tr><td>101031016</td><td>101031016</td></tr>\n",
       "<tr><td>101041017</td><td>101041017</td></tr>\n",
       "<tr><td>101041018</td><td>101041018</td></tr>\n",
       "<tr><td>101041019</td><td>101041019</td></tr>\n",
       "<tr><td>101041020</td><td>101041020</td></tr>\n",
       "<tr><td>101041021</td><td>101041021</td></tr>\n",
       "<tr><td>101041022</td><td>101041022</td></tr>\n",
       "<tr><td>101041023</td><td>101041023</td></tr>\n",
       "<tr><td>101041024</td><td>101041024</td></tr>\n",
       "<tr><td>101041025</td><td>101041025</td></tr>\n",
       "</table>\n",
       "only showing top 20 rows\n"
      ],
      "text/plain": [
       "+-----------------+-------------+\n",
       "|SA2_MAINCODE_2016|SA2_CODE_2021|\n",
       "+-----------------+-------------+\n",
       "|        101021007|    101021007|\n",
       "|        101021008|    101021008|\n",
       "|        101021009|    101021009|\n",
       "|        101021010|    101021010|\n",
       "|        101021011|    101021610|\n",
       "|        101021011|    101021611|\n",
       "|        101021012|    101021012|\n",
       "|        101031013|    101031013|\n",
       "|        101031014|    101031014|\n",
       "|        101031015|    101031015|\n",
       "|        101031016|    101031016|\n",
       "|        101041017|    101041017|\n",
       "|        101041018|    101041018|\n",
       "|        101041019|    101041019|\n",
       "|        101041020|    101041020|\n",
       "|        101041021|    101041021|\n",
       "|        101041022|    101041022|\n",
       "|        101041023|    101041023|\n",
       "|        101041024|    101041024|\n",
       "|        101041025|    101041025|\n",
       "+-----------------+-------------+\n",
       "only showing top 20 rows"
      ]
     },
     "execution_count": 41,
     "metadata": {},
     "output_type": "execute_result"
    }
   ],
   "source": [
    "sa2_2016_2021"
   ]
  },
  {
   "cell_type": "code",
   "execution_count": 42,
   "metadata": {},
   "outputs": [
    {
     "data": {
      "text/html": [
       "<table border='1'>\n",
       "<tr><th>POA_CODE_2016</th><th>POA_CODE_2021</th></tr>\n",
       "<tr><td>0800</td><td>0800</td></tr>\n",
       "<tr><td>0810</td><td>0810</td></tr>\n",
       "<tr><td>0812</td><td>0812</td></tr>\n",
       "<tr><td>0815</td><td>0810</td></tr>\n",
       "<tr><td>0820</td><td>0820</td></tr>\n",
       "<tr><td>0822</td><td>0837</td></tr>\n",
       "<tr><td>0822</td><td>0822</td></tr>\n",
       "<tr><td>0828</td><td>0828</td></tr>\n",
       "<tr><td>0829</td><td>0829</td></tr>\n",
       "<tr><td>0830</td><td>0830</td></tr>\n",
       "<tr><td>0832</td><td>0832</td></tr>\n",
       "<tr><td>0834</td><td>0834</td></tr>\n",
       "<tr><td>0835</td><td>0835</td></tr>\n",
       "<tr><td>0836</td><td>0836</td></tr>\n",
       "<tr><td>0837</td><td>0837</td></tr>\n",
       "<tr><td>0838</td><td>0838</td></tr>\n",
       "<tr><td>0839</td><td>0839</td></tr>\n",
       "<tr><td>0840</td><td>0840</td></tr>\n",
       "<tr><td>0841</td><td>0841</td></tr>\n",
       "<tr><td>0845</td><td>0845</td></tr>\n",
       "</table>\n",
       "only showing top 20 rows\n"
      ],
      "text/plain": [
       "+-------------+-------------+\n",
       "|POA_CODE_2016|POA_CODE_2021|\n",
       "+-------------+-------------+\n",
       "|         0800|         0800|\n",
       "|         0810|         0810|\n",
       "|         0812|         0812|\n",
       "|         0815|         0810|\n",
       "|         0820|         0820|\n",
       "|         0822|         0837|\n",
       "|         0822|         0822|\n",
       "|         0828|         0828|\n",
       "|         0829|         0829|\n",
       "|         0830|         0830|\n",
       "|         0832|         0832|\n",
       "|         0834|         0834|\n",
       "|         0835|         0835|\n",
       "|         0836|         0836|\n",
       "|         0837|         0837|\n",
       "|         0838|         0838|\n",
       "|         0839|         0839|\n",
       "|         0840|         0840|\n",
       "|         0841|         0841|\n",
       "|         0845|         0845|\n",
       "+-------------+-------------+\n",
       "only showing top 20 rows"
      ]
     },
     "execution_count": 42,
     "metadata": {},
     "output_type": "execute_result"
    }
   ],
   "source": [
    "poa_2016_2021"
   ]
  },
  {
   "cell_type": "code",
   "execution_count": 43,
   "metadata": {},
   "outputs": [
    {
     "data": {
      "text/html": [
       "<table border='1'>\n",
       "<tr><th>POA_CODE_2016</th><th>SA2_MAINCODE_2016</th><th>POA_CODE_2021</th></tr>\n",
       "<tr><td>0800</td><td>701011002</td><td>0800</td></tr>\n",
       "<tr><td>0810</td><td>701021010</td><td>0810</td></tr>\n",
       "<tr><td>0810</td><td>701021013</td><td>0810</td></tr>\n",
       "<tr><td>0810</td><td>701021016</td><td>0810</td></tr>\n",
       "<tr><td>0810</td><td>701021018</td><td>0810</td></tr>\n",
       "</table>\n"
      ],
      "text/plain": [
       "+-------------+-----------------+-------------+\n",
       "|POA_CODE_2016|SA2_MAINCODE_2016|POA_CODE_2021|\n",
       "+-------------+-----------------+-------------+\n",
       "|         0800|        701011002|         0800|\n",
       "|         0810|        701021010|         0810|\n",
       "|         0810|        701021013|         0810|\n",
       "|         0810|        701021016|         0810|\n",
       "|         0810|        701021018|         0810|\n",
       "+-------------+-----------------+-------------+"
      ]
     },
     "execution_count": 43,
     "metadata": {},
     "output_type": "execute_result"
    }
   ],
   "source": [
    "# merge them by postcode\n",
    "table = sa_pos_2016.join(poa_2016_2021,sa_pos_2016.POA_CODE_2016 == poa_2016_2021.POA_CODE_2016,'inner').drop(poa_2016_2021.POA_CODE_2016)\n",
    "table.limit(5)"
   ]
  },
  {
   "cell_type": "code",
   "execution_count": 44,
   "metadata": {},
   "outputs": [
    {
     "data": {
      "text/html": [
       "<table border='1'>\n",
       "<tr><th>POA_CODE_2016</th><th>SA2_MAINCODE_2016</th><th>POA_CODE_2021</th><th>SA2_CODE_2021</th></tr>\n",
       "<tr><td>0800</td><td>701011002</td><td>0800</td><td>701011002</td></tr>\n",
       "<tr><td>0810</td><td>701021010</td><td>0810</td><td>701021010</td></tr>\n",
       "<tr><td>0810</td><td>701021013</td><td>0810</td><td>701021013</td></tr>\n",
       "<tr><td>0810</td><td>701021016</td><td>0810</td><td>701021016</td></tr>\n",
       "<tr><td>0810</td><td>701021018</td><td>0810</td><td>701021018</td></tr>\n",
       "</table>\n"
      ],
      "text/plain": [
       "+-------------+-----------------+-------------+-------------+\n",
       "|POA_CODE_2016|SA2_MAINCODE_2016|POA_CODE_2021|SA2_CODE_2021|\n",
       "+-------------+-----------------+-------------+-------------+\n",
       "|         0800|        701011002|         0800|    701011002|\n",
       "|         0810|        701021010|         0810|    701021010|\n",
       "|         0810|        701021013|         0810|    701021013|\n",
       "|         0810|        701021016|         0810|    701021016|\n",
       "|         0810|        701021018|         0810|    701021018|\n",
       "+-------------+-----------------+-------------+-------------+"
      ]
     },
     "execution_count": 44,
     "metadata": {},
     "output_type": "execute_result"
    }
   ],
   "source": [
    "#  merge them by sa2 code\n",
    "table = table.join(sa2_2016_2021,table.SA2_MAINCODE_2016 == sa2_2016_2021.SA2_MAINCODE_2016,'inner').drop(sa2_2016_2021.SA2_MAINCODE_2016)\n",
    "table.limit(5)"
   ]
  },
  {
   "cell_type": "code",
   "execution_count": 45,
   "metadata": {},
   "outputs": [
    {
     "name": "stdout",
     "output_type": "stream",
     "text": [
      "2642 1\n"
     ]
    }
   ],
   "source": [
    "table = table.drop('POA_CODE_2016','SA2_MAINCODE_2016')\n",
    "table = table.select('POA_CODE_2021').distinct()\n",
    "print(table.count(),len(table.columns))"
   ]
  },
  {
   "cell_type": "code",
   "execution_count": 46,
   "metadata": {},
   "outputs": [],
   "source": [
    "table.write.mode('overwrite').option(\"header\",True).csv('../data/tables/sa_pos_2021.csv')"
   ]
  }
 ],
 "metadata": {
  "kernelspec": {
   "display_name": "Python 3.8.13 ('ads')",
   "language": "python",
   "name": "python3"
  },
  "language_info": {
   "codemirror_mode": {
    "name": "ipython",
    "version": 3
   },
   "file_extension": ".py",
   "mimetype": "text/x-python",
   "name": "python",
   "nbconvert_exporter": "python",
   "pygments_lexer": "ipython3",
   "version": "3.8.13"
  },
  "orig_nbformat": 4,
  "vscode": {
   "interpreter": {
    "hash": "28b134390af12c053535df51cda6b999b61cce60830e832eccdb1fcebc3647ab"
   }
  }
 },
 "nbformat": 4,
 "nbformat_minor": 2
}
