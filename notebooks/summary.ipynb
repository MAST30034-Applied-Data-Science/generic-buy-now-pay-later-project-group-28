{
 "cells": [
  {
   "cell_type": "markdown",
   "metadata": {},
   "source": [
    "# *Summary*"
   ]
  },
  {
   "cell_type": "markdown",
   "metadata": {},
   "source": [
    "## Data preprocess & analysis\n",
    "- Download and extract data\n",
    "- Generalized ETL\n",
    "- Joining datasets\n",
    "- External datasets\n",
    "- Visualizationa and outliers\n",
    "\n",
    "### Download and extract data & process data\n",
    " - First, we read the given datasets, (i.e `transactions` , `consumers` , `merchants`) , we then checked on the data size and data types accordingly, \n",
    " we joined datasets using left outer join, repeated columns had been dropped accordingly\n",
    " - We resolve `tag` by saving merchant tags to different columns`field` , `renvenue_leve` and `take_rate`, since `take_rate` is float type\n",
    " transform all strings in \"field\" and \"revenue_level\" to lowercase\n",
    " - Then we store the curated dataframes into both `csv` and `parquet` form (`full_data`)\n",
    "\n",
    "### External datasets\n",
    " - We select SA2(Statistical Area Level 2) data, both `income` and `population` data \n",
    " - After joining these external data, removing null values results in significant loss of data nearly `20%`\n",
    "  - We use median to fill the null values(missing data), mitigating this issue\n",
    "\n",
    "### Outlier \n",
    "- We check and remove null values \n",
    "- Remove unhelpful columns (i.e `address`, `gender`)\n",
    "- We check for wrong data \n",
    " - i.e `user_id` , `consumer_id` , `postcode` need to be greater than `0`\n",
    "- Check for features, (i.e `dollar_value` >= 0 , `postcode` == 4)\n",
    "\n",
    "\n",
    "### Generalized ETL script\n",
    "\n",
    "\n",
    "\n",
    " \n",
    "\n",
    "\n",
    "\n",
    "\n",
    "\n",
    "\n"
   ]
  },
  {
   "cell_type": "markdown",
   "metadata": {},
   "source": [
    "###  Pyspark initialization and Read data"
   ]
  },
  {
   "cell_type": "code",
   "execution_count": 18,
   "metadata": {},
   "outputs": [],
   "source": [
    "import argparse\n",
    "import os\n",
    "import numpy as np\n",
    "from pyspark.sql.functions import *\n",
    "from pyspark.sql.types import *\n",
    "from pyspark.sql.window import Window\n",
    "from pyspark.sql import SparkSession\n",
    "import builtins\n",
    "from cmath import nan\n"
   ]
  },
  {
   "cell_type": "code",
   "execution_count": 19,
   "metadata": {},
   "outputs": [],
   "source": [
    "#import spark\n",
    "from pyspark.sql import SparkSession\n",
    "# Create a spark session (which will run spark jobs)\n",
    "spark = (\n",
    "    SparkSession.builder.appName(\"MAST30034 ass2 BNPL group 28\")\n",
    "    .config(\"spark.sql.repl.eagerEval.enabled\", True) \n",
    "    .config(\"spark.sql.parquet.cacheMetadata\", \"true\")\n",
    "    .config(\"spark.sql.session.timeZone\", \"Etc/UTC\")\n",
    "    .getOrCreate()\n",
    ")"
   ]
  },
  {
   "cell_type": "code",
   "execution_count": 20,
   "metadata": {},
   "outputs": [],
   "source": [
    "merchants = spark.read.parquet('../data/tables/tbl_merchants.parquet')\n",
    "consumers = spark.read.parquet('../data/tables/consumer_user_details.parquet')\n",
    "transactions = spark.read.parquet('../data/tables/transactions_20210228_20210827_snapshot')\n",
    "consumers_csv = spark.read.options(header='True', inferSchema='True', delimiter='|').csv('../data/tables/tbl_consumer.csv')"
   ]
  },
  {
   "cell_type": "markdown",
   "metadata": {},
   "source": [
    "### Joining data set"
   ]
  },
  {
   "cell_type": "code",
   "execution_count": 22,
   "metadata": {},
   "outputs": [
    {
     "name": "stderr",
     "output_type": "stream",
     "text": [
      "                                                                                \r"
     ]
    },
    {
     "data": {
      "text/html": [
       "<table border='1'>\n",
       "<tr><th>user_id</th><th>merchant_abn</th><th>dollar_value</th><th>order_id</th><th>order_datetime</th><th>consumer_id</th><th>name</th><th>tags</th><th>name</th><th>address</th><th>state</th><th>postcode</th><th>gender</th></tr>\n",
       "<tr><td>5630</td><td>60956456424</td><td>145.26081329000152</td><td>1e14adeb-8e13-44f...</td><td>2021-08-21</td><td>28242</td><td>Ultricies Digniss...</td><td>([gift, card, Nov...</td><td>Philip Crawford</td><td>7487 Serrano Gard...</td><td>NT</td><td>841</td><td>Undisclosed</td></tr>\n",
       "<tr><td>5630</td><td>48534649627</td><td>120.25889985200416</td><td>08476339-f383-4ab...</td><td>2021-08-15</td><td>28242</td><td>Dignissim Maecena...</td><td>[[opticians, oPti...</td><td>Philip Crawford</td><td>7487 Serrano Gard...</td><td>NT</td><td>841</td><td>Undisclosed</td></tr>\n",
       "<tr><td>5630</td><td>60956456424</td><td>135.5412540082104</td><td>aacfd47a-438b-47f...</td><td>2021-08-15</td><td>28242</td><td>Ultricies Digniss...</td><td>([gift, card, Nov...</td><td>Philip Crawford</td><td>7487 Serrano Gard...</td><td>NT</td><td>841</td><td>Undisclosed</td></tr>\n",
       "<tr><td>5630</td><td>89932674734</td><td>95.37693966478514</td><td>6d5790c9-0eef-453...</td><td>2021-08-16</td><td>28242</td><td>Nulla Vulputate C...</td><td>((aRtist supply a...</td><td>Philip Crawford</td><td>7487 Serrano Gard...</td><td>NT</td><td>841</td><td>Undisclosed</td></tr>\n",
       "<tr><td>5630</td><td>14089706307</td><td>440.12097711482835</td><td>43d1361a-1101-41a...</td><td>2021-08-16</td><td>28242</td><td>Donec Institute</td><td>[(computer progra...</td><td>Philip Crawford</td><td>7487 Serrano Gard...</td><td>NT</td><td>841</td><td>Undisclosed</td></tr>\n",
       "</table>\n"
      ],
      "text/plain": [
       "+-------+------------+------------------+--------------------+--------------+-----------+--------------------+--------------------+---------------+--------------------+-----+--------+-----------+\n",
       "|user_id|merchant_abn|      dollar_value|            order_id|order_datetime|consumer_id|                name|                tags|           name|             address|state|postcode|     gender|\n",
       "+-------+------------+------------------+--------------------+--------------+-----------+--------------------+--------------------+---------------+--------------------+-----+--------+-----------+\n",
       "|   5630| 60956456424|145.26081329000152|1e14adeb-8e13-44f...|    2021-08-21|      28242|Ultricies Digniss...|([gift, card, Nov...|Philip Crawford|7487 Serrano Gard...|   NT|     841|Undisclosed|\n",
       "|   5630| 48534649627|120.25889985200416|08476339-f383-4ab...|    2021-08-15|      28242|Dignissim Maecena...|[[opticians, oPti...|Philip Crawford|7487 Serrano Gard...|   NT|     841|Undisclosed|\n",
       "|   5630| 60956456424| 135.5412540082104|aacfd47a-438b-47f...|    2021-08-15|      28242|Ultricies Digniss...|([gift, card, Nov...|Philip Crawford|7487 Serrano Gard...|   NT|     841|Undisclosed|\n",
       "|   5630| 89932674734| 95.37693966478514|6d5790c9-0eef-453...|    2021-08-16|      28242|Nulla Vulputate C...|((aRtist supply a...|Philip Crawford|7487 Serrano Gard...|   NT|     841|Undisclosed|\n",
       "|   5630| 14089706307|440.12097711482835|43d1361a-1101-41a...|    2021-08-16|      28242|     Donec Institute|[(computer progra...|Philip Crawford|7487 Serrano Gard...|   NT|     841|Undisclosed|\n",
       "+-------+------------+------------------+--------------------+--------------+-----------+--------------------+--------------------+---------------+--------------------+-----+--------+-----------+"
      ]
     },
     "execution_count": 22,
     "metadata": {},
     "output_type": "execute_result"
    }
   ],
   "source": [
    "## left outer join transaction data with consumers data by user_id.\n",
    "new_transaction = transactions.join(consumers, transactions.user_id == consumers.user_id, \"leftouter\").drop(consumers.user_id)\n",
    "new_transaction = new_transaction.join(merchants, new_transaction.merchant_abn == merchants.merchant_abn, \"leftouter\").drop(merchants.merchant_abn)\n",
    "new_transaction = new_transaction.join(consumers_csv, new_transaction.consumer_id == consumers_csv.consumer_id, \"leftouter\").drop(consumers_csv.consumer_id)\n",
    "new_transaction.limit(5)"
   ]
  },
  {
   "cell_type": "markdown",
   "metadata": {},
   "source": [
    "### Save tags into columns `field`, `revenue_level`, `take_rate`"
   ]
  },
  {
   "cell_type": "code",
   "execution_count": 23,
   "metadata": {},
   "outputs": [],
   "source": [
    "## save merchant tags to different columns \"field\", \"renvenue_level\" and \"take_rate\", while \"take_rate\" is float type\n",
    "## transform all strings in \"field\" and \"revenue_level\" to lowercase\n",
    "new_transaction = new_transaction.withColumn('tags', expr(\"substring(tags, 3, length(tags)-4)\")) \\\n",
    "    .withColumn('field', split(col(\"tags\"), \"\\], \\[|\\), \\(\").getItem(0)) \\\n",
    "        .withColumn('revenue_level', split(col(\"tags\"), \"\\], \\[|\\), \\(\").getItem(1)) \\\n",
    "            .withColumn('take_rate', split(col(\"tags\"), \"\\], \\[|\\), \\(\").getItem(2)) \\\n",
    "                .withColumn('take_rate', regexp_extract(col(\"take_rate\"), r'(\\d+).(\\d+)', 0)) \\\n",
    "                    .withColumn(\"take_rate\", col('take_rate').cast(FloatType())) \\\n",
    "                        .withColumn('field', lower(col('field'))) \\\n",
    "                            .withColumn('revenue_level', lower(col('revenue_level'))) \\\n",
    "                                .drop(\"tags\")"
   ]
  },
  {
   "cell_type": "code",
   "execution_count": 24,
   "metadata": {},
   "outputs": [
    {
     "name": "stderr",
     "output_type": "stream",
     "text": [
      "                                                                                \r"
     ]
    },
    {
     "data": {
      "text/html": [
       "<table border='1'>\n",
       "<tr><th>user_id</th><th>merchant_abn</th><th>dollar_value</th><th>order_id</th><th>order_datetime</th><th>consumer_id</th><th>name</th><th>name</th><th>address</th><th>state</th><th>postcode</th><th>gender</th><th>field</th><th>revenue_level</th><th>take_rate</th></tr>\n",
       "<tr><td>5630</td><td>60956456424</td><td>145.26081329000152</td><td>1e14adeb-8e13-44f...</td><td>2021-08-21</td><td>28242</td><td>Ultricies Digniss...</td><td>Philip Crawford</td><td>7487 Serrano Gard...</td><td>NT</td><td>841</td><td>Undisclosed</td><td>gift, card, novel...</td><td>b</td><td>4.69</td></tr>\n",
       "<tr><td>5630</td><td>48534649627</td><td>120.25889985200416</td><td>08476339-f383-4ab...</td><td>2021-08-15</td><td>28242</td><td>Dignissim Maecena...</td><td>Philip Crawford</td><td>7487 Serrano Gard...</td><td>NT</td><td>841</td><td>Undisclosed</td><td>opticians, optica...</td><td>a</td><td>6.64</td></tr>\n",
       "<tr><td>5630</td><td>60956456424</td><td>135.5412540082104</td><td>aacfd47a-438b-47f...</td><td>2021-08-15</td><td>28242</td><td>Ultricies Digniss...</td><td>Philip Crawford</td><td>7487 Serrano Gard...</td><td>NT</td><td>841</td><td>Undisclosed</td><td>gift, card, novel...</td><td>b</td><td>4.69</td></tr>\n",
       "<tr><td>5630</td><td>89932674734</td><td>95.37693966478514</td><td>6d5790c9-0eef-453...</td><td>2021-08-16</td><td>28242</td><td>Nulla Vulputate C...</td><td>Philip Crawford</td><td>7487 Serrano Gard...</td><td>NT</td><td>841</td><td>Undisclosed</td><td>artist supply and...</td><td>c</td><td>1.67</td></tr>\n",
       "<tr><td>5630</td><td>14089706307</td><td>440.12097711482835</td><td>43d1361a-1101-41a...</td><td>2021-08-16</td><td>28242</td><td>Donec Institute</td><td>Philip Crawford</td><td>7487 Serrano Gard...</td><td>NT</td><td>841</td><td>Undisclosed</td><td>computer programm...</td><td>b</td><td>3.33</td></tr>\n",
       "</table>\n"
      ],
      "text/plain": [
       "+-------+------------+------------------+--------------------+--------------+-----------+--------------------+---------------+--------------------+-----+--------+-----------+--------------------+-------------+---------+\n",
       "|user_id|merchant_abn|      dollar_value|            order_id|order_datetime|consumer_id|                name|           name|             address|state|postcode|     gender|               field|revenue_level|take_rate|\n",
       "+-------+------------+------------------+--------------------+--------------+-----------+--------------------+---------------+--------------------+-----+--------+-----------+--------------------+-------------+---------+\n",
       "|   5630| 60956456424|145.26081329000152|1e14adeb-8e13-44f...|    2021-08-21|      28242|Ultricies Digniss...|Philip Crawford|7487 Serrano Gard...|   NT|     841|Undisclosed|gift, card, novel...|            b|     4.69|\n",
       "|   5630| 48534649627|120.25889985200416|08476339-f383-4ab...|    2021-08-15|      28242|Dignissim Maecena...|Philip Crawford|7487 Serrano Gard...|   NT|     841|Undisclosed|opticians, optica...|            a|     6.64|\n",
       "|   5630| 60956456424| 135.5412540082104|aacfd47a-438b-47f...|    2021-08-15|      28242|Ultricies Digniss...|Philip Crawford|7487 Serrano Gard...|   NT|     841|Undisclosed|gift, card, novel...|            b|     4.69|\n",
       "|   5630| 89932674734| 95.37693966478514|6d5790c9-0eef-453...|    2021-08-16|      28242|Nulla Vulputate C...|Philip Crawford|7487 Serrano Gard...|   NT|     841|Undisclosed|artist supply and...|            c|     1.67|\n",
       "|   5630| 14089706307|440.12097711482835|43d1361a-1101-41a...|    2021-08-16|      28242|     Donec Institute|Philip Crawford|7487 Serrano Gard...|   NT|     841|Undisclosed|computer programm...|            b|     3.33|\n",
       "+-------+------------+------------------+--------------------+--------------+-----------+--------------------+---------------+--------------------+-----+--------+-----------+--------------------+-------------+---------+"
      ]
     },
     "execution_count": 24,
     "metadata": {},
     "output_type": "execute_result"
    }
   ],
   "source": [
    "new_transaction.limit(5)"
   ]
  },
  {
   "cell_type": "markdown",
   "metadata": {},
   "source": [
    "### Outlier analysis\n",
    "- drop columns which are not helpful\n",
    "- Remove null values\n",
    "- Check for features\n"
   ]
  },
  {
   "cell_type": "code",
   "execution_count": null,
   "metadata": {},
   "outputs": [],
   "source": [
    "## drop unhelpful columns\n",
    "cols = ['address','gender', 'consumer_id', 'user_name', 'state']\n",
    "new_transaction = new_transaction.drop(*cols)\n",
    "\n",
    "## drop rows that have null values\n",
    "new_transaction = new_transaction.dropna()\n",
    "\n",
    "## drop transaction that has dollor value less or equal to 0\n",
    "new_transaction = new_transaction.filter((col('dollar_value') >= 0))\n",
    "\n",
    "## check order datetime to in the right range\n",
    "new_transaction = new_transaction.filter((col('order_datetime') >= '2021-02-28') & (col('order_datetime') <= '2022-08-28'))\n",
    "\n",
    "## check the consistency of postcode\n",
    "new_transaction = new_transaction.filter(length(col('postcode')) == 4)"
   ]
  },
  {
   "cell_type": "markdown",
   "metadata": {},
   "source": [
    "### Combining external dataset (census data)\n",
    "- We chosed Sa2 population and income as external data, joined external data to main dataset(details in `external.ipynb` & `external2.ipynb`)\n",
    "- Filter outliers after joining external data\n",
    "    - fill null values with mean/median, avoid losing too much data\n",
    "- Distribution plots(null values filled with mean/median)"
   ]
  },
  {
   "cell_type": "markdown",
   "metadata": {},
   "source": [
    "## Fruad\n",
    "- Fraud detection \n",
    " - Join fraud data (`consumer_fraud_probability`, `merchant_fraud_probability`) to our main dataset\n",
    " - Consider `30%` and above are fraud\n",
    "    - Add new feature \"is_fraud\" to classify whether a record is a fraud record\n",
    "    - Used NaiveBayes model (can be more detailed)\n",
    "        - high accuracy \n"
   ]
  },
  {
   "cell_type": "markdown",
   "metadata": {},
   "source": [
    "## Ranking system \n",
    "- Aim\n",
    " - The goal of the model is to recommend to BNPL company the top N cooperative merchants that are in the long-term interest according to some specific characteristics\n",
    "\n",
    "- Merchant features we are considering \n",
    " - Features of a Merchant\n",
    "- `transaction_count`: number of transcations made in a specified period.\n",
    "- `take_rate`: the fee charged by the BNPL firm to a merchant on a transaction. That is, for each transaction made, a certain percentage is taken by the BNPL firm.\n",
    "- `revenue_level`: `(a, b, c, d, e)` represents the level of revenue bands (unknown to groups) 'a' denotes the smallest band whilst 'e' denotes the highest revenue band.\n",
    "- `total_revenue`: the total revenue made by a merchant in a specified period\n",
    "- `mean_consumer_income`: the mean weekly income of each merchant's consumers (used to represents the puchasing power of merchants' target audience)\n",
    "- `fraud_count`: the number of transactions that are recongnized as fraud\n",
    "- `main_business_area_popu`: a sum of the number of consumers in the top five postcode areas corresponding to each merchant that has most users within these areas\n",
    "\n",
    "Further details in rank_model_explain.md "
   ]
  },
  {
   "cell_type": "markdown",
   "metadata": {},
   "source": [
    "# Summary of results"
   ]
  },
  {
   "cell_type": "markdown",
   "metadata": {},
   "source": [
    "- Most important, we perform two ranking systems based on with and without fraud transatcions\n",
    "- Based on this, we found that fraud will not hugely affect a merchant ranking unless the number of fraud transactions outnumber the normal.\n",
    "- Before performing the ranking system, we guess the feature 'revenue level' might be the most important. After seeing the real result, we believe it is the most important feature.\n",
    "- Different segments, have different transaction numbers.\n",
    "- Merchants sell tents usually has advantages in customer puchasing frequency and overall merchant revenue\n",
    "- But investing merchants sell jewlery could maximise BNPL earnings per transaction"
   ]
  }
 ],
 "metadata": {
  "kernelspec": {
   "display_name": "Python 3.8.13 64-bit",
   "language": "python",
   "name": "python3"
  },
  "language_info": {
   "codemirror_mode": {
    "name": "ipython",
    "version": 3
   },
   "file_extension": ".py",
   "mimetype": "text/x-python",
   "name": "python",
   "nbconvert_exporter": "python",
   "pygments_lexer": "ipython3",
   "version": "3.8.13"
  },
  "orig_nbformat": 4,
  "vscode": {
   "interpreter": {
    "hash": "5b3ded1ccb95c1d9bd405e7b823d9e85424cde40fbb5985eb47e999ef50e15b4"
   }
  }
 },
 "nbformat": 4,
 "nbformat_minor": 2
}
