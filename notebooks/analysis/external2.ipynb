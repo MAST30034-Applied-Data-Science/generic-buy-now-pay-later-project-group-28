{
 "cells": [
  {
   "cell_type": "markdown",
   "metadata": {},
   "source": [
    "### Pyspark initialization"
   ]
  },
  {
   "cell_type": "code",
   "execution_count": 90,
   "metadata": {},
   "outputs": [],
   "source": [
    "from pyspark.sql.functions import *\n",
    "\n",
    "#import spark\n",
    "from pyspark.sql import SparkSession\n",
    "# Create a spark session (which will run spark jobs)\n",
    "spark = (\n",
    "    SparkSession.builder.appName(\"MAST30034 ass2 BNPL group 28\")\n",
    "    .config(\"spark.sql.repl.eagerEval.enabled\", True) \n",
    "    .config(\"spark.sql.parquet.cacheMetadata\", \"true\")\n",
    "    .config(\"spark.sql.session.timeZone\", \"Etc/UTC\")\n",
    "    .getOrCreate()\n",
    ")"
   ]
  },
  {
   "cell_type": "markdown",
   "metadata": {},
   "source": [
    "### Read and filter data"
   ]
  },
  {
   "cell_type": "code",
   "execution_count": 91,
   "metadata": {},
   "outputs": [],
   "source": [
    "## read main and external dataset\n",
    "curated_csv = spark.read.options(header = True).csv('../../data/curated/full_data.csv')\n",
    "sa2_pos_2021 = spark.read.options(header = True).csv('../../data/tables/sa2_pos_2021.csv')\n",
    "population = spark.read.options(header = True).csv('../../data/tables/2021Census_G01_AUST_SA2.csv')\n",
    "income = spark.read.options(header = True).csv('../../data/tables/2021Census_G02_AUST_SA2.csv')"
   ]
  },
  {
   "cell_type": "code",
   "execution_count": 92,
   "metadata": {},
   "outputs": [],
   "source": [
    "## Drop unhelpful columns in both external dataset\n",
    "population = population.select(col('SA2_CODE_2021'), col('Tot_P_P'))\n",
    "income = income.select(col('SA2_CODE_2021'), col('Median_tot_prsnl_inc_weekly'))\n",
    "\n",
    "## change data type\n",
    "population = population.withColumn(\"Tot_P_P\",population.Tot_P_P.cast('int'))\n",
    "income = income.withColumn('Median_tot_prsnl_inc_weekly', income.Median_tot_prsnl_inc_weekly.cast('float'))"
   ]
  },
  {
   "cell_type": "code",
   "execution_count": 93,
   "metadata": {},
   "outputs": [
    {
     "data": {
      "text/html": [
       "<table border='1'>\n",
       "<tr><th>SA2_CODE_2021</th><th>Tot_P_P</th></tr>\n",
       "<tr><td>101021007</td><td>4343</td></tr>\n",
       "<tr><td>101021008</td><td>8517</td></tr>\n",
       "<tr><td>101021009</td><td>11342</td></tr>\n",
       "<tr><td>101021010</td><td>5085</td></tr>\n",
       "</table>\n"
      ],
      "text/plain": [
       "+-------------+-------+\n",
       "|SA2_CODE_2021|Tot_P_P|\n",
       "+-------------+-------+\n",
       "|    101021007|   4343|\n",
       "|    101021008|   8517|\n",
       "|    101021009|  11342|\n",
       "|    101021010|   5085|\n",
       "+-------------+-------+"
      ]
     },
     "execution_count": 93,
     "metadata": {},
     "output_type": "execute_result"
    }
   ],
   "source": [
    "population.limit(4)"
   ]
  },
  {
   "cell_type": "markdown",
   "metadata": {},
   "source": [
    "### Joining external data\n",
    "In this step we join the external dataset to our curated dataset filtered and cleaned previously"
   ]
  },
  {
   "cell_type": "code",
   "execution_count": 94,
   "metadata": {},
   "outputs": [
    {
     "name": "stdout",
     "output_type": "stream",
     "text": [
      "+-------------+----------------+\n",
      "|POA_CODE_2021|total_population|\n",
      "+-------------+----------------+\n",
      "|         2294|            9202|\n",
      "|         6613|            4471|\n",
      "|         2162|           43228|\n",
      "+-------------+----------------+\n",
      "only showing top 3 rows\n",
      "\n"
     ]
    }
   ],
   "source": [
    "## merge SA2 population (sum of different sa2 areas) with postcode\n",
    "pos_population = sa2_pos_2021.join(population, sa2_pos_2021.SA2_CODE_2021 == population.SA2_CODE_2021, \"inner\").drop(population.SA2_CODE_2021)\n",
    "pos_population = pos_population.groupBy('POA_CODE_2021').sum('Tot_P_P')\n",
    "pos_population = pos_population.withColumnRenamed('sum(Tot_P_P)', 'total_population')\n",
    "\n",
    "pos_population.show(3)"
   ]
  },
  {
   "cell_type": "code",
   "execution_count": 95,
   "metadata": {},
   "outputs": [
    {
     "name": "stdout",
     "output_type": "stream",
     "text": [
      "+-------------+--------------------------+\n",
      "|POA_CODE_2021|avg_personal_income_weekly|\n",
      "+-------------+--------------------------+\n",
      "|         2294|                    1029.0|\n",
      "|         6613|                     892.0|\n",
      "|         2162|                     494.5|\n",
      "+-------------+--------------------------+\n",
      "only showing top 3 rows\n",
      "\n"
     ]
    }
   ],
   "source": [
    "## merge SA2 income (average personal income in different sa2 areas) with postcode\n",
    "pos_income= sa2_pos_2021.join(income, sa2_pos_2021.SA2_CODE_2021 == income.SA2_CODE_2021, \"inner\").drop(income.SA2_CODE_2021)\n",
    "pos_income = pos_income.groupBy('POA_CODE_2021').avg('Median_tot_prsnl_inc_weekly')\n",
    "pos_income = pos_income.withColumn(\"avg_personal_income_weekly\", round(pos_income[\"avg(Median_tot_prsnl_inc_weekly)\"], 1))\n",
    "pos_income = pos_income.drop('avg(Median_tot_prsnl_inc_weekly)')\n",
    "pos_income.show(3)"
   ]
  },
  {
   "cell_type": "code",
   "execution_count": 96,
   "metadata": {},
   "outputs": [
    {
     "name": "stdout",
     "output_type": "stream",
     "text": [
      "+-------------+----------------+--------------------------+\n",
      "|POA_CODE_2021|total_population|avg_personal_income_weekly|\n",
      "+-------------+----------------+--------------------------+\n",
      "|         2294|            9202|                    1029.0|\n",
      "|         6613|            4471|                     892.0|\n",
      "|         2162|           43228|                     494.5|\n",
      "+-------------+----------------+--------------------------+\n",
      "only showing top 3 rows\n",
      "\n"
     ]
    }
   ],
   "source": [
    "## join both income and population with postcode\n",
    "pos_info = pos_population.join(pos_income, pos_population.POA_CODE_2021 == pos_income.POA_CODE_2021, 'inner').drop(pos_income.POA_CODE_2021)\n",
    "\n",
    "pos_info = pos_info.select('POA_CODE_2021', 'total_population', 'avg_personal_income_weekly')\n",
    "pos_info.show(3)"
   ]
  },
  {
   "cell_type": "code",
   "execution_count": 97,
   "metadata": {},
   "outputs": [
    {
     "name": "stderr",
     "output_type": "stream",
     "text": [
      "                                                                                \r"
     ]
    },
    {
     "name": "stdout",
     "output_type": "stream",
     "text": [
      "14195505\n"
     ]
    },
    {
     "data": {
      "text/html": [
       "<table border='1'>\n",
       "<tr><th>user_id</th><th>merchant_abn</th><th>dollar_value</th><th>order_id</th><th>order_datetime</th><th>consumer_id</th><th>merchant_name</th><th>user_name</th><th>address</th><th>state</th><th>postcode</th><th>gender</th><th>field</th><th>revenue_level</th><th>take_rate</th><th>total_population</th><th>avg_personal_income_weekly</th></tr>\n",
       "<tr><td>5574</td><td>58476363584</td><td>66.29</td><td>401ee716-6a4d-400...</td><td>2021-08-20</td><td>1719</td><td>Mauris Blandit Fo...</td><td>Ashley Ellis</td><td>08935 Anderson Cr...</td><td>NSW</td><td>1001</td><td>Female</td><td>watch, clock, and...</td><td>a</td><td>6.49</td><td>null</td><td>null</td></tr>\n",
       "<tr><td>5574</td><td>46804135891</td><td>0.49</td><td>1ae8d9be-ee74-479...</td><td>2022-09-08</td><td>1719</td><td>Suspendisse Dui C...</td><td>Ashley Ellis</td><td>08935 Anderson Cr...</td><td>NSW</td><td>1001</td><td>Female</td><td>opticians, optica...</td><td>c</td><td>2.93</td><td>null</td><td>null</td></tr>\n",
       "<tr><td>5574</td><td>98166254020</td><td>1728.46</td><td>72934e47-3c41-476...</td><td>2021-08-20</td><td>1719</td><td>Magna Sed Industries</td><td>Ashley Ellis</td><td>08935 Anderson Cr...</td><td>NSW</td><td>1001</td><td>Female</td><td>art dealers and g...</td><td>a</td><td>5.96</td><td>null</td><td>null</td></tr>\n",
       "</table>\n"
      ],
      "text/plain": [
       "+-------+------------+------------+--------------------+--------------+-----------+--------------------+------------+--------------------+-----+--------+------+--------------------+-------------+---------+----------------+--------------------------+\n",
       "|user_id|merchant_abn|dollar_value|            order_id|order_datetime|consumer_id|       merchant_name|   user_name|             address|state|postcode|gender|               field|revenue_level|take_rate|total_population|avg_personal_income_weekly|\n",
       "+-------+------------+------------+--------------------+--------------+-----------+--------------------+------------+--------------------+-----+--------+------+--------------------+-------------+---------+----------------+--------------------------+\n",
       "|   5574| 58476363584|       66.29|401ee716-6a4d-400...|    2021-08-20|       1719|Mauris Blandit Fo...|Ashley Ellis|08935 Anderson Cr...|  NSW|    1001|Female|watch, clock, and...|            a|     6.49|            null|                      null|\n",
       "|   5574| 46804135891|        0.49|1ae8d9be-ee74-479...|    2022-09-08|       1719|Suspendisse Dui C...|Ashley Ellis|08935 Anderson Cr...|  NSW|    1001|Female|opticians, optica...|            c|     2.93|            null|                      null|\n",
       "|   5574| 98166254020|     1728.46|72934e47-3c41-476...|    2021-08-20|       1719|Magna Sed Industries|Ashley Ellis|08935 Anderson Cr...|  NSW|    1001|Female|art dealers and g...|            a|     5.96|            null|                      null|\n",
       "+-------+------------+------------+--------------------+--------------+-----------+--------------------+------------+--------------------+-----+--------+------+--------------------+-------------+---------+----------------+--------------------------+"
      ]
     },
     "execution_count": 97,
     "metadata": {},
     "output_type": "execute_result"
    }
   ],
   "source": [
    "## join pos_info with original dataset\n",
    "curated_csv_new = curated_csv.join(pos_info, curated_csv.postcode == pos_info.POA_CODE_2021, \"leftouter\").drop(pos_info.POA_CODE_2021)\n",
    "print(curated_csv_new.count())\n",
    "curated_csv_new.limit(3)"
   ]
  },
  {
   "cell_type": "markdown",
   "metadata": {},
   "source": [
    "### Data visualization and outlier checking\n",
    "In this step we fill the null values with mean and try to visualize the distribution of each data column. We try to check whether there are outliers that lie too far away from the median."
   ]
  },
  {
   "cell_type": "code",
   "execution_count": 98,
   "metadata": {},
   "outputs": [],
   "source": [
    "import numpy as np\n",
    "import matplotlib.pyplot as plt\n",
    "import builtins\n",
    "round = getattr(builtins, \"round\")"
   ]
  },
  {
   "cell_type": "code",
   "execution_count": 99,
   "metadata": {},
   "outputs": [
    {
     "data": {
      "text/html": [
       "<table border='1'>\n",
       "<tr><th>user_id</th><th>merchant_abn</th><th>dollar_value</th><th>order_id</th><th>order_datetime</th><th>consumer_id</th><th>merchant_name</th><th>user_name</th><th>address</th><th>state</th><th>postcode</th><th>gender</th><th>field</th><th>revenue_level</th><th>take_rate</th><th>total_population</th><th>avg_personal_income_weekly</th></tr>\n",
       "<tr><td>5574</td><td>58476363584</td><td>66.29</td><td>401ee716-6a4d-400...</td><td>2021-08-20</td><td>1719</td><td>Mauris Blandit Fo...</td><td>Ashley Ellis</td><td>08935 Anderson Cr...</td><td>NSW</td><td>1001</td><td>Female</td><td>watch, clock, and...</td><td>a</td><td>6.49</td><td>10284</td><td>943.3</td></tr>\n",
       "<tr><td>5574</td><td>46804135891</td><td>0.49</td><td>1ae8d9be-ee74-479...</td><td>2022-09-08</td><td>1719</td><td>Suspendisse Dui C...</td><td>Ashley Ellis</td><td>08935 Anderson Cr...</td><td>NSW</td><td>1001</td><td>Female</td><td>opticians, optica...</td><td>c</td><td>2.93</td><td>10284</td><td>943.3</td></tr>\n",
       "<tr><td>5574</td><td>98166254020</td><td>1728.46</td><td>72934e47-3c41-476...</td><td>2021-08-20</td><td>1719</td><td>Magna Sed Industries</td><td>Ashley Ellis</td><td>08935 Anderson Cr...</td><td>NSW</td><td>1001</td><td>Female</td><td>art dealers and g...</td><td>a</td><td>5.96</td><td>10284</td><td>943.3</td></tr>\n",
       "</table>\n"
      ],
      "text/plain": [
       "+-------+------------+------------+--------------------+--------------+-----------+--------------------+------------+--------------------+-----+--------+------+--------------------+-------------+---------+----------------+--------------------------+\n",
       "|user_id|merchant_abn|dollar_value|            order_id|order_datetime|consumer_id|       merchant_name|   user_name|             address|state|postcode|gender|               field|revenue_level|take_rate|total_population|avg_personal_income_weekly|\n",
       "+-------+------------+------------+--------------------+--------------+-----------+--------------------+------------+--------------------+-----+--------+------+--------------------+-------------+---------+----------------+--------------------------+\n",
       "|   5574| 58476363584|       66.29|401ee716-6a4d-400...|    2021-08-20|       1719|Mauris Blandit Fo...|Ashley Ellis|08935 Anderson Cr...|  NSW|    1001|Female|watch, clock, and...|            a|     6.49|           10284|                     943.3|\n",
       "|   5574| 46804135891|        0.49|1ae8d9be-ee74-479...|    2022-09-08|       1719|Suspendisse Dui C...|Ashley Ellis|08935 Anderson Cr...|  NSW|    1001|Female|opticians, optica...|            c|     2.93|           10284|                     943.3|\n",
       "|   5574| 98166254020|     1728.46|72934e47-3c41-476...|    2021-08-20|       1719|Magna Sed Industries|Ashley Ellis|08935 Anderson Cr...|  NSW|    1001|Female|art dealers and g...|            a|     5.96|           10284|                     943.3|\n",
       "+-------+------------+------------+--------------------+--------------+-----------+--------------------+------------+--------------------+-----+--------+------+--------------------+-------------+---------+----------------+--------------------------+"
      ]
     },
     "execution_count": 99,
     "metadata": {},
     "output_type": "execute_result"
    }
   ],
   "source": [
    "# use mean to fill null value of income and population\n",
    "curated_csv_df1 = curated_csv_new\n",
    "income_mean = np.mean(income.select('Median_tot_prsnl_inc_weekly').collect())\n",
    "population_mean = np.mean(population.select('Tot_P_P').collect())\n",
    "curated_csv_df1 = curated_csv_df1.na.fill({'avg_personal_income_weekly':round(income_mean,1),'total_population':population_mean})\n",
    "curated_csv_df1.limit(3)"
   ]
  },
  {
   "cell_type": "markdown",
   "metadata": {},
   "source": [
    "### Distribution plots"
   ]
  },
  {
   "cell_type": "code",
   "execution_count": 100,
   "metadata": {},
   "outputs": [
    {
     "name": "stderr",
     "output_type": "stream",
     "text": [
      "                                                                                \r"
     ]
    },
    {
     "data": {
      "text/plain": [
       "<AxesSubplot:ylabel='Density'>"
      ]
     },
     "execution_count": 100,
     "metadata": {},
     "output_type": "execute_result"
    },
    {
     "data": {
      "image/png": "[encoded data removed]",
      "text/plain": [
       "<Figure size 432x288 with 1 Axes>"
      ]
     },
     "metadata": {
      "needs_background": "light"
     },
     "output_type": "display_data"
    }
   ],
   "source": [
    "# draw a distribution plot\n",
    "# check outliers\n",
    "sample = curated_csv_df1.sample(0.5).select('avg_personal_income_weekly')\n",
    "sample = sample.toPandas()\n",
    "sample.plot.kde(bw_method=3)\n"
   ]
  },
  {
   "cell_type": "code",
   "execution_count": 101,
   "metadata": {},
   "outputs": [
    {
     "name": "stderr",
     "output_type": "stream",
     "text": [
      "                                                                                \r"
     ]
    },
    {
     "data": {
      "text/plain": [
       "<AxesSubplot:ylabel='Density'>"
      ]
     },
     "execution_count": 101,
     "metadata": {},
     "output_type": "execute_result"
    },
    {
     "data": {
      "image/png": "[encoded data removed]",
      "text/plain": [
       "<Figure size 432x288 with 1 Axes>"
      ]
     },
     "metadata": {
      "needs_background": "light"
     },
     "output_type": "display_data"
    }
   ],
   "source": [
    "sample1 = curated_csv_df1.sample(0.5).select('total_population')\n",
    "sample1 = sample1.toPandas()\n",
    "sample1.plot.kde(bw_method=3)"
   ]
  },
  {
   "cell_type": "code",
   "execution_count": 102,
   "metadata": {},
   "outputs": [
    {
     "name": "stderr",
     "output_type": "stream",
     "text": [
      "                                                                                \r"
     ]
    },
    {
     "data": {
      "text/html": [
       "<table border='1'>\n",
       "<tr><th>user_id</th><th>merchant_abn</th><th>dollar_value</th><th>order_id</th><th>order_datetime</th><th>consumer_id</th><th>merchant_name</th><th>user_name</th><th>address</th><th>state</th><th>postcode</th><th>gender</th><th>field</th><th>revenue_level</th><th>take_rate</th><th>total_population</th><th>avg_personal_income_weekly</th></tr>\n",
       "<tr><td>5574</td><td>58476363584</td><td>66.29</td><td>401ee716-6a4d-400...</td><td>2021-08-20</td><td>1719</td><td>Mauris Blandit Fo...</td><td>Ashley Ellis</td><td>08935 Anderson Cr...</td><td>NSW</td><td>1001</td><td>Female</td><td>watch, clock, and...</td><td>a</td><td>6.49</td><td>9656</td><td>798.0</td></tr>\n",
       "<tr><td>5574</td><td>46804135891</td><td>0.49</td><td>1ae8d9be-ee74-479...</td><td>2022-09-08</td><td>1719</td><td>Suspendisse Dui C...</td><td>Ashley Ellis</td><td>08935 Anderson Cr...</td><td>NSW</td><td>1001</td><td>Female</td><td>opticians, optica...</td><td>c</td><td>2.93</td><td>9656</td><td>798.0</td></tr>\n",
       "<tr><td>5574</td><td>98166254020</td><td>1728.46</td><td>72934e47-3c41-476...</td><td>2021-08-20</td><td>1719</td><td>Magna Sed Industries</td><td>Ashley Ellis</td><td>08935 Anderson Cr...</td><td>NSW</td><td>1001</td><td>Female</td><td>art dealers and g...</td><td>a</td><td>5.96</td><td>9656</td><td>798.0</td></tr>\n",
       "</table>\n"
      ],
      "text/plain": [
       "+-------+------------+------------+--------------------+--------------+-----------+--------------------+------------+--------------------+-----+--------+------+--------------------+-------------+---------+----------------+--------------------------+\n",
       "|user_id|merchant_abn|dollar_value|            order_id|order_datetime|consumer_id|       merchant_name|   user_name|             address|state|postcode|gender|               field|revenue_level|take_rate|total_population|avg_personal_income_weekly|\n",
       "+-------+------------+------------+--------------------+--------------+-----------+--------------------+------------+--------------------+-----+--------+------+--------------------+-------------+---------+----------------+--------------------------+\n",
       "|   5574| 58476363584|       66.29|401ee716-6a4d-400...|    2021-08-20|       1719|Mauris Blandit Fo...|Ashley Ellis|08935 Anderson Cr...|  NSW|    1001|Female|watch, clock, and...|            a|     6.49|            9656|                     798.0|\n",
       "|   5574| 46804135891|        0.49|1ae8d9be-ee74-479...|    2022-09-08|       1719|Suspendisse Dui C...|Ashley Ellis|08935 Anderson Cr...|  NSW|    1001|Female|opticians, optica...|            c|     2.93|            9656|                     798.0|\n",
       "|   5574| 98166254020|     1728.46|72934e47-3c41-476...|    2021-08-20|       1719|Magna Sed Industries|Ashley Ellis|08935 Anderson Cr...|  NSW|    1001|Female|art dealers and g...|            a|     5.96|            9656|                     798.0|\n",
       "+-------+------------+------------+--------------------+--------------+-----------+--------------------+------------+--------------------+-----+--------+------+--------------------+-------------+---------+----------------+--------------------------+"
      ]
     },
     "execution_count": 102,
     "metadata": {},
     "output_type": "execute_result"
    }
   ],
   "source": [
    "# use median to fill null value of income and population\n",
    "curated_csv_df2 = curated_csv_new\n",
    "income_median = np.median(income.select('Median_tot_prsnl_inc_weekly').collect())\n",
    "population_median = np.median(population.select('Tot_P_P').collect())\n",
    "curated_csv_df2 = curated_csv_df2.na.fill({'avg_personal_income_weekly':round(income_median,1),'total_population':population_median})\n",
    "curated_csv_df2.limit(3)"
   ]
  },
  {
   "cell_type": "code",
   "execution_count": 103,
   "metadata": {},
   "outputs": [
    {
     "name": "stderr",
     "output_type": "stream",
     "text": [
      "                                                                                \r"
     ]
    },
    {
     "data": {
      "text/plain": [
       "<AxesSubplot:ylabel='Density'>"
      ]
     },
     "execution_count": 103,
     "metadata": {},
     "output_type": "execute_result"
    },
    {
     "data": {
      "image/png": "[encoded data removed]",
      "text/plain": [
       "<Figure size 432x288 with 1 Axes>"
      ]
     },
     "metadata": {
      "needs_background": "light"
     },
     "output_type": "display_data"
    }
   ],
   "source": [
    "# draw a distribution plot\n",
    "# check outliers\n",
    "sample = curated_csv_df2.sample(0.5).select('avg_personal_income_weekly')\n",
    "sample = sample.toPandas()\n",
    "sample.plot.kde(bw_method=3)"
   ]
  },
  {
   "cell_type": "code",
   "execution_count": 104,
   "metadata": {},
   "outputs": [
    {
     "name": "stderr",
     "output_type": "stream",
     "text": [
      "                                                                                \r"
     ]
    },
    {
     "data": {
      "text/plain": [
       "<AxesSubplot:ylabel='Density'>"
      ]
     },
     "execution_count": 104,
     "metadata": {},
     "output_type": "execute_result"
    },
    {
     "data": {
      "image/png": "[encoded data removed]",
      "text/plain": [
       "<Figure size 432x288 with 1 Axes>"
      ]
     },
     "metadata": {
      "needs_background": "light"
     },
     "output_type": "display_data"
    }
   ],
   "source": [
    "sample1 = curated_csv_df2.sample(0.5).select('total_population')\n",
    "sample1 = sample1.toPandas()\n",
    "sample1.plot.kde(bw_method=3)"
   ]
  }
 ],
 "metadata": {
  "kernelspec": {
   "display_name": "Python 3.10.4 64-bit",
   "language": "python",
   "name": "python3"
  },
  "language_info": {
   "codemirror_mode": {
    "name": "ipython",
    "version": 3
   },
   "file_extension": ".py",
   "mimetype": "text/x-python",
   "name": "python",
   "nbconvert_exporter": "python",
   "pygments_lexer": "ipython3",
   "version": "3.10.4"
  },
  "orig_nbformat": 4,
  "vscode": {
   "interpreter": {
    "hash": "916dbcbb3f70747c44a77c7bcd40155683ae19c65e1c03b4aa3499c5328201f1"
   }
  }
 },
 "nbformat": 4,
 "nbformat_minor": 2
}
