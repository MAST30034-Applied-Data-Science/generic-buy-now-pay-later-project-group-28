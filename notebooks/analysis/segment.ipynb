{
 "cells": [
  {
   "cell_type": "markdown",
   "metadata": {},
   "source": [
    "This file is to select 3 interesting segments for the ranking"
   ]
  },
  {
   "cell_type": "code",
   "execution_count": 1,
   "metadata": {},
   "outputs": [
    {
     "name": "stderr",
     "output_type": "stream",
     "text": [
      "22/10/16 08:43:06 WARN Utils: Your hostname, Rudyletsgo resolves to a loopback address: 127.0.1.1; using 172.31.44.254 instead (on interface eth0)\n",
      "22/10/16 08:43:06 WARN Utils: Set SPARK_LOCAL_IP if you need to bind to another address\n",
      "WARNING: An illegal reflective access operation has occurred\n",
      "WARNING: Illegal reflective access by org.apache.spark.unsafe.Platform (file:/home/jiaruiq/miniconda3/envs/ads/lib/python3.8/site-packages/pyspark/jars/spark-unsafe_2.12-3.1.2.jar) to constructor java.nio.DirectByteBuffer(long,int)\n",
      "WARNING: Please consider reporting this to the maintainers of org.apache.spark.unsafe.Platform\n",
      "WARNING: Use --illegal-access=warn to enable warnings of further illegal reflective access operations\n",
      "WARNING: All illegal access operations will be denied in a future release\n",
      "22/10/16 08:43:08 WARN NativeCodeLoader: Unable to load native-hadoop library for your platform... using builtin-java classes where applicable\n",
      "Using Spark's default log4j profile: org/apache/spark/log4j-defaults.properties\n",
      "Setting default log level to \"WARN\".\n",
      "To adjust logging level use sc.setLogLevel(newLevel). For SparkR, use setLogLevel(newLevel).\n",
      "22/10/16 08:43:09 WARN Utils: Service 'SparkUI' could not bind on port 4040. Attempting port 4041.\n",
      "22/10/16 08:43:09 WARN Utils: Service 'SparkUI' could not bind on port 4041. Attempting port 4042.\n",
      "22/10/16 08:43:09 WARN Utils: Service 'SparkUI' could not bind on port 4042. Attempting port 4043.\n",
      "22/10/16 08:43:09 WARN Utils: Service 'SparkUI' could not bind on port 4043. Attempting port 4044.\n",
      "22/10/16 08:43:09 WARN Utils: Service 'SparkUI' could not bind on port 4044. Attempting port 4045.\n"
     ]
    }
   ],
   "source": [
    "from pyspark.sql.types import *\n",
    "from pyspark.sql.functions import *\n",
    "import pandas as pd\n",
    "#import spark\n",
    "from pyspark.sql import SparkSession\n",
    "# Create a spark session (which will run spark jobs)\n",
    "spark = (\n",
    "    SparkSession.builder.appName(\"MAST30034 ass2 BNPL group 28\")\n",
    "    .config(\"spark.sql.repl.eagerEval.enabled\", True) \n",
    "    .config(\"spark.sql.parquet.cacheMetadata\", \"true\")\n",
    "    .config(\"spark.sql.session.timeZone\", \"Etc/UTC\")\n",
    "    .getOrCreate()\n",
    ")"
   ]
  },
  {
   "cell_type": "code",
   "execution_count": 2,
   "metadata": {},
   "outputs": [
    {
     "ename": "AnalysisException",
     "evalue": "Path does not exist: file:/home/jiaruiq/generic-buy-now-pay-later-project-group-28/notebooks/data/curated/full_data.csv",
     "output_type": "error",
     "traceback": [
      "\u001b[0;31m---------------------------------------------------------------------------\u001b[0m",
      "\u001b[0;31mAnalysisException\u001b[0m                         Traceback (most recent call last)",
      "\u001b[1;32m/home/jiaruiq/generic-buy-now-pay-later-project-group-28/notebooks/analysis/segment.ipynb Cell 3\u001b[0m in \u001b[0;36m<cell line: 2>\u001b[0;34m()\u001b[0m\n\u001b[1;32m      <a href='vscode-notebook-cell://wsl%2Bubuntu-22.04/home/jiaruiq/generic-buy-now-pay-later-project-group-28/notebooks/analysis/segment.ipynb#W2sdnNjb2RlLXJlbW90ZQ%3D%3D?line=0'>1</a>\u001b[0m \u001b[39m# Read the curated file\u001b[39;00m\n\u001b[0;32m----> <a href='vscode-notebook-cell://wsl%2Bubuntu-22.04/home/jiaruiq/generic-buy-now-pay-later-project-group-28/notebooks/analysis/segment.ipynb#W2sdnNjb2RlLXJlbW90ZQ%3D%3D?line=1'>2</a>\u001b[0m curated_csv \u001b[39m=\u001b[39m spark\u001b[39m.\u001b[39;49mread\u001b[39m.\u001b[39;49moptions(header \u001b[39m=\u001b[39;49m \u001b[39mTrue\u001b[39;49;00m)\u001b[39m.\u001b[39;49mcsv(\u001b[39m'\u001b[39;49m\u001b[39m../data/curated/full_data.csv\u001b[39;49m\u001b[39m'\u001b[39;49m)\n\u001b[1;32m      <a href='vscode-notebook-cell://wsl%2Bubuntu-22.04/home/jiaruiq/generic-buy-now-pay-later-project-group-28/notebooks/analysis/segment.ipynb#W2sdnNjb2RlLXJlbW90ZQ%3D%3D?line=3'>4</a>\u001b[0m curated_csv \u001b[39m=\u001b[39m curated_csv\u001b[39m.\u001b[39mwithColumn(\u001b[39m'\u001b[39m\u001b[39mdollar_value\u001b[39m\u001b[39m'\u001b[39m, curated_csv\u001b[39m.\u001b[39mdollar_value\u001b[39m.\u001b[39mcast(FloatType())) \\\n\u001b[1;32m      <a href='vscode-notebook-cell://wsl%2Bubuntu-22.04/home/jiaruiq/generic-buy-now-pay-later-project-group-28/notebooks/analysis/segment.ipynb#W2sdnNjb2RlLXJlbW90ZQ%3D%3D?line=4'>5</a>\u001b[0m     \u001b[39m.\u001b[39mwithColumn(\u001b[39m'\u001b[39m\u001b[39mavg_personal_income_weekly\u001b[39m\u001b[39m'\u001b[39m, curated_csv\u001b[39m.\u001b[39mavg_personal_income_weekly\u001b[39m.\u001b[39mcast(FloatType())) \\\n\u001b[1;32m      <a href='vscode-notebook-cell://wsl%2Bubuntu-22.04/home/jiaruiq/generic-buy-now-pay-later-project-group-28/notebooks/analysis/segment.ipynb#W2sdnNjb2RlLXJlbW90ZQ%3D%3D?line=5'>6</a>\u001b[0m         \u001b[39m.\u001b[39mwithColumn(\u001b[39m'\u001b[39m\u001b[39mtake_rate\u001b[39m\u001b[39m'\u001b[39m, curated_csv\u001b[39m.\u001b[39mtake_rate\u001b[39m.\u001b[39mcast(FloatType())) \\\n\u001b[1;32m      <a href='vscode-notebook-cell://wsl%2Bubuntu-22.04/home/jiaruiq/generic-buy-now-pay-later-project-group-28/notebooks/analysis/segment.ipynb#W2sdnNjb2RlLXJlbW90ZQ%3D%3D?line=6'>7</a>\u001b[0m             \u001b[39m.\u001b[39mwithColumn(\u001b[39m'\u001b[39m\u001b[39mtotal_population\u001b[39m\u001b[39m'\u001b[39m, curated_csv\u001b[39m.\u001b[39mtotal_population\u001b[39m.\u001b[39mcast(IntegerType())) \\\n\u001b[1;32m      <a href='vscode-notebook-cell://wsl%2Bubuntu-22.04/home/jiaruiq/generic-buy-now-pay-later-project-group-28/notebooks/analysis/segment.ipynb#W2sdnNjb2RlLXJlbW90ZQ%3D%3D?line=7'>8</a>\u001b[0m                 \u001b[39m.\u001b[39mwithColumn(\u001b[39m'\u001b[39m\u001b[39mis_fraud\u001b[39m\u001b[39m'\u001b[39m, when(curated_csv\u001b[39m.\u001b[39mis_fraud \u001b[39m==\u001b[39m \u001b[39m'\u001b[39m\u001b[39mFalse\u001b[39m\u001b[39m'\u001b[39m, \u001b[39m0\u001b[39m)\u001b[39m.\u001b[39motherwise(\u001b[39m1\u001b[39m))\n",
      "File \u001b[0;32m~/miniconda3/envs/ads/lib/python3.8/site-packages/pyspark/sql/readwriter.py:737\u001b[0m, in \u001b[0;36mDataFrameReader.csv\u001b[0;34m(self, path, schema, sep, encoding, quote, escape, comment, header, inferSchema, ignoreLeadingWhiteSpace, ignoreTrailingWhiteSpace, nullValue, nanValue, positiveInf, negativeInf, dateFormat, timestampFormat, maxColumns, maxCharsPerColumn, maxMalformedLogPerPartition, mode, columnNameOfCorruptRecord, multiLine, charToEscapeQuoteEscaping, samplingRatio, enforceSchema, emptyValue, locale, lineSep, pathGlobFilter, recursiveFileLookup, modifiedBefore, modifiedAfter, unescapedQuoteHandling)\u001b[0m\n\u001b[1;32m    735\u001b[0m     path \u001b[39m=\u001b[39m [path]\n\u001b[1;32m    736\u001b[0m \u001b[39mif\u001b[39;00m \u001b[39mtype\u001b[39m(path) \u001b[39m==\u001b[39m \u001b[39mlist\u001b[39m:\n\u001b[0;32m--> 737\u001b[0m     \u001b[39mreturn\u001b[39;00m \u001b[39mself\u001b[39m\u001b[39m.\u001b[39m_df(\u001b[39mself\u001b[39;49m\u001b[39m.\u001b[39;49m_jreader\u001b[39m.\u001b[39;49mcsv(\u001b[39mself\u001b[39;49m\u001b[39m.\u001b[39;49m_spark\u001b[39m.\u001b[39;49m_sc\u001b[39m.\u001b[39;49m_jvm\u001b[39m.\u001b[39;49mPythonUtils\u001b[39m.\u001b[39;49mtoSeq(path)))\n\u001b[1;32m    738\u001b[0m \u001b[39melif\u001b[39;00m \u001b[39misinstance\u001b[39m(path, RDD):\n\u001b[1;32m    739\u001b[0m     \u001b[39mdef\u001b[39;00m \u001b[39mfunc\u001b[39m(iterator):\n",
      "File \u001b[0;32m~/miniconda3/envs/ads/lib/python3.8/site-packages/py4j/java_gateway.py:1309\u001b[0m, in \u001b[0;36mJavaMember.__call__\u001b[0;34m(self, *args)\u001b[0m\n\u001b[1;32m   1303\u001b[0m command \u001b[39m=\u001b[39m proto\u001b[39m.\u001b[39mCALL_COMMAND_NAME \u001b[39m+\u001b[39m\\\n\u001b[1;32m   1304\u001b[0m     \u001b[39mself\u001b[39m\u001b[39m.\u001b[39mcommand_header \u001b[39m+\u001b[39m\\\n\u001b[1;32m   1305\u001b[0m     args_command \u001b[39m+\u001b[39m\\\n\u001b[1;32m   1306\u001b[0m     proto\u001b[39m.\u001b[39mEND_COMMAND_PART\n\u001b[1;32m   1308\u001b[0m answer \u001b[39m=\u001b[39m \u001b[39mself\u001b[39m\u001b[39m.\u001b[39mgateway_client\u001b[39m.\u001b[39msend_command(command)\n\u001b[0;32m-> 1309\u001b[0m return_value \u001b[39m=\u001b[39m get_return_value(\n\u001b[1;32m   1310\u001b[0m     answer, \u001b[39mself\u001b[39;49m\u001b[39m.\u001b[39;49mgateway_client, \u001b[39mself\u001b[39;49m\u001b[39m.\u001b[39;49mtarget_id, \u001b[39mself\u001b[39;49m\u001b[39m.\u001b[39;49mname)\n\u001b[1;32m   1312\u001b[0m \u001b[39mfor\u001b[39;00m temp_arg \u001b[39min\u001b[39;00m temp_args:\n\u001b[1;32m   1313\u001b[0m     temp_arg\u001b[39m.\u001b[39m_detach()\n",
      "File \u001b[0;32m~/miniconda3/envs/ads/lib/python3.8/site-packages/pyspark/sql/utils.py:117\u001b[0m, in \u001b[0;36mcapture_sql_exception.<locals>.deco\u001b[0;34m(*a, **kw)\u001b[0m\n\u001b[1;32m    113\u001b[0m converted \u001b[39m=\u001b[39m convert_exception(e\u001b[39m.\u001b[39mjava_exception)\n\u001b[1;32m    114\u001b[0m \u001b[39mif\u001b[39;00m \u001b[39mnot\u001b[39;00m \u001b[39misinstance\u001b[39m(converted, UnknownException):\n\u001b[1;32m    115\u001b[0m     \u001b[39m# Hide where the exception came from that shows a non-Pythonic\u001b[39;00m\n\u001b[1;32m    116\u001b[0m     \u001b[39m# JVM exception message.\u001b[39;00m\n\u001b[0;32m--> 117\u001b[0m     \u001b[39mraise\u001b[39;00m converted \u001b[39mfrom\u001b[39;00m \u001b[39mNone\u001b[39m\n\u001b[1;32m    118\u001b[0m \u001b[39melse\u001b[39;00m:\n\u001b[1;32m    119\u001b[0m     \u001b[39mraise\u001b[39;00m\n",
      "\u001b[0;31mAnalysisException\u001b[0m: Path does not exist: file:/home/jiaruiq/generic-buy-now-pay-later-project-group-28/notebooks/data/curated/full_data.csv"
     ]
    }
   ],
   "source": [
    "# Read the curated file\n",
    "curated_csv = spark.read.options(header = True).csv('../data/curated/full_data.csv')\n",
    "\n",
    "curated_csv = curated_csv.withColumn('dollar_value', curated_csv.dollar_value.cast(FloatType())) \\\n",
    "    .withColumn('avg_personal_income_weekly', curated_csv.avg_personal_income_weekly.cast(FloatType())) \\\n",
    "        .withColumn('take_rate', curated_csv.take_rate.cast(FloatType())) \\\n",
    "            .withColumn('total_population', curated_csv.total_population.cast(IntegerType())) \\\n",
    "                .withColumn('is_fraud', when(curated_csv.is_fraud == 'False', 0).otherwise(1))"
   ]
  },
  {
   "cell_type": "code",
   "execution_count": 21,
   "metadata": {},
   "outputs": [],
   "source": [
    "popular_segment = curated_csv.groupBy('field').count().orderBy('count',ascending=False)"
   ]
  },
  {
   "cell_type": "code",
   "execution_count": 22,
   "metadata": {},
   "outputs": [
    {
     "name": "stderr",
     "output_type": "stream",
     "text": [
      "                                                                                \r"
     ]
    },
    {
     "data": {
      "text/html": [
       "<table border='1'>\n",
       "<tr><th>field</th><th>count</th></tr>\n",
       "<tr><td>tent and awning s...</td><td>1526121</td></tr>\n",
       "<tr><td>gift, card, novel...</td><td>1423773</td></tr>\n",
       "<tr><td>digital goods: bo...</td><td>1087776</td></tr>\n",
       "<tr><td>watch, clock, and...</td><td>832327</td></tr>\n",
       "<tr><td>cable, satellite,...</td><td>790324</td></tr>\n",
       "<tr><td>florists supplies...</td><td>758749</td></tr>\n",
       "<tr><td>opticians, optica...</td><td>731627</td></tr>\n",
       "<tr><td>computers, comput...</td><td>598586</td></tr>\n",
       "<tr><td>computer programm...</td><td>435736</td></tr>\n",
       "<tr><td>artist supply and...</td><td>405148</td></tr>\n",
       "<tr><td>furniture, home f...</td><td>390583</td></tr>\n",
       "<tr><td>shoe shops</td><td>350712</td></tr>\n",
       "<tr><td>books, periodical...</td><td>332671</td></tr>\n",
       "<tr><td>lawn and garden s...</td><td>293304</td></tr>\n",
       "<tr><td>music shops - mus...</td><td>265567</td></tr>\n",
       "<tr><td>motor vehicle sup...</td><td>252343</td></tr>\n",
       "<tr><td>health and beauty...</td><td>212047</td></tr>\n",
       "<tr><td>hobby, toy and ga...</td><td>201495</td></tr>\n",
       "<tr><td>bicycle shops - s...</td><td>192688</td></tr>\n",
       "<tr><td>antique shops - s...</td><td>149290</td></tr>\n",
       "</table>\n",
       "only showing top 20 rows\n"
      ],
      "text/plain": [
       "+--------------------+-------+\n",
       "|               field|  count|\n",
       "+--------------------+-------+\n",
       "|tent and awning s...|1526121|\n",
       "|gift, card, novel...|1423773|\n",
       "|digital goods: bo...|1087776|\n",
       "|watch, clock, and...| 832327|\n",
       "|cable, satellite,...| 790324|\n",
       "|florists supplies...| 758749|\n",
       "|opticians, optica...| 731627|\n",
       "|computers, comput...| 598586|\n",
       "|computer programm...| 435736|\n",
       "|artist supply and...| 405148|\n",
       "|furniture, home f...| 390583|\n",
       "|          shoe shops| 350712|\n",
       "|books, periodical...| 332671|\n",
       "|lawn and garden s...| 293304|\n",
       "|music shops - mus...| 265567|\n",
       "|motor vehicle sup...| 252343|\n",
       "|health and beauty...| 212047|\n",
       "|hobby, toy and ga...| 201495|\n",
       "|bicycle shops - s...| 192688|\n",
       "|antique shops - s...| 149290|\n",
       "+--------------------+-------+\n",
       "only showing top 20 rows"
      ]
     },
     "execution_count": 22,
     "metadata": {},
     "output_type": "execute_result"
    }
   ],
   "source": [
    "popular_segment"
   ]
  },
  {
   "cell_type": "code",
   "execution_count": 23,
   "metadata": {},
   "outputs": [
    {
     "name": "stderr",
     "output_type": "stream",
     "text": [
      "                                                                                \r"
     ]
    }
   ],
   "source": [
    "popular_segment_name = popular_segment.collect()[0][0]\n",
    "popular_segment_count = popular_segment.collect()[0][1]"
   ]
  },
  {
   "cell_type": "code",
   "execution_count": 24,
   "metadata": {},
   "outputs": [
    {
     "name": "stderr",
     "output_type": "stream",
     "text": [
      "                                                                                \r"
     ]
    }
   ],
   "source": [
    "# Get the mean and median of segment order numbers\n",
    "segment_ordernum_mean = popular_segment.agg({'count': 'avg'}).collect()[0][0]\n",
    "segment_ordernum_median = popular_segment.agg(expr(\"percentile(count, 0.5)\")).collect()[0][0]"
   ]
  },
  {
   "cell_type": "code",
   "execution_count": 25,
   "metadata": {},
   "outputs": [
    {
     "data": {
      "image/png": "[encoded data removed]",
      "text/plain": [
       "<Figure size 720x360 with 1 Axes>"
      ]
     },
     "metadata": {
      "needs_background": "light"
     },
     "output_type": "display_data"
    }
   ],
   "source": [
    "# Visulize the comparison\n",
    "df = pd.DataFrame({'segment':[popular_segment_name, 'Mean', 'Median'], \n",
    "    'count':[popular_segment_count, segment_ordernum_mean, segment_ordernum_median]})\n",
    "ax = df.plot.bar(x='segment', y='count', rot=0, figsize = [10,5], title = 'Total orders comparison between selected segment and mean, median')"
   ]
  },
  {
   "cell_type": "code",
   "execution_count": 26,
   "metadata": {},
   "outputs": [],
   "source": [
    "# check the selected segment has more than 10 merchants\n",
    "merchant_info = spark.read.options(header = True).csv('../data/curated/merchant_info.csv')\n",
    "field_count = merchant_info.groupBy('field').count()"
   ]
  },
  {
   "cell_type": "code",
   "execution_count": 27,
   "metadata": {},
   "outputs": [
    {
     "name": "stdout",
     "output_type": "stream",
     "text": [
      "+--------------------+-----+\n",
      "|               field|count|\n",
      "+--------------------+-----+\n",
      "|tent and awning s...|  171|\n",
      "+--------------------+-----+\n",
      "\n"
     ]
    }
   ],
   "source": [
    "print(field_count.where(field_count.field == popular_segment_name))"
   ]
  },
  {
   "cell_type": "markdown",
   "metadata": {},
   "source": [
    "Confirmed that the number of merchants in this specific segment is great enough to rank"
   ]
  },
  {
   "cell_type": "markdown",
   "metadata": {},
   "source": [
    "Next we are interested in the segment which has the greatest revenue"
   ]
  },
  {
   "cell_type": "code",
   "execution_count": 28,
   "metadata": {},
   "outputs": [],
   "source": [
    "merchant_info = merchant_info.withColumn('transaction_count', merchant_info.transaction_count.cast(IntegerType())) \\\n",
    "    .withColumn('total_revenue', merchant_info.total_revenue.cast(FloatType())) \\\n",
    "        .withColumn('take_rate', merchant_info.take_rate.cast(FloatType())) \\\n",
    "            .withColumn('mean_consumer_income', merchant_info.mean_consumer_income.cast(FloatType())) \\\n",
    "                .withColumn('fraud_count', merchant_info.fraud_count.cast(IntegerType())) \\\n",
    "                    .withColumn('main_business_area_popu', merchant_info.main_business_area_popu.cast(IntegerType()))"
   ]
  },
  {
   "cell_type": "code",
   "execution_count": 29,
   "metadata": {},
   "outputs": [],
   "source": [
    "segment_revenue = merchant_info.groupBy('field').sum('total_revenue').withColumnRenamed('sum(total_revenue)', 'segment_revenue')"
   ]
  },
  {
   "cell_type": "code",
   "execution_count": 30,
   "metadata": {},
   "outputs": [],
   "source": [
    "# Sort the revenue in descending order\n",
    "segment_revenue = segment_revenue.orderBy('segment_revenue',ascending=False)"
   ]
  },
  {
   "cell_type": "code",
   "execution_count": 31,
   "metadata": {},
   "outputs": [
    {
     "data": {
      "text/html": [
       "<table border='1'>\n",
       "<tr><th>field</th><th>segment_revenue</th></tr>\n",
       "<tr><td>tent and awning s...</td><td>1.2640779604394531E8</td></tr>\n",
       "<tr><td>artist supply and...</td><td>1.0250887800683594E8</td></tr>\n",
       "<tr><td>gift, card, novel...</td><td>9.677797139746094E7</td></tr>\n",
       "<tr><td>motor vehicle sup...</td><td>9.367390205761719E7</td></tr>\n",
       "<tr><td>lawn and garden s...</td><td>9.268829348730469E7</td></tr>\n",
       "<tr><td>computers, comput...</td><td>9.224725774609375E7</td></tr>\n",
       "<tr><td>furniture, home f...</td><td>8.810775269824219E7</td></tr>\n",
       "<tr><td>florists supplies...</td><td>8.659500151171875E7</td></tr>\n",
       "<tr><td>books, periodical...</td><td>8.318974848242188E7</td></tr>\n",
       "<tr><td>computer programm...</td><td>8.267964002539062E7</td></tr>\n",
       "<tr><td>shoe shops</td><td>7.062560075976562E7</td></tr>\n",
       "<tr><td>digital goods: bo...</td><td>7.033857315332031E7</td></tr>\n",
       "<tr><td>music shops - mus...</td><td>6.959434489160156E7</td></tr>\n",
       "<tr><td>stationery, offic...</td><td>6.497938878515625E7</td></tr>\n",
       "<tr><td>opticians, optica...</td><td>6.3503746994140625E7</td></tr>\n",
       "<tr><td>health and beauty...</td><td>6.3166798970703125E7</td></tr>\n",
       "<tr><td>cable, satellite,...</td><td>6.2733274091796875E7</td></tr>\n",
       "<tr><td>watch, clock, and...</td><td>5.9167863046875E7</td></tr>\n",
       "<tr><td>bicycle shops - s...</td><td>5.87754675E7</td></tr>\n",
       "<tr><td>telecom</td><td>5.1831993802734375E7</td></tr>\n",
       "</table>\n",
       "only showing top 20 rows\n"
      ],
      "text/plain": [
       "+--------------------+--------------------+\n",
       "|               field|     segment_revenue|\n",
       "+--------------------+--------------------+\n",
       "|tent and awning s...|1.2640779604394531E8|\n",
       "|artist supply and...|1.0250887800683594E8|\n",
       "|gift, card, novel...| 9.677797139746094E7|\n",
       "|motor vehicle sup...| 9.367390205761719E7|\n",
       "|lawn and garden s...| 9.268829348730469E7|\n",
       "|computers, comput...| 9.224725774609375E7|\n",
       "|furniture, home f...| 8.810775269824219E7|\n",
       "|florists supplies...| 8.659500151171875E7|\n",
       "|books, periodical...| 8.318974848242188E7|\n",
       "|computer programm...| 8.267964002539062E7|\n",
       "|          shoe shops| 7.062560075976562E7|\n",
       "|digital goods: bo...| 7.033857315332031E7|\n",
       "|music shops - mus...| 6.959434489160156E7|\n",
       "|stationery, offic...| 6.497938878515625E7|\n",
       "|opticians, optica...|6.3503746994140625E7|\n",
       "|health and beauty...|6.3166798970703125E7|\n",
       "|cable, satellite,...|6.2733274091796875E7|\n",
       "|watch, clock, and...|   5.9167863046875E7|\n",
       "|bicycle shops - s...|        5.87754675E7|\n",
       "|             telecom|5.1831993802734375E7|\n",
       "+--------------------+--------------------+\n",
       "only showing top 20 rows"
      ]
     },
     "execution_count": 31,
     "metadata": {},
     "output_type": "execute_result"
    }
   ],
   "source": [
    "# The segment with the greatest number of deals also has the greatest revenue\n",
    "segment_revenue"
   ]
  },
  {
   "cell_type": "markdown",
   "metadata": {},
   "source": [
    "Interesting in the segment has greatest revenue per deal"
   ]
  },
  {
   "cell_type": "code",
   "execution_count": 32,
   "metadata": {},
   "outputs": [],
   "source": [
    "segment_earning_per_merchant = field_count.join(segment_revenue,['field'])"
   ]
  },
  {
   "cell_type": "code",
   "execution_count": 33,
   "metadata": {},
   "outputs": [],
   "source": [
    "segment_earning_per_merchant = segment_earning_per_merchant.withColumn('avg_revenue_per_merchant', col('segment_revenue') / col('count')) \\\n",
    "    .withColumn('count', segment_earning_per_merchant['count'].cast(IntegerType()))"
   ]
  },
  {
   "cell_type": "code",
   "execution_count": 34,
   "metadata": {},
   "outputs": [],
   "source": [
    "segment_earning_per_merchant = segment_earning_per_merchant.orderBy('avg_revenue_per_merchant',ascending=False)"
   ]
  },
  {
   "cell_type": "code",
   "execution_count": 35,
   "metadata": {},
   "outputs": [
    {
     "data": {
      "text/html": [
       "<table border='1'>\n",
       "<tr><th>field</th><th>count</th><th>segment_revenue</th><th>avg_revenue_per_merchant</th></tr>\n",
       "<tr><td>tent and awning s...</td><td>171</td><td>1.2640779604394531E8</td><td>739226.8774499726</td></tr>\n",
       "<tr><td>lawn and garden s...</td><td>144</td><td>9.268829348730469E7</td><td>643668.7047729492</td></tr>\n",
       "<tr><td>motor vehicle sup...</td><td>146</td><td>9.367390205761719E7</td><td>641602.0688877889</td></tr>\n",
       "<tr><td>books, periodical...</td><td>151</td><td>8.318974848242188E7</td><td>550925.4866385554</td></tr>\n",
       "<tr><td>artist supply and...</td><td>187</td><td>1.0250887800683594E8</td><td>548175.818218374</td></tr>\n",
       "<tr><td>computers, comput...</td><td>169</td><td>9.224725774609375E7</td><td>545841.7618112057</td></tr>\n",
       "<tr><td>gift, card, novel...</td><td>178</td><td>9.677797139746094E7</td><td>543696.4685250615</td></tr>\n",
       "<tr><td>furniture, home f...</td><td>166</td><td>8.810775269824219E7</td><td>530769.594567724</td></tr>\n",
       "<tr><td>florists supplies...</td><td>171</td><td>8.659500151171875E7</td><td>506403.51761239034</td></tr>\n",
       "<tr><td>music shops - mus...</td><td>149</td><td>6.959434489160156E7</td><td>467076.14021209104</td></tr>\n",
       "<tr><td>jewelry, watch, c...</td><td>88</td><td>4.064978748510742E7</td><td>461929.40323985706</td></tr>\n",
       "<tr><td>computer programm...</td><td>182</td><td>8.267964002539062E7</td><td>454283.7364032452</td></tr>\n",
       "<tr><td>stationery, offic...</td><td>148</td><td>6.497938878515625E7</td><td>439049.9242240287</td></tr>\n",
       "<tr><td>opticians, optica...</td><td>145</td><td>6.3503746994140625E7</td><td>437956.87582165946</td></tr>\n",
       "<tr><td>telecom</td><td>125</td><td>5.1831993802734375E7</td><td>414655.950421875</td></tr>\n",
       "<tr><td>shoe shops</td><td>182</td><td>7.062560075976562E7</td><td>388052.7514272836</td></tr>\n",
       "<tr><td>health and beauty...</td><td>163</td><td>6.3166798970703125E7</td><td>387526.37405339343</td></tr>\n",
       "<tr><td>cable, satellite,...</td><td>163</td><td>6.2733274091796875E7</td><td>384866.71221961273</td></tr>\n",
       "<tr><td>antique shops - s...</td><td>124</td><td>4.750939258496094E7</td><td>383140.262781943</td></tr>\n",
       "<tr><td>watch, clock, and...</td><td>159</td><td>5.9167863046875E7</td><td>372124.9248231132</td></tr>\n",
       "</table>\n",
       "only showing top 20 rows\n"
      ],
      "text/plain": [
       "+--------------------+-----+--------------------+------------------------+\n",
       "|               field|count|     segment_revenue|avg_revenue_per_merchant|\n",
       "+--------------------+-----+--------------------+------------------------+\n",
       "|tent and awning s...|  171|1.2640779604394531E8|       739226.8774499726|\n",
       "|lawn and garden s...|  144| 9.268829348730469E7|       643668.7047729492|\n",
       "|motor vehicle sup...|  146| 9.367390205761719E7|       641602.0688877889|\n",
       "|books, periodical...|  151| 8.318974848242188E7|       550925.4866385554|\n",
       "|artist supply and...|  187|1.0250887800683594E8|        548175.818218374|\n",
       "|computers, comput...|  169| 9.224725774609375E7|       545841.7618112057|\n",
       "|gift, card, novel...|  178| 9.677797139746094E7|       543696.4685250615|\n",
       "|furniture, home f...|  166| 8.810775269824219E7|        530769.594567724|\n",
       "|florists supplies...|  171| 8.659500151171875E7|      506403.51761239034|\n",
       "|music shops - mus...|  149| 6.959434489160156E7|      467076.14021209104|\n",
       "|jewelry, watch, c...|   88| 4.064978748510742E7|      461929.40323985706|\n",
       "|computer programm...|  182| 8.267964002539062E7|       454283.7364032452|\n",
       "|stationery, offic...|  148| 6.497938878515625E7|       439049.9242240287|\n",
       "|opticians, optica...|  145|6.3503746994140625E7|      437956.87582165946|\n",
       "|             telecom|  125|5.1831993802734375E7|        414655.950421875|\n",
       "|          shoe shops|  182| 7.062560075976562E7|       388052.7514272836|\n",
       "|health and beauty...|  163|6.3166798970703125E7|      387526.37405339343|\n",
       "|cable, satellite,...|  163|6.2733274091796875E7|      384866.71221961273|\n",
       "|antique shops - s...|  124| 4.750939258496094E7|        383140.262781943|\n",
       "|watch, clock, and...|  159|   5.9167863046875E7|       372124.9248231132|\n",
       "+--------------------+-----+--------------------+------------------------+\n",
       "only showing top 20 rows"
      ]
     },
     "execution_count": 35,
     "metadata": {},
     "output_type": "execute_result"
    }
   ],
   "source": [
    "segment_earning_per_merchant.where(segment_earning_per_merchant['count']>=10)"
   ]
  },
  {
   "cell_type": "code",
   "execution_count": null,
   "metadata": {},
   "outputs": [],
   "source": []
  }
 ],
 "metadata": {
  "kernelspec": {
   "display_name": "Python 3.8.13 ('ads')",
   "language": "python",
   "name": "python3"
  },
  "language_info": {
   "codemirror_mode": {
    "name": "ipython",
    "version": 3
   },
   "file_extension": ".py",
   "mimetype": "text/x-python",
   "name": "python",
   "nbconvert_exporter": "python",
   "pygments_lexer": "ipython3",
   "version": "3.8.13"
  },
  "orig_nbformat": 4,
  "vscode": {
   "interpreter": {
    "hash": "bca15d2f4a2d5e67a541c5bc2e9bd5f13d2a08a92565a0d404f7484b46a3a1a0"
   }
  }
 },
 "nbformat": 4,
 "nbformat_minor": 2
}
