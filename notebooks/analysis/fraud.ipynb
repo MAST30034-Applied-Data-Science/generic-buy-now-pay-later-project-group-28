{
 "cells": [
  {
   "cell_type": "markdown",
   "metadata": {},
   "source": [
    "### Pyspark initialization, Read data"
   ]
  },
  {
   "cell_type": "code",
   "execution_count": 1,
   "metadata": {},
   "outputs": [
    {
     "name": "stderr",
     "output_type": "stream",
     "text": [
      "22/09/29 19:06:44 WARN Utils: Your hostname, 威猛先生沃 resolves to a loopback address: 127.0.1.1; using 172.24.189.237 instead (on interface eth0)\n",
      "22/09/29 19:06:44 WARN Utils: Set SPARK_LOCAL_IP if you need to bind to another address\n",
      "WARNING: An illegal reflective access operation has occurred\n",
      "WARNING: Illegal reflective access by org.apache.spark.unsafe.Platform (file:/home/mingruichen/miniconda3/envs/ads/lib/python3.8/site-packages/pyspark/jars/spark-unsafe_2.12-3.1.2.jar) to constructor java.nio.DirectByteBuffer(long,int)\n",
      "WARNING: Please consider reporting this to the maintainers of org.apache.spark.unsafe.Platform\n",
      "WARNING: Use --illegal-access=warn to enable warnings of further illegal reflective access operations\n",
      "WARNING: All illegal access operations will be denied in a future release\n",
      "22/09/29 19:06:45 WARN NativeCodeLoader: Unable to load native-hadoop library for your platform... using builtin-java classes where applicable\n",
      "Using Spark's default log4j profile: org/apache/spark/log4j-defaults.properties\n",
      "Setting default log level to \"WARN\".\n",
      "To adjust logging level use sc.setLogLevel(newLevel). For SparkR, use setLogLevel(newLevel).\n",
      "22/09/29 19:06:46 WARN Utils: Service 'SparkUI' could not bind on port 4040. Attempting port 4041.\n",
      "22/09/29 19:06:46 WARN Utils: Service 'SparkUI' could not bind on port 4041. Attempting port 4042.\n"
     ]
    }
   ],
   "source": [
    "from pyspark.sql.types import FloatType\n",
    "from pyspark.sql.functions import *\n",
    "from pyspark.ml.classification import NaiveBayes\n",
    "from pyspark.ml import Pipeline\n",
    "from pyspark.ml.feature import StringIndexer\n",
    "from pyspark.ml.feature import VectorAssembler\n",
    "from pyspark.ml.evaluation import MulticlassClassificationEvaluator\n",
    "\n",
    "#import spark\n",
    "from pyspark.sql import SparkSession\n",
    "# Create a spark session (which will run spark jobs)\n",
    "spark = (\n",
    "    SparkSession.builder.appName(\"MAST30034 ass2 BNPL group 28\")\n",
    "    .config(\"spark.sql.repl.eagerEval.enabled\", True) \n",
    "    .config(\"spark.sql.parquet.cacheMetadata\", \"true\")\n",
    "    .config(\"spark.sql.session.timeZone\", \"Etc/UTC\")\n",
    "    .getOrCreate()\n",
    ")"
   ]
  },
  {
   "cell_type": "code",
   "execution_count": 2,
   "metadata": {},
   "outputs": [
    {
     "name": "stderr",
     "output_type": "stream",
     "text": [
      "                                                                                \r"
     ]
    },
    {
     "name": "stderr",
     "output_type": "stream",
     "text": [
      "22/09/30 13:45:24 WARN HeartbeatReceiver: Removing executor driver with no recent heartbeats: 48734987 ms exceeds timeout 120000 ms\n",
      "22/09/30 13:45:24 WARN NettyRpcEnv: Ignored message: true\n",
      "22/09/30 13:45:24 WARN SparkContext: Killing executors is not supported by current scheduler.\n"
     ]
    }
   ],
   "source": [
    "curated_csv = spark.read.options(header = True).csv('../../data/curated/full_data.csv')\n",
    "merchant_fraud = spark.read.options(header = True).csv('../../data/tables/merchant_fraud_probability.csv')\n",
    "consumer_fraud = spark.read.options(header = True).csv('../../data/tables/consumer_fraud_probability.csv')"
   ]
  },
  {
   "cell_type": "code",
   "execution_count": 20,
   "metadata": {},
   "outputs": [
    {
     "name": "stdout",
     "output_type": "stream",
     "text": [
      "root\n",
      " |-- merchant_abn: string (nullable = true)\n",
      " |-- order_datetime: string (nullable = true)\n",
      " |-- fraud_probability: string (nullable = true)\n",
      "\n"
     ]
    }
   ],
   "source": [
    "merchant_fraud.printSchema()"
   ]
  },
  {
   "cell_type": "code",
   "execution_count": 21,
   "metadata": {},
   "outputs": [
    {
     "name": "stdout",
     "output_type": "stream",
     "text": [
      "root\n",
      " |-- user_id: string (nullable = true)\n",
      " |-- order_datetime: string (nullable = true)\n",
      " |-- fraud_probability: string (nullable = true)\n",
      "\n"
     ]
    }
   ],
   "source": [
    "consumer_fraud.printSchema()"
   ]
  },
  {
   "cell_type": "markdown",
   "metadata": {},
   "source": [
    "### Add new feature \"is_fraud\" to classify whether a record is a fraud record."
   ]
  },
  {
   "cell_type": "code",
   "execution_count": 22,
   "metadata": {},
   "outputs": [],
   "source": [
    "## only keep records that has fraud probability exceed 40% (which are treated as fraud records)\n",
    "consumer_fraud = consumer_fraud.withColumn(\"fraud_probability\",consumer_fraud.fraud_probability.cast(FloatType()))\n",
    "merchant_fraud = merchant_fraud.withColumn(\"fraud_probability\",merchant_fraud.fraud_probability.cast(FloatType()))\n",
    "\n",
    "consumer_fraud = consumer_fraud.filter(col(\"fraud_probability\") >= 30)\n",
    "merchant_fraud = merchant_fraud.filter(col(\"fraud_probability\") >= 30)"
   ]
  },
  {
   "cell_type": "code",
   "execution_count": 23,
   "metadata": {},
   "outputs": [
    {
     "name": "stderr",
     "output_type": "stream",
     "text": [
      "                                                                                \r"
     ]
    },
    {
     "data": {
      "text/plain": [
       "4977"
      ]
     },
     "execution_count": 23,
     "metadata": {},
     "output_type": "execute_result"
    }
   ],
   "source": [
    "curated_csv.join(consumer_fraud, (curated_csv.user_id == consumer_fraud.user_id) \\\n",
    "    & (curated_csv.order_datetime == consumer_fraud.order_datetime), \"inner\").count()"
   ]
  },
  {
   "cell_type": "code",
   "execution_count": 24,
   "metadata": {},
   "outputs": [],
   "source": [
    "## join fraud data with main dataset\n",
    "\n",
    "from cmath import nan\n",
    "\n",
    "\n",
    "curated_csv = curated_csv.join(consumer_fraud, (curated_csv.user_id == consumer_fraud.user_id) \\\n",
    "    & (curated_csv.order_datetime == consumer_fraud.order_datetime), \"leftouter\") \\\n",
    "        .drop(consumer_fraud.user_id) \\\n",
    "            .drop(consumer_fraud.order_datetime) \\\n",
    "                .withColumnRenamed(\"fraud_probability\", \"consumer_fraud_prob\")\n",
    "\n",
    "curated_csv = curated_csv.join(merchant_fraud, (curated_csv.merchant_abn == merchant_fraud.merchant_abn) \\\n",
    "    & (curated_csv.order_datetime == merchant_fraud.order_datetime), \"leftouter\") \\\n",
    "        .drop(merchant_fraud.merchant_abn) \\\n",
    "            .drop(merchant_fraud.order_datetime)\\\n",
    "                .withColumnRenamed('fraud_probability', 'merchant_fraud_prob')\n",
    "\n",
    "curated_csv = curated_csv.withColumn(\"is_fraud\", when((col('consumer_fraud_prob') != nan) | (col('merchant_fraud_prob') != nan), 'True').otherwise('False')) \\\n",
    "    .drop('consumer_fraud_prob') \\\n",
    "        .drop('merchant_fraud_prob')"
   ]
  },
  {
   "cell_type": "code",
   "execution_count": 25,
   "metadata": {},
   "outputs": [
    {
     "data": {
      "text/html": [
       "<table border='1'>\n",
       "<tr><th>user_id</th><th>merchant_abn</th><th>dollar_value</th><th>order_id</th><th>order_datetime</th><th>consumer_id</th><th>merchant_name</th><th>user_name</th><th>address</th><th>state</th><th>postcode</th><th>gender</th><th>field</th><th>revenue_level</th><th>take_rate</th><th>is_fraud</th></tr>\n",
       "<tr><td>13153</td><td>72472909171</td><td>112.17</td><td>baa29c79-6969-416...</td><td>2021-08-21</td><td>1018</td><td>Nullam Consulting</td><td>Kelly Frey</td><td>98937 Brian Passage</td><td>NSW</td><td>2058</td><td>Female</td><td>digital goods: bo...</td><td>a</td><td>6.33</td><td>False</td></tr>\n",
       "<tr><td>13153</td><td>23338656015</td><td>324.21</td><td>463dd933-d5b3-441...</td><td>2022-02-03</td><td>1018</td><td>Iaculis LLC</td><td>Kelly Frey</td><td>98937 Brian Passage</td><td>NSW</td><td>2058</td><td>Female</td><td>watch, clock, and...</td><td>b</td><td>3.25</td><td>False</td></tr>\n",
       "<tr><td>13153</td><td>13093581573</td><td>117.23</td><td>9bd2915e-c3b5-47a...</td><td>2021-08-22</td><td>1018</td><td>Dis Parturient Co...</td><td>Kelly Frey</td><td>98937 Brian Passage</td><td>NSW</td><td>2058</td><td>Female</td><td>gift, card, novel...</td><td>e</td><td>0.24</td><td>False</td></tr>\n",
       "<tr><td>13153</td><td>89726005175</td><td>24.57</td><td>cd1007fb-2336-44f...</td><td>2022-02-03</td><td>1018</td><td>Est Nunc Consulting</td><td>Kelly Frey</td><td>98937 Brian Passage</td><td>NSW</td><td>2058</td><td>Female</td><td>tent and awning s...</td><td>a</td><td>6.01</td><td>False</td></tr>\n",
       "<tr><td>13153</td><td>40590483301</td><td>26.08</td><td>a3e457c3-c0bb-467...</td><td>2021-08-15</td><td>1018</td><td>Donec Tempus Corp...</td><td>Kelly Frey</td><td>98937 Brian Passage</td><td>NSW</td><td>2058</td><td>Female</td><td>cable, satellite,...</td><td>c</td><td>3.1</td><td>False</td></tr>\n",
       "</table>\n"
      ],
      "text/plain": [
       "+-------+------------+------------+--------------------+--------------+-----------+--------------------+----------+-------------------+-----+--------+------+--------------------+-------------+---------+--------+\n",
       "|user_id|merchant_abn|dollar_value|            order_id|order_datetime|consumer_id|       merchant_name| user_name|            address|state|postcode|gender|               field|revenue_level|take_rate|is_fraud|\n",
       "+-------+------------+------------+--------------------+--------------+-----------+--------------------+----------+-------------------+-----+--------+------+--------------------+-------------+---------+--------+\n",
       "|  13153| 72472909171|      112.17|baa29c79-6969-416...|    2021-08-21|       1018|   Nullam Consulting|Kelly Frey|98937 Brian Passage|  NSW|    2058|Female|digital goods: bo...|            a|     6.33|   False|\n",
       "|  13153| 23338656015|      324.21|463dd933-d5b3-441...|    2022-02-03|       1018|         Iaculis LLC|Kelly Frey|98937 Brian Passage|  NSW|    2058|Female|watch, clock, and...|            b|     3.25|   False|\n",
       "|  13153| 13093581573|      117.23|9bd2915e-c3b5-47a...|    2021-08-22|       1018|Dis Parturient Co...|Kelly Frey|98937 Brian Passage|  NSW|    2058|Female|gift, card, novel...|            e|     0.24|   False|\n",
       "|  13153| 89726005175|       24.57|cd1007fb-2336-44f...|    2022-02-03|       1018| Est Nunc Consulting|Kelly Frey|98937 Brian Passage|  NSW|    2058|Female|tent and awning s...|            a|     6.01|   False|\n",
       "|  13153| 40590483301|       26.08|a3e457c3-c0bb-467...|    2021-08-15|       1018|Donec Tempus Corp...|Kelly Frey|98937 Brian Passage|  NSW|    2058|Female|cable, satellite,...|            c|      3.1|   False|\n",
       "+-------+------------+------------+--------------------+--------------+-----------+--------------------+----------+-------------------+-----+--------+------+--------------------+-------------+---------+--------+"
      ]
     },
     "execution_count": 25,
     "metadata": {},
     "output_type": "execute_result"
    }
   ],
   "source": [
    "curated_csv.limit(5)"
   ]
  },
  {
   "cell_type": "code",
   "execution_count": 26,
   "metadata": {},
   "outputs": [
    {
     "name": "stderr",
     "output_type": "stream",
     "text": [
      "[Stage 75:=====================================================>  (20 + 1) / 21]\r"
     ]
    },
    {
     "name": "stdout",
     "output_type": "stream",
     "text": [
      "+--------+-------+\n",
      "|is_fraud|  count|\n",
      "+--------+-------+\n",
      "|   False|8145570|\n",
      "|    True|   6014|\n",
      "+--------+-------+\n",
      "\n"
     ]
    },
    {
     "name": "stderr",
     "output_type": "stream",
     "text": [
      "                                                                                \r"
     ]
    }
   ],
   "source": [
    "## num of instance in both case\n",
    "curated_csv.select('is_fraud').groupBy('is_fraud').count().show()"
   ]
  },
  {
   "cell_type": "code",
   "execution_count": 27,
   "metadata": {},
   "outputs": [
    {
     "data": {
      "text/html": [
       "<table border='1'>\n",
       "<tr><th>user_id</th><th>merchant_abn</th><th>dollar_value</th><th>order_id</th><th>order_datetime</th><th>consumer_id</th><th>merchant_name</th><th>user_name</th><th>address</th><th>state</th><th>postcode</th><th>gender</th><th>field</th><th>revenue_level</th><th>take_rate</th><th>is_fraud</th></tr>\n",
       "<tr><td>1405</td><td>90568944804</td><td>515.04</td><td>c3229118-d39e-4c2...</td><td>2021-11-29</td><td>15233</td><td>Diam Eu Dolor LLC</td><td>Angela Nelson</td><td>877 Denise Island...</td><td>WA</td><td>6966</td><td>Female</td><td>tent and awning s...</td><td>b</td><td>4.1</td><td>True</td></tr>\n",
       "<tr><td>22064</td><td>14827550074</td><td>16059.5</td><td>84dcf104-beb7-4a5...</td><td>2021-10-08</td><td>19667</td><td>null</td><td>Alicia Howard</td><td>4411 Elizabeth Lo...</td><td>TAS</td><td>7301</td><td>Female</td><td>null</td><td>null</td><td>null</td><td>True</td></tr>\n",
       "<tr><td>3101</td><td>91880575299</td><td>105193.88</td><td>2ab65c8f-11b2-41c...</td><td>2021-04-17</td><td>27622</td><td>At Foundation</td><td>Christopher Roberson</td><td>6757 Reginald Haven</td><td>WA</td><td>6484</td><td>Male</td><td>antique shops - s...</td><td>b</td><td>3.4</td><td>True</td></tr>\n",
       "<tr><td>529</td><td>31334588839</td><td>19238.04</td><td>db703b4f-cb1b-412...</td><td>2021-12-18</td><td>31180</td><td>Lacus Aliquam Cor...</td><td>Ashlee Jones</td><td>018 Lewis Squares</td><td>NSW</td><td>2721</td><td>Female</td><td>antique shops - s...</td><td>b</td><td>4.22</td><td>True</td></tr>\n",
       "<tr><td>21596</td><td>80518954462</td><td>215.5</td><td>2431b7a6-7c41-411...</td><td>2021-11-27</td><td>33015</td><td>Neque Sed Dictum ...</td><td>John Johnson</td><td>56517 Bradley Road</td><td>QLD</td><td>4313</td><td>Male</td><td>computers, comput...</td><td>b</td><td>3.49</td><td>True</td></tr>\n",
       "</table>\n"
      ],
      "text/plain": [
       "+-------+------------+------------+--------------------+--------------+-----------+--------------------+--------------------+--------------------+-----+--------+------+--------------------+-------------+---------+--------+\n",
       "|user_id|merchant_abn|dollar_value|            order_id|order_datetime|consumer_id|       merchant_name|           user_name|             address|state|postcode|gender|               field|revenue_level|take_rate|is_fraud|\n",
       "+-------+------------+------------+--------------------+--------------+-----------+--------------------+--------------------+--------------------+-----+--------+------+--------------------+-------------+---------+--------+\n",
       "|   1405| 90568944804|      515.04|c3229118-d39e-4c2...|    2021-11-29|      15233|   Diam Eu Dolor LLC|       Angela Nelson|877 Denise Island...|   WA|    6966|Female|tent and awning s...|            b|      4.1|    True|\n",
       "|  22064| 14827550074|     16059.5|84dcf104-beb7-4a5...|    2021-10-08|      19667|                null|       Alicia Howard|4411 Elizabeth Lo...|  TAS|    7301|Female|                null|         null|     null|    True|\n",
       "|   3101| 91880575299|   105193.88|2ab65c8f-11b2-41c...|    2021-04-17|      27622|       At Foundation|Christopher Roberson| 6757 Reginald Haven|   WA|    6484|  Male|antique shops - s...|            b|      3.4|    True|\n",
       "|    529| 31334588839|    19238.04|db703b4f-cb1b-412...|    2021-12-18|      31180|Lacus Aliquam Cor...|        Ashlee Jones|   018 Lewis Squares|  NSW|    2721|Female|antique shops - s...|            b|     4.22|    True|\n",
       "|  21596| 80518954462|       215.5|2431b7a6-7c41-411...|    2021-11-27|      33015|Neque Sed Dictum ...|        John Johnson|  56517 Bradley Road|  QLD|    4313|  Male|computers, comput...|            b|     3.49|    True|\n",
       "+-------+------------+------------+--------------------+--------------+-----------+--------------------+--------------------+--------------------+-----+--------+------+--------------------+-------------+---------+--------+"
      ]
     },
     "execution_count": 27,
     "metadata": {},
     "output_type": "execute_result"
    }
   ],
   "source": [
    "## view those records that are recongnised as frauds\n",
    "curated_csv.where(col('is_fraud') == 'True').limit(5)"
   ]
  },
  {
   "cell_type": "markdown",
   "metadata": {},
   "source": [
    "### Model to detect fraud in future records"
   ]
  },
  {
   "cell_type": "code",
   "execution_count": 28,
   "metadata": {},
   "outputs": [],
   "source": [
    "## set potential influential features that contributes identifying fraud records\n",
    "model = curated_csv.select('user_id', 'merchant_abn', 'dollar_value', 'is_fraud')\n",
    "\n",
    "model = model.withColumn('dollar_value', model.dollar_value.cast(FloatType()))"
   ]
  },
  {
   "cell_type": "code",
   "execution_count": 29,
   "metadata": {},
   "outputs": [],
   "source": [
    "## convert string to index as categorical variable\n",
    "indexers = [\n",
    "StringIndexer(inputCol=\"user_id\", outputCol = \"user_id_index\"),  \n",
    "StringIndexer(inputCol=\"merchant_abn\", outputCol = \"merchant_abn_index\"),\n",
    "StringIndexer(inputCol=\"is_fraud\", outputCol = \"label\")]"
   ]
  },
  {
   "cell_type": "code",
   "execution_count": 30,
   "metadata": {},
   "outputs": [
    {
     "name": "stderr",
     "output_type": "stream",
     "text": [
      "                                                                                \r"
     ]
    },
    {
     "name": "stdout",
     "output_type": "stream",
     "text": [
      "22/09/19 18:00:36 WARN DAGScheduler: Broadcasting large task binary with size 1048.2 KiB\n",
      "+-------+------------+------------+--------+-------------+------------------+-----+\n",
      "|user_id|merchant_abn|dollar_value|is_fraud|user_id_index|merchant_abn_index|label|\n",
      "+-------+------------+------------+--------+-------------+------------------+-----+\n",
      "|13153  |72472909171 |112.17      |False   |12788.0      |14.0              |0.0  |\n",
      "|13153  |23338656015 |324.21      |False   |12788.0      |45.0              |0.0  |\n",
      "|13153  |13093581573 |117.23      |False   |12788.0      |443.0             |0.0  |\n",
      "|13153  |89726005175 |24.57       |False   |12788.0      |6.0               |0.0  |\n",
      "|13153  |40590483301 |26.08       |False   |12788.0      |467.0             |0.0  |\n",
      "+-------+------------+------------+--------+-------------+------------------+-----+\n",
      "only showing top 5 rows\n",
      "\n"
     ]
    }
   ],
   "source": [
    "## form new dataset with feature index\n",
    "pipeline = Pipeline(stages=indexers) \n",
    "#Fitting a model to the input dataset. \n",
    "indexed_model = pipeline.fit(model).transform(model) \n",
    "indexed_model.show(5,False) "
   ]
  },
  {
   "cell_type": "code",
   "execution_count": 31,
   "metadata": {},
   "outputs": [
    {
     "name": "stdout",
     "output_type": "stream",
     "text": [
      "22/09/19 18:00:36 WARN DAGScheduler: Broadcasting large task binary with size 1058.3 KiB\n",
      "+-------+------------+------------+--------+-------------+------------------+-----+----------------------------------+\n",
      "|user_id|merchant_abn|dollar_value|is_fraud|user_id_index|merchant_abn_index|label|features                          |\n",
      "+-------+------------+------------+--------+-------------+------------------+-----+----------------------------------+\n",
      "|13153  |72472909171 |112.17      |False   |12788.0      |14.0              |0.0  |[12788.0,14.0,112.16999816894531] |\n",
      "|13153  |23338656015 |324.21      |False   |12788.0      |45.0              |0.0  |[12788.0,45.0,324.2099914550781]  |\n",
      "|13153  |13093581573 |117.23      |False   |12788.0      |443.0             |0.0  |[12788.0,443.0,117.2300033569336] |\n",
      "|13153  |89726005175 |24.57       |False   |12788.0      |6.0               |0.0  |[12788.0,6.0,24.56999969482422]   |\n",
      "|13153  |40590483301 |26.08       |False   |12788.0      |467.0             |0.0  |[12788.0,467.0,26.079999923706055]|\n",
      "+-------+------------+------------+--------+-------------+------------------+-----+----------------------------------+\n",
      "only showing top 5 rows\n",
      "\n"
     ]
    }
   ],
   "source": [
    "## form feature list and label for each transaction\n",
    "vecAssembler = VectorAssembler(inputCols=['user_id_index', 'merchant_abn_index', 'dollar_value'], outputCol=\"features\")\n",
    "vindexed_model = vecAssembler.transform(indexed_model) \n",
    "vindexed_model.show(5, False)"
   ]
  },
  {
   "cell_type": "code",
   "execution_count": 46,
   "metadata": {},
   "outputs": [
    {
     "name": "stdout",
     "output_type": "stream",
     "text": [
      "22/09/19 18:02:21 WARN DAGScheduler: Broadcasting large task binary with size 1088.9 KiB\n"
     ]
    },
    {
     "name": "stderr",
     "output_type": "stream",
     "text": [
      "                                                                                \r"
     ]
    },
    {
     "name": "stdout",
     "output_type": "stream",
     "text": [
      "5706313\n",
      "22/09/19 18:02:27 WARN DAGScheduler: Broadcasting large task binary with size 1088.9 KiB\n"
     ]
    },
    {
     "name": "stderr",
     "output_type": "stream",
     "text": [
      "[Stage 200:====================================================>  (20 + 1) / 21]\r"
     ]
    },
    {
     "name": "stdout",
     "output_type": "stream",
     "text": [
      "2445271\n"
     ]
    },
    {
     "name": "stderr",
     "output_type": "stream",
     "text": [
      "                                                                                \r"
     ]
    }
   ],
   "source": [
    "## train_test_split\n",
    "(trainingData, testData) = vindexed_model.randomSplit([0.7, 0.3])\n",
    "\n",
    "print(trainingData.count())\n",
    "print(testData.count())"
   ]
  },
  {
   "cell_type": "code",
   "execution_count": 47,
   "metadata": {},
   "outputs": [
    {
     "name": "stdout",
     "output_type": "stream",
     "text": [
      "22/09/19 18:02:33 WARN DAGScheduler: Broadcasting large task binary with size 1094.7 KiB\n"
     ]
    },
    {
     "name": "stderr",
     "output_type": "stream",
     "text": [
      "[Stage 207:====================================================>  (20 + 1) / 21]\r"
     ]
    },
    {
     "name": "stdout",
     "output_type": "stream",
     "text": [
      "22/09/19 18:02:39 WARN DAGScheduler: Broadcasting large task binary with size 1108.2 KiB\n"
     ]
    },
    {
     "name": "stderr",
     "output_type": "stream",
     "text": [
      "                                                                                \r"
     ]
    },
    {
     "name": "stdout",
     "output_type": "stream",
     "text": [
      "22/09/19 18:02:39 WARN DAGScheduler: Broadcasting large task binary with size 1110.8 KiB\n"
     ]
    },
    {
     "name": "stderr",
     "output_type": "stream",
     "text": [
      "[Stage 212:>                                                        (0 + 1) / 1]\r"
     ]
    },
    {
     "name": "stdout",
     "output_type": "stream",
     "text": [
      "+-------+------------+------------+--------+-------------+------------------+-----+--------------------+--------------------+--------------------+----------+\n",
      "|user_id|merchant_abn|dollar_value|is_fraud|user_id_index|merchant_abn_index|label|            features|       rawPrediction|         probability|prediction|\n",
      "+-------+------------+------------+--------+-------------+------------------+-----+--------------------+--------------------+--------------------+----------+\n",
      "|      1| 16629601490|      388.44|   False|       2820.0|            1319.0|  0.0|[2820.0,1319.0,38...|[-23.796344042140...|[0.99994713313389...|       0.0|\n",
      "|      1| 17324645993|        3.52|   False|       2820.0|              25.0|  0.0|[2820.0,25.0,3.51...|[-22.238121402710...|[0.99999288820892...|       0.0|\n",
      "|      1| 17488304283|       249.7|   False|       2820.0|              61.0|  0.0|[2820.0,61.0,249....|[-22.148838414742...|[0.99999324190829...|       0.0|\n",
      "|      1| 19933438190|       64.54|   False|       2820.0|              22.0|  0.0|[2820.0,22.0,64.5...|[-22.196267969614...|[0.99999316648029...|       0.0|\n",
      "|      1| 24715277505|       17.62|   False|       2820.0|             307.0|  0.0|[2820.0,307.0,17....|[-22.042825752257...|[0.99999311461274...|       0.0|\n",
      "+-------+------------+------------+--------+-------------+------------------+-----+--------------------+--------------------+--------------------+----------+\n",
      "only showing top 5 rows\n",
      "\n"
     ]
    },
    {
     "name": "stderr",
     "output_type": "stream",
     "text": [
      "                                                                                \r"
     ]
    }
   ],
   "source": [
    "# Train a NaiveBayes model\n",
    "nb = NaiveBayes(smoothing=1.0, modelType=\"gaussian\")\n",
    "\n",
    "# Chain labelIndexer, vecAssembler and NBmodel in a \n",
    "nbmodel = nb.fit(trainingData)\n",
    "\n",
    "# Run stages in pipeline and train model\n",
    "predictions_df = nbmodel.transform(testData)\n",
    "predictions_df.show(5, True)"
   ]
  },
  {
   "cell_type": "code",
   "execution_count": 48,
   "metadata": {},
   "outputs": [
    {
     "name": "stdout",
     "output_type": "stream",
     "text": [
      "22/09/19 18:02:41 WARN DAGScheduler: Broadcasting large task binary with size 1115.2 KiB\n"
     ]
    },
    {
     "name": "stderr",
     "output_type": "stream",
     "text": [
      "[Stage 215:====================================================>  (20 + 1) / 21]\r"
     ]
    },
    {
     "name": "stdout",
     "output_type": "stream",
     "text": [
      "Test accuracy = 0.9878295698104628\n"
     ]
    },
    {
     "name": "stderr",
     "output_type": "stream",
     "text": [
      "                                                                                \r"
     ]
    }
   ],
   "source": [
    "## show performance of this model\n",
    "evaluator = MulticlassClassificationEvaluator(labelCol=\"label\", predictionCol=\"prediction\", metricName=\"accuracy\") \n",
    "nbaccuracy = evaluator.evaluate(predictions_df) \n",
    "print(\"Test accuracy = \" + str(nbaccuracy))"
   ]
  },
  {
   "cell_type": "code",
   "execution_count": 49,
   "metadata": {},
   "outputs": [
    {
     "name": "stdout",
     "output_type": "stream",
     "text": [
      "22/09/19 18:02:48 WARN DAGScheduler: Broadcasting large task binary with size 1112.8 KiB\n"
     ]
    },
    {
     "name": "stderr",
     "output_type": "stream",
     "text": [
      "                                                                                \r"
     ]
    },
    {
     "data": {
      "text/plain": [
       "739"
      ]
     },
     "execution_count": 49,
     "metadata": {},
     "output_type": "execute_result"
    }
   ],
   "source": [
    "## num of transactions being catergorized and predicted as fraud\n",
    "predictions_df = predictions_df.select('label', 'prediction')\n",
    "predictions_df.where((col('prediction') == col('label')) & (col('prediction') == 1)).count()"
   ]
  },
  {
   "cell_type": "code",
   "execution_count": 43,
   "metadata": {},
   "outputs": [
    {
     "name": "stdout",
     "output_type": "stream",
     "text": [
      "22/09/19 18:02:02 WARN DAGScheduler: Broadcasting large task binary with size 1109.1 KiB\n"
     ]
    },
    {
     "name": "stderr",
     "output_type": "stream",
     "text": [
      "                                                                                \r"
     ]
    },
    {
     "data": {
      "text/plain": [
       "29554"
      ]
     },
     "execution_count": 43,
     "metadata": {},
     "output_type": "execute_result"
    }
   ],
   "source": [
    "## num of transactions being predicted as fraud\n",
    "predictions_df.where(col('prediction') == 1).count()"
   ]
  },
  {
   "cell_type": "code",
   "execution_count": 44,
   "metadata": {},
   "outputs": [
    {
     "name": "stdout",
     "output_type": "stream",
     "text": [
      "22/09/19 18:02:08 WARN DAGScheduler: Broadcasting large task binary with size 1112.8 KiB\n"
     ]
    },
    {
     "name": "stderr",
     "output_type": "stream",
     "text": [
      "                                                                                \r"
     ]
    },
    {
     "data": {
      "text/plain": [
       "2414438"
      ]
     },
     "execution_count": 44,
     "metadata": {},
     "output_type": "execute_result"
    }
   ],
   "source": [
    "## num of transactions being catergorized and predicted as normal record\n",
    "predictions_df = predictions_df.select('label', 'prediction')\n",
    "predictions_df.where((col('prediction') == col('label')) & (col('prediction') == 0)).count()"
   ]
  },
  {
   "cell_type": "code",
   "execution_count": 45,
   "metadata": {},
   "outputs": [
    {
     "name": "stdout",
     "output_type": "stream",
     "text": [
      "22/09/19 18:02:15 WARN DAGScheduler: Broadcasting large task binary with size 1109.1 KiB\n"
     ]
    },
    {
     "name": "stderr",
     "output_type": "stream",
     "text": [
      "                                                                                \r"
     ]
    },
    {
     "data": {
      "text/plain": [
       "2415560"
      ]
     },
     "execution_count": 45,
     "metadata": {},
     "output_type": "execute_result"
    }
   ],
   "source": [
    "## num of transactions being predicted as normal record\n",
    "predictions_df.where(col('prediction') == 0).count()"
   ]
  }
 ],
 "metadata": {
  "kernelspec": {
   "display_name": "Python 3.10.4 64-bit",
   "language": "python",
   "name": "python3"
  },
  "language_info": {
   "codemirror_mode": {
    "name": "ipython",
    "version": 3
   },
   "file_extension": ".py",
   "mimetype": "text/x-python",
   "name": "python",
   "nbconvert_exporter": "python",
   "pygments_lexer": "ipython3",
   "version": "3.10.4"
  },
  "orig_nbformat": 4,
  "vscode": {
   "interpreter": {
    "hash": "916dbcbb3f70747c44a77c7bcd40155683ae19c65e1c03b4aa3499c5328201f1"
   }
  }
 },
 "nbformat": 4,
 "nbformat_minor": 2
}
