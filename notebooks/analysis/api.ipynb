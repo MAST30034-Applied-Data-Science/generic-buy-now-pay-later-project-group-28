{
 "cells": [
  {
   "cell_type": "markdown",
   "metadata": {},
   "source": [
    "The main goal of this notebook is find better correpondence version (2011 and 2016)\n",
    "Results show that 2016 version is better, so for the repository tideness, we have deleted all the 2011 dataset. This means this notebook can not be run."
   ]
  },
  {
   "cell_type": "markdown",
   "metadata": {},
   "source": [
    "### Pyspark initialization\n"
   ]
  },
  {
   "cell_type": "code",
   "execution_count": 1,
   "metadata": {},
   "outputs": [
    {
     "name": "stderr",
     "output_type": "stream",
     "text": [
      "22/09/18 21:52:59 WARN Utils: Your hostname, Rudyletsgo resolves to a loopback address: 127.0.1.1; using 172.26.136.198 instead (on interface eth0)\n",
      "22/09/18 21:52:59 WARN Utils: Set SPARK_LOCAL_IP if you need to bind to another address\n",
      "WARNING: An illegal reflective access operation has occurred\n",
      "WARNING: Illegal reflective access by org.apache.spark.unsafe.Platform (file:/home/jiaruiq/miniconda3/envs/ads/lib/python3.8/site-packages/pyspark/jars/spark-unsafe_2.12-3.1.2.jar) to constructor java.nio.DirectByteBuffer(long,int)\n",
      "WARNING: Please consider reporting this to the maintainers of org.apache.spark.unsafe.Platform\n",
      "WARNING: Use --illegal-access=warn to enable warnings of further illegal reflective access operations\n",
      "WARNING: All illegal access operations will be denied in a future release\n",
      "22/09/18 21:53:00 WARN NativeCodeLoader: Unable to load native-hadoop library for your platform... using builtin-java classes where applicable\n",
      "Using Spark's default log4j profile: org/apache/spark/log4j-defaults.properties\n",
      "Setting default log level to \"WARN\".\n",
      "To adjust logging level use sc.setLogLevel(newLevel). For SparkR, use setLogLevel(newLevel).\n"
     ]
    }
   ],
   "source": [
    "#import spark\n",
    "from pyspark.sql import SparkSession\n",
    "# Create a spark session (which will run spark jobs)\n",
    "spark = (\n",
    "    SparkSession.builder.appName(\"MAST30034 ass2 BNPL group 28\")\n",
    "    .config(\"spark.sql.repl.eagerEval.enabled\", True) \n",
    "    .config(\"spark.sql.parquet.cacheMetadata\", \"true\")\n",
    "    .config(\"spark.sql.session.timeZone\", \"Etc/UTC\")\n",
    "    .getOrCreate()\n",
    ")"
   ]
  },
  {
   "cell_type": "code",
   "execution_count": 2,
   "metadata": {},
   "outputs": [],
   "source": [
    "import pandas as pd\n",
    "import numpy as np\n",
    "from pyspark.sql.functions import countDistinct"
   ]
  },
  {
   "cell_type": "code",
   "execution_count": 3,
   "metadata": {},
   "outputs": [],
   "source": [
    "raw_data_path = \"../data/tables/\""
   ]
  },
  {
   "cell_type": "code",
   "execution_count": 4,
   "metadata": {},
   "outputs": [],
   "source": [
    "# need to install xlrd run pip install xlrd\n",
    "poa_2011_2016 = pd.read_excel(raw_data_path+\"CG_POA_2011_POA_2016.xls\",sheet_name = \"Table 3\", header = 5)\n",
    "sa2_2011_2016 = pd.read_excel(raw_data_path+\"CG_SA2_2011_SA2_2016.xls\",sheet_name = \"Table 3\", header = 5)\n",
    "poa_sa2_2011 = pd.read_excel(raw_data_path+\"1270055006_CG_POSTCODE_2011_SA2_2011.xls\",sheet_name = \"Table 3\", header = 5)\n",
    "poa_sa2_2016 = pd.read_excel(raw_data_path+\"CG_POA_2016_SA2_2016.xls\",sheet_name = \"Table 3\", header = 5)"
   ]
  },
  {
   "cell_type": "markdown",
   "metadata": {},
   "source": [
    "Drop the null column caused by type transform"
   ]
  },
  {
   "cell_type": "code",
   "execution_count": 5,
   "metadata": {},
   "outputs": [],
   "source": [
    "# change to pyspark dataframe\n",
    "poa_2011_2016.dropna(axis=0, how='any', thresh=None, subset=None, inplace=True)\n",
    "sa2_2011_2016.dropna(axis=0, how='any', thresh=None, subset=None, inplace=True)\n",
    "poa_sa2_2011.dropna(axis=0, how='any', thresh=None, subset=None, inplace=True)\n",
    "poa_sa2_2016.dropna(axis=0, how='any', thresh=None, subset=None, inplace=True)"
   ]
  },
  {
   "cell_type": "code",
   "execution_count": 6,
   "metadata": {},
   "outputs": [],
   "source": [
    "poa_sa2_2011['SA2_MAINCODE_2011'] = poa_sa2_2011['SA2_MAINCODE_2011'].apply(np.int64)\n",
    "poa_sa2_2016['SA2_MAINCODE_2016'] = poa_sa2_2016['SA2_MAINCODE_2016'].apply(np.int64)\n",
    "sa2_2011_2016['SA2_MAINCODE_2016'] = sa2_2011_2016['SA2_MAINCODE_2016'].apply(np.int64)"
   ]
  },
  {
   "cell_type": "code",
   "execution_count": 7,
   "metadata": {},
   "outputs": [],
   "source": [
    "# Change the form to pyspark dataframe\n",
    "poa_2011_2016 = spark.createDataFrame(poa_2011_2016) \n",
    "sa2_2011_2016 = spark.createDataFrame(sa2_2011_2016) \n",
    "poa_sa2_2011 = spark.createDataFrame(poa_sa2_2011) \n",
    "poa_sa2_2016 = spark.createDataFrame(poa_sa2_2016) "
   ]
  },
  {
   "cell_type": "markdown",
   "metadata": {},
   "source": [
    "Drop useless columns"
   ]
  },
  {
   "cell_type": "code",
   "execution_count": 8,
   "metadata": {},
   "outputs": [],
   "source": [
    "poa_2016_2021 = spark.read.csv('../data/tables/poa_2016_2021.csv',header=True)\n",
    "sa2_2016_2021 = spark.read.csv('../data/tables/sa2_2016_2021.csv',header=True)"
   ]
  },
  {
   "cell_type": "code",
   "execution_count": 9,
   "metadata": {},
   "outputs": [],
   "source": [
    "common_cols = ['RATIO','PERCENTAGE']\n",
    "poa_2011_2016 = poa_2011_2016.drop(*common_cols)\n",
    "sa2_2011_2016 = sa2_2011_2016.drop(*common_cols)\n",
    "poa_sa2_2011 = poa_sa2_2011.drop(*common_cols)\n",
    "poa_sa2_2016 = poa_sa2_2016.drop(*common_cols)"
   ]
  },
  {
   "cell_type": "code",
   "execution_count": 10,
   "metadata": {},
   "outputs": [],
   "source": [
    "common_cols_new = ['RATIO_FROM_TO', 'NDIV_TO_REGION_QLTY_INDICATOR', 'OVERALL_QUALITY_INDICATOR', 'BMOS_NULL_FLAG', 'INDIV_TO_REGION_QLTY_INDICATOR']\n",
    "poa_2016_2021 = poa_2016_2021.drop(*common_cols_new)\n",
    "sa2_2016_2021 = sa2_2016_2021.drop(*common_cols_new)\n"
   ]
  },
  {
   "cell_type": "markdown",
   "metadata": {},
   "source": [
    "Check how many postcode left if using 2011 correspondence"
   ]
  },
  {
   "cell_type": "code",
   "execution_count": 11,
   "metadata": {},
   "outputs": [],
   "source": [
    "table_2011 = poa_2011_2016.join(poa_sa2_2011,poa_2011_2016['POA_CODE_2011'] == poa_sa2_2011['POSTCODE'], how = 'inner')"
   ]
  },
  {
   "cell_type": "code",
   "execution_count": 12,
   "metadata": {},
   "outputs": [],
   "source": [
    "table_2011 = table_2011.join(sa2_2011_2016, table_2011['SA2_MAINCODE_2011'] == sa2_2011_2016['SA2_MAINCODE_2011'], how = 'inner')"
   ]
  },
  {
   "cell_type": "code",
   "execution_count": 13,
   "metadata": {},
   "outputs": [
    {
     "data": {
      "text/html": [
       "<table border='1'>\n",
       "<tr><th>POA_CODE_2016</th><th>POA_NAME_2016</th><th>POA_CODE_2021</th><th>POA_NAME_2021</th></tr>\n",
       "<tr><td>0800</td><td>0800</td><td>0800</td><td>0800</td></tr>\n",
       "<tr><td>0810</td><td>0810</td><td>0810</td><td>0810</td></tr>\n",
       "<tr><td>0812</td><td>0812</td><td>0812</td><td>0812</td></tr>\n",
       "<tr><td>0815</td><td>0815</td><td>0810</td><td>0810</td></tr>\n",
       "<tr><td>0820</td><td>0820</td><td>0820</td><td>0820</td></tr>\n",
       "<tr><td>0822</td><td>0822</td><td>0837</td><td>0837</td></tr>\n",
       "<tr><td>0822</td><td>0822</td><td>0822</td><td>0822</td></tr>\n",
       "<tr><td>0828</td><td>0828</td><td>0828</td><td>0828</td></tr>\n",
       "<tr><td>0829</td><td>0829</td><td>0829</td><td>0829</td></tr>\n",
       "<tr><td>0830</td><td>0830</td><td>0830</td><td>0830</td></tr>\n",
       "<tr><td>0832</td><td>0832</td><td>0832</td><td>0832</td></tr>\n",
       "<tr><td>0834</td><td>0834</td><td>0834</td><td>0834</td></tr>\n",
       "<tr><td>0835</td><td>0835</td><td>0835</td><td>0835</td></tr>\n",
       "<tr><td>0836</td><td>0836</td><td>0836</td><td>0836</td></tr>\n",
       "<tr><td>0837</td><td>0837</td><td>0837</td><td>0837</td></tr>\n",
       "<tr><td>0838</td><td>0838</td><td>0838</td><td>0838</td></tr>\n",
       "<tr><td>0839</td><td>0839</td><td>0839</td><td>0839</td></tr>\n",
       "<tr><td>0840</td><td>0840</td><td>0840</td><td>0840</td></tr>\n",
       "<tr><td>0841</td><td>0841</td><td>0841</td><td>0841</td></tr>\n",
       "<tr><td>0845</td><td>0845</td><td>0845</td><td>0845</td></tr>\n",
       "</table>\n",
       "only showing top 20 rows\n"
      ],
      "text/plain": [
       "+-------------+-------------+-------------+-------------+\n",
       "|POA_CODE_2016|POA_NAME_2016|POA_CODE_2021|POA_NAME_2021|\n",
       "+-------------+-------------+-------------+-------------+\n",
       "|         0800|         0800|         0800|         0800|\n",
       "|         0810|         0810|         0810|         0810|\n",
       "|         0812|         0812|         0812|         0812|\n",
       "|         0815|         0815|         0810|         0810|\n",
       "|         0820|         0820|         0820|         0820|\n",
       "|         0822|         0822|         0837|         0837|\n",
       "|         0822|         0822|         0822|         0822|\n",
       "|         0828|         0828|         0828|         0828|\n",
       "|         0829|         0829|         0829|         0829|\n",
       "|         0830|         0830|         0830|         0830|\n",
       "|         0832|         0832|         0832|         0832|\n",
       "|         0834|         0834|         0834|         0834|\n",
       "|         0835|         0835|         0835|         0835|\n",
       "|         0836|         0836|         0836|         0836|\n",
       "|         0837|         0837|         0837|         0837|\n",
       "|         0838|         0838|         0838|         0838|\n",
       "|         0839|         0839|         0839|         0839|\n",
       "|         0840|         0840|         0840|         0840|\n",
       "|         0841|         0841|         0841|         0841|\n",
       "|         0845|         0845|         0845|         0845|\n",
       "+-------------+-------------+-------------+-------------+\n",
       "only showing top 20 rows"
      ]
     },
     "execution_count": 13,
     "metadata": {},
     "output_type": "execute_result"
    }
   ],
   "source": [
    "poa_2016_2021"
   ]
  },
  {
   "cell_type": "code",
   "execution_count": 14,
   "metadata": {},
   "outputs": [],
   "source": [
    "table_2011 = table_2011.join(sa2_2016_2021, table_2011['SA2_MAINCODE_2016'] == sa2_2016_2021['SA2_MAINCODE_2016'], how = 'inner')\n",
    "table_2011 = table_2011.join(poa_2016_2021, table_2011['POA_CODE_2016'] == poa_2016_2021['POA_CODE_2016'], how = 'inner')"
   ]
  },
  {
   "cell_type": "code",
   "execution_count": 16,
   "metadata": {},
   "outputs": [],
   "source": [
    "table_2011_new = table_2011['POA_CODE_2021','SA2_CODE_2021','SA2_NAME_2021']"
   ]
  },
  {
   "cell_type": "code",
   "execution_count": 17,
   "metadata": {},
   "outputs": [],
   "source": [
    "distinct_df_2011 = table_2011_new.distinct()"
   ]
  },
  {
   "cell_type": "code",
   "execution_count": 18,
   "metadata": {},
   "outputs": [
    {
     "name": "stderr",
     "output_type": "stream",
     "text": [
      "                                                                                \r"
     ]
    },
    {
     "data": {
      "text/html": [
       "<table border='1'>\n",
       "<tr><th>count(DISTINCT POA_CODE_2021)</th></tr>\n",
       "<tr><td>2638</td></tr>\n",
       "</table>\n"
      ],
      "text/plain": [
       "+-----------------------------+\n",
       "|count(DISTINCT POA_CODE_2021)|\n",
       "+-----------------------------+\n",
       "|                         2638|\n",
       "+-----------------------------+"
      ]
     },
     "execution_count": 18,
     "metadata": {},
     "output_type": "execute_result"
    }
   ],
   "source": [
    "distinct_df_2011.select(countDistinct(\"POA_CODE_2021\"))"
   ]
  },
  {
   "cell_type": "markdown",
   "metadata": {},
   "source": [
    "Check how many postcode left if using 2016 correspondence"
   ]
  },
  {
   "cell_type": "code",
   "execution_count": 23,
   "metadata": {},
   "outputs": [],
   "source": [
    "table_2016 = poa_2016_2021.join(poa_sa2_2016, poa_2016_2021['POA_CODE_2016'] == poa_sa2_2016['POA_CODE_2016'], how = 'inner')\n",
    "table_2016 = table_2016.join(sa2_2016_2021, table_2016['SA2_MAINCODE_2016'] == sa2_2016_2021['SA2_MAINCODE_2016'], how = 'inner')"
   ]
  },
  {
   "cell_type": "code",
   "execution_count": 26,
   "metadata": {},
   "outputs": [],
   "source": [
    "table_2016_new = table_2016['POA_CODE_2021','SA2_CODE_2021','SA2_NAME_2021']"
   ]
  },
  {
   "cell_type": "code",
   "execution_count": 29,
   "metadata": {},
   "outputs": [
    {
     "data": {
      "text/html": [
       "<table border='1'>\n",
       "<tr><th>count(DISTINCT POA_CODE_2021)</th></tr>\n",
       "<tr><td>2641</td></tr>\n",
       "</table>\n"
      ],
      "text/plain": [
       "+-----------------------------+\n",
       "|count(DISTINCT POA_CODE_2021)|\n",
       "+-----------------------------+\n",
       "|                         2641|\n",
       "+-----------------------------+"
      ]
     },
     "execution_count": 29,
     "metadata": {},
     "output_type": "execute_result"
    }
   ],
   "source": [
    "distinct_df_2016 = table_2016_new.distinct()\n",
    "distinct_df_2016.select(countDistinct(\"POA_CODE_2021\"))"
   ]
  },
  {
   "cell_type": "markdown",
   "metadata": {},
   "source": [
    "Therefore use the postcode and sa2 linkage based on 2016 correspondence"
   ]
  },
  {
   "cell_type": "code",
   "execution_count": 30,
   "metadata": {},
   "outputs": [
    {
     "name": "stderr",
     "output_type": "stream",
     "text": [
      "                                                                                \r"
     ]
    }
   ],
   "source": [
    "distinct_df_2016.write.mode('overwrite').option(\"header\",True).csv('../data/curated/postcode_SA2.csv')"
   ]
  }
 ],
 "metadata": {
  "kernelspec": {
   "display_name": "Python 3.8.13 64-bit",
   "language": "python",
   "name": "python3"
  },
  "language_info": {
   "codemirror_mode": {
    "name": "ipython",
    "version": 3
   },
   "file_extension": ".py",
   "mimetype": "text/x-python",
   "name": "python",
   "nbconvert_exporter": "python",
   "pygments_lexer": "ipython3",
   "version": "3.8.13"
  },
  "orig_nbformat": 4,
  "vscode": {
   "interpreter": {
    "hash": "5b3ded1ccb95c1d9bd405e7b823d9e85424cde40fbb5985eb47e999ef50e15b4"
   }
  }
 },
 "nbformat": 4,
 "nbformat_minor": 2
}
