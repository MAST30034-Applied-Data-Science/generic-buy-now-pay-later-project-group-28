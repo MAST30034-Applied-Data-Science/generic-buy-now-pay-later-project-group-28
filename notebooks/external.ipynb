{
 "cells": [
  {
   "cell_type": "code",
   "execution_count": 186,
   "metadata": {},
   "outputs": [],
   "source": [
    "from pyspark.sql.functions import *\n",
    "\n",
    "#import spark\n",
    "from pyspark.sql import SparkSession\n",
    "# Create a spark session (which will run spark jobs)\n",
    "spark = (\n",
    "    SparkSession.builder.appName(\"MAST30034 ass2 BNPL group 28\")\n",
    "    .config(\"spark.sql.repl.eagerEval.enabled\", True) \n",
    "    .config(\"spark.sql.parquet.cacheMetadata\", \"true\")\n",
    "    .config(\"spark.sql.session.timeZone\", \"Etc/UTC\")\n",
    "    .getOrCreate()\n",
    ")"
   ]
  },
  {
   "cell_type": "code",
   "execution_count": 187,
   "metadata": {},
   "outputs": [],
   "source": [
    "## read main and external dataset\n",
    "curated_csv = spark.read.options(header = True).csv('../data/curated/full_data.csv')\n",
    "postcode_SA2 = spark.read.options(header = True).csv('../data/tables/postcode_SA2.csv')\n",
    "population = spark.read.options(header = True).csv('../data/tables/2021Census_G01_AUST_SA2.csv')\n",
    "income = spark.read.options(header = True).csv('../data/tables/2021Census_G02_AUST_SA2.csv')"
   ]
  },
  {
   "cell_type": "code",
   "execution_count": 188,
   "metadata": {},
   "outputs": [
    {
     "name": "stdout",
     "output_type": "stream",
     "text": [
      "root\n",
      " |-- user_id: string (nullable = true)\n",
      " |-- merchant_abn: string (nullable = true)\n",
      " |-- dollar_value: string (nullable = true)\n",
      " |-- order_id: string (nullable = true)\n",
      " |-- order_datetime: string (nullable = true)\n",
      " |-- consumer_id: string (nullable = true)\n",
      " |-- merchant_name: string (nullable = true)\n",
      " |-- user_name: string (nullable = true)\n",
      " |-- address: string (nullable = true)\n",
      " |-- state: string (nullable = true)\n",
      " |-- postcode: string (nullable = true)\n",
      " |-- gender: string (nullable = true)\n",
      " |-- field: string (nullable = true)\n",
      " |-- revenue_level: string (nullable = true)\n",
      " |-- take_rate: string (nullable = true)\n",
      "\n"
     ]
    }
   ],
   "source": [
    "curated_csv.printSchema()"
   ]
  },
  {
   "cell_type": "code",
   "execution_count": 189,
   "metadata": {},
   "outputs": [
    {
     "name": "stdout",
     "output_type": "stream",
     "text": [
      "root\n",
      " |-- POA_CODE_2021: string (nullable = true)\n",
      " |-- SA2_CODE_2021: string (nullable = true)\n",
      " |-- SA2_NAME_2021: string (nullable = true)\n",
      "\n"
     ]
    }
   ],
   "source": [
    "postcode_SA2.printSchema()"
   ]
  },
  {
   "cell_type": "code",
   "execution_count": 190,
   "metadata": {},
   "outputs": [
    {
     "data": {
      "text/plain": [
       "11858"
      ]
     },
     "execution_count": 190,
     "metadata": {},
     "output_type": "execute_result"
    }
   ],
   "source": [
    "postcode_SA2.count()"
   ]
  },
  {
   "cell_type": "code",
   "execution_count": 191,
   "metadata": {},
   "outputs": [
    {
     "name": "stdout",
     "output_type": "stream",
     "text": [
      "root\n",
      " |-- SA2_CODE_2021: string (nullable = true)\n",
      " |-- Tot_P_M: string (nullable = true)\n",
      " |-- Tot_P_F: string (nullable = true)\n",
      " |-- Tot_P_P: string (nullable = true)\n",
      " |-- Age_0_4_yr_M: string (nullable = true)\n",
      " |-- Age_0_4_yr_F: string (nullable = true)\n",
      " |-- Age_0_4_yr_P: string (nullable = true)\n",
      " |-- Age_5_14_yr_M: string (nullable = true)\n",
      " |-- Age_5_14_yr_F: string (nullable = true)\n",
      " |-- Age_5_14_yr_P: string (nullable = true)\n",
      " |-- Age_15_19_yr_M: string (nullable = true)\n",
      " |-- Age_15_19_yr_F: string (nullable = true)\n",
      " |-- Age_15_19_yr_P: string (nullable = true)\n",
      " |-- Age_20_24_yr_M: string (nullable = true)\n",
      " |-- Age_20_24_yr_F: string (nullable = true)\n",
      " |-- Age_20_24_yr_P: string (nullable = true)\n",
      " |-- Age_25_34_yr_M: string (nullable = true)\n",
      " |-- Age_25_34_yr_F: string (nullable = true)\n",
      " |-- Age_25_34_yr_P: string (nullable = true)\n",
      " |-- Age_35_44_yr_M: string (nullable = true)\n",
      " |-- Age_35_44_yr_F: string (nullable = true)\n",
      " |-- Age_35_44_yr_P: string (nullable = true)\n",
      " |-- Age_45_54_yr_M: string (nullable = true)\n",
      " |-- Age_45_54_yr_F: string (nullable = true)\n",
      " |-- Age_45_54_yr_P: string (nullable = true)\n",
      " |-- Age_55_64_yr_M: string (nullable = true)\n",
      " |-- Age_55_64_yr_F: string (nullable = true)\n",
      " |-- Age_55_64_yr_P: string (nullable = true)\n",
      " |-- Age_65_74_yr_M: string (nullable = true)\n",
      " |-- Age_65_74_yr_F: string (nullable = true)\n",
      " |-- Age_65_74_yr_P: string (nullable = true)\n",
      " |-- Age_75_84_yr_M: string (nullable = true)\n",
      " |-- Age_75_84_yr_F: string (nullable = true)\n",
      " |-- Age_75_84_yr_P: string (nullable = true)\n",
      " |-- Age_85ov_M: string (nullable = true)\n",
      " |-- Age_85ov_F: string (nullable = true)\n",
      " |-- Age_85ov_P: string (nullable = true)\n",
      " |-- Counted_Census_Night_home_M: string (nullable = true)\n",
      " |-- Counted_Census_Night_home_F: string (nullable = true)\n",
      " |-- Counted_Census_Night_home_P: string (nullable = true)\n",
      " |-- Count_Census_Nt_Ewhere_Aust_M: string (nullable = true)\n",
      " |-- Count_Census_Nt_Ewhere_Aust_F: string (nullable = true)\n",
      " |-- Count_Census_Nt_Ewhere_Aust_P: string (nullable = true)\n",
      " |-- Indigenous_psns_Aboriginal_M: string (nullable = true)\n",
      " |-- Indigenous_psns_Aboriginal_F: string (nullable = true)\n",
      " |-- Indigenous_psns_Aboriginal_P: string (nullable = true)\n",
      " |-- Indig_psns_Torres_Strait_Is_M: string (nullable = true)\n",
      " |-- Indig_psns_Torres_Strait_Is_F: string (nullable = true)\n",
      " |-- Indig_psns_Torres_Strait_Is_P: string (nullable = true)\n",
      " |-- Indig_Bth_Abor_Torres_St_Is_M: string (nullable = true)\n",
      " |-- Indig_Bth_Abor_Torres_St_Is_F: string (nullable = true)\n",
      " |-- Indig_Bth_Abor_Torres_St_Is_P: string (nullable = true)\n",
      " |-- Indigenous_P_Tot_M: string (nullable = true)\n",
      " |-- Indigenous_P_Tot_F: string (nullable = true)\n",
      " |-- Indigenous_P_Tot_P: string (nullable = true)\n",
      " |-- Birthplace_Australia_M: string (nullable = true)\n",
      " |-- Birthplace_Australia_F: string (nullable = true)\n",
      " |-- Birthplace_Australia_P: string (nullable = true)\n",
      " |-- Birthplace_Elsewhere_M: string (nullable = true)\n",
      " |-- Birthplace_Elsewhere_F: string (nullable = true)\n",
      " |-- Birthplace_Elsewhere_P: string (nullable = true)\n",
      " |-- Lang_used_home_Eng_only_M: string (nullable = true)\n",
      " |-- Lang_used_home_Eng_only_F: string (nullable = true)\n",
      " |-- Lang_used_home_Eng_only_P: string (nullable = true)\n",
      " |-- Lang_used_home_Oth_Lang_M: string (nullable = true)\n",
      " |-- Lang_used_home_Oth_Lang_F: string (nullable = true)\n",
      " |-- Lang_used_home_Oth_Lang_P: string (nullable = true)\n",
      " |-- Australian_citizen_M: string (nullable = true)\n",
      " |-- Australian_citizen_F: string (nullable = true)\n",
      " |-- Australian_citizen_P: string (nullable = true)\n",
      " |-- Age_psns_att_educ_inst_0_4_M: string (nullable = true)\n",
      " |-- Age_psns_att_educ_inst_0_4_F: string (nullable = true)\n",
      " |-- Age_psns_att_educ_inst_0_4_P: string (nullable = true)\n",
      " |-- Age_psns_att_educ_inst_5_14_M: string (nullable = true)\n",
      " |-- Age_psns_att_educ_inst_5_14_F: string (nullable = true)\n",
      " |-- Age_psns_att_educ_inst_5_14_P: string (nullable = true)\n",
      " |-- Age_psns_att_edu_inst_15_19_M: string (nullable = true)\n",
      " |-- Age_psns_att_edu_inst_15_19_F: string (nullable = true)\n",
      " |-- Age_psns_att_edu_inst_15_19_P: string (nullable = true)\n",
      " |-- Age_psns_att_edu_inst_20_24_M: string (nullable = true)\n",
      " |-- Age_psns_att_edu_inst_20_24_F: string (nullable = true)\n",
      " |-- Age_psns_att_edu_inst_20_24_P: string (nullable = true)\n",
      " |-- Age_psns_att_edu_inst_25_ov_M: string (nullable = true)\n",
      " |-- Age_psns_att_edu_inst_25_ov_F: string (nullable = true)\n",
      " |-- Age_psns_att_edu_inst_25_ov_P: string (nullable = true)\n",
      " |-- High_yr_schl_comp_Yr_12_eq_M: string (nullable = true)\n",
      " |-- High_yr_schl_comp_Yr_12_eq_F: string (nullable = true)\n",
      " |-- High_yr_schl_comp_Yr_12_eq_P: string (nullable = true)\n",
      " |-- High_yr_schl_comp_Yr_11_eq_M: string (nullable = true)\n",
      " |-- High_yr_schl_comp_Yr_11_eq_F: string (nullable = true)\n",
      " |-- High_yr_schl_comp_Yr_11_eq_P: string (nullable = true)\n",
      " |-- High_yr_schl_comp_Yr_10_eq_M: string (nullable = true)\n",
      " |-- High_yr_schl_comp_Yr_10_eq_F: string (nullable = true)\n",
      " |-- High_yr_schl_comp_Yr_10_eq_P: string (nullable = true)\n",
      " |-- High_yr_schl_comp_Yr_9_eq_M: string (nullable = true)\n",
      " |-- High_yr_schl_comp_Yr_9_eq_F: string (nullable = true)\n",
      " |-- High_yr_schl_comp_Yr_9_eq_P: string (nullable = true)\n",
      " |-- High_yr_schl_comp_Yr_8_belw_M: string (nullable = true)\n",
      " |-- High_yr_schl_comp_Yr_8_belw_F: string (nullable = true)\n",
      " |-- High_yr_schl_comp_Yr_8_belw_P: string (nullable = true)\n",
      " |-- High_yr_schl_comp_D_n_g_sch_M: string (nullable = true)\n",
      " |-- High_yr_schl_comp_D_n_g_sch_F: string (nullable = true)\n",
      " |-- High_yr_schl_comp_D_n_g_sch_P: string (nullable = true)\n",
      " |-- Count_psns_occ_priv_dwgs_M: string (nullable = true)\n",
      " |-- Count_psns_occ_priv_dwgs_F: string (nullable = true)\n",
      " |-- Count_psns_occ_priv_dwgs_P: string (nullable = true)\n",
      " |-- Count_Persons_other_dwgs_M: string (nullable = true)\n",
      " |-- Count_Persons_other_dwgs_F: string (nullable = true)\n",
      " |-- Count_Persons_other_dwgs_P: string (nullable = true)\n",
      "\n"
     ]
    }
   ],
   "source": [
    "population.printSchema()"
   ]
  },
  {
   "cell_type": "code",
   "execution_count": 192,
   "metadata": {},
   "outputs": [
    {
     "name": "stdout",
     "output_type": "stream",
     "text": [
      "root\n",
      " |-- SA2_CODE_2021: string (nullable = true)\n",
      " |-- Median_age_persons: string (nullable = true)\n",
      " |-- Median_mortgage_repay_monthly: string (nullable = true)\n",
      " |-- Median_tot_prsnl_inc_weekly: string (nullable = true)\n",
      " |-- Median_rent_weekly: string (nullable = true)\n",
      " |-- Median_tot_fam_inc_weekly: string (nullable = true)\n",
      " |-- Average_num_psns_per_bedroom: string (nullable = true)\n",
      " |-- Median_tot_hhd_inc_weekly: string (nullable = true)\n",
      " |-- Average_household_size: string (nullable = true)\n",
      "\n"
     ]
    }
   ],
   "source": [
    "income.printSchema()"
   ]
  },
  {
   "cell_type": "code",
   "execution_count": 193,
   "metadata": {},
   "outputs": [],
   "source": [
    "## Drop unhelpful columns in both external dataset\n",
    "population = population.select(col('SA2_CODE_2021'), col('Tot_P_P'))\n",
    "income = income.select(col('SA2_CODE_2021'), col('Median_tot_prsnl_inc_weekly'))\n",
    "\n",
    "## change data type\n",
    "population = population.withColumn(\"Tot_P_P\",population.Tot_P_P.cast('int'))\n",
    "income = income.withColumn('Median_tot_prsnl_inc_weekly', income.Median_tot_prsnl_inc_weekly.cast('float'))"
   ]
  },
  {
   "cell_type": "code",
   "execution_count": 194,
   "metadata": {},
   "outputs": [
    {
     "name": "stdout",
     "output_type": "stream",
     "text": [
      "+-------------+----------------+\n",
      "|POA_CODE_2021|total_population|\n",
      "+-------------+----------------+\n",
      "|         2136|           67075|\n",
      "|         4821|          212922|\n",
      "|         2088|           28328|\n",
      "+-------------+----------------+\n",
      "only showing top 3 rows\n",
      "\n"
     ]
    }
   ],
   "source": [
    "## merge SA2 population (sum of different sa2 areas) with postcode\n",
    "pos_population = postcode_SA2.join(population, postcode_SA2.SA2_CODE_2021 == population.SA2_CODE_2021, \"inner\").drop(population.SA2_CODE_2021)\n",
    "pos_population = pos_population.groupBy('POA_CODE_2021').sum('Tot_P_P')\n",
    "pos_population = pos_population.withColumnRenamed('sum(Tot_P_P)', 'total_population')\n",
    "\n",
    "pos_population.show(3)"
   ]
  },
  {
   "cell_type": "code",
   "execution_count": 195,
   "metadata": {},
   "outputs": [
    {
     "name": "stdout",
     "output_type": "stream",
     "text": [
      "+-------------+--------------------------+\n",
      "|POA_CODE_2021|avg_personal_income_weekly|\n",
      "+-------------+--------------------------+\n",
      "|         2136|                     813.0|\n",
      "|         4821|                     833.2|\n",
      "|         2088|                    1487.0|\n",
      "+-------------+--------------------------+\n",
      "only showing top 3 rows\n",
      "\n"
     ]
    }
   ],
   "source": [
    "## merge SA2 income (average personal income in different sa2 areas) with postcode\n",
    "pos_income= postcode_SA2.join(income, postcode_SA2.SA2_CODE_2021 == income.SA2_CODE_2021, \"inner\").drop(income.SA2_CODE_2021)\n",
    "pos_income = pos_income.groupBy('POA_CODE_2021').avg('Median_tot_prsnl_inc_weekly')\n",
    "pos_income = pos_income.withColumn(\"avg_personal_income_weekly\", round(pos_income[\"avg(Median_tot_prsnl_inc_weekly)\"], 1))\n",
    "pos_income = pos_income.drop('avg(Median_tot_prsnl_inc_weekly)')\n",
    "\n",
    "pos_income.show(3)"
   ]
  },
  {
   "cell_type": "code",
   "execution_count": 196,
   "metadata": {},
   "outputs": [
    {
     "name": "stdout",
     "output_type": "stream",
     "text": [
      "+-------------+----------------+--------------------------+\n",
      "|POA_CODE_2021|total_population|avg_personal_income_weekly|\n",
      "+-------------+----------------+--------------------------+\n",
      "|         2136|           67075|                     813.0|\n",
      "|         4821|          212922|                     833.2|\n",
      "|         2088|           28328|                    1487.0|\n",
      "+-------------+----------------+--------------------------+\n",
      "only showing top 3 rows\n",
      "\n"
     ]
    }
   ],
   "source": [
    "## join both income and population with postcode\n",
    "pos_info = pos_population.join(pos_income, pos_population.POA_CODE_2021 == pos_income.POA_CODE_2021, 'inner').drop(pos_income.POA_CODE_2021)\n",
    "\n",
    "pos_info = pos_info.select('POA_CODE_2021', 'total_population', 'avg_personal_income_weekly')\n",
    "\n",
    "pos_info.show(3)"
   ]
  },
  {
   "cell_type": "code",
   "execution_count": 197,
   "metadata": {},
   "outputs": [
    {
     "name": "stderr",
     "output_type": "stream",
     "text": [
      "                                                                                \r"
     ]
    },
    {
     "data": {
      "text/html": [
       "<table border='1'>\n",
       "<tr><th>user_id</th><th>merchant_abn</th><th>dollar_value</th><th>order_id</th><th>order_datetime</th><th>consumer_id</th><th>merchant_name</th><th>user_name</th><th>address</th><th>state</th><th>postcode</th><th>gender</th><th>field</th><th>revenue_level</th><th>take_rate</th><th>total_population</th><th>avg_personal_income_weekly</th></tr>\n",
       "<tr><td>13328</td><td>82448693380</td><td>186.46</td><td>05b84520-00a9-4e2...</td><td>2021-10-05</td><td>31719</td><td>Vulputate Dui Nec...</td><td>Catherine Simmons</td><td>0859 Scott Statio...</td><td>NSW</td><td>2034</td><td>Female</td><td>computer programm...</td><td>a</td><td>6.06</td><td>25132</td><td>1264.5</td></tr>\n",
       "<tr><td>17506</td><td>75454398468</td><td>722.45</td><td>6e6e6b6c-9d1b-411...</td><td>2021-10-30</td><td>15418</td><td>Tempus Non Lacini...</td><td>Cynthia Young</td><td>7236 Bates Lock S...</td><td>NSW</td><td>2034</td><td>Female</td><td>tent and awning s...</td><td>b</td><td>4.9</td><td>25132</td><td>1264.5</td></tr>\n",
       "<tr><td>13328</td><td>33604812025</td><td>135.82</td><td>06399e3b-e23b-4d7...</td><td>2021-08-02</td><td>31719</td><td>null</td><td>Catherine Simmons</td><td>0859 Scott Statio...</td><td>NSW</td><td>2034</td><td>Female</td><td>null</td><td>null</td><td>null</td><td>25132</td><td>1264.5</td></tr>\n",
       "</table>\n"
      ],
      "text/plain": [
       "+-------+------------+------------+--------------------+--------------+-----------+--------------------+-----------------+--------------------+-----+--------+------+--------------------+-------------+---------+----------------+--------------------------+\n",
       "|user_id|merchant_abn|dollar_value|            order_id|order_datetime|consumer_id|       merchant_name|        user_name|             address|state|postcode|gender|               field|revenue_level|take_rate|total_population|avg_personal_income_weekly|\n",
       "+-------+------------+------------+--------------------+--------------+-----------+--------------------+-----------------+--------------------+-----+--------+------+--------------------+-------------+---------+----------------+--------------------------+\n",
       "|  13328| 82448693380|      186.46|05b84520-00a9-4e2...|    2021-10-05|      31719|Vulputate Dui Nec...|Catherine Simmons|0859 Scott Statio...|  NSW|    2034|Female|computer programm...|            a|     6.06|           25132|                    1264.5|\n",
       "|  17506| 75454398468|      722.45|6e6e6b6c-9d1b-411...|    2021-10-30|      15418|Tempus Non Lacini...|    Cynthia Young|7236 Bates Lock S...|  NSW|    2034|Female|tent and awning s...|            b|      4.9|           25132|                    1264.5|\n",
       "|  13328| 33604812025|      135.82|06399e3b-e23b-4d7...|    2021-08-02|      31719|                null|Catherine Simmons|0859 Scott Statio...|  NSW|    2034|Female|                null|         null|     null|           25132|                    1264.5|\n",
       "+-------+------------+------------+--------------------+--------------+-----------+--------------------+-----------------+--------------------+-----+--------+------+--------------------+-------------+---------+----------------+--------------------------+"
      ]
     },
     "execution_count": 197,
     "metadata": {},
     "output_type": "execute_result"
    }
   ],
   "source": [
    "## join pos_info with original dataset\n",
    "curated_csv_new = curated_csv.join(pos_info, curated_csv.postcode == pos_info.POA_CODE_2021, \"inner\").drop(pos_info.POA_CODE_2021)\n",
    "\n",
    "curated_csv_new.limit(3)"
   ]
  },
  {
   "cell_type": "code",
   "execution_count": 198,
   "metadata": {},
   "outputs": [
    {
     "name": "stderr",
     "output_type": "stream",
     "text": [
      "                                                                                \r"
     ]
    },
    {
     "name": "stdout",
     "output_type": "stream",
     "text": [
      "Number of transaction before join with pos_info: 8151372\n"
     ]
    },
    {
     "name": "stderr",
     "output_type": "stream",
     "text": [
      "[Stage 483:>                                                        (0 + 1) / 1]\r"
     ]
    },
    {
     "name": "stdout",
     "output_type": "stream",
     "text": [
      "Number of transaction after join with pos_info: 6719594\n"
     ]
    },
    {
     "name": "stderr",
     "output_type": "stream",
     "text": [
      "                                                                                \r"
     ]
    }
   ],
   "source": [
    "print('Number of transaction before join with pos_info:', str(curated_csv.count()))\n",
    "print('Number of transaction after join with pos_info:', str(curated_csv_new.count()))\n"
   ]
  }
 ],
 "metadata": {
  "kernelspec": {
   "display_name": "Python 3.10.4 64-bit",
   "language": "python",
   "name": "python3"
  },
  "language_info": {
   "codemirror_mode": {
    "name": "ipython",
    "version": 3
   },
   "file_extension": ".py",
   "mimetype": "text/x-python",
   "name": "python",
   "nbconvert_exporter": "python",
   "pygments_lexer": "ipython3",
   "version": "3.10.4"
  },
  "orig_nbformat": 4,
  "vscode": {
   "interpreter": {
    "hash": "916dbcbb3f70747c44a77c7bcd40155683ae19c65e1c03b4aa3499c5328201f1"
   }
  }
 },
 "nbformat": 4,
 "nbformat_minor": 2
}
