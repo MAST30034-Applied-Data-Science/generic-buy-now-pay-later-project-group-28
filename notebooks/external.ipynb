{
 "cells": [
  {
   "cell_type": "code",
   "execution_count": 1,
   "metadata": {},
   "outputs": [
    {
     "name": "stderr",
     "output_type": "stream",
     "text": [
      "22/09/14 11:54:52 WARN Utils: Your hostname, Rudyletsgo resolves to a loopback address: 127.0.1.1; using 172.25.148.241 instead (on interface eth0)\n",
      "22/09/14 11:54:52 WARN Utils: Set SPARK_LOCAL_IP if you need to bind to another address\n",
      "WARNING: An illegal reflective access operation has occurred\n",
      "WARNING: Illegal reflective access by org.apache.spark.unsafe.Platform (file:/home/jiaruiq/miniconda3/envs/ads/lib/python3.8/site-packages/pyspark/jars/spark-unsafe_2.12-3.1.2.jar) to constructor java.nio.DirectByteBuffer(long,int)\n",
      "WARNING: Please consider reporting this to the maintainers of org.apache.spark.unsafe.Platform\n",
      "WARNING: Use --illegal-access=warn to enable warnings of further illegal reflective access operations\n",
      "WARNING: All illegal access operations will be denied in a future release\n",
      "22/09/14 11:54:54 WARN NativeCodeLoader: Unable to load native-hadoop library for your platform... using builtin-java classes where applicable\n",
      "Using Spark's default log4j profile: org/apache/spark/log4j-defaults.properties\n",
      "Setting default log level to \"WARN\".\n",
      "To adjust logging level use sc.setLogLevel(newLevel). For SparkR, use setLogLevel(newLevel).\n"
     ]
    }
   ],
   "source": [
    "from pyspark.sql.functions import *\n",
    "\n",
    "#import spark\n",
    "from pyspark.sql import SparkSession\n",
    "# Create a spark session (which will run spark jobs)\n",
    "spark = (\n",
    "    SparkSession.builder.appName(\"MAST30034 ass2 BNPL group 28\")\n",
    "    .config(\"spark.sql.repl.eagerEval.enabled\", True) \n",
    "    .config(\"spark.sql.parquet.cacheMetadata\", \"true\")\n",
    "    .config(\"spark.sql.session.timeZone\", \"Etc/UTC\")\n",
    "    .getOrCreate()\n",
    ")"
   ]
  },
  {
   "cell_type": "code",
   "execution_count": 2,
   "metadata": {},
   "outputs": [],
   "source": [
    "## read main and external dataset\n",
    "curated_csv = spark.read.options(header = True).csv('../data/curated/clean-data.csv')\n",
    "postcode_SA2 = spark.read.options(header = True).csv('../data/tables/postcode_SA2.csv')\n",
    "population = spark.read.options(header = True).csv('../data/tables/2021Census_G01_AUST_SA2.csv')\n",
    "income = spark.read.options(header = True).csv('../data/tables/2021Census_G02_AUST_SA2.csv')"
   ]
  },
  {
   "cell_type": "code",
   "execution_count": 3,
   "metadata": {},
   "outputs": [
    {
     "name": "stdout",
     "output_type": "stream",
     "text": [
      "root\n",
      " |-- user_id: string (nullable = true)\n",
      " |-- merchant_abn: string (nullable = true)\n",
      " |-- dollar_value: string (nullable = true)\n",
      " |-- order_id: string (nullable = true)\n",
      " |-- order_datetime: string (nullable = true)\n",
      " |-- consumer_id: string (nullable = true)\n",
      " |-- merchant_name: string (nullable = true)\n",
      " |-- user_name: string (nullable = true)\n",
      " |-- state: string (nullable = true)\n",
      " |-- postcode: string (nullable = true)\n",
      " |-- field: string (nullable = true)\n",
      " |-- revenue_level: string (nullable = true)\n",
      " |-- take_rate: string (nullable = true)\n",
      "\n"
     ]
    }
   ],
   "source": [
    "curated_csv.printSchema()"
   ]
  },
  {
   "cell_type": "code",
   "execution_count": 4,
   "metadata": {},
   "outputs": [
    {
     "name": "stdout",
     "output_type": "stream",
     "text": [
      "root\n",
      " |-- POA_CODE_2021: string (nullable = true)\n",
      " |-- SA2_CODE_2021: string (nullable = true)\n",
      " |-- SA2_NAME_2021: string (nullable = true)\n",
      "\n"
     ]
    }
   ],
   "source": [
    "postcode_SA2.printSchema()"
   ]
  },
  {
   "cell_type": "code",
   "execution_count": 5,
   "metadata": {},
   "outputs": [
    {
     "data": {
      "text/plain": [
       "11858"
      ]
     },
     "execution_count": 5,
     "metadata": {},
     "output_type": "execute_result"
    }
   ],
   "source": [
    "postcode_SA2.count()"
   ]
  },
  {
   "cell_type": "code",
   "execution_count": 6,
   "metadata": {},
   "outputs": [
    {
     "name": "stdout",
     "output_type": "stream",
     "text": [
      "root\n",
      " |-- SA2_CODE_2021: string (nullable = true)\n",
      " |-- Tot_P_M: string (nullable = true)\n",
      " |-- Tot_P_F: string (nullable = true)\n",
      " |-- Tot_P_P: string (nullable = true)\n",
      " |-- Age_0_4_yr_M: string (nullable = true)\n",
      " |-- Age_0_4_yr_F: string (nullable = true)\n",
      " |-- Age_0_4_yr_P: string (nullable = true)\n",
      " |-- Age_5_14_yr_M: string (nullable = true)\n",
      " |-- Age_5_14_yr_F: string (nullable = true)\n",
      " |-- Age_5_14_yr_P: string (nullable = true)\n",
      " |-- Age_15_19_yr_M: string (nullable = true)\n",
      " |-- Age_15_19_yr_F: string (nullable = true)\n",
      " |-- Age_15_19_yr_P: string (nullable = true)\n",
      " |-- Age_20_24_yr_M: string (nullable = true)\n",
      " |-- Age_20_24_yr_F: string (nullable = true)\n",
      " |-- Age_20_24_yr_P: string (nullable = true)\n",
      " |-- Age_25_34_yr_M: string (nullable = true)\n",
      " |-- Age_25_34_yr_F: string (nullable = true)\n",
      " |-- Age_25_34_yr_P: string (nullable = true)\n",
      " |-- Age_35_44_yr_M: string (nullable = true)\n",
      " |-- Age_35_44_yr_F: string (nullable = true)\n",
      " |-- Age_35_44_yr_P: string (nullable = true)\n",
      " |-- Age_45_54_yr_M: string (nullable = true)\n",
      " |-- Age_45_54_yr_F: string (nullable = true)\n",
      " |-- Age_45_54_yr_P: string (nullable = true)\n",
      " |-- Age_55_64_yr_M: string (nullable = true)\n",
      " |-- Age_55_64_yr_F: string (nullable = true)\n",
      " |-- Age_55_64_yr_P: string (nullable = true)\n",
      " |-- Age_65_74_yr_M: string (nullable = true)\n",
      " |-- Age_65_74_yr_F: string (nullable = true)\n",
      " |-- Age_65_74_yr_P: string (nullable = true)\n",
      " |-- Age_75_84_yr_M: string (nullable = true)\n",
      " |-- Age_75_84_yr_F: string (nullable = true)\n",
      " |-- Age_75_84_yr_P: string (nullable = true)\n",
      " |-- Age_85ov_M: string (nullable = true)\n",
      " |-- Age_85ov_F: string (nullable = true)\n",
      " |-- Age_85ov_P: string (nullable = true)\n",
      " |-- Counted_Census_Night_home_M: string (nullable = true)\n",
      " |-- Counted_Census_Night_home_F: string (nullable = true)\n",
      " |-- Counted_Census_Night_home_P: string (nullable = true)\n",
      " |-- Count_Census_Nt_Ewhere_Aust_M: string (nullable = true)\n",
      " |-- Count_Census_Nt_Ewhere_Aust_F: string (nullable = true)\n",
      " |-- Count_Census_Nt_Ewhere_Aust_P: string (nullable = true)\n",
      " |-- Indigenous_psns_Aboriginal_M: string (nullable = true)\n",
      " |-- Indigenous_psns_Aboriginal_F: string (nullable = true)\n",
      " |-- Indigenous_psns_Aboriginal_P: string (nullable = true)\n",
      " |-- Indig_psns_Torres_Strait_Is_M: string (nullable = true)\n",
      " |-- Indig_psns_Torres_Strait_Is_F: string (nullable = true)\n",
      " |-- Indig_psns_Torres_Strait_Is_P: string (nullable = true)\n",
      " |-- Indig_Bth_Abor_Torres_St_Is_M: string (nullable = true)\n",
      " |-- Indig_Bth_Abor_Torres_St_Is_F: string (nullable = true)\n",
      " |-- Indig_Bth_Abor_Torres_St_Is_P: string (nullable = true)\n",
      " |-- Indigenous_P_Tot_M: string (nullable = true)\n",
      " |-- Indigenous_P_Tot_F: string (nullable = true)\n",
      " |-- Indigenous_P_Tot_P: string (nullable = true)\n",
      " |-- Birthplace_Australia_M: string (nullable = true)\n",
      " |-- Birthplace_Australia_F: string (nullable = true)\n",
      " |-- Birthplace_Australia_P: string (nullable = true)\n",
      " |-- Birthplace_Elsewhere_M: string (nullable = true)\n",
      " |-- Birthplace_Elsewhere_F: string (nullable = true)\n",
      " |-- Birthplace_Elsewhere_P: string (nullable = true)\n",
      " |-- Lang_used_home_Eng_only_M: string (nullable = true)\n",
      " |-- Lang_used_home_Eng_only_F: string (nullable = true)\n",
      " |-- Lang_used_home_Eng_only_P: string (nullable = true)\n",
      " |-- Lang_used_home_Oth_Lang_M: string (nullable = true)\n",
      " |-- Lang_used_home_Oth_Lang_F: string (nullable = true)\n",
      " |-- Lang_used_home_Oth_Lang_P: string (nullable = true)\n",
      " |-- Australian_citizen_M: string (nullable = true)\n",
      " |-- Australian_citizen_F: string (nullable = true)\n",
      " |-- Australian_citizen_P: string (nullable = true)\n",
      " |-- Age_psns_att_educ_inst_0_4_M: string (nullable = true)\n",
      " |-- Age_psns_att_educ_inst_0_4_F: string (nullable = true)\n",
      " |-- Age_psns_att_educ_inst_0_4_P: string (nullable = true)\n",
      " |-- Age_psns_att_educ_inst_5_14_M: string (nullable = true)\n",
      " |-- Age_psns_att_educ_inst_5_14_F: string (nullable = true)\n",
      " |-- Age_psns_att_educ_inst_5_14_P: string (nullable = true)\n",
      " |-- Age_psns_att_edu_inst_15_19_M: string (nullable = true)\n",
      " |-- Age_psns_att_edu_inst_15_19_F: string (nullable = true)\n",
      " |-- Age_psns_att_edu_inst_15_19_P: string (nullable = true)\n",
      " |-- Age_psns_att_edu_inst_20_24_M: string (nullable = true)\n",
      " |-- Age_psns_att_edu_inst_20_24_F: string (nullable = true)\n",
      " |-- Age_psns_att_edu_inst_20_24_P: string (nullable = true)\n",
      " |-- Age_psns_att_edu_inst_25_ov_M: string (nullable = true)\n",
      " |-- Age_psns_att_edu_inst_25_ov_F: string (nullable = true)\n",
      " |-- Age_psns_att_edu_inst_25_ov_P: string (nullable = true)\n",
      " |-- High_yr_schl_comp_Yr_12_eq_M: string (nullable = true)\n",
      " |-- High_yr_schl_comp_Yr_12_eq_F: string (nullable = true)\n",
      " |-- High_yr_schl_comp_Yr_12_eq_P: string (nullable = true)\n",
      " |-- High_yr_schl_comp_Yr_11_eq_M: string (nullable = true)\n",
      " |-- High_yr_schl_comp_Yr_11_eq_F: string (nullable = true)\n",
      " |-- High_yr_schl_comp_Yr_11_eq_P: string (nullable = true)\n",
      " |-- High_yr_schl_comp_Yr_10_eq_M: string (nullable = true)\n",
      " |-- High_yr_schl_comp_Yr_10_eq_F: string (nullable = true)\n",
      " |-- High_yr_schl_comp_Yr_10_eq_P: string (nullable = true)\n",
      " |-- High_yr_schl_comp_Yr_9_eq_M: string (nullable = true)\n",
      " |-- High_yr_schl_comp_Yr_9_eq_F: string (nullable = true)\n",
      " |-- High_yr_schl_comp_Yr_9_eq_P: string (nullable = true)\n",
      " |-- High_yr_schl_comp_Yr_8_belw_M: string (nullable = true)\n",
      " |-- High_yr_schl_comp_Yr_8_belw_F: string (nullable = true)\n",
      " |-- High_yr_schl_comp_Yr_8_belw_P: string (nullable = true)\n",
      " |-- High_yr_schl_comp_D_n_g_sch_M: string (nullable = true)\n",
      " |-- High_yr_schl_comp_D_n_g_sch_F: string (nullable = true)\n",
      " |-- High_yr_schl_comp_D_n_g_sch_P: string (nullable = true)\n",
      " |-- Count_psns_occ_priv_dwgs_M: string (nullable = true)\n",
      " |-- Count_psns_occ_priv_dwgs_F: string (nullable = true)\n",
      " |-- Count_psns_occ_priv_dwgs_P: string (nullable = true)\n",
      " |-- Count_Persons_other_dwgs_M: string (nullable = true)\n",
      " |-- Count_Persons_other_dwgs_F: string (nullable = true)\n",
      " |-- Count_Persons_other_dwgs_P: string (nullable = true)\n",
      "\n"
     ]
    }
   ],
   "source": [
    "population.printSchema()"
   ]
  },
  {
   "cell_type": "code",
   "execution_count": 7,
   "metadata": {},
   "outputs": [
    {
     "name": "stdout",
     "output_type": "stream",
     "text": [
      "root\n",
      " |-- SA2_CODE_2021: string (nullable = true)\n",
      " |-- Median_age_persons: string (nullable = true)\n",
      " |-- Median_mortgage_repay_monthly: string (nullable = true)\n",
      " |-- Median_tot_prsnl_inc_weekly: string (nullable = true)\n",
      " |-- Median_rent_weekly: string (nullable = true)\n",
      " |-- Median_tot_fam_inc_weekly: string (nullable = true)\n",
      " |-- Average_num_psns_per_bedroom: string (nullable = true)\n",
      " |-- Median_tot_hhd_inc_weekly: string (nullable = true)\n",
      " |-- Average_household_size: string (nullable = true)\n",
      "\n"
     ]
    }
   ],
   "source": [
    "income.printSchema()"
   ]
  },
  {
   "cell_type": "code",
   "execution_count": 8,
   "metadata": {},
   "outputs": [],
   "source": [
    "## Drop unhelpful columns in both external dataset\n",
    "population = population.select(col('SA2_CODE_2021'), col('Tot_P_P'))\n",
    "income = income.select(col('SA2_CODE_2021'), col('Median_tot_prsnl_inc_weekly'))\n",
    "\n",
    "## change data type\n",
    "population = population.withColumn(\"Tot_P_P\",population.Tot_P_P.cast('int'))\n",
    "income = income.withColumn('Median_tot_prsnl_inc_weekly', income.Median_tot_prsnl_inc_weekly.cast('float'))"
   ]
  },
  {
   "cell_type": "code",
   "execution_count": 9,
   "metadata": {},
   "outputs": [
    {
     "name": "stdout",
     "output_type": "stream",
     "text": [
      "+-------------+----------------+\n",
      "|POA_CODE_2021|total_population|\n",
      "+-------------+----------------+\n",
      "|         2136|           67075|\n",
      "|         4821|          212922|\n",
      "|         2088|           28328|\n",
      "+-------------+----------------+\n",
      "only showing top 3 rows\n",
      "\n"
     ]
    }
   ],
   "source": [
    "## merge SA2 population (sum of different sa2 areas) with postcode\n",
    "pos_population = postcode_SA2.join(population, postcode_SA2.SA2_CODE_2021 == population.SA2_CODE_2021, \"inner\").drop(population.SA2_CODE_2021)\n",
    "pos_population = pos_population.groupBy('POA_CODE_2021').sum('Tot_P_P')\n",
    "pos_population = pos_population.withColumnRenamed('sum(Tot_P_P)', 'total_population')\n",
    "\n",
    "pos_population.show(3)"
   ]
  },
  {
   "cell_type": "code",
   "execution_count": 10,
   "metadata": {},
   "outputs": [
    {
     "name": "stdout",
     "output_type": "stream",
     "text": [
      "+-------------+--------------------------+\n",
      "|POA_CODE_2021|avg_personal_income_weekly|\n",
      "+-------------+--------------------------+\n",
      "|         2136|                     813.0|\n",
      "|         4821|                     833.2|\n",
      "|         2088|                    1487.0|\n",
      "+-------------+--------------------------+\n",
      "only showing top 3 rows\n",
      "\n"
     ]
    }
   ],
   "source": [
    "## merge SA2 income (average personal income in different sa2 areas) with postcode\n",
    "pos_income= postcode_SA2.join(income, postcode_SA2.SA2_CODE_2021 == income.SA2_CODE_2021, \"inner\").drop(income.SA2_CODE_2021)\n",
    "pos_income = pos_income.groupBy('POA_CODE_2021').avg('Median_tot_prsnl_inc_weekly')\n",
    "pos_income = pos_income.withColumn(\"avg_personal_income_weekly\", round(pos_income[\"avg(Median_tot_prsnl_inc_weekly)\"], 1))\n",
    "pos_income = pos_income.drop('avg(Median_tot_prsnl_inc_weekly)')\n",
    "\n",
    "pos_income.show(3)"
   ]
  },
  {
   "cell_type": "code",
   "execution_count": 11,
   "metadata": {},
   "outputs": [
    {
     "name": "stdout",
     "output_type": "stream",
     "text": [
      "+-------------+----------------+--------------------------+\n",
      "|POA_CODE_2021|total_population|avg_personal_income_weekly|\n",
      "+-------------+----------------+--------------------------+\n",
      "|         2069|          102475|                    1149.7|\n",
      "|         2088|           28328|                    1487.0|\n",
      "|         2136|           67075|                     813.0|\n",
      "+-------------+----------------+--------------------------+\n",
      "only showing top 3 rows\n",
      "\n"
     ]
    }
   ],
   "source": [
    "## join both income and population with postcode\n",
    "pos_info = pos_population.join(pos_income, pos_population.POA_CODE_2021 == pos_income.POA_CODE_2021, 'inner').drop(pos_income.POA_CODE_2021)\n",
    "\n",
    "pos_info = pos_info.select('POA_CODE_2021', 'total_population', 'avg_personal_income_weekly')\n",
    "\n",
    "pos_info.show(3)"
   ]
  },
  {
   "cell_type": "code",
   "execution_count": 12,
   "metadata": {},
   "outputs": [],
   "source": [
    "## join pos_info with original dataset\n",
    "curated_csv_new = curated_csv.join(pos_info, curated_csv.postcode == pos_info.POA_CODE_2021, \"inner\").drop(pos_info.POA_CODE_2021)\n",
    "\n"
   ]
  },
  {
   "cell_type": "code",
   "execution_count": 13,
   "metadata": {},
   "outputs": [
    {
     "name": "stderr",
     "output_type": "stream",
     "text": [
      "                                                                                \r"
     ]
    },
    {
     "name": "stdout",
     "output_type": "stream",
     "text": [
      "Number of transaction before join with pos_info: 11873781\n"
     ]
    },
    {
     "name": "stderr",
     "output_type": "stream",
     "text": [
      "[Stage 24:=============================>                       (111 + 21) / 200]\r"
     ]
    },
    {
     "name": "stdout",
     "output_type": "stream",
     "text": [
      "Number of transaction after join with pos_info: 9930293\n"
     ]
    },
    {
     "name": "stderr",
     "output_type": "stream",
     "text": [
      "                                                                                \r"
     ]
    }
   ],
   "source": [
    "print('Number of transaction before join with pos_info:', str(curated_csv.count()))\n",
    "print('Number of transaction after join with pos_info:', str(curated_csv_new.count()))\n"
   ]
  },
  {
   "cell_type": "code",
   "execution_count": 14,
   "metadata": {},
   "outputs": [],
   "source": [
    "curated_csv_sample = curated_csv.sample(0.1).select('dollar_value')\n",
    "curated_csv_new_sample = curated_csv_new.sample(0.1).select('dollar_value')"
   ]
  },
  {
   "cell_type": "code",
   "execution_count": 15,
   "metadata": {},
   "outputs": [
    {
     "name": "stderr",
     "output_type": "stream",
     "text": [
      "                                                                                \r"
     ]
    }
   ],
   "source": [
    "curated_csv_new_sample = curated_csv_new_sample.toPandas()\n",
    "curated_csv_sample = curated_csv_sample.toPandas()"
   ]
  },
  {
   "cell_type": "code",
   "execution_count": 17,
   "metadata": {},
   "outputs": [],
   "source": [
    "curated_csv_new_sample['dollar_value']=curated_csv_new_sample['dollar_value'].astype(float)\n",
    "curated_csv_sample['dollar_value']=curated_csv_sample['dollar_value'].astype(float)"
   ]
  },
  {
   "cell_type": "code",
   "execution_count": 27,
   "metadata": {},
   "outputs": [],
   "source": [
    "import seaborn as sns\n",
    "import matplotlib.pyplot as plt"
   ]
  },
  {
   "cell_type": "code",
   "execution_count": 32,
   "metadata": {},
   "outputs": [
    {
     "data": {
      "image/png": "[encoded data removed]",
      "text/plain": [
       "<Figure size 360x360 with 1 Axes>"
      ]
     },
     "metadata": {
      "needs_background": "light"
     },
     "output_type": "display_data"
    }
   ],
   "source": [
    "sns.displot(curated_csv_sample, x='dollar_value')\n",
    "plt.xlim(1000, 2000)\n",
    "plt.ylim(0,100)\n",
    "plt.show()"
   ]
  },
  {
   "cell_type": "code",
   "execution_count": 33,
   "metadata": {},
   "outputs": [
    {
     "data": {
      "image/png": "[encoded data removed]",
      "text/plain": [
       "<Figure size 360x360 with 1 Axes>"
      ]
     },
     "metadata": {
      "needs_background": "light"
     },
     "output_type": "display_data"
    }
   ],
   "source": [
    "sns.displot(curated_csv_new_sample, x='dollar_value')\n",
    "plt.xlim(1000, 2000)\n",
    "plt.ylim(0,100)\n",
    "plt.show()"
   ]
  },
  {
   "cell_type": "code",
   "execution_count": 36,
   "metadata": {},
   "outputs": [],
   "source": [
    "bar_old = curated_csv.sample(0.1).groupby('revenue_level').count()\n",
    "bar_new = curated_csv_new.sample(0.1).groupby('revenue_level').count()"
   ]
  },
  {
   "cell_type": "code",
   "execution_count": 39,
   "metadata": {},
   "outputs": [
    {
     "name": "stderr",
     "output_type": "stream",
     "text": [
      "                                                                                \r"
     ]
    },
    {
     "data": {
      "text/html": [
       "<table border='1'>\n",
       "<tr><th>revenue_level</th><th>count</th><th>type</th></tr>\n",
       "<tr><td>e</td><td>10393</td><td>0</td></tr>\n",
       "<tr><td>d</td><td>11737</td><td>0</td></tr>\n",
       "<tr><td>c</td><td>290290</td><td>0</td></tr>\n",
       "<tr><td>b</td><td>341650</td><td>0</td></tr>\n",
       "<tr><td>a</td><td>533300</td><td>0</td></tr>\n",
       "</table>\n"
      ],
      "text/plain": [
       "+-------------+------+----+\n",
       "|revenue_level| count|type|\n",
       "+-------------+------+----+\n",
       "|            e| 10393|   0|\n",
       "|            d| 11737|   0|\n",
       "|            c|290290|   0|\n",
       "|            b|341650|   0|\n",
       "|            a|533300|   0|\n",
       "+-------------+------+----+"
      ]
     },
     "execution_count": 39,
     "metadata": {},
     "output_type": "execute_result"
    }
   ],
   "source": [
    "bar_old.withColumn(\"type\", lit(0))\n"
   ]
  },
  {
   "cell_type": "code",
   "execution_count": 40,
   "metadata": {},
   "outputs": [
    {
     "name": "stderr",
     "output_type": "stream",
     "text": [
      "                                                                                \r"
     ]
    },
    {
     "data": {
      "text/html": [
       "<table border='1'>\n",
       "<tr><th>revenue_level</th><th>count</th><th>type</th></tr>\n",
       "<tr><td>e</td><td>8832</td><td>1</td></tr>\n",
       "<tr><td>d</td><td>9919</td><td>1</td></tr>\n",
       "<tr><td>c</td><td>242438</td><td>1</td></tr>\n",
       "<tr><td>b</td><td>286760</td><td>1</td></tr>\n",
       "<tr><td>a</td><td>446332</td><td>1</td></tr>\n",
       "</table>\n"
      ],
      "text/plain": [
       "+-------------+------+----+\n",
       "|revenue_level| count|type|\n",
       "+-------------+------+----+\n",
       "|            e|  8832|   1|\n",
       "|            d|  9919|   1|\n",
       "|            c|242438|   1|\n",
       "|            b|286760|   1|\n",
       "|            a|446332|   1|\n",
       "+-------------+------+----+"
      ]
     },
     "execution_count": 40,
     "metadata": {},
     "output_type": "execute_result"
    }
   ],
   "source": [
    "bar_new.withColumn(\"type\", lit(1))"
   ]
  },
  {
   "cell_type": "code",
   "execution_count": 50,
   "metadata": {},
   "outputs": [
    {
     "name": "stderr",
     "output_type": "stream",
     "text": [
      "                                                                                \r"
     ]
    }
   ],
   "source": [
    "bar_new = bar_new.toPandas()\n",
    "bar_old = bar_old.toPandas()"
   ]
  },
  {
   "cell_type": "code",
   "execution_count": 51,
   "metadata": {},
   "outputs": [
    {
     "data": {
      "text/plain": [
       "<AxesSubplot:xlabel='revenue level'>"
      ]
     },
     "execution_count": 51,
     "metadata": {},
     "output_type": "execute_result"
    },
    {
     "data": {
      "image/png": "[encoded data removed]",
      "text/plain": [
       "<Figure size 432x288 with 1 Axes>"
      ]
     },
     "metadata": {
      "needs_background": "light"
     },
     "output_type": "display_data"
    },
    {
     "name": "stderr",
     "output_type": "stream",
     "text": [
      "22/09/14 13:48:10 WARN HeartbeatReceiver: Removing executor driver with no recent heartbeats: 3203904 ms exceeds timeout 120000 ms\n",
      "22/09/14 13:48:10 WARN SparkContext: Killing executors is not supported by current scheduler.\n"
     ]
    }
   ],
   "source": [
    "import pandas as pd\n",
    "df = pd.DataFrame({\n",
    "    'revenue level': bar_new['revenue_level'],\n",
    "    'type1': bar_old['count'],\n",
    "    'type2': bar_new['count']\n",
    "})\n",
    "  \n",
    "# plotting graph\n",
    "df.plot(x=\"revenue level\", y=[\"type1\", \"type2\"], kind=\"bar\")"
   ]
  },
  {
   "cell_type": "code",
   "execution_count": 43,
   "metadata": {},
   "outputs": [
    {
     "name": "stderr",
     "output_type": "stream",
     "text": [
      "                                                                                \r"
     ]
    }
   ],
   "source": [
    "combine = bar_old.union(bar_new)\n",
    "combine = combine.toPandas()"
   ]
  },
  {
   "cell_type": "code",
   "execution_count": 48,
   "metadata": {},
   "outputs": [
    {
     "ename": "KeyError",
     "evalue": "'type'",
     "output_type": "error",
     "traceback": [
      "\u001b[0;31m---------------------------------------------------------------------------\u001b[0m",
      "\u001b[0;31mKeyError\u001b[0m                                  Traceback (most recent call last)",
      "File \u001b[0;32m~/miniconda3/envs/ads/lib/python3.8/site-packages/pandas/core/indexes/base.py:3621\u001b[0m, in \u001b[0;36mIndex.get_loc\u001b[0;34m(self, key, method, tolerance)\u001b[0m\n\u001b[1;32m   3620\u001b[0m \u001b[39mtry\u001b[39;00m:\n\u001b[0;32m-> 3621\u001b[0m     \u001b[39mreturn\u001b[39;00m \u001b[39mself\u001b[39;49m\u001b[39m.\u001b[39;49m_engine\u001b[39m.\u001b[39;49mget_loc(casted_key)\n\u001b[1;32m   3622\u001b[0m \u001b[39mexcept\u001b[39;00m \u001b[39mKeyError\u001b[39;00m \u001b[39mas\u001b[39;00m err:\n",
      "File \u001b[0;32m~/miniconda3/envs/ads/lib/python3.8/site-packages/pandas/_libs/index.pyx:136\u001b[0m, in \u001b[0;36mpandas._libs.index.IndexEngine.get_loc\u001b[0;34m()\u001b[0m\n",
      "File \u001b[0;32m~/miniconda3/envs/ads/lib/python3.8/site-packages/pandas/_libs/index.pyx:163\u001b[0m, in \u001b[0;36mpandas._libs.index.IndexEngine.get_loc\u001b[0;34m()\u001b[0m\n",
      "File \u001b[0;32mpandas/_libs/hashtable_class_helper.pxi:5198\u001b[0m, in \u001b[0;36mpandas._libs.hashtable.PyObjectHashTable.get_item\u001b[0;34m()\u001b[0m\n",
      "File \u001b[0;32mpandas/_libs/hashtable_class_helper.pxi:5206\u001b[0m, in \u001b[0;36mpandas._libs.hashtable.PyObjectHashTable.get_item\u001b[0;34m()\u001b[0m\n",
      "\u001b[0;31mKeyError\u001b[0m: 'type'",
      "\nThe above exception was the direct cause of the following exception:\n",
      "\u001b[0;31mKeyError\u001b[0m                                  Traceback (most recent call last)",
      "\u001b[1;32m/home/jiaruiq/generic-buy-now-pay-later-project-group-28/notebooks/external.ipynb Cell 24\u001b[0m in \u001b[0;36m<cell line: 1>\u001b[0;34m()\u001b[0m\n\u001b[0;32m----> <a href='vscode-notebook-cell://wsl%2Bubuntu-22.04/home/jiaruiq/generic-buy-now-pay-later-project-group-28/notebooks/external.ipynb#X32sdnNjb2RlLXJlbW90ZQ%3D%3D?line=0'>1</a>\u001b[0m combine\u001b[39m.\u001b[39;49mplot(x\u001b[39m=\u001b[39;49m\u001b[39m\"\u001b[39;49m\u001b[39mrevenue_level\u001b[39;49m\u001b[39m\"\u001b[39;49m, y\u001b[39m=\u001b[39;49m\u001b[39m\"\u001b[39;49m\u001b[39mtype\u001b[39;49m\u001b[39m\"\u001b[39;49m, kind\u001b[39m=\u001b[39;49m\u001b[39m\"\u001b[39;49m\u001b[39mbar\u001b[39;49m\u001b[39m\"\u001b[39;49m)\n",
      "File \u001b[0;32m~/miniconda3/envs/ads/lib/python3.8/site-packages/pandas/plotting/_core.py:958\u001b[0m, in \u001b[0;36mPlotAccessor.__call__\u001b[0;34m(self, *args, **kwargs)\u001b[0m\n\u001b[1;32m    955\u001b[0m             \u001b[39mpass\u001b[39;00m\n\u001b[1;32m    957\u001b[0m \u001b[39m# don't overwrite\u001b[39;00m\n\u001b[0;32m--> 958\u001b[0m data \u001b[39m=\u001b[39m data[y]\u001b[39m.\u001b[39mcopy()\n\u001b[1;32m    960\u001b[0m \u001b[39mif\u001b[39;00m \u001b[39misinstance\u001b[39m(data, ABCSeries):\n\u001b[1;32m    961\u001b[0m     label_name \u001b[39m=\u001b[39m label_kw \u001b[39mor\u001b[39;00m y\n",
      "File \u001b[0;32m~/miniconda3/envs/ads/lib/python3.8/site-packages/pandas/core/frame.py:3505\u001b[0m, in \u001b[0;36mDataFrame.__getitem__\u001b[0;34m(self, key)\u001b[0m\n\u001b[1;32m   3503\u001b[0m \u001b[39mif\u001b[39;00m \u001b[39mself\u001b[39m\u001b[39m.\u001b[39mcolumns\u001b[39m.\u001b[39mnlevels \u001b[39m>\u001b[39m \u001b[39m1\u001b[39m:\n\u001b[1;32m   3504\u001b[0m     \u001b[39mreturn\u001b[39;00m \u001b[39mself\u001b[39m\u001b[39m.\u001b[39m_getitem_multilevel(key)\n\u001b[0;32m-> 3505\u001b[0m indexer \u001b[39m=\u001b[39m \u001b[39mself\u001b[39;49m\u001b[39m.\u001b[39;49mcolumns\u001b[39m.\u001b[39;49mget_loc(key)\n\u001b[1;32m   3506\u001b[0m \u001b[39mif\u001b[39;00m is_integer(indexer):\n\u001b[1;32m   3507\u001b[0m     indexer \u001b[39m=\u001b[39m [indexer]\n",
      "File \u001b[0;32m~/miniconda3/envs/ads/lib/python3.8/site-packages/pandas/core/indexes/base.py:3623\u001b[0m, in \u001b[0;36mIndex.get_loc\u001b[0;34m(self, key, method, tolerance)\u001b[0m\n\u001b[1;32m   3621\u001b[0m     \u001b[39mreturn\u001b[39;00m \u001b[39mself\u001b[39m\u001b[39m.\u001b[39m_engine\u001b[39m.\u001b[39mget_loc(casted_key)\n\u001b[1;32m   3622\u001b[0m \u001b[39mexcept\u001b[39;00m \u001b[39mKeyError\u001b[39;00m \u001b[39mas\u001b[39;00m err:\n\u001b[0;32m-> 3623\u001b[0m     \u001b[39mraise\u001b[39;00m \u001b[39mKeyError\u001b[39;00m(key) \u001b[39mfrom\u001b[39;00m \u001b[39merr\u001b[39;00m\n\u001b[1;32m   3624\u001b[0m \u001b[39mexcept\u001b[39;00m \u001b[39mTypeError\u001b[39;00m:\n\u001b[1;32m   3625\u001b[0m     \u001b[39m# If we have a listlike key, _check_indexing_error will raise\u001b[39;00m\n\u001b[1;32m   3626\u001b[0m     \u001b[39m#  InvalidIndexError. Otherwise we fall through and re-raise\u001b[39;00m\n\u001b[1;32m   3627\u001b[0m     \u001b[39m#  the TypeError.\u001b[39;00m\n\u001b[1;32m   3628\u001b[0m     \u001b[39mself\u001b[39m\u001b[39m.\u001b[39m_check_indexing_error(key)\n",
      "\u001b[0;31mKeyError\u001b[0m: 'type'"
     ]
    }
   ],
   "source": [
    "combine.plot(x=\"revenue_level\", y=\"type\", kind=\"bar\")"
   ]
  }
 ],
 "metadata": {
  "kernelspec": {
   "display_name": "Python 3.8.13 ('ads')",
   "language": "python",
   "name": "python3"
  },
  "language_info": {
   "codemirror_mode": {
    "name": "ipython",
    "version": 3
   },
   "file_extension": ".py",
   "mimetype": "text/x-python",
   "name": "python",
   "nbconvert_exporter": "python",
   "pygments_lexer": "ipython3",
   "version": "3.8.13"
  },
  "orig_nbformat": 4,
  "vscode": {
   "interpreter": {
    "hash": "bca15d2f4a2d5e67a541c5bc2e9bd5f13d2a08a92565a0d404f7484b46a3a1a0"
   }
  }
 },
 "nbformat": 4,
 "nbformat_minor": 2
}
