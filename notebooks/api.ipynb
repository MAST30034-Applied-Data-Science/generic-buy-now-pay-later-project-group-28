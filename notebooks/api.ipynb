{
 "cells": [
  {
   "cell_type": "code",
   "execution_count": 1,
   "metadata": {},
   "outputs": [
    {
     "name": "stdout",
     "output_type": "stream",
     "text": [
      "22/09/13 22:06:42 WARN Utils: Your hostname, LAPTOP-F054CH70 resolves to a loopback address: 127.0.1.1; using 172.23.196.108 instead (on interface eth0)\n",
      "22/09/13 22:06:42 WARN Utils: Set SPARK_LOCAL_IP if you need to bind to another address\n"
     ]
    },
    {
     "name": "stderr",
     "output_type": "stream",
     "text": [
      "Setting default log level to \"WARN\".\n",
      "To adjust logging level use sc.setLogLevel(newLevel). For SparkR, use setLogLevel(newLevel).\n"
     ]
    },
    {
     "name": "stdout",
     "output_type": "stream",
     "text": [
      "22/09/13 22:06:43 WARN NativeCodeLoader: Unable to load native-hadoop library for your platform... using builtin-java classes where applicable\n",
      "22/09/13 22:06:44 WARN Utils: Service 'SparkUI' could not bind on port 4040. Attempting port 4041.\n"
     ]
    }
   ],
   "source": [
    "#import spark\n",
    "from pyspark.sql import SparkSession\n",
    "# Create a spark session (which will run spark jobs)\n",
    "spark = (\n",
    "    SparkSession.builder.appName(\"MAST30034 ass2 BNPL group 28\")\n",
    "    .config(\"spark.sql.repl.eagerEval.enabled\", True) \n",
    "    .config(\"spark.sql.parquet.cacheMetadata\", \"true\")\n",
    "    .config(\"spark.sql.session.timeZone\", \"Etc/UTC\")\n",
    "    .getOrCreate()\n",
    ")"
   ]
  },
  {
   "cell_type": "code",
   "execution_count": 2,
   "metadata": {},
   "outputs": [],
   "source": [
    "import pandas as pd\n",
    "import numpy as np"
   ]
  },
  {
   "cell_type": "code",
   "execution_count": 3,
   "metadata": {},
   "outputs": [],
   "source": [
    "raw_data_path = \"../data/tables/\""
   ]
  },
  {
   "cell_type": "code",
   "execution_count": 5,
   "metadata": {},
   "outputs": [],
   "source": [
    "# need to install xlrd run pip install xlrd\n",
    "poa_2011_2016 = pd.read_excel(raw_data_path+\"CG_POA_2011_POA_2016.xls\",sheet_name = \"Table 3\", header = 5)\n",
    "sa2_2011_2016 = pd.read_excel(raw_data_path+\"CG_SA2_2011_SA2_2016.xls\",sheet_name = \"Table 3\", header = 5)\n",
    "poa_sa2 = pd.read_excel(raw_data_path+\"1270055006_CG_POSTCODE_2011_SA2_2011.xls\",sheet_name = \"Table 3\", header = 5)"
   ]
  },
  {
   "cell_type": "markdown",
   "metadata": {},
   "source": []
  },
  {
   "cell_type": "code",
   "execution_count": 6,
   "metadata": {},
   "outputs": [],
   "source": [
    "# change to pyspark dataframe\n",
    "poa_2011_2016.dropna(axis=0, how='any', thresh=None, subset=None, inplace=True)\n",
    "sa2_2011_2016.dropna(axis=0, how='any', thresh=None, subset=None, inplace=True)\n",
    "poa_sa2.dropna(axis=0, how='any', thresh=None, subset=None, inplace=True)"
   ]
  },
  {
   "cell_type": "code",
   "execution_count": 7,
   "metadata": {},
   "outputs": [],
   "source": [
    "poa_sa2['SA2_MAINCODE_2011'] = poa_sa2['SA2_MAINCODE_2011'].apply(np.int64)\n",
    "sa2_2011_2016['SA2_MAINCODE_2016'] = sa2_2011_2016['SA2_MAINCODE_2016'].apply(np.int64)"
   ]
  },
  {
   "cell_type": "code",
   "execution_count": 8,
   "metadata": {},
   "outputs": [],
   "source": [
    "poa_2011_2016=spark.createDataFrame(poa_2011_2016) \n",
    "sa2_2011_2016=spark.createDataFrame(sa2_2011_2016) \n",
    "poa_sa2=spark.createDataFrame(poa_sa2) "
   ]
  },
  {
   "cell_type": "markdown",
   "metadata": {},
   "source": [
    "Drop useless columns"
   ]
  },
  {
   "cell_type": "code",
   "execution_count": 9,
   "metadata": {},
   "outputs": [],
   "source": [
    "poa_2016_2021 = spark.read.csv('../data/tables/poa_2016_2021.csv',header=True)\n",
    "sa2_2016_2021 = spark.read.csv('../data/tables/sa2_2016_2021.csv',header=True)"
   ]
  },
  {
   "cell_type": "code",
   "execution_count": 10,
   "metadata": {},
   "outputs": [],
   "source": [
    "common_cols = ['RATIO','PERCENTAGE']\n",
    "poa_2011_2016 = poa_2011_2016.drop(*common_cols)\n",
    "sa2_2011_2016 = sa2_2011_2016.drop(*common_cols)\n",
    "poa_sa2 = poa_sa2.drop(*common_cols)"
   ]
  },
  {
   "cell_type": "code",
   "execution_count": 11,
   "metadata": {},
   "outputs": [],
   "source": [
    "common_cols_new = ['RATIO_FROM_TO', 'NDIV_TO_REGION_QLTY_INDICATOR', 'OVERALL_QUALITY_INDICATOR', 'BMOS_NULL_FLAG', 'INDIV_TO_REGION_QLTY_INDICATOR']\n",
    "poa_2016_2021 = poa_2016_2021.drop(*common_cols_new)\n",
    "sa2_2016_2021 = sa2_2016_2021.drop(*common_cols_new)\n"
   ]
  },
  {
   "cell_type": "code",
   "execution_count": 12,
   "metadata": {},
   "outputs": [],
   "source": [
    "table = poa_2011_2016.join(poa_sa2,poa_2011_2016['POA_CODE_2011'] == poa_sa2['POSTCODE'], how = 'inner')"
   ]
  },
  {
   "cell_type": "code",
   "execution_count": 13,
   "metadata": {},
   "outputs": [],
   "source": [
    "table = table.join(sa2_2011_2016, table['SA2_MAINCODE_2011'] == sa2_2011_2016['SA2_MAINCODE_2011'], how = 'inner')"
   ]
  },
  {
   "cell_type": "code",
   "execution_count": 14,
   "metadata": {},
   "outputs": [
    {
     "data": {
      "text/html": [
       "<table border='1'>\n",
       "<tr><th>POA_CODE_2016</th><th>POA_NAME_2016</th><th>POA_CODE_2021</th><th>POA_NAME_2021</th></tr>\n",
       "<tr><td>0800</td><td>0800</td><td>0800</td><td>0800</td></tr>\n",
       "<tr><td>0810</td><td>0810</td><td>0810</td><td>0810</td></tr>\n",
       "<tr><td>0812</td><td>0812</td><td>0812</td><td>0812</td></tr>\n",
       "<tr><td>0815</td><td>0815</td><td>0810</td><td>0810</td></tr>\n",
       "<tr><td>0820</td><td>0820</td><td>0820</td><td>0820</td></tr>\n",
       "<tr><td>0822</td><td>0822</td><td>0837</td><td>0837</td></tr>\n",
       "<tr><td>0822</td><td>0822</td><td>0822</td><td>0822</td></tr>\n",
       "<tr><td>0828</td><td>0828</td><td>0828</td><td>0828</td></tr>\n",
       "<tr><td>0829</td><td>0829</td><td>0829</td><td>0829</td></tr>\n",
       "<tr><td>0830</td><td>0830</td><td>0830</td><td>0830</td></tr>\n",
       "<tr><td>0832</td><td>0832</td><td>0832</td><td>0832</td></tr>\n",
       "<tr><td>0834</td><td>0834</td><td>0834</td><td>0834</td></tr>\n",
       "<tr><td>0835</td><td>0835</td><td>0835</td><td>0835</td></tr>\n",
       "<tr><td>0836</td><td>0836</td><td>0836</td><td>0836</td></tr>\n",
       "<tr><td>0837</td><td>0837</td><td>0837</td><td>0837</td></tr>\n",
       "<tr><td>0838</td><td>0838</td><td>0838</td><td>0838</td></tr>\n",
       "<tr><td>0839</td><td>0839</td><td>0839</td><td>0839</td></tr>\n",
       "<tr><td>0840</td><td>0840</td><td>0840</td><td>0840</td></tr>\n",
       "<tr><td>0841</td><td>0841</td><td>0841</td><td>0841</td></tr>\n",
       "<tr><td>0845</td><td>0845</td><td>0845</td><td>0845</td></tr>\n",
       "</table>\n",
       "only showing top 20 rows\n"
      ],
      "text/plain": [
       "+-------------+-------------+-------------+-------------+\n",
       "|POA_CODE_2016|POA_NAME_2016|POA_CODE_2021|POA_NAME_2021|\n",
       "+-------------+-------------+-------------+-------------+\n",
       "|         0800|         0800|         0800|         0800|\n",
       "|         0810|         0810|         0810|         0810|\n",
       "|         0812|         0812|         0812|         0812|\n",
       "|         0815|         0815|         0810|         0810|\n",
       "|         0820|         0820|         0820|         0820|\n",
       "|         0822|         0822|         0837|         0837|\n",
       "|         0822|         0822|         0822|         0822|\n",
       "|         0828|         0828|         0828|         0828|\n",
       "|         0829|         0829|         0829|         0829|\n",
       "|         0830|         0830|         0830|         0830|\n",
       "|         0832|         0832|         0832|         0832|\n",
       "|         0834|         0834|         0834|         0834|\n",
       "|         0835|         0835|         0835|         0835|\n",
       "|         0836|         0836|         0836|         0836|\n",
       "|         0837|         0837|         0837|         0837|\n",
       "|         0838|         0838|         0838|         0838|\n",
       "|         0839|         0839|         0839|         0839|\n",
       "|         0840|         0840|         0840|         0840|\n",
       "|         0841|         0841|         0841|         0841|\n",
       "|         0845|         0845|         0845|         0845|\n",
       "+-------------+-------------+-------------+-------------+\n",
       "only showing top 20 rows"
      ]
     },
     "execution_count": 14,
     "metadata": {},
     "output_type": "execute_result"
    }
   ],
   "source": [
    "poa_2016_2021"
   ]
  },
  {
   "cell_type": "code",
   "execution_count": 15,
   "metadata": {},
   "outputs": [],
   "source": [
    "table = table.join(sa2_2016_2021, table['SA2_MAINCODE_2016'] == sa2_2016_2021['SA2_MAINCODE_2016'], how = 'inner')\n",
    "table = table.join(poa_2016_2021, table['POA_CODE_2016'] == poa_2016_2021['POA_CODE_2016'], how = 'inner')"
   ]
  },
  {
   "cell_type": "code",
   "execution_count": 16,
   "metadata": {},
   "outputs": [],
   "source": [
    "cols = ['POA_NAME_2011','POA_NAME_2016','POA_NAME_2021','POSTCODE.1','POSTCODE','POA_CODE_2016','']\n",
    "table = table.drop(*cols)"
   ]
  },
  {
   "cell_type": "code",
   "execution_count": 17,
   "metadata": {},
   "outputs": [],
   "source": [
    "table_new = table['POA_CODE_2021','SA2_CODE_2021','SA2_NAME_2021']"
   ]
  },
  {
   "cell_type": "code",
   "execution_count": 18,
   "metadata": {},
   "outputs": [],
   "source": [
    "distinct_df = table_new.distinct()"
   ]
  },
  {
   "cell_type": "code",
   "execution_count": 25,
   "metadata": {},
   "outputs": [
    {
     "name": "stderr",
     "output_type": "stream",
     "text": [
      "                                                                                \r"
     ]
    },
    {
     "data": {
      "text/html": [
       "<table border='1'>\n",
       "<tr><th>count(DISTINCT POA_CODE_2021)</th></tr>\n",
       "<tr><td>2638</td></tr>\n",
       "</table>\n"
      ],
      "text/plain": [
       "+-----------------------------+\n",
       "|count(DISTINCT POA_CODE_2021)|\n",
       "+-----------------------------+\n",
       "|                         2638|\n",
       "+-----------------------------+"
      ]
     },
     "execution_count": 25,
     "metadata": {},
     "output_type": "execute_result"
    }
   ],
   "source": [
    "from pyspark.sql.functions import countDistinct\n",
    "distinct_df.select(countDistinct(\"POA_CODE_2021\"))"
   ]
  },
  {
   "cell_type": "code",
   "execution_count": 22,
   "metadata": {},
   "outputs": [
    {
     "data": {
      "text/html": [
       "<table border='1'>\n",
       "<tr><th>POA_CODE_2021</th><th>SA2_CODE_2021</th><th>SA2_NAME_2021</th></tr>\n",
       "<tr><td>3000</td><td>206041508</td><td>Southbank (West) ...</td></tr>\n",
       "<tr><td>3000</td><td>206041125</td><td>South Yarra - West</td></tr>\n",
       "<tr><td>3000</td><td>206041505</td><td>Melbourne CBD - West</td></tr>\n",
       "<tr><td>3000</td><td>206041119</td><td>East Melbourne</td></tr>\n",
       "<tr><td>3000</td><td>206041503</td><td>Melbourne CBD - East</td></tr>\n",
       "<tr><td>3000</td><td>206041509</td><td>Southbank - East</td></tr>\n",
       "<tr><td>3000</td><td>206041504</td><td>Melbourne CBD - N...</td></tr>\n",
       "<tr><td>3000</td><td>206041510</td><td>West Melbourne - ...</td></tr>\n",
       "<tr><td>3000</td><td>206041117</td><td>Carlton</td></tr>\n",
       "<tr><td>3000</td><td>206041124</td><td>Parkville</td></tr>\n",
       "<tr><td>3000</td><td>206051514</td><td>St Kilda - West</td></tr>\n",
       "<tr><td>3000</td><td>206051513</td><td>St Kilda - Central</td></tr>\n",
       "<tr><td>3000</td><td>206041506</td><td>North Melbourne</td></tr>\n",
       "<tr><td>3000</td><td>206041507</td><td>Royal Botanic Gar...</td></tr>\n",
       "<tr><td>3000</td><td>206051512</td><td>South Melbourne</td></tr>\n",
       "<tr><td>3000</td><td>206051128</td><td>Albert Park</td></tr>\n",
       "<tr><td>3000</td><td>206051511</td><td>Port Melbourne In...</td></tr>\n",
       "</table>\n"
      ],
      "text/plain": [
       "+-------------+-------------+--------------------+\n",
       "|POA_CODE_2021|SA2_CODE_2021|       SA2_NAME_2021|\n",
       "+-------------+-------------+--------------------+\n",
       "|         3000|    206041508|Southbank (West) ...|\n",
       "|         3000|    206041125|  South Yarra - West|\n",
       "|         3000|    206041505|Melbourne CBD - West|\n",
       "|         3000|    206041119|      East Melbourne|\n",
       "|         3000|    206041503|Melbourne CBD - East|\n",
       "|         3000|    206041509|    Southbank - East|\n",
       "|         3000|    206041504|Melbourne CBD - N...|\n",
       "|         3000|    206041510|West Melbourne - ...|\n",
       "|         3000|    206041117|             Carlton|\n",
       "|         3000|    206041124|           Parkville|\n",
       "|         3000|    206051514|     St Kilda - West|\n",
       "|         3000|    206051513|  St Kilda - Central|\n",
       "|         3000|    206041506|     North Melbourne|\n",
       "|         3000|    206041507|Royal Botanic Gar...|\n",
       "|         3000|    206051512|     South Melbourne|\n",
       "|         3000|    206051128|         Albert Park|\n",
       "|         3000|    206051511|Port Melbourne In...|\n",
       "+-------------+-------------+--------------------+"
      ]
     },
     "execution_count": 22,
     "metadata": {},
     "output_type": "execute_result"
    }
   ],
   "source": [
    "distinct_df.where(distinct_df['POA_CODE_2021']==3000)"
   ]
  },
  {
   "cell_type": "code",
   "execution_count": 23,
   "metadata": {},
   "outputs": [],
   "source": [
    "distinct_df.write.mode('overwrite').option(\"header\",True).csv('../data/tables/postcode_SA2.csv')"
   ]
  },
  {
   "cell_type": "code",
   "execution_count": null,
   "metadata": {},
   "outputs": [
    {
     "data": {
      "text/html": [
       "<table border='1'>\n",
       "<tr><th>POA_CODE_2011</th><th>POA_NAME_2011</th><th>POA_CODE_2016</th><th>POA_NAME_2016</th><th>POSTCODE</th><th>POSTCODE.1</th><th>SA2_MAINCODE_2011</th><th>SA2_NAME_2011</th><th>SA2_MAINCODE_2011</th><th>SA2_NAME_2011</th><th>SA2_MAINCODE_2016</th><th>SA2_NAME_2016</th><th>SA2_MAINCODE_2016</th><th>SA2_NAME_2016</th><th>SA2_CODE_2021</th><th>SA2_NAME_2021</th><th>POA_CODE_2016</th><th>POA_NAME_2016</th><th>POA_CODE_2021</th><th>POA_NAME_2021</th></tr>\n",
       "<tr><td>2487</td><td>2487.0</td><td>2487.0</td><td>2487.0</td><td>2487</td><td>2487.0</td><td>112031250</td><td>Kingscliff - Fing...</td><td>112031250</td><td>Kingscliff - Fing...</td><td>112031250</td><td>Kingscliff - Fing...</td><td>112031250</td><td>Kingscliff - Fing...</td><td>112031250</td><td>Kingscliff - Fing...</td><td>2487</td><td>2487</td><td>2487</td><td>2487</td></tr>\n",
       "<tr><td>3052</td><td>3052.0</td><td>3050.0</td><td>3050.0</td><td>3052</td><td>3052.0</td><td>206041124</td><td>Parkville</td><td>206041124</td><td>Parkville</td><td>206041124</td><td>Parkville</td><td>206041124</td><td>Parkville</td><td>206041124</td><td>Parkville</td><td>3050</td><td>3050</td><td>3052</td><td>3052</td></tr>\n",
       "<tr><td>3052</td><td>3052.0</td><td>3052.0</td><td>3052.0</td><td>3052</td><td>3052.0</td><td>206041124</td><td>Parkville</td><td>206041124</td><td>Parkville</td><td>206041124</td><td>Parkville</td><td>206041124</td><td>Parkville</td><td>206041124</td><td>Parkville</td><td>3052</td><td>3052</td><td>3052</td><td>3052</td></tr>\n",
       "<tr><td>3000</td><td>3000.0</td><td>3000.0</td><td>3000.0</td><td>3000</td><td>3000.0</td><td>206041124</td><td>Parkville</td><td>206041124</td><td>Parkville</td><td>206041124</td><td>Parkville</td><td>206041124</td><td>Parkville</td><td>206041124</td><td>Parkville</td><td>3000</td><td>3000</td><td>3000</td><td>3000</td></tr>\n",
       "<tr><td>3000</td><td>3000.0</td><td>3053.0</td><td>3053.0</td><td>3000</td><td>3000.0</td><td>206041124</td><td>Parkville</td><td>206041124</td><td>Parkville</td><td>206041124</td><td>Parkville</td><td>206041124</td><td>Parkville</td><td>206041124</td><td>Parkville</td><td>3053</td><td>3053</td><td>3053</td><td>3053</td></tr>\n",
       "<tr><td>3010</td><td>3010.0</td><td>3010.0</td><td>3010.0</td><td>3010</td><td>3010.0</td><td>206041124</td><td>Parkville</td><td>206041124</td><td>Parkville</td><td>206041124</td><td>Parkville</td><td>206041124</td><td>Parkville</td><td>206041124</td><td>Parkville</td><td>3010</td><td>3010</td><td>3052</td><td>3052</td></tr>\n",
       "<tr><td>3758</td><td>3758.0</td><td>3758.0</td><td>3758.0</td><td>3758</td><td>3758.0</td><td>209041224</td><td>Wallan</td><td>209041224</td><td>Wallan</td><td>209041224</td><td>Wallan</td><td>209041224</td><td>Wallan</td><td>209041224</td><td>Wallan</td><td>3758</td><td>3758</td><td>3758</td><td>3758</td></tr>\n",
       "<tr><td>3758</td><td>3758.0</td><td>3762.0</td><td>3762.0</td><td>3758</td><td>3758.0</td><td>209041224</td><td>Wallan</td><td>209041224</td><td>Wallan</td><td>209041224</td><td>Wallan</td><td>209041224</td><td>Wallan</td><td>209041224</td><td>Wallan</td><td>3762</td><td>3762</td><td>3762</td><td>3762</td></tr>\n",
       "<tr><td>3658</td><td>3658.0</td><td>3658.0</td><td>3658.0</td><td>3658</td><td>3658.0</td><td>209041224</td><td>Wallan</td><td>209041224</td><td>Wallan</td><td>209041224</td><td>Wallan</td><td>209041224</td><td>Wallan</td><td>209041224</td><td>Wallan</td><td>3658</td><td>3658</td><td>3658</td><td>3658</td></tr>\n",
       "<tr><td>3658</td><td>3658.0</td><td>3658.0</td><td>3658.0</td><td>3658</td><td>3658.0</td><td>209041224</td><td>Wallan</td><td>209041224</td><td>Wallan</td><td>209041224</td><td>Wallan</td><td>209041224</td><td>Wallan</td><td>209041224</td><td>Wallan</td><td>3658</td><td>3658</td><td>3717</td><td>3717</td></tr>\n",
       "<tr><td>3658</td><td>3658.0</td><td>3660.0</td><td>3660.0</td><td>3658</td><td>3658.0</td><td>209041224</td><td>Wallan</td><td>209041224</td><td>Wallan</td><td>209041224</td><td>Wallan</td><td>209041224</td><td>Wallan</td><td>209041224</td><td>Wallan</td><td>3660</td><td>3660</td><td>3660</td><td>3660</td></tr>\n",
       "<tr><td>3658</td><td>3658.0</td><td>3717.0</td><td>3717.0</td><td>3658</td><td>3658.0</td><td>209041224</td><td>Wallan</td><td>209041224</td><td>Wallan</td><td>209041224</td><td>Wallan</td><td>209041224</td><td>Wallan</td><td>209041224</td><td>Wallan</td><td>3717</td><td>3717</td><td>3717</td><td>3717</td></tr>\n",
       "<tr><td>3658</td><td>3658.0</td><td>3758.0</td><td>3758.0</td><td>3658</td><td>3658.0</td><td>209041224</td><td>Wallan</td><td>209041224</td><td>Wallan</td><td>209041224</td><td>Wallan</td><td>209041224</td><td>Wallan</td><td>209041224</td><td>Wallan</td><td>3758</td><td>3758</td><td>3758</td><td>3758</td></tr>\n",
       "<tr><td>3658</td><td>3658.0</td><td>3764.0</td><td>3764.0</td><td>3658</td><td>3658.0</td><td>209041224</td><td>Wallan</td><td>209041224</td><td>Wallan</td><td>209041224</td><td>Wallan</td><td>209041224</td><td>Wallan</td><td>209041224</td><td>Wallan</td><td>3764</td><td>3764</td><td>3764</td><td>3764</td></tr>\n",
       "<tr><td>3756</td><td>3756.0</td><td>3753.0</td><td>3753.0</td><td>3756</td><td>3756.0</td><td>209041224</td><td>Wallan</td><td>209041224</td><td>Wallan</td><td>209041224</td><td>Wallan</td><td>209041224</td><td>Wallan</td><td>209041224</td><td>Wallan</td><td>3753</td><td>3753</td><td>3753</td><td>3753</td></tr>\n",
       "<tr><td>3756</td><td>3756.0</td><td>3756.0</td><td>3756.0</td><td>3756</td><td>3756.0</td><td>209041224</td><td>Wallan</td><td>209041224</td><td>Wallan</td><td>209041224</td><td>Wallan</td><td>209041224</td><td>Wallan</td><td>209041224</td><td>Wallan</td><td>3756</td><td>3756</td><td>3756</td><td>3756</td></tr>\n",
       "<tr><td>3753</td><td>3753.0</td><td>3753.0</td><td>3753.0</td><td>3753</td><td>3753.0</td><td>209041224</td><td>Wallan</td><td>209041224</td><td>Wallan</td><td>209041224</td><td>Wallan</td><td>209041224</td><td>Wallan</td><td>209041224</td><td>Wallan</td><td>3753</td><td>3753</td><td>3753</td><td>3753</td></tr>\n",
       "<tr><td>3764</td><td>3764.0</td><td>3764.0</td><td>3764.0</td><td>3764</td><td>3764.0</td><td>210021235</td><td>Romsey</td><td>210021235</td><td>Romsey</td><td>210021235</td><td>Romsey</td><td>210021235</td><td>Romsey</td><td>210021235</td><td>Romsey</td><td>3764</td><td>3764</td><td>3764</td><td>3764</td></tr>\n",
       "<tr><td>3433</td><td>3433.0</td><td>3433.0</td><td>3433.0</td><td>3433</td><td>3433.0</td><td>210021235</td><td>Romsey</td><td>210021235</td><td>Romsey</td><td>210021235</td><td>Romsey</td><td>210021235</td><td>Romsey</td><td>210021235</td><td>Romsey</td><td>3433</td><td>3433</td><td>3433</td><td>3433</td></tr>\n",
       "<tr><td>3433</td><td>3433.0</td><td>3756.0</td><td>3756.0</td><td>3433</td><td>3433.0</td><td>210021235</td><td>Romsey</td><td>210021235</td><td>Romsey</td><td>210021235</td><td>Romsey</td><td>210021235</td><td>Romsey</td><td>210021235</td><td>Romsey</td><td>3756</td><td>3756</td><td>3756</td><td>3756</td></tr>\n",
       "</table>\n",
       "only showing top 20 rows\n"
      ],
      "text/plain": [
       "+-------------+-------------+-------------+-------------+--------+----------+-----------------+--------------------+-----------------+--------------------+-----------------+--------------------+-----------------+--------------------+-------------+--------------------+-------------+-------------+-------------+-------------+\n",
       "|POA_CODE_2011|POA_NAME_2011|POA_CODE_2016|POA_NAME_2016|POSTCODE|POSTCODE.1|SA2_MAINCODE_2011|       SA2_NAME_2011|SA2_MAINCODE_2011|       SA2_NAME_2011|SA2_MAINCODE_2016|       SA2_NAME_2016|SA2_MAINCODE_2016|       SA2_NAME_2016|SA2_CODE_2021|       SA2_NAME_2021|POA_CODE_2016|POA_NAME_2016|POA_CODE_2021|POA_NAME_2021|\n",
       "+-------------+-------------+-------------+-------------+--------+----------+-----------------+--------------------+-----------------+--------------------+-----------------+--------------------+-----------------+--------------------+-------------+--------------------+-------------+-------------+-------------+-------------+\n",
       "|         2487|       2487.0|       2487.0|       2487.0|    2487|    2487.0|        112031250|Kingscliff - Fing...|        112031250|Kingscliff - Fing...|        112031250|Kingscliff - Fing...|        112031250|Kingscliff - Fing...|    112031250|Kingscliff - Fing...|         2487|         2487|         2487|         2487|\n",
       "|         3052|       3052.0|       3050.0|       3050.0|    3052|    3052.0|        206041124|           Parkville|        206041124|           Parkville|        206041124|           Parkville|        206041124|           Parkville|    206041124|           Parkville|         3050|         3050|         3052|         3052|\n",
       "|         3052|       3052.0|       3052.0|       3052.0|    3052|    3052.0|        206041124|           Parkville|        206041124|           Parkville|        206041124|           Parkville|        206041124|           Parkville|    206041124|           Parkville|         3052|         3052|         3052|         3052|\n",
       "|         3000|       3000.0|       3000.0|       3000.0|    3000|    3000.0|        206041124|           Parkville|        206041124|           Parkville|        206041124|           Parkville|        206041124|           Parkville|    206041124|           Parkville|         3000|         3000|         3000|         3000|\n",
       "|         3000|       3000.0|       3053.0|       3053.0|    3000|    3000.0|        206041124|           Parkville|        206041124|           Parkville|        206041124|           Parkville|        206041124|           Parkville|    206041124|           Parkville|         3053|         3053|         3053|         3053|\n",
       "|         3010|       3010.0|       3010.0|       3010.0|    3010|    3010.0|        206041124|           Parkville|        206041124|           Parkville|        206041124|           Parkville|        206041124|           Parkville|    206041124|           Parkville|         3010|         3010|         3052|         3052|\n",
       "|         3758|       3758.0|       3758.0|       3758.0|    3758|    3758.0|        209041224|              Wallan|        209041224|              Wallan|        209041224|              Wallan|        209041224|              Wallan|    209041224|              Wallan|         3758|         3758|         3758|         3758|\n",
       "|         3758|       3758.0|       3762.0|       3762.0|    3758|    3758.0|        209041224|              Wallan|        209041224|              Wallan|        209041224|              Wallan|        209041224|              Wallan|    209041224|              Wallan|         3762|         3762|         3762|         3762|\n",
       "|         3658|       3658.0|       3658.0|       3658.0|    3658|    3658.0|        209041224|              Wallan|        209041224|              Wallan|        209041224|              Wallan|        209041224|              Wallan|    209041224|              Wallan|         3658|         3658|         3658|         3658|\n",
       "|         3658|       3658.0|       3658.0|       3658.0|    3658|    3658.0|        209041224|              Wallan|        209041224|              Wallan|        209041224|              Wallan|        209041224|              Wallan|    209041224|              Wallan|         3658|         3658|         3717|         3717|\n",
       "|         3658|       3658.0|       3660.0|       3660.0|    3658|    3658.0|        209041224|              Wallan|        209041224|              Wallan|        209041224|              Wallan|        209041224|              Wallan|    209041224|              Wallan|         3660|         3660|         3660|         3660|\n",
       "|         3658|       3658.0|       3717.0|       3717.0|    3658|    3658.0|        209041224|              Wallan|        209041224|              Wallan|        209041224|              Wallan|        209041224|              Wallan|    209041224|              Wallan|         3717|         3717|         3717|         3717|\n",
       "|         3658|       3658.0|       3758.0|       3758.0|    3658|    3658.0|        209041224|              Wallan|        209041224|              Wallan|        209041224|              Wallan|        209041224|              Wallan|    209041224|              Wallan|         3758|         3758|         3758|         3758|\n",
       "|         3658|       3658.0|       3764.0|       3764.0|    3658|    3658.0|        209041224|              Wallan|        209041224|              Wallan|        209041224|              Wallan|        209041224|              Wallan|    209041224|              Wallan|         3764|         3764|         3764|         3764|\n",
       "|         3756|       3756.0|       3753.0|       3753.0|    3756|    3756.0|        209041224|              Wallan|        209041224|              Wallan|        209041224|              Wallan|        209041224|              Wallan|    209041224|              Wallan|         3753|         3753|         3753|         3753|\n",
       "|         3756|       3756.0|       3756.0|       3756.0|    3756|    3756.0|        209041224|              Wallan|        209041224|              Wallan|        209041224|              Wallan|        209041224|              Wallan|    209041224|              Wallan|         3756|         3756|         3756|         3756|\n",
       "|         3753|       3753.0|       3753.0|       3753.0|    3753|    3753.0|        209041224|              Wallan|        209041224|              Wallan|        209041224|              Wallan|        209041224|              Wallan|    209041224|              Wallan|         3753|         3753|         3753|         3753|\n",
       "|         3764|       3764.0|       3764.0|       3764.0|    3764|    3764.0|        210021235|              Romsey|        210021235|              Romsey|        210021235|              Romsey|        210021235|              Romsey|    210021235|              Romsey|         3764|         3764|         3764|         3764|\n",
       "|         3433|       3433.0|       3433.0|       3433.0|    3433|    3433.0|        210021235|              Romsey|        210021235|              Romsey|        210021235|              Romsey|        210021235|              Romsey|    210021235|              Romsey|         3433|         3433|         3433|         3433|\n",
       "|         3433|       3433.0|       3756.0|       3756.0|    3433|    3433.0|        210021235|              Romsey|        210021235|              Romsey|        210021235|              Romsey|        210021235|              Romsey|    210021235|              Romsey|         3756|         3756|         3756|         3756|\n",
       "+-------------+-------------+-------------+-------------+--------+----------+-----------------+--------------------+-----------------+--------------------+-----------------+--------------------+-----------------+--------------------+-------------+--------------------+-------------+-------------+-------------+-------------+\n",
       "only showing top 20 rows"
      ]
     },
     "execution_count": 147,
     "metadata": {},
     "output_type": "execute_result"
    }
   ],
   "source": [
    "# remove some columns\n"
   ]
  }
 ],
 "metadata": {
  "kernelspec": {
   "display_name": "Python 3.10.4 64-bit",
   "language": "python",
   "name": "python3"
  },
  "language_info": {
   "codemirror_mode": {
    "name": "ipython",
    "version": 3
   },
   "file_extension": ".py",
   "mimetype": "text/x-python",
   "name": "python",
   "nbconvert_exporter": "python",
   "pygments_lexer": "ipython3",
   "version": "3.10.4"
  },
  "orig_nbformat": 4,
  "vscode": {
   "interpreter": {
    "hash": "916dbcbb3f70747c44a77c7bcd40155683ae19c65e1c03b4aa3499c5328201f1"
   }
  }
 },
 "nbformat": 4,
 "nbformat_minor": 2
}
