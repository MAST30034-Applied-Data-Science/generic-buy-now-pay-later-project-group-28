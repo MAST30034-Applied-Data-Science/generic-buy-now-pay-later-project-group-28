{
 "cells": [
  {
   "cell_type": "code",
   "execution_count": 2,
   "metadata": {},
   "outputs": [
    {
     "name": "stderr",
     "output_type": "stream",
     "text": [
      "22/10/03 06:59:29 WARN Utils: Your hostname, Rudyletsgo resolves to a loopback address: 127.0.1.1; using 172.30.250.116 instead (on interface eth0)\n",
      "22/10/03 06:59:29 WARN Utils: Set SPARK_LOCAL_IP if you need to bind to another address\n",
      "WARNING: An illegal reflective access operation has occurred\n",
      "WARNING: Illegal reflective access by org.apache.spark.unsafe.Platform (file:/home/jiaruiq/miniconda3/envs/ads/lib/python3.8/site-packages/pyspark/jars/spark-unsafe_2.12-3.1.2.jar) to constructor java.nio.DirectByteBuffer(long,int)\n",
      "WARNING: Please consider reporting this to the maintainers of org.apache.spark.unsafe.Platform\n",
      "WARNING: Use --illegal-access=warn to enable warnings of further illegal reflective access operations\n",
      "WARNING: All illegal access operations will be denied in a future release\n",
      "22/10/03 06:59:31 WARN NativeCodeLoader: Unable to load native-hadoop library for your platform... using builtin-java classes where applicable\n",
      "Using Spark's default log4j profile: org/apache/spark/log4j-defaults.properties\n",
      "Setting default log level to \"WARN\".\n",
      "To adjust logging level use sc.setLogLevel(newLevel). For SparkR, use setLogLevel(newLevel).\n",
      "22/10/03 06:59:31 WARN Utils: Service 'SparkUI' could not bind on port 4040. Attempting port 4041.\n"
     ]
    }
   ],
   "source": [
    "import pandas as pd\n",
    "\n",
    "#import spark\n",
    "from pyspark.sql import SparkSession\n",
    "# Create a spark session (which will run spark jobs)\n",
    "spark = (\n",
    "    SparkSession.builder.appName(\"MAST30034 ass2 BNPL group 28\")\n",
    "    .config(\"spark.sql.repl.eagerEval.enabled\", True) \n",
    "    .config(\"spark.sql.parquet.cacheMetadata\", \"true\")\n",
    "    .config(\"spark.sql.session.timeZone\", \"Etc/UTC\")\n",
    "    .getOrCreate()\n",
    ")"
   ]
  },
  {
   "cell_type": "code",
   "execution_count": 3,
   "metadata": {},
   "outputs": [
    {
     "name": "stderr",
     "output_type": "stream",
     "text": [
      "                                                                                \r"
     ]
    }
   ],
   "source": [
    "## read the merchant data\n",
    "merchant_info = spark.read.options(header = True).csv('../data/curated/merchant_info.csv')\n",
    "merchant_info = merchant_info.toPandas()\n",
    "\n",
    "## convert dataset columns into fesible types\n",
    "merchant_info[['transaction_count', 'take_rate', 'total_revenue', 'mean_consumer_income', 'fraud_count', 'main_business_area_popu']] \\\n",
    "    = merchant_info[['transaction_count', 'take_rate', 'total_revenue', 'mean_consumer_income', 'fraud_count', 'main_business_area_popu']].apply(pd.to_numeric)"
   ]
  },
  {
   "cell_type": "code",
   "execution_count": 4,
   "metadata": {},
   "outputs": [
    {
     "data": {
      "text/plain": [
       "['merchant_abn',\n",
       " 'transaction_count',\n",
       " 'field',\n",
       " 'take_rate',\n",
       " 'revenue_level',\n",
       " 'total_revenue',\n",
       " 'mean_consumer_income',\n",
       " 'fraud_count',\n",
       " 'main_business_area_popu']"
      ]
     },
     "execution_count": 4,
     "metadata": {},
     "output_type": "execute_result"
    }
   ],
   "source": [
    "list(merchant_info.keys())"
   ]
  },
  {
   "cell_type": "markdown",
   "metadata": {},
   "source": [
    "### Create score criteria(standard version)"
   ]
  },
  {
   "cell_type": "code",
   "execution_count": 5,
   "metadata": {},
   "outputs": [],
   "source": [
    "## Manually set the score criteria, could be changed later.\n",
    "score_criteria = { \\\n",
    "    'transaction_count': {'a':4, 'b': 3, 'c': 2, 'd': 1, 'e': 0}, \\\n",
    "        'take_rate': {'a':4, 'b': 3, 'c': 2, 'd': 1, 'e': 0}, \\\n",
    "            'revenue_level': {'a':0, 'b': 1, 'c': 2, 'd': 3, 'e': 4}, \\\n",
    "                'total_revenue': {'a':4, 'b': 3, 'c': 2, 'd': 1, 'e': 0}, \\\n",
    "                    'mean_consumer_income': {'a':4, 'b': 3, 'c': 2, 'd': 1, 'e': 0}, \\\n",
    "                        'fraud_count': {'a':0, 'b': 0, 'c': 0, 'd': 0, 'e': 0}, \\\n",
    "                            'main_business_area_popu': {'a':4, 'b': 3, 'c': 2, 'd': 1, 'e': 0}}"
   ]
  },
  {
   "cell_type": "code",
   "execution_count": 6,
   "metadata": {},
   "outputs": [],
   "source": [
    "## store all numeric features into list for use in both Algorithms\n",
    "featrue_name = list(merchant_info.keys())\n",
    "featrue_name.remove('merchant_abn')\n",
    "featrue_name.remove('field')"
   ]
  },
  {
   "cell_type": "code",
   "execution_count": 7,
   "metadata": {},
   "outputs": [
    {
     "data": {
      "text/plain": [
       "{'transaction_count': {'a': 4, 'b': 3, 'c': 2, 'd': 1, 'e': 0},\n",
       " 'take_rate': {'a': 4, 'b': 3, 'c': 2, 'd': 1, 'e': 0},\n",
       " 'revenue_level': {'a': 0, 'b': 1, 'c': 2, 'd': 3, 'e': 4},\n",
       " 'total_revenue': {'a': 4, 'b': 3, 'c': 2, 'd': 1, 'e': 0},\n",
       " 'mean_consumer_income': {'a': 4, 'b': 3, 'c': 2, 'd': 1, 'e': 0},\n",
       " 'fraud_count': {'a': 0, 'b': 0, 'c': 0, 'd': 0, 'e': 0},\n",
       " 'main_business_area_popu': {'a': 4, 'b': 3, 'c': 2, 'd': 1, 'e': 0}}"
      ]
     },
     "execution_count": 7,
     "metadata": {},
     "output_type": "execute_result"
    }
   ],
   "source": [
    "score_criteria"
   ]
  },
  {
   "cell_type": "markdown",
   "metadata": {},
   "source": [
    "## Mark Algorithm"
   ]
  },
  {
   "cell_type": "code",
   "execution_count": 8,
   "metadata": {},
   "outputs": [],
   "source": [
    "## Function used to assign continuous features into level (a,b,c,d,e) based on current merchant infomation\n",
    "## merchant_info (a pd.DataFrame) is the current merchant information that are considered in our ranking system\n",
    "## feature (a string) is the numeric feature we are working on\n",
    "## score_criteria (a dict of dict) is the score criteria we are using for marking different features.\n",
    "\n",
    "def mark_algorithm(merchant_info, feature, score_criteria):\n",
    "\n",
    "    label_list = []\n",
    "    score_list = []\n",
    "\n",
    "    ## in each run of the ranking system, each numeric column is allocated with a level in (a,b,c,d,e)\n",
    "    ## according to the overall quantile statistic of the feature column we are working on\n",
    "    ab = merchant_info[feature].quantile(0.8)\n",
    "    bc = merchant_info[feature].quantile(0.6)\n",
    "    cd = merchant_info[feature].quantile(0.4)\n",
    "    de = merchant_info[feature].quantile(0.2)\n",
    "    \n",
    "    for i in range(len(merchant_info)):\n",
    "        if merchant_info.loc[i, feature] >= ab:\n",
    "            label_list.append('a')\n",
    "        elif (merchant_info.loc[i, feature] >= bc) & (merchant_info.loc[i, feature] < ab):\n",
    "            label_list.append('b')\n",
    "        elif (merchant_info.loc[i, feature] >= cd) & (merchant_info.loc[i, feature] < bc):\n",
    "            label_list.append('c')\n",
    "        elif (merchant_info.loc[i, feature] >= de) & (merchant_info.loc[i, feature] < cd):\n",
    "            label_list.append('d')\n",
    "        elif merchant_info.loc[i, feature] < de:\n",
    "            label_list.append('e')\n",
    "\n",
    "    ## mark each entry of this feature column according to the score_criteria given.\n",
    "    for j in label_list:\n",
    "        score_list.append(score_criteria[feature][j])\n",
    "\n",
    "    return score_list"
   ]
  },
  {
   "cell_type": "markdown",
   "metadata": {},
   "source": [
    "## Rank Algorithm"
   ]
  },
  {
   "cell_type": "code",
   "execution_count": 9,
   "metadata": {},
   "outputs": [],
   "source": [
    "## Function used to rank mechant iteratively and then find the top 10 merchants to collaborate.\n",
    "\n",
    "## merchant_info (a pd.DataFrame) is the current merchant information that are considered in our ranking system\n",
    "## feature (a string) is the numeric feature we are working on\n",
    "## score_criteria (a dict of dict) is the score criteria we are using for marking different features.\n",
    "## remove_rate (a positive float {0,1}) is the rate to remove merchants classified as poor choice\n",
    "## top_n (a positive integer) is the number of merchant to be recommended.\n",
    "\n",
    "## Note: the lower the remove_rate, the higher the accuracy but also the longer the waiting time. (too low may cause overfitting)\n",
    "\n",
    "def rank_algorithm(merchant_info, feature_name, score_criteria, remove_rate, top_n):\n",
    "    # Stop when we find the asked number of merchants as recommendation\n",
    "    while (len(merchant_info) > top_n) & (len(merchant_info) * (1-remove_rate) > top_n):\n",
    "        # In each run, set the score of all merchant to zero as a fresh analysis\n",
    "        merchant_info['score'] = 0\n",
    "\n",
    "        # The main part of our rank system to mark and sum scores of all feature columns \n",
    "        for feature in feature_name:\n",
    "            if feature == 'revenue_level':\n",
    "                for i in range(len(merchant_info)):\n",
    "                    merchant_info.loc[i, 'score'] += score_criteria[feature][merchant_info.loc[i, feature]]\n",
    "            else:\n",
    "                # use of mark algorthm\n",
    "                merchant_info['score'] += mark_algorithm(merchant_info, feature, score_criteria)\n",
    "\n",
    "        # sort all merchants by their total score        \n",
    "        merchant_info = merchant_info.sort_values(by=['score'], ascending=False).reset_index(drop=True)\n",
    "        # remove a percentage number of merchants having the lowest score (according to remove_rate given)\n",
    "        merchant_info = merchant_info.drop(merchant_info.tail(int(len(merchant_info) * remove_rate)).index)\n",
    "        # remove the score column after sorting and dropping merchants. (keep data integrity for next run of this algorithm)\n",
    "        merchant_info = merchant_info.drop(['score'], axis=1)\n",
    "        \n",
    "        # if the stop criteria is not met, keep running to remove merchants that are less likely to be beneficial.\n",
    "        return rank_algorithm(merchant_info, feature_name, score_criteria, remove_rate, top_n)\n",
    "    \n",
    "    # Show the top n merchants once stop criteria are met.\n",
    "    return merchant_info.head(top_n)"
   ]
  },
  {
   "cell_type": "code",
   "execution_count": 10,
   "metadata": {},
   "outputs": [],
   "source": [
    "## Run Run Run!!!!!!!!!!\n",
    "top_n_merchant = rank_algorithm(merchant_info, featrue_name, score_criteria, 0.1, 100)"
   ]
  },
  {
   "cell_type": "code",
   "execution_count": 11,
   "metadata": {},
   "outputs": [
    {
     "data": {
      "text/html": [
       "<div>\n",
       "<style scoped>\n",
       "    .dataframe tbody tr th:only-of-type {\n",
       "        vertical-align: middle;\n",
       "    }\n",
       "\n",
       "    .dataframe tbody tr th {\n",
       "        vertical-align: top;\n",
       "    }\n",
       "\n",
       "    .dataframe thead th {\n",
       "        text-align: right;\n",
       "    }\n",
       "</style>\n",
       "<table border=\"1\" class=\"dataframe\">\n",
       "  <thead>\n",
       "    <tr style=\"text-align: right;\">\n",
       "      <th></th>\n",
       "      <th>merchant_abn</th>\n",
       "      <th>transaction_count</th>\n",
       "      <th>field</th>\n",
       "      <th>take_rate</th>\n",
       "      <th>revenue_level</th>\n",
       "      <th>total_revenue</th>\n",
       "      <th>mean_consumer_income</th>\n",
       "      <th>fraud_count</th>\n",
       "      <th>main_business_area_popu</th>\n",
       "    </tr>\n",
       "  </thead>\n",
       "  <tbody>\n",
       "    <tr>\n",
       "      <th>0</th>\n",
       "      <td>32361057556</td>\n",
       "      <td>74770</td>\n",
       "      <td>gift, card, novelty, and souvenir shops</td>\n",
       "      <td>6.61</td>\n",
       "      <td>a</td>\n",
       "      <td>8218143.78</td>\n",
       "      <td>827.606967</td>\n",
       "      <td>18</td>\n",
       "      <td>273854</td>\n",
       "    </tr>\n",
       "    <tr>\n",
       "      <th>1</th>\n",
       "      <td>45629217853</td>\n",
       "      <td>198936</td>\n",
       "      <td>gift, card, novelty, and souvenir shops</td>\n",
       "      <td>6.98</td>\n",
       "      <td>a</td>\n",
       "      <td>7325106.13</td>\n",
       "      <td>824.636026</td>\n",
       "      <td>43</td>\n",
       "      <td>261909</td>\n",
       "    </tr>\n",
       "    <tr>\n",
       "      <th>2</th>\n",
       "      <td>52160665475</td>\n",
       "      <td>12085</td>\n",
       "      <td>digital goods: books, movies, music</td>\n",
       "      <td>6.88</td>\n",
       "      <td>a</td>\n",
       "      <td>1062228.07</td>\n",
       "      <td>840.583128</td>\n",
       "      <td>3</td>\n",
       "      <td>466414</td>\n",
       "    </tr>\n",
       "    <tr>\n",
       "      <th>3</th>\n",
       "      <td>64403598239</td>\n",
       "      <td>98928</td>\n",
       "      <td>music shops - musical instruments, pianos, and...</td>\n",
       "      <td>6.31</td>\n",
       "      <td>a</td>\n",
       "      <td>7726723.97</td>\n",
       "      <td>830.016924</td>\n",
       "      <td>19</td>\n",
       "      <td>225034</td>\n",
       "    </tr>\n",
       "    <tr>\n",
       "      <th>4</th>\n",
       "      <td>89726005175</td>\n",
       "      <td>188223</td>\n",
       "      <td>tent and awning shops</td>\n",
       "      <td>6.01</td>\n",
       "      <td>a</td>\n",
       "      <td>7764006.97</td>\n",
       "      <td>824.330699</td>\n",
       "      <td>37</td>\n",
       "      <td>350738</td>\n",
       "    </tr>\n",
       "    <tr>\n",
       "      <th>...</th>\n",
       "      <td>...</td>\n",
       "      <td>...</td>\n",
       "      <td>...</td>\n",
       "      <td>...</td>\n",
       "      <td>...</td>\n",
       "      <td>...</td>\n",
       "      <td>...</td>\n",
       "      <td>...</td>\n",
       "      <td>...</td>\n",
       "    </tr>\n",
       "    <tr>\n",
       "      <th>95</th>\n",
       "      <td>31595398112</td>\n",
       "      <td>63</td>\n",
       "      <td>computers, computer peripheral equipment, and ...</td>\n",
       "      <td>4.77</td>\n",
       "      <td>b</td>\n",
       "      <td>25833.15</td>\n",
       "      <td>1082.985717</td>\n",
       "      <td>0</td>\n",
       "      <td>486076</td>\n",
       "    </tr>\n",
       "    <tr>\n",
       "      <th>96</th>\n",
       "      <td>75265429612</td>\n",
       "      <td>16</td>\n",
       "      <td>jewelry, watch, clock, and silverware shops</td>\n",
       "      <td>4.92</td>\n",
       "      <td>b</td>\n",
       "      <td>156113.21</td>\n",
       "      <td>1942.700001</td>\n",
       "      <td>4</td>\n",
       "      <td>624063</td>\n",
       "    </tr>\n",
       "    <tr>\n",
       "      <th>97</th>\n",
       "      <td>24769745549</td>\n",
       "      <td>1473</td>\n",
       "      <td>gift, card, novelty, and souvenir shops</td>\n",
       "      <td>5.95</td>\n",
       "      <td>a</td>\n",
       "      <td>135085.93</td>\n",
       "      <td>860.429736</td>\n",
       "      <td>1</td>\n",
       "      <td>511134</td>\n",
       "    </tr>\n",
       "    <tr>\n",
       "      <th>98</th>\n",
       "      <td>25732256442</td>\n",
       "      <td>12052</td>\n",
       "      <td>books, periodicals, and newspapers</td>\n",
       "      <td>5.79</td>\n",
       "      <td>a</td>\n",
       "      <td>2937455.40</td>\n",
       "      <td>841.445461</td>\n",
       "      <td>4</td>\n",
       "      <td>261921</td>\n",
       "    </tr>\n",
       "    <tr>\n",
       "      <th>99</th>\n",
       "      <td>92980848589</td>\n",
       "      <td>1988</td>\n",
       "      <td>books, periodicals, and newspapers</td>\n",
       "      <td>6.86</td>\n",
       "      <td>a</td>\n",
       "      <td>639574.31</td>\n",
       "      <td>860.345674</td>\n",
       "      <td>2</td>\n",
       "      <td>215612</td>\n",
       "    </tr>\n",
       "  </tbody>\n",
       "</table>\n",
       "<p>100 rows × 9 columns</p>\n",
       "</div>"
      ],
      "text/plain": [
       "   merchant_abn  transaction_count  \\\n",
       "0   32361057556              74770   \n",
       "1   45629217853             198936   \n",
       "2   52160665475              12085   \n",
       "3   64403598239              98928   \n",
       "4   89726005175             188223   \n",
       "..          ...                ...   \n",
       "95  31595398112                 63   \n",
       "96  75265429612                 16   \n",
       "97  24769745549               1473   \n",
       "98  25732256442              12052   \n",
       "99  92980848589               1988   \n",
       "\n",
       "                                                field  take_rate  \\\n",
       "0             gift, card, novelty, and souvenir shops       6.61   \n",
       "1             gift, card, novelty, and souvenir shops       6.98   \n",
       "2                 digital goods: books, movies, music       6.88   \n",
       "3   music shops - musical instruments, pianos, and...       6.31   \n",
       "4                               tent and awning shops       6.01   \n",
       "..                                                ...        ...   \n",
       "95  computers, computer peripheral equipment, and ...       4.77   \n",
       "96        jewelry, watch, clock, and silverware shops       4.92   \n",
       "97            gift, card, novelty, and souvenir shops       5.95   \n",
       "98                 books, periodicals, and newspapers       5.79   \n",
       "99                 books, periodicals, and newspapers       6.86   \n",
       "\n",
       "   revenue_level  total_revenue  mean_consumer_income  fraud_count  \\\n",
       "0              a     8218143.78            827.606967           18   \n",
       "1              a     7325106.13            824.636026           43   \n",
       "2              a     1062228.07            840.583128            3   \n",
       "3              a     7726723.97            830.016924           19   \n",
       "4              a     7764006.97            824.330699           37   \n",
       "..           ...            ...                   ...          ...   \n",
       "95             b       25833.15           1082.985717            0   \n",
       "96             b      156113.21           1942.700001            4   \n",
       "97             a      135085.93            860.429736            1   \n",
       "98             a     2937455.40            841.445461            4   \n",
       "99             a      639574.31            860.345674            2   \n",
       "\n",
       "    main_business_area_popu  \n",
       "0                    273854  \n",
       "1                    261909  \n",
       "2                    466414  \n",
       "3                    225034  \n",
       "4                    350738  \n",
       "..                      ...  \n",
       "95                   486076  \n",
       "96                   624063  \n",
       "97                   511134  \n",
       "98                   261921  \n",
       "99                   215612  \n",
       "\n",
       "[100 rows x 9 columns]"
      ]
     },
     "execution_count": 11,
     "metadata": {},
     "output_type": "execute_result"
    }
   ],
   "source": [
    "top_n_merchant"
   ]
  },
  {
   "cell_type": "markdown",
   "metadata": {},
   "source": [
    "## Prepare the segment merchant data for ranking\n",
    "### Three selected segments are \"tent and awning shops\", \"telecom\" and \"shoe shops\""
   ]
  },
  {
   "cell_type": "code",
   "execution_count": 15,
   "metadata": {},
   "outputs": [],
   "source": [
    "merchant_tents = merchant_info.where(merchant_info.field == \"tent and awning shops\")\n",
    "merchant_jewl = merchant_info.where(merchant_info.field == \"jewelry, watch, clock, and silverware shops\")\n",
    "merchant_shoe = merchant_info.where(merchant_info.field == \"shoe shops\")"
   ]
  },
  {
   "cell_type": "markdown",
   "metadata": {},
   "source": [
    "## Design a score criteria with high priority on take rate\n",
    "### specifically for the segment jewlery"
   ]
  },
  {
   "cell_type": "markdown",
   "metadata": {},
   "source": [
    "### Buiness rule\n",
    "No.1: Merchant care more about the consumption ability of their target customers (High mean income & low population > low income & large population )\n",
    "\n",
    "No.2: The BNPL company tends to select the merchants allow them to earn more (High take rate is prefered)\n",
    "\n",
    "No.3: Combined with No.2, the BNPL company like the merchant has frequent transactions (Large transactions count is prefered)\n",
    "\n",
    "No.3 alternative: BNPL company may like the merchant has large total revenue \n",
    "\n",
    "No.4: Large penalty on fraud probability as this segment is related to luxury goods"
   ]
  },
  {
   "cell_type": "code",
   "execution_count": 13,
   "metadata": {},
   "outputs": [],
   "source": [
    "# Check"
   ]
  },
  {
   "cell_type": "code",
   "execution_count": null,
   "metadata": {},
   "outputs": [],
   "source": []
  },
  {
   "cell_type": "code",
   "execution_count": null,
   "metadata": {},
   "outputs": [],
   "source": []
  },
  {
   "cell_type": "code",
   "execution_count": null,
   "metadata": {},
   "outputs": [],
   "source": []
  },
  {
   "cell_type": "markdown",
   "metadata": {},
   "source": [
    "### specifically for the segment shoe shops"
   ]
  },
  {
   "cell_type": "markdown",
   "metadata": {},
   "source": [
    "No.1: Merchant care more about the numbers of potential customers (low mean income & large population > High income & small population )\n",
    "\n",
    "No.2: The BNPL company tends to select the merchants considered to be stable (large total transactions count is prefered)\n",
    "\n",
    "No.3 small penalty on fraud probability as shoes are usually considered to be affordable"
   ]
  },
  {
   "cell_type": "markdown",
   "metadata": {},
   "source": []
  },
  {
   "cell_type": "markdown",
   "metadata": {},
   "source": [
    "### specifically for the segment tent shops"
   ]
  },
  {
   "cell_type": "markdown",
   "metadata": {},
   "source": []
  },
  {
   "cell_type": "markdown",
   "metadata": {},
   "source": [
    "No.1: The BNPL company tends to select the merchants considered to be stable (large total transactions count and large total revenue is prefered)\n",
    "\n",
    "No.2 large penalty on fraud probability as clients dont like the risks"
   ]
  },
  {
   "cell_type": "code",
   "execution_count": 14,
   "metadata": {},
   "outputs": [],
   "source": [
    "# Higher priority means the algorithm tends to select the merchant that can make the BNPL company earn more on each transaction\n",
    "score_criteria = { \\\n",
    "    'transaction_count': {'a':4, 'b': 3, 'c': 2, 'd': 1, 'e': 0}, \\\n",
    "        'take_rate': {'a':8, 'b': 6, 'c': 4, 'd': 2, 'e': 0}, \\\n",
    "            'revenue_level': {'a':0, 'b': 1, 'c': 2, 'd': 3, 'e': 4}, \\\n",
    "                'total_revenue': {'a':4, 'b': 3, 'c': 2, 'd': 1, 'e': 0}, \\\n",
    "                    'mean_consumer_income': {'a':4, 'b': 3, 'c': 2, 'd': 1, 'e': 0}, \\\n",
    "                        'fraud_count': {'a':0, 'b': 0, 'c': 0, 'd': 0, 'e': 0}, \\\n",
    "                            'main_business_area_popu': {'a':4, 'b': 3, 'c': 2, 'd': 1, 'e': 0}}"
   ]
  }
 ],
 "metadata": {
  "kernelspec": {
   "display_name": "Python 3.8.13 ('ads')",
   "language": "python",
   "name": "python3"
  },
  "language_info": {
   "codemirror_mode": {
    "name": "ipython",
    "version": 3
   },
   "file_extension": ".py",
   "mimetype": "text/x-python",
   "name": "python",
   "nbconvert_exporter": "python",
   "pygments_lexer": "ipython3",
   "version": "3.8.13"
  },
  "orig_nbformat": 4,
  "vscode": {
   "interpreter": {
    "hash": "bca15d2f4a2d5e67a541c5bc2e9bd5f13d2a08a92565a0d404f7484b46a3a1a0"
   }
  }
 },
 "nbformat": 4,
 "nbformat_minor": 2
}
