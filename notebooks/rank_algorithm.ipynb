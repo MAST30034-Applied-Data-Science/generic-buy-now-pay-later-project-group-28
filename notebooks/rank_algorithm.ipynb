{
 "cells": [
  {
   "cell_type": "code",
   "execution_count": 1,
   "metadata": {},
   "outputs": [
    {
     "name": "stdout",
     "output_type": "stream",
     "text": [
      "22/10/03 15:15:47 WARN Utils: Your hostname, LAPTOP-F054CH70 resolves to a loopback address: 127.0.1.1; using 192.168.15.74 instead (on interface eth0)\n",
      "22/10/03 15:15:47 WARN Utils: Set SPARK_LOCAL_IP if you need to bind to another address\n"
     ]
    },
    {
     "name": "stderr",
     "output_type": "stream",
     "text": [
      "Setting default log level to \"WARN\".\n",
      "To adjust logging level use sc.setLogLevel(newLevel). For SparkR, use setLogLevel(newLevel).\n"
     ]
    },
    {
     "name": "stdout",
     "output_type": "stream",
     "text": [
      "22/10/03 15:15:48 WARN NativeCodeLoader: Unable to load native-hadoop library for your platform... using builtin-java classes where applicable\n"
     ]
    }
   ],
   "source": [
    "import pandas as pd\n",
    "\n",
    "#import spark\n",
    "from pyspark.sql import SparkSession\n",
    "# Create a spark session (which will run spark jobs)\n",
    "spark = (\n",
    "    SparkSession.builder.appName(\"MAST30034 ass2 BNPL group 28\")\n",
    "    .config(\"spark.sql.repl.eagerEval.enabled\", True) \n",
    "    .config(\"spark.sql.parquet.cacheMetadata\", \"true\")\n",
    "    .config(\"spark.sql.session.timeZone\", \"Etc/UTC\")\n",
    "    .getOrCreate()\n",
    ")"
   ]
  },
  {
   "cell_type": "code",
   "execution_count": 2,
   "metadata": {},
   "outputs": [],
   "source": [
    "## read the merchant data\n",
    "merchant_info = spark.read.options(header = True).csv('../data/curated/merchant_info.csv')\n",
    "merchant_info = merchant_info.toPandas()\n",
    "\n",
    "## convert dataset columns into fesible types\n",
    "merchant_info[['transaction_count', 'take_rate', 'total_revenue', 'mean_consumer_income', 'fraud_count', 'main_business_area_popu']] \\\n",
    "    = merchant_info[['transaction_count', 'take_rate', 'total_revenue', 'mean_consumer_income', 'fraud_count', 'main_business_area_popu']].apply(pd.to_numeric)"
   ]
  },
  {
   "cell_type": "code",
   "execution_count": 3,
   "metadata": {},
   "outputs": [
    {
     "data": {
      "text/plain": [
       "['merchant_abn',\n",
       " 'transaction_count',\n",
       " 'field',\n",
       " 'take_rate',\n",
       " 'revenue_level',\n",
       " 'total_revenue',\n",
       " 'mean_consumer_income',\n",
       " 'fraud_count',\n",
       " 'main_business_area_popu']"
      ]
     },
     "execution_count": 3,
     "metadata": {},
     "output_type": "execute_result"
    }
   ],
   "source": [
    "list(merchant_info.keys())"
   ]
  },
  {
   "cell_type": "code",
   "execution_count": 18,
   "metadata": {},
   "outputs": [],
   "source": [
    "## Manually set the score criteria, could be changed later.\n",
    "score_criteria = { \\\n",
    "    'transaction_count': {'a':4, 'b': 3, 'c': 2, 'd': 1, 'e': 0}, \\\n",
    "        'take_rate': {'a':4, 'b': 3, 'c': 2, 'd': 1, 'e': 0}, \\\n",
    "            'revenue_level': {'a':0, 'b': 1, 'c': 2, 'd': 3, 'e': 4}, \\\n",
    "                'total_revenue': {'a':4, 'b': 3, 'c': 2, 'd': 1, 'e': 0}, \\\n",
    "                    'mean_consumer_income': {'a':4, 'b': 3, 'c': 2, 'd': 1, 'e': 0}, \\\n",
    "                        'fraud_count': {'a':0, 'b': 0, 'c': 0, 'd': 0, 'e': 0}, \\\n",
    "                            'main_business_area_popu': {'a':4, 'b': 3, 'c': 2, 'd': 1, 'e': 0}}"
   ]
  },
  {
   "cell_type": "code",
   "execution_count": 5,
   "metadata": {},
   "outputs": [],
   "source": [
    "## store all numeric features into list for use in both Algorithms\n",
    "featrue_name = list(merchant_info.keys())\n",
    "featrue_name.remove('merchant_abn')\n",
    "featrue_name.remove('field')"
   ]
  },
  {
   "cell_type": "code",
   "execution_count": 6,
   "metadata": {},
   "outputs": [
    {
     "data": {
      "text/plain": [
       "{'transaction_count': {'a': 4, 'b': 3, 'c': 2, 'd': 1, 'e': 0},\n",
       " 'take_rate': {'a': 4, 'b': 3, 'c': 2, 'd': 1, 'e': 0},\n",
       " 'revenue_level': {'a': 0, 'b': 1, 'c': 2, 'd': 3, 'e': 4},\n",
       " 'total_revenue': {'a': 4, 'b': 3, 'c': 2, 'd': 1, 'e': 0},\n",
       " 'mean_consumer_income': {'a': 4, 'b': 3, 'c': 2, 'd': 1, 'e': 0},\n",
       " 'fraud_count': {'a': 0, 'b': 0, 'c': 0, 'd': 0, 'e': 0},\n",
       " 'main_business_area_popu': {'a': 4, 'b': 3, 'c': 2, 'd': 1, 'e': 0}}"
      ]
     },
     "execution_count": 6,
     "metadata": {},
     "output_type": "execute_result"
    }
   ],
   "source": [
    "score_criteria"
   ]
  },
  {
   "cell_type": "markdown",
   "metadata": {},
   "source": [
    "## Mark Algorithm"
   ]
  },
  {
   "cell_type": "code",
   "execution_count": 7,
   "metadata": {},
   "outputs": [],
   "source": [
    "## Function used to assign continuous features into level (a,b,c,d,e) based on current merchant infomation\n",
    "## merchant_info (a pd.DataFrame) is the current merchant information that are considered in our ranking system\n",
    "## feature (a string) is the numeric feature we are working on\n",
    "## score_criteria (a dict of dict) is the score criteria we are using for marking different features.\n",
    "\n",
    "def mark_algorithm(merchant_info, feature, score_criteria):\n",
    "\n",
    "    label_list = []\n",
    "    score_list = []\n",
    "\n",
    "    ## in each run of the ranking system, each numeric column is allocated with a level in (a,b,c,d,e)\n",
    "    ## according to the overall quantile statistic of the feature column we are working on\n",
    "    ab = merchant_info[feature].quantile(0.8)\n",
    "    bc = merchant_info[feature].quantile(0.6)\n",
    "    cd = merchant_info[feature].quantile(0.4)\n",
    "    de = merchant_info[feature].quantile(0.2)\n",
    "    \n",
    "    for i in range(len(merchant_info)):\n",
    "        if merchant_info.loc[i, feature] >= ab:\n",
    "            label_list.append('a')\n",
    "        elif (merchant_info.loc[i, feature] >= bc) & (merchant_info.loc[i, feature] < ab):\n",
    "            label_list.append('b')\n",
    "        elif (merchant_info.loc[i, feature] >= cd) & (merchant_info.loc[i, feature] < bc):\n",
    "            label_list.append('c')\n",
    "        elif (merchant_info.loc[i, feature] >= de) & (merchant_info.loc[i, feature] < cd):\n",
    "            label_list.append('d')\n",
    "        elif merchant_info.loc[i, feature] < de:\n",
    "            label_list.append('e')\n",
    "\n",
    "    ## mark each entry of this feature column according to the score_criteria given.\n",
    "    for j in label_list:\n",
    "        score_list.append(score_criteria[feature][j])\n",
    "\n",
    "    return score_list"
   ]
  },
  {
   "cell_type": "markdown",
   "metadata": {},
   "source": [
    "## Rank Algorithm"
   ]
  },
  {
   "cell_type": "code",
   "execution_count": 8,
   "metadata": {},
   "outputs": [],
   "source": [
    "## Function used to rank mechant iteratively and then find the top 10 merchants to collaborate.\n",
    "\n",
    "## merchant_info (a pd.DataFrame) is the current merchant information that are considered in our ranking system\n",
    "## feature (a string) is the numeric feature we are working on\n",
    "## score_criteria (a dict of dict) is the score criteria we are using for marking different features.\n",
    "## remove_rate (a positive float {0,1}) is the rate to remove merchants classified as poor choice\n",
    "## top_n (a positive integer) is the number of merchant to be recommended.\n",
    "\n",
    "## Note: the lower the remove_rate, the higher the accuracy but also the longer the waiting time. (too low may cause overfitting)\n",
    "\n",
    "def rank_algorithm(merchant_info, feature_name, score_criteria, remove_rate, top_n):\n",
    "    # Stop when we find the asked number of merchants as recommendation\n",
    "    while (len(merchant_info) > top_n) & (len(merchant_info) * (1-remove_rate) > top_n):\n",
    "        # In each run, set the score of all merchant to zero as a fresh analysis\n",
    "        merchant_info['score'] = 0\n",
    "\n",
    "        # The main part of our rank system to mark and sum scores of all feature columns \n",
    "        for feature in feature_name:\n",
    "            if feature == 'revenue_level':\n",
    "                for i in range(len(merchant_info)):\n",
    "                    merchant_info.loc[i, 'score'] += score_criteria[feature][merchant_info.loc[i, feature]]\n",
    "            else:\n",
    "                # use of mark algorthm\n",
    "                merchant_info['score'] += mark_algorithm(merchant_info, feature, score_criteria)\n",
    "\n",
    "        # sort all merchants by their total score        \n",
    "        merchant_info = merchant_info.sort_values(by=['score'], ascending=False).reset_index(drop=True)\n",
    "        # remove a percentage number of merchants having the lowest score (according to remove_rate given)\n",
    "        merchant_info = merchant_info.drop(merchant_info.tail(int(len(merchant_info) * remove_rate)).index)\n",
    "        # remove the score column after sorting and dropping merchants. (keep data integrity for next run of this algorithm)\n",
    "        merchant_info = merchant_info.drop(['score'], axis=1)\n",
    "        \n",
    "        # if the stop criteria is not met, keep running to remove merchants that are less likely to be beneficial.\n",
    "        return rank_algorithm(merchant_info, feature_name, score_criteria, remove_rate, top_n)\n",
    "    \n",
    "    # Show the top n merchants once stop criteria are met.\n",
    "    return merchant_info.head(top_n)"
   ]
  },
  {
   "cell_type": "code",
   "execution_count": 21,
   "metadata": {},
   "outputs": [],
   "source": [
    "## Run Run Run!!!!!!!!!!\n",
    "top_n_merchant = rank_algorithm(merchant_info, featrue_name, score_criteria, 0.1, 100)"
   ]
  },
  {
   "cell_type": "code",
   "execution_count": 22,
   "metadata": {},
   "outputs": [
    {
     "data": {
      "text/html": [
       "<div>\n",
       "<style scoped>\n",
       "    .dataframe tbody tr th:only-of-type {\n",
       "        vertical-align: middle;\n",
       "    }\n",
       "\n",
       "    .dataframe tbody tr th {\n",
       "        vertical-align: top;\n",
       "    }\n",
       "\n",
       "    .dataframe thead th {\n",
       "        text-align: right;\n",
       "    }\n",
       "</style>\n",
       "<table border=\"1\" class=\"dataframe\">\n",
       "  <thead>\n",
       "    <tr style=\"text-align: right;\">\n",
       "      <th></th>\n",
       "      <th>merchant_abn</th>\n",
       "      <th>transaction_count</th>\n",
       "      <th>field</th>\n",
       "      <th>take_rate</th>\n",
       "      <th>revenue_level</th>\n",
       "      <th>total_revenue</th>\n",
       "      <th>mean_consumer_income</th>\n",
       "      <th>fraud_count</th>\n",
       "      <th>main_business_area_popu</th>\n",
       "    </tr>\n",
       "  </thead>\n",
       "  <tbody>\n",
       "    <tr>\n",
       "      <th>0</th>\n",
       "      <td>45629217853</td>\n",
       "      <td>198936</td>\n",
       "      <td>gift, card, novelty, and souvenir shops</td>\n",
       "      <td>6.98</td>\n",
       "      <td>a</td>\n",
       "      <td>7325106.13</td>\n",
       "      <td>824.636026</td>\n",
       "      <td>43</td>\n",
       "      <td>261909</td>\n",
       "    </tr>\n",
       "    <tr>\n",
       "      <th>1</th>\n",
       "      <td>77338620996</td>\n",
       "      <td>10803</td>\n",
       "      <td>computers, computer peripheral equipment, and ...</td>\n",
       "      <td>3.59</td>\n",
       "      <td>b</td>\n",
       "      <td>5379965.48</td>\n",
       "      <td>837.562418</td>\n",
       "      <td>5</td>\n",
       "      <td>489181</td>\n",
       "    </tr>\n",
       "    <tr>\n",
       "      <th>2</th>\n",
       "      <td>32361057556</td>\n",
       "      <td>74770</td>\n",
       "      <td>gift, card, novelty, and souvenir shops</td>\n",
       "      <td>6.61</td>\n",
       "      <td>a</td>\n",
       "      <td>8218143.78</td>\n",
       "      <td>827.606967</td>\n",
       "      <td>18</td>\n",
       "      <td>273854</td>\n",
       "    </tr>\n",
       "    <tr>\n",
       "      <th>3</th>\n",
       "      <td>89726005175</td>\n",
       "      <td>188223</td>\n",
       "      <td>tent and awning shops</td>\n",
       "      <td>6.01</td>\n",
       "      <td>a</td>\n",
       "      <td>7764006.97</td>\n",
       "      <td>824.330699</td>\n",
       "      <td>37</td>\n",
       "      <td>350738</td>\n",
       "    </tr>\n",
       "    <tr>\n",
       "      <th>4</th>\n",
       "      <td>64403598239</td>\n",
       "      <td>98928</td>\n",
       "      <td>music shops - musical instruments, pianos, and...</td>\n",
       "      <td>6.31</td>\n",
       "      <td>a</td>\n",
       "      <td>7726723.97</td>\n",
       "      <td>830.016924</td>\n",
       "      <td>19</td>\n",
       "      <td>225034</td>\n",
       "    </tr>\n",
       "    <tr>\n",
       "      <th>...</th>\n",
       "      <td>...</td>\n",
       "      <td>...</td>\n",
       "      <td>...</td>\n",
       "      <td>...</td>\n",
       "      <td>...</td>\n",
       "      <td>...</td>\n",
       "      <td>...</td>\n",
       "      <td>...</td>\n",
       "      <td>...</td>\n",
       "    </tr>\n",
       "    <tr>\n",
       "      <th>95</th>\n",
       "      <td>40561597210</td>\n",
       "      <td>148</td>\n",
       "      <td>music shops - musical instruments, pianos, and...</td>\n",
       "      <td>6.21</td>\n",
       "      <td>a</td>\n",
       "      <td>121594.74</td>\n",
       "      <td>923.068241</td>\n",
       "      <td>0</td>\n",
       "      <td>319102</td>\n",
       "    </tr>\n",
       "    <tr>\n",
       "      <th>96</th>\n",
       "      <td>47797405944</td>\n",
       "      <td>4</td>\n",
       "      <td>art dealers and galleries</td>\n",
       "      <td>3.75</td>\n",
       "      <td>b</td>\n",
       "      <td>24196.64</td>\n",
       "      <td>925.750015</td>\n",
       "      <td>1</td>\n",
       "      <td>387326</td>\n",
       "    </tr>\n",
       "    <tr>\n",
       "      <th>97</th>\n",
       "      <td>68645868338</td>\n",
       "      <td>6756</td>\n",
       "      <td>motor vehicle supplies and  new parts</td>\n",
       "      <td>6.84</td>\n",
       "      <td>a</td>\n",
       "      <td>1263815.37</td>\n",
       "      <td>852.016148</td>\n",
       "      <td>2</td>\n",
       "      <td>93583</td>\n",
       "    </tr>\n",
       "    <tr>\n",
       "      <th>98</th>\n",
       "      <td>44780100984</td>\n",
       "      <td>6462</td>\n",
       "      <td>florists supplies, nursery stock, and flowers</td>\n",
       "      <td>4.86</td>\n",
       "      <td>b</td>\n",
       "      <td>956655.77</td>\n",
       "      <td>834.786660</td>\n",
       "      <td>1</td>\n",
       "      <td>509858</td>\n",
       "    </tr>\n",
       "    <tr>\n",
       "      <th>99</th>\n",
       "      <td>31595398112</td>\n",
       "      <td>63</td>\n",
       "      <td>computers, computer peripheral equipment, and ...</td>\n",
       "      <td>4.77</td>\n",
       "      <td>b</td>\n",
       "      <td>25833.15</td>\n",
       "      <td>1082.985717</td>\n",
       "      <td>0</td>\n",
       "      <td>486076</td>\n",
       "    </tr>\n",
       "  </tbody>\n",
       "</table>\n",
       "<p>100 rows × 9 columns</p>\n",
       "</div>"
      ],
      "text/plain": [
       "   merchant_abn  transaction_count  \\\n",
       "0   45629217853             198936   \n",
       "1   77338620996              10803   \n",
       "2   32361057556              74770   \n",
       "3   89726005175             188223   \n",
       "4   64403598239              98928   \n",
       "..          ...                ...   \n",
       "95  40561597210                148   \n",
       "96  47797405944                  4   \n",
       "97  68645868338               6756   \n",
       "98  44780100984               6462   \n",
       "99  31595398112                 63   \n",
       "\n",
       "                                                field  take_rate  \\\n",
       "0             gift, card, novelty, and souvenir shops       6.98   \n",
       "1   computers, computer peripheral equipment, and ...       3.59   \n",
       "2             gift, card, novelty, and souvenir shops       6.61   \n",
       "3                               tent and awning shops       6.01   \n",
       "4   music shops - musical instruments, pianos, and...       6.31   \n",
       "..                                                ...        ...   \n",
       "95  music shops - musical instruments, pianos, and...       6.21   \n",
       "96                          art dealers and galleries       3.75   \n",
       "97              motor vehicle supplies and  new parts       6.84   \n",
       "98      florists supplies, nursery stock, and flowers       4.86   \n",
       "99  computers, computer peripheral equipment, and ...       4.77   \n",
       "\n",
       "   revenue_level  total_revenue  mean_consumer_income  fraud_count  \\\n",
       "0              a     7325106.13            824.636026           43   \n",
       "1              b     5379965.48            837.562418            5   \n",
       "2              a     8218143.78            827.606967           18   \n",
       "3              a     7764006.97            824.330699           37   \n",
       "4              a     7726723.97            830.016924           19   \n",
       "..           ...            ...                   ...          ...   \n",
       "95             a      121594.74            923.068241            0   \n",
       "96             b       24196.64            925.750015            1   \n",
       "97             a     1263815.37            852.016148            2   \n",
       "98             b      956655.77            834.786660            1   \n",
       "99             b       25833.15           1082.985717            0   \n",
       "\n",
       "    main_business_area_popu  \n",
       "0                    261909  \n",
       "1                    489181  \n",
       "2                    273854  \n",
       "3                    350738  \n",
       "4                    225034  \n",
       "..                      ...  \n",
       "95                   319102  \n",
       "96                   387326  \n",
       "97                    93583  \n",
       "98                   509858  \n",
       "99                   486076  \n",
       "\n",
       "[100 rows x 9 columns]"
      ]
     },
     "execution_count": 22,
     "metadata": {},
     "output_type": "execute_result"
    }
   ],
   "source": [
    "top_n_merchant"
   ]
  }
 ],
 "metadata": {
  "kernelspec": {
   "display_name": "Python 3.10.4 64-bit",
   "language": "python",
   "name": "python3"
  },
  "language_info": {
   "codemirror_mode": {
    "name": "ipython",
    "version": 3
   },
   "file_extension": ".py",
   "mimetype": "text/x-python",
   "name": "python",
   "nbconvert_exporter": "python",
   "pygments_lexer": "ipython3",
   "version": "3.10.4"
  },
  "orig_nbformat": 4,
  "vscode": {
   "interpreter": {
    "hash": "916dbcbb3f70747c44a77c7bcd40155683ae19c65e1c03b4aa3499c5328201f1"
   }
  }
 },
 "nbformat": 4,
 "nbformat_minor": 2
}
